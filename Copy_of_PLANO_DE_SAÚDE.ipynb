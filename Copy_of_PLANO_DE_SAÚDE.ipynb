{
  "nbformat": 4,
  "nbformat_minor": 0,
  "metadata": {
    "colab": {
      "provenance": [],
      "collapsed_sections": [],
      "authorship_tag": "ABX9TyPWuEWfgjsxOtPO/dORhmbn",
      "include_colab_link": true
    },
    "kernelspec": {
      "name": "python3",
      "display_name": "Python 3"
    },
    "language_info": {
      "name": "python"
    }
  },
  "cells": [
    {
      "cell_type": "markdown",
      "metadata": {
        "id": "view-in-github",
        "colab_type": "text"
      },
      "source": [
        "<a href=\"https://colab.research.google.com/github/PedroArroyoCruz/PedroArroyoCruz/blob/main/Copy_of_PLANO_DE_SA%C3%9ADE.ipynb\" target=\"_parent\"><img src=\"https://colab.research.google.com/assets/colab-badge.svg\" alt=\"Open In Colab\"/></a>"
      ]
    },
    {
      "cell_type": "markdown",
      "source": [
        "IMPORTANDO BIBLIOTECAS"
      ],
      "metadata": {
        "id": "iSeYmwzhyAcC"
      }
    },
    {
      "cell_type": "code",
      "execution_count": 64,
      "metadata": {
        "id": "-pyBkQtCZ6tH",
        "colab": {
          "base_uri": "https://localhost:8080/"
        },
        "outputId": "b828b76d-55e9-4c2b-e65e-0e3ed89e4d63"
      },
      "outputs": [
        {
          "output_type": "stream",
          "name": "stdout",
          "text": [
            "Looking in indexes: https://pypi.org/simple, https://us-python.pkg.dev/colab-wheels/public/simple/\n",
            "Requirement already satisfied: pyod in /usr/local/lib/python3.7/dist-packages (1.0.6)\n",
            "Requirement already satisfied: numba>=0.51 in /usr/local/lib/python3.7/dist-packages (from pyod) (0.56.4)\n",
            "Requirement already satisfied: matplotlib in /usr/local/lib/python3.7/dist-packages (from pyod) (3.2.2)\n",
            "Requirement already satisfied: statsmodels in /usr/local/lib/python3.7/dist-packages (from pyod) (0.12.2)\n",
            "Requirement already satisfied: scipy>=1.5.1 in /usr/local/lib/python3.7/dist-packages (from pyod) (1.7.3)\n",
            "Requirement already satisfied: six in /usr/local/lib/python3.7/dist-packages (from pyod) (1.15.0)\n",
            "Requirement already satisfied: scikit-learn>=0.20.0 in /usr/local/lib/python3.7/dist-packages (from pyod) (1.0.2)\n",
            "Requirement already satisfied: numpy>=1.19 in /usr/local/lib/python3.7/dist-packages (from pyod) (1.21.6)\n",
            "Requirement already satisfied: joblib in /usr/local/lib/python3.7/dist-packages (from pyod) (1.2.0)\n",
            "Requirement already satisfied: importlib-metadata in /usr/local/lib/python3.7/dist-packages (from numba>=0.51->pyod) (4.13.0)\n",
            "Requirement already satisfied: setuptools in /usr/local/lib/python3.7/dist-packages (from numba>=0.51->pyod) (57.4.0)\n",
            "Requirement already satisfied: llvmlite<0.40,>=0.39.0dev0 in /usr/local/lib/python3.7/dist-packages (from numba>=0.51->pyod) (0.39.1)\n",
            "Requirement already satisfied: threadpoolctl>=2.0.0 in /usr/local/lib/python3.7/dist-packages (from scikit-learn>=0.20.0->pyod) (3.1.0)\n",
            "Requirement already satisfied: zipp>=0.5 in /usr/local/lib/python3.7/dist-packages (from importlib-metadata->numba>=0.51->pyod) (3.10.0)\n",
            "Requirement already satisfied: typing-extensions>=3.6.4 in /usr/local/lib/python3.7/dist-packages (from importlib-metadata->numba>=0.51->pyod) (4.1.1)\n",
            "Requirement already satisfied: cycler>=0.10 in /usr/local/lib/python3.7/dist-packages (from matplotlib->pyod) (0.11.0)\n",
            "Requirement already satisfied: pyparsing!=2.0.4,!=2.1.2,!=2.1.6,>=2.0.1 in /usr/local/lib/python3.7/dist-packages (from matplotlib->pyod) (3.0.9)\n",
            "Requirement already satisfied: kiwisolver>=1.0.1 in /usr/local/lib/python3.7/dist-packages (from matplotlib->pyod) (1.4.4)\n",
            "Requirement already satisfied: python-dateutil>=2.1 in /usr/local/lib/python3.7/dist-packages (from matplotlib->pyod) (2.8.2)\n",
            "Requirement already satisfied: pandas>=0.21 in /usr/local/lib/python3.7/dist-packages (from statsmodels->pyod) (1.3.5)\n",
            "Requirement already satisfied: patsy>=0.5 in /usr/local/lib/python3.7/dist-packages (from statsmodels->pyod) (0.5.3)\n",
            "Requirement already satisfied: pytz>=2017.3 in /usr/local/lib/python3.7/dist-packages (from pandas>=0.21->statsmodels->pyod) (2022.6)\n"
          ]
        }
      ],
      "source": [
        "import pandas as pd\n",
        "import numpy as np\n",
        "import seaborn as sns\n",
        "import matplotlib.pyplot as plt\n",
        "from sklearn.preprocessing import LabelEncoder\n",
        "import statistics as stat\n",
        "import plotly.express as px\n",
        "from sklearn.linear_model import LinearRegression\n",
        "from sklearn.preprocessing import StandardScaler\n",
        "!pip install pyod\n",
        "from  pyod.models.knn import KNN\n",
        "from sklearn.model_selection import train_test_split\n",
        "from sklearn.tree import DecisionTreeRegressor\n",
        "from sklearn.metrics import mean_absolute_error, mean_squared_error\n",
        "from sklearn.ensemble import RandomForestRegressor\n",
        "from yellowbrick.regressor import ResidualsPlot\n",
        "from sklearn.neural_network import MLPRegressor\n",
        "from sklearn.model_selection import cross_val_score, KFold"
      ]
    },
    {
      "cell_type": "markdown",
      "source": [
        "DATAFRAME"
      ],
      "metadata": {
        "id": "MX41wxgNyE7R"
      }
    },
    {
      "cell_type": "code",
      "source": [
        "df_modelagem = pd.read_excel('/content/Seguro Saúde - Modelagem.xlsx', sheet_name='MODELAGEM')\n",
        "df_teste_final = pd.read_excel('/content/Seguro Saúde - Modelagem.xlsx', sheet_name=' TESTE FINAL')"
      ],
      "metadata": {
        "id": "VfLxGI1BaRRV"
      },
      "execution_count": 65,
      "outputs": []
    },
    {
      "cell_type": "code",
      "source": [
        "df_modelagem"
      ],
      "metadata": {
        "colab": {
          "base_uri": "https://localhost:8080/",
          "height": 423
        },
        "id": "zTVVB_uZeFU7",
        "outputId": "4fb46ef1-56ea-4965-877a-0517a938196f"
      },
      "execution_count": 66,
      "outputs": [
        {
          "output_type": "execute_result",
          "data": {
            "text/plain": [
              "      MATRICULA  IDADE NASCIMENTO SEXO     IMC  FILHOS  FUMANTE        SIGNO  \\\n",
              "0           207   56.0 1963-12-31    M  39.600     0.0      0.0  Capricórnio   \n",
              "1           852   32.0 1987-10-16    F  37.145     3.0      0.0        Libra   \n",
              "2           463   47.0 1973-01-23    F  24.100     1.0      0.0      Aquário   \n",
              "3           628   41.0 1979-01-08    M  30.780     3.0      1.0  Capricórnio   \n",
              "4          1100   23.0 1996-10-07    M  37.100     3.0      0.0        Libra   \n",
              "...         ...    ...        ...  ...     ...     ...      ...          ...   \n",
              "1206         71   61.0 1958-05-26    F  36.385     1.0      1.0       Gêmeos   \n",
              "1207       1198   20.0 2000-02-11    F  31.920     0.0      0.0      Aquário   \n",
              "1208        983   27.0 1992-06-04    F  36.080     0.0      1.0       Gêmeos   \n",
              "1209        299   52.0 1967-05-15    M  32.775     3.0      0.0        Touro   \n",
              "1210        223   55.0 1964-08-23    F  33.535     2.0      NaN       Virgem   \n",
              "\n",
              "      REGIÃO  FACEBOOK  CLASSE         VALOR  \n",
              "0        3.0       0.0     7.0   3242.022018  \n",
              "1        2.0       1.0     2.0   1937.108119  \n",
              "2        3.0       1.0     7.0   8023.418951  \n",
              "3        2.0       1.0     6.0  12109.298838  \n",
              "4        3.0       1.0     4.0   1100.182263  \n",
              "...      ...       ...     ...           ...  \n",
              "1206     2.0       0.0    10.0  14837.175275  \n",
              "1207     4.0       1.0     5.0    691.611254  \n",
              "1208     1.0       1.0    10.0  11355.932171  \n",
              "1209     4.0       0.0     1.0   3452.326988  \n",
              "1210     4.0       0.0     NaN   3752.198364  \n",
              "\n",
              "[1211 rows x 12 columns]"
            ],
            "text/html": [
              "\n",
              "  <div id=\"df-5fc9908a-e870-4d0c-9bca-9d930cefc675\">\n",
              "    <div class=\"colab-df-container\">\n",
              "      <div>\n",
              "<style scoped>\n",
              "    .dataframe tbody tr th:only-of-type {\n",
              "        vertical-align: middle;\n",
              "    }\n",
              "\n",
              "    .dataframe tbody tr th {\n",
              "        vertical-align: top;\n",
              "    }\n",
              "\n",
              "    .dataframe thead th {\n",
              "        text-align: right;\n",
              "    }\n",
              "</style>\n",
              "<table border=\"1\" class=\"dataframe\">\n",
              "  <thead>\n",
              "    <tr style=\"text-align: right;\">\n",
              "      <th></th>\n",
              "      <th>MATRICULA</th>\n",
              "      <th>IDADE</th>\n",
              "      <th>NASCIMENTO</th>\n",
              "      <th>SEXO</th>\n",
              "      <th>IMC</th>\n",
              "      <th>FILHOS</th>\n",
              "      <th>FUMANTE</th>\n",
              "      <th>SIGNO</th>\n",
              "      <th>REGIÃO</th>\n",
              "      <th>FACEBOOK</th>\n",
              "      <th>CLASSE</th>\n",
              "      <th>VALOR</th>\n",
              "    </tr>\n",
              "  </thead>\n",
              "  <tbody>\n",
              "    <tr>\n",
              "      <th>0</th>\n",
              "      <td>207</td>\n",
              "      <td>56.0</td>\n",
              "      <td>1963-12-31</td>\n",
              "      <td>M</td>\n",
              "      <td>39.600</td>\n",
              "      <td>0.0</td>\n",
              "      <td>0.0</td>\n",
              "      <td>Capricórnio</td>\n",
              "      <td>3.0</td>\n",
              "      <td>0.0</td>\n",
              "      <td>7.0</td>\n",
              "      <td>3242.022018</td>\n",
              "    </tr>\n",
              "    <tr>\n",
              "      <th>1</th>\n",
              "      <td>852</td>\n",
              "      <td>32.0</td>\n",
              "      <td>1987-10-16</td>\n",
              "      <td>F</td>\n",
              "      <td>37.145</td>\n",
              "      <td>3.0</td>\n",
              "      <td>0.0</td>\n",
              "      <td>Libra</td>\n",
              "      <td>2.0</td>\n",
              "      <td>1.0</td>\n",
              "      <td>2.0</td>\n",
              "      <td>1937.108119</td>\n",
              "    </tr>\n",
              "    <tr>\n",
              "      <th>2</th>\n",
              "      <td>463</td>\n",
              "      <td>47.0</td>\n",
              "      <td>1973-01-23</td>\n",
              "      <td>F</td>\n",
              "      <td>24.100</td>\n",
              "      <td>1.0</td>\n",
              "      <td>0.0</td>\n",
              "      <td>Aquário</td>\n",
              "      <td>3.0</td>\n",
              "      <td>1.0</td>\n",
              "      <td>7.0</td>\n",
              "      <td>8023.418951</td>\n",
              "    </tr>\n",
              "    <tr>\n",
              "      <th>3</th>\n",
              "      <td>628</td>\n",
              "      <td>41.0</td>\n",
              "      <td>1979-01-08</td>\n",
              "      <td>M</td>\n",
              "      <td>30.780</td>\n",
              "      <td>3.0</td>\n",
              "      <td>1.0</td>\n",
              "      <td>Capricórnio</td>\n",
              "      <td>2.0</td>\n",
              "      <td>1.0</td>\n",
              "      <td>6.0</td>\n",
              "      <td>12109.298838</td>\n",
              "    </tr>\n",
              "    <tr>\n",
              "      <th>4</th>\n",
              "      <td>1100</td>\n",
              "      <td>23.0</td>\n",
              "      <td>1996-10-07</td>\n",
              "      <td>M</td>\n",
              "      <td>37.100</td>\n",
              "      <td>3.0</td>\n",
              "      <td>0.0</td>\n",
              "      <td>Libra</td>\n",
              "      <td>3.0</td>\n",
              "      <td>1.0</td>\n",
              "      <td>4.0</td>\n",
              "      <td>1100.182263</td>\n",
              "    </tr>\n",
              "    <tr>\n",
              "      <th>...</th>\n",
              "      <td>...</td>\n",
              "      <td>...</td>\n",
              "      <td>...</td>\n",
              "      <td>...</td>\n",
              "      <td>...</td>\n",
              "      <td>...</td>\n",
              "      <td>...</td>\n",
              "      <td>...</td>\n",
              "      <td>...</td>\n",
              "      <td>...</td>\n",
              "      <td>...</td>\n",
              "      <td>...</td>\n",
              "    </tr>\n",
              "    <tr>\n",
              "      <th>1206</th>\n",
              "      <td>71</td>\n",
              "      <td>61.0</td>\n",
              "      <td>1958-05-26</td>\n",
              "      <td>F</td>\n",
              "      <td>36.385</td>\n",
              "      <td>1.0</td>\n",
              "      <td>1.0</td>\n",
              "      <td>Gêmeos</td>\n",
              "      <td>2.0</td>\n",
              "      <td>0.0</td>\n",
              "      <td>10.0</td>\n",
              "      <td>14837.175275</td>\n",
              "    </tr>\n",
              "    <tr>\n",
              "      <th>1207</th>\n",
              "      <td>1198</td>\n",
              "      <td>20.0</td>\n",
              "      <td>2000-02-11</td>\n",
              "      <td>F</td>\n",
              "      <td>31.920</td>\n",
              "      <td>0.0</td>\n",
              "      <td>0.0</td>\n",
              "      <td>Aquário</td>\n",
              "      <td>4.0</td>\n",
              "      <td>1.0</td>\n",
              "      <td>5.0</td>\n",
              "      <td>691.611254</td>\n",
              "    </tr>\n",
              "    <tr>\n",
              "      <th>1208</th>\n",
              "      <td>983</td>\n",
              "      <td>27.0</td>\n",
              "      <td>1992-06-04</td>\n",
              "      <td>F</td>\n",
              "      <td>36.080</td>\n",
              "      <td>0.0</td>\n",
              "      <td>1.0</td>\n",
              "      <td>Gêmeos</td>\n",
              "      <td>1.0</td>\n",
              "      <td>1.0</td>\n",
              "      <td>10.0</td>\n",
              "      <td>11355.932171</td>\n",
              "    </tr>\n",
              "    <tr>\n",
              "      <th>1209</th>\n",
              "      <td>299</td>\n",
              "      <td>52.0</td>\n",
              "      <td>1967-05-15</td>\n",
              "      <td>M</td>\n",
              "      <td>32.775</td>\n",
              "      <td>3.0</td>\n",
              "      <td>0.0</td>\n",
              "      <td>Touro</td>\n",
              "      <td>4.0</td>\n",
              "      <td>0.0</td>\n",
              "      <td>1.0</td>\n",
              "      <td>3452.326988</td>\n",
              "    </tr>\n",
              "    <tr>\n",
              "      <th>1210</th>\n",
              "      <td>223</td>\n",
              "      <td>55.0</td>\n",
              "      <td>1964-08-23</td>\n",
              "      <td>F</td>\n",
              "      <td>33.535</td>\n",
              "      <td>2.0</td>\n",
              "      <td>NaN</td>\n",
              "      <td>Virgem</td>\n",
              "      <td>4.0</td>\n",
              "      <td>0.0</td>\n",
              "      <td>NaN</td>\n",
              "      <td>3752.198364</td>\n",
              "    </tr>\n",
              "  </tbody>\n",
              "</table>\n",
              "<p>1211 rows × 12 columns</p>\n",
              "</div>\n",
              "      <button class=\"colab-df-convert\" onclick=\"convertToInteractive('df-5fc9908a-e870-4d0c-9bca-9d930cefc675')\"\n",
              "              title=\"Convert this dataframe to an interactive table.\"\n",
              "              style=\"display:none;\">\n",
              "        \n",
              "  <svg xmlns=\"http://www.w3.org/2000/svg\" height=\"24px\"viewBox=\"0 0 24 24\"\n",
              "       width=\"24px\">\n",
              "    <path d=\"M0 0h24v24H0V0z\" fill=\"none\"/>\n",
              "    <path d=\"M18.56 5.44l.94 2.06.94-2.06 2.06-.94-2.06-.94-.94-2.06-.94 2.06-2.06.94zm-11 1L8.5 8.5l.94-2.06 2.06-.94-2.06-.94L8.5 2.5l-.94 2.06-2.06.94zm10 10l.94 2.06.94-2.06 2.06-.94-2.06-.94-.94-2.06-.94 2.06-2.06.94z\"/><path d=\"M17.41 7.96l-1.37-1.37c-.4-.4-.92-.59-1.43-.59-.52 0-1.04.2-1.43.59L10.3 9.45l-7.72 7.72c-.78.78-.78 2.05 0 2.83L4 21.41c.39.39.9.59 1.41.59.51 0 1.02-.2 1.41-.59l7.78-7.78 2.81-2.81c.8-.78.8-2.07 0-2.86zM5.41 20L4 18.59l7.72-7.72 1.47 1.35L5.41 20z\"/>\n",
              "  </svg>\n",
              "      </button>\n",
              "      \n",
              "  <style>\n",
              "    .colab-df-container {\n",
              "      display:flex;\n",
              "      flex-wrap:wrap;\n",
              "      gap: 12px;\n",
              "    }\n",
              "\n",
              "    .colab-df-convert {\n",
              "      background-color: #E8F0FE;\n",
              "      border: none;\n",
              "      border-radius: 50%;\n",
              "      cursor: pointer;\n",
              "      display: none;\n",
              "      fill: #1967D2;\n",
              "      height: 32px;\n",
              "      padding: 0 0 0 0;\n",
              "      width: 32px;\n",
              "    }\n",
              "\n",
              "    .colab-df-convert:hover {\n",
              "      background-color: #E2EBFA;\n",
              "      box-shadow: 0px 1px 2px rgba(60, 64, 67, 0.3), 0px 1px 3px 1px rgba(60, 64, 67, 0.15);\n",
              "      fill: #174EA6;\n",
              "    }\n",
              "\n",
              "    [theme=dark] .colab-df-convert {\n",
              "      background-color: #3B4455;\n",
              "      fill: #D2E3FC;\n",
              "    }\n",
              "\n",
              "    [theme=dark] .colab-df-convert:hover {\n",
              "      background-color: #434B5C;\n",
              "      box-shadow: 0px 1px 3px 1px rgba(0, 0, 0, 0.15);\n",
              "      filter: drop-shadow(0px 1px 2px rgba(0, 0, 0, 0.3));\n",
              "      fill: #FFFFFF;\n",
              "    }\n",
              "  </style>\n",
              "\n",
              "      <script>\n",
              "        const buttonEl =\n",
              "          document.querySelector('#df-5fc9908a-e870-4d0c-9bca-9d930cefc675 button.colab-df-convert');\n",
              "        buttonEl.style.display =\n",
              "          google.colab.kernel.accessAllowed ? 'block' : 'none';\n",
              "\n",
              "        async function convertToInteractive(key) {\n",
              "          const element = document.querySelector('#df-5fc9908a-e870-4d0c-9bca-9d930cefc675');\n",
              "          const dataTable =\n",
              "            await google.colab.kernel.invokeFunction('convertToInteractive',\n",
              "                                                     [key], {});\n",
              "          if (!dataTable) return;\n",
              "\n",
              "          const docLinkHtml = 'Like what you see? Visit the ' +\n",
              "            '<a target=\"_blank\" href=https://colab.research.google.com/notebooks/data_table.ipynb>data table notebook</a>'\n",
              "            + ' to learn more about interactive tables.';\n",
              "          element.innerHTML = '';\n",
              "          dataTable['output_type'] = 'display_data';\n",
              "          await google.colab.output.renderOutput(dataTable, element);\n",
              "          const docLink = document.createElement('div');\n",
              "          docLink.innerHTML = docLinkHtml;\n",
              "          element.appendChild(docLink);\n",
              "        }\n",
              "      </script>\n",
              "    </div>\n",
              "  </div>\n",
              "  "
            ]
          },
          "metadata": {},
          "execution_count": 66
        }
      ]
    },
    {
      "cell_type": "markdown",
      "source": [
        "VISUALIZAÇÃO DADOS NULOS"
      ],
      "metadata": {
        "id": "8f22qyVOyJOL"
      }
    },
    {
      "cell_type": "code",
      "source": [
        "df_modelagem.isnull().sum()"
      ],
      "metadata": {
        "colab": {
          "base_uri": "https://localhost:8080/"
        },
        "id": "jL_wIbTualzR",
        "outputId": "cd64b2a9-7244-44a5-b345-73d555fb76b1"
      },
      "execution_count": 67,
      "outputs": [
        {
          "output_type": "execute_result",
          "data": {
            "text/plain": [
              "MATRICULA     0\n",
              "IDADE         5\n",
              "NASCIMENTO    8\n",
              "SEXO          7\n",
              "IMC           5\n",
              "FILHOS        8\n",
              "FUMANTE       8\n",
              "SIGNO         6\n",
              "REGIÃO        6\n",
              "FACEBOOK      3\n",
              "CLASSE        5\n",
              "VALOR         0\n",
              "dtype: int64"
            ]
          },
          "metadata": {},
          "execution_count": 67
        }
      ]
    },
    {
      "cell_type": "markdown",
      "source": [
        "EXCLUINDO TODOS DADOS NULOS PARA VIZUALIÇÃO PRÉVIA DA MATRIZ DE CORRELAÇÃO"
      ],
      "metadata": {
        "id": "jeekFqUDyQKn"
      }
    },
    {
      "cell_type": "code",
      "source": [
        "df_modelagem_drop = df_modelagem.dropna()"
      ],
      "metadata": {
        "id": "PcdPXhxKeEIn"
      },
      "execution_count": 68,
      "outputs": []
    },
    {
      "cell_type": "code",
      "source": [
        "df_modelagem_drop.isnull().sum()"
      ],
      "metadata": {
        "colab": {
          "base_uri": "https://localhost:8080/"
        },
        "id": "VMLmz11Xqj6Y",
        "outputId": "23e50bfe-00e2-426a-91b3-5f49354e7c9f"
      },
      "execution_count": 69,
      "outputs": [
        {
          "output_type": "execute_result",
          "data": {
            "text/plain": [
              "MATRICULA     0\n",
              "IDADE         0\n",
              "NASCIMENTO    0\n",
              "SEXO          0\n",
              "IMC           0\n",
              "FILHOS        0\n",
              "FUMANTE       0\n",
              "SIGNO         0\n",
              "REGIÃO        0\n",
              "FACEBOOK      0\n",
              "CLASSE        0\n",
              "VALOR         0\n",
              "dtype: int64"
            ]
          },
          "metadata": {},
          "execution_count": 69
        }
      ]
    },
    {
      "cell_type": "markdown",
      "source": [
        "TRANSFORMANDO VARIÁVEIS 'STRING' EM NUMÉRICAS"
      ],
      "metadata": {
        "id": "sBXsZ6y3yp2i"
      }
    },
    {
      "cell_type": "code",
      "source": [
        "obj_LabelEnconder = LabelEncoder()\n",
        "df_modelagem_drop.loc[:, 'SEXO'] = obj_LabelEnconder.fit_transform(df_modelagem_drop.loc[:, 'SEXO'] )\n",
        "df_modelagem_drop.loc[:, 'SIGNO'] = obj_LabelEnconder.fit_transform(df_modelagem_drop.loc[:, 'SIGNO'] )\n"
      ],
      "metadata": {
        "colab": {
          "base_uri": "https://localhost:8080/"
        },
        "id": "FX8cRdWBuetc",
        "outputId": "8fc8df59-4cbf-4394-8403-c807650979fd"
      },
      "execution_count": 70,
      "outputs": [
        {
          "output_type": "stream",
          "name": "stderr",
          "text": [
            "/usr/local/lib/python3.7/dist-packages/pandas/core/indexing.py:1773: SettingWithCopyWarning:\n",
            "\n",
            "\n",
            "A value is trying to be set on a copy of a slice from a DataFrame.\n",
            "Try using .loc[row_indexer,col_indexer] = value instead\n",
            "\n",
            "See the caveats in the documentation: https://pandas.pydata.org/pandas-docs/stable/user_guide/indexing.html#returning-a-view-versus-a-copy\n",
            "\n"
          ]
        }
      ]
    },
    {
      "cell_type": "code",
      "source": [
        "df_modelagem_drop.head()"
      ],
      "metadata": {
        "colab": {
          "base_uri": "https://localhost:8080/",
          "height": 206
        },
        "id": "JJ1iKlkBwqg1",
        "outputId": "c01de13d-2d5b-45e0-b98c-1898105cae06"
      },
      "execution_count": 71,
      "outputs": [
        {
          "output_type": "execute_result",
          "data": {
            "text/plain": [
              "   MATRICULA  IDADE NASCIMENTO  SEXO     IMC  FILHOS  FUMANTE  SIGNO  REGIÃO  \\\n",
              "0        207   56.0 1963-12-31     1  39.600     0.0      0.0      1     3.0   \n",
              "1        852   32.0 1987-10-16     0  37.145     3.0      0.0      6     2.0   \n",
              "2        463   47.0 1973-01-23     0  24.100     1.0      0.0      0     3.0   \n",
              "3        628   41.0 1979-01-08     1  30.780     3.0      1.0      1     2.0   \n",
              "4       1100   23.0 1996-10-07     1  37.100     3.0      0.0      6     3.0   \n",
              "\n",
              "   FACEBOOK  CLASSE         VALOR  \n",
              "0       0.0     7.0   3242.022018  \n",
              "1       1.0     2.0   1937.108119  \n",
              "2       1.0     7.0   8023.418951  \n",
              "3       1.0     6.0  12109.298838  \n",
              "4       1.0     4.0   1100.182263  "
            ],
            "text/html": [
              "\n",
              "  <div id=\"df-f4d5aaaf-0201-4143-9630-8d923dbc0664\">\n",
              "    <div class=\"colab-df-container\">\n",
              "      <div>\n",
              "<style scoped>\n",
              "    .dataframe tbody tr th:only-of-type {\n",
              "        vertical-align: middle;\n",
              "    }\n",
              "\n",
              "    .dataframe tbody tr th {\n",
              "        vertical-align: top;\n",
              "    }\n",
              "\n",
              "    .dataframe thead th {\n",
              "        text-align: right;\n",
              "    }\n",
              "</style>\n",
              "<table border=\"1\" class=\"dataframe\">\n",
              "  <thead>\n",
              "    <tr style=\"text-align: right;\">\n",
              "      <th></th>\n",
              "      <th>MATRICULA</th>\n",
              "      <th>IDADE</th>\n",
              "      <th>NASCIMENTO</th>\n",
              "      <th>SEXO</th>\n",
              "      <th>IMC</th>\n",
              "      <th>FILHOS</th>\n",
              "      <th>FUMANTE</th>\n",
              "      <th>SIGNO</th>\n",
              "      <th>REGIÃO</th>\n",
              "      <th>FACEBOOK</th>\n",
              "      <th>CLASSE</th>\n",
              "      <th>VALOR</th>\n",
              "    </tr>\n",
              "  </thead>\n",
              "  <tbody>\n",
              "    <tr>\n",
              "      <th>0</th>\n",
              "      <td>207</td>\n",
              "      <td>56.0</td>\n",
              "      <td>1963-12-31</td>\n",
              "      <td>1</td>\n",
              "      <td>39.600</td>\n",
              "      <td>0.0</td>\n",
              "      <td>0.0</td>\n",
              "      <td>1</td>\n",
              "      <td>3.0</td>\n",
              "      <td>0.0</td>\n",
              "      <td>7.0</td>\n",
              "      <td>3242.022018</td>\n",
              "    </tr>\n",
              "    <tr>\n",
              "      <th>1</th>\n",
              "      <td>852</td>\n",
              "      <td>32.0</td>\n",
              "      <td>1987-10-16</td>\n",
              "      <td>0</td>\n",
              "      <td>37.145</td>\n",
              "      <td>3.0</td>\n",
              "      <td>0.0</td>\n",
              "      <td>6</td>\n",
              "      <td>2.0</td>\n",
              "      <td>1.0</td>\n",
              "      <td>2.0</td>\n",
              "      <td>1937.108119</td>\n",
              "    </tr>\n",
              "    <tr>\n",
              "      <th>2</th>\n",
              "      <td>463</td>\n",
              "      <td>47.0</td>\n",
              "      <td>1973-01-23</td>\n",
              "      <td>0</td>\n",
              "      <td>24.100</td>\n",
              "      <td>1.0</td>\n",
              "      <td>0.0</td>\n",
              "      <td>0</td>\n",
              "      <td>3.0</td>\n",
              "      <td>1.0</td>\n",
              "      <td>7.0</td>\n",
              "      <td>8023.418951</td>\n",
              "    </tr>\n",
              "    <tr>\n",
              "      <th>3</th>\n",
              "      <td>628</td>\n",
              "      <td>41.0</td>\n",
              "      <td>1979-01-08</td>\n",
              "      <td>1</td>\n",
              "      <td>30.780</td>\n",
              "      <td>3.0</td>\n",
              "      <td>1.0</td>\n",
              "      <td>1</td>\n",
              "      <td>2.0</td>\n",
              "      <td>1.0</td>\n",
              "      <td>6.0</td>\n",
              "      <td>12109.298838</td>\n",
              "    </tr>\n",
              "    <tr>\n",
              "      <th>4</th>\n",
              "      <td>1100</td>\n",
              "      <td>23.0</td>\n",
              "      <td>1996-10-07</td>\n",
              "      <td>1</td>\n",
              "      <td>37.100</td>\n",
              "      <td>3.0</td>\n",
              "      <td>0.0</td>\n",
              "      <td>6</td>\n",
              "      <td>3.0</td>\n",
              "      <td>1.0</td>\n",
              "      <td>4.0</td>\n",
              "      <td>1100.182263</td>\n",
              "    </tr>\n",
              "  </tbody>\n",
              "</table>\n",
              "</div>\n",
              "      <button class=\"colab-df-convert\" onclick=\"convertToInteractive('df-f4d5aaaf-0201-4143-9630-8d923dbc0664')\"\n",
              "              title=\"Convert this dataframe to an interactive table.\"\n",
              "              style=\"display:none;\">\n",
              "        \n",
              "  <svg xmlns=\"http://www.w3.org/2000/svg\" height=\"24px\"viewBox=\"0 0 24 24\"\n",
              "       width=\"24px\">\n",
              "    <path d=\"M0 0h24v24H0V0z\" fill=\"none\"/>\n",
              "    <path d=\"M18.56 5.44l.94 2.06.94-2.06 2.06-.94-2.06-.94-.94-2.06-.94 2.06-2.06.94zm-11 1L8.5 8.5l.94-2.06 2.06-.94-2.06-.94L8.5 2.5l-.94 2.06-2.06.94zm10 10l.94 2.06.94-2.06 2.06-.94-2.06-.94-.94-2.06-.94 2.06-2.06.94z\"/><path d=\"M17.41 7.96l-1.37-1.37c-.4-.4-.92-.59-1.43-.59-.52 0-1.04.2-1.43.59L10.3 9.45l-7.72 7.72c-.78.78-.78 2.05 0 2.83L4 21.41c.39.39.9.59 1.41.59.51 0 1.02-.2 1.41-.59l7.78-7.78 2.81-2.81c.8-.78.8-2.07 0-2.86zM5.41 20L4 18.59l7.72-7.72 1.47 1.35L5.41 20z\"/>\n",
              "  </svg>\n",
              "      </button>\n",
              "      \n",
              "  <style>\n",
              "    .colab-df-container {\n",
              "      display:flex;\n",
              "      flex-wrap:wrap;\n",
              "      gap: 12px;\n",
              "    }\n",
              "\n",
              "    .colab-df-convert {\n",
              "      background-color: #E8F0FE;\n",
              "      border: none;\n",
              "      border-radius: 50%;\n",
              "      cursor: pointer;\n",
              "      display: none;\n",
              "      fill: #1967D2;\n",
              "      height: 32px;\n",
              "      padding: 0 0 0 0;\n",
              "      width: 32px;\n",
              "    }\n",
              "\n",
              "    .colab-df-convert:hover {\n",
              "      background-color: #E2EBFA;\n",
              "      box-shadow: 0px 1px 2px rgba(60, 64, 67, 0.3), 0px 1px 3px 1px rgba(60, 64, 67, 0.15);\n",
              "      fill: #174EA6;\n",
              "    }\n",
              "\n",
              "    [theme=dark] .colab-df-convert {\n",
              "      background-color: #3B4455;\n",
              "      fill: #D2E3FC;\n",
              "    }\n",
              "\n",
              "    [theme=dark] .colab-df-convert:hover {\n",
              "      background-color: #434B5C;\n",
              "      box-shadow: 0px 1px 3px 1px rgba(0, 0, 0, 0.15);\n",
              "      filter: drop-shadow(0px 1px 2px rgba(0, 0, 0, 0.3));\n",
              "      fill: #FFFFFF;\n",
              "    }\n",
              "  </style>\n",
              "\n",
              "      <script>\n",
              "        const buttonEl =\n",
              "          document.querySelector('#df-f4d5aaaf-0201-4143-9630-8d923dbc0664 button.colab-df-convert');\n",
              "        buttonEl.style.display =\n",
              "          google.colab.kernel.accessAllowed ? 'block' : 'none';\n",
              "\n",
              "        async function convertToInteractive(key) {\n",
              "          const element = document.querySelector('#df-f4d5aaaf-0201-4143-9630-8d923dbc0664');\n",
              "          const dataTable =\n",
              "            await google.colab.kernel.invokeFunction('convertToInteractive',\n",
              "                                                     [key], {});\n",
              "          if (!dataTable) return;\n",
              "\n",
              "          const docLinkHtml = 'Like what you see? Visit the ' +\n",
              "            '<a target=\"_blank\" href=https://colab.research.google.com/notebooks/data_table.ipynb>data table notebook</a>'\n",
              "            + ' to learn more about interactive tables.';\n",
              "          element.innerHTML = '';\n",
              "          dataTable['output_type'] = 'display_data';\n",
              "          await google.colab.output.renderOutput(dataTable, element);\n",
              "          const docLink = document.createElement('div');\n",
              "          docLink.innerHTML = docLinkHtml;\n",
              "          element.appendChild(docLink);\n",
              "        }\n",
              "      </script>\n",
              "    </div>\n",
              "  </div>\n",
              "  "
            ]
          },
          "metadata": {},
          "execution_count": 71
        }
      ]
    },
    {
      "cell_type": "markdown",
      "source": [
        "MATRIZ DE CORRELAÇÃO"
      ],
      "metadata": {
        "id": "6bxZMnpMzE7P"
      }
    },
    {
      "cell_type": "code",
      "source": [
        "plt.figure(figsize = (8,8))\n",
        "sns.heatmap(df_modelagem_drop.corr( ), annot = True); "
      ],
      "metadata": {
        "colab": {
          "base_uri": "https://localhost:8080/",
          "height": 534
        },
        "id": "MCZXi_Bqw1Uy",
        "outputId": "a231c661-21e5-4c66-a52e-e5f7d1bd85a4"
      },
      "execution_count": 72,
      "outputs": [
        {
          "output_type": "display_data",
          "data": {
            "text/plain": [
              "<Figure size 576x576 with 2 Axes>"
            ],
            "image/png": "[encoded data removed]"
          },
          "metadata": {}
        }
      ]
    },
    {
      "cell_type": "markdown",
      "source": [
        "GRÁFICO DE DISPERSÃO Y = VALOR/X = IDADE"
      ],
      "metadata": {
        "id": "A_LeCOxmOfUj"
      }
    },
    {
      "cell_type": "code",
      "source": [
        "plt.scatter(df_modelagem_drop['IDADE'], df_modelagem_drop['VALOR'])"
      ],
      "metadata": {
        "colab": {
          "base_uri": "https://localhost:8080/",
          "height": 365
        },
        "id": "8ZHkORPxOd5k",
        "outputId": "888deef3-90bc-4e94-e3c4-e7340568649b"
      },
      "execution_count": 73,
      "outputs": [
        {
          "output_type": "execute_result",
          "data": {
            "text/plain": [
              "<matplotlib.collections.PathCollection at 0x7f3ac8072b90>"
            ]
          },
          "metadata": {},
          "execution_count": 73
        },
        {
          "output_type": "display_data",
          "data": {
            "text/plain": [
              "<Figure size 576x396 with 1 Axes>"
            ],
            "image/png": "[encoded data removed]"
          },
          "metadata": {}
        }
      ]
    },
    {
      "cell_type": "code",
      "source": [
        "px.scatter_matrix(df_modelagem_drop, dimensions = ['IDADE','VALOR','SEXO', 'IMC', 'FILHOS', 'REGIÃO', 'FACEBOOK', 'CLASSE'], color='FUMANTE') "
      ],
      "metadata": {
        "colab": {
          "base_uri": "https://localhost:8080/",
          "height": 542
        },
        "id": "I7geTbfqOr3P",
        "outputId": "113d9755-b0a4-4819-9670-da7196cd3f6a"
      },
      "execution_count": 74,
      "outputs": [
        {
          "output_type": "display_data",
          "data": {
            "text/html": [
              "<html>\n",
              "<head><meta charset=\"utf-8\" /></head>\n",
              "<body>\n",
              "    <div>            <script src=\"https://cdnjs.cloudflare.com/ajax/libs/mathjax/2.7.5/MathJax.js?config=TeX-AMS-MML_SVG\"></script><script type=\"text/javascript\">if (window.MathJax) {MathJax.Hub.Config({SVG: {font: \"STIX-Web\"}});}</script>                <script type=\"text/javascript\">window.PlotlyConfig = {MathJaxConfig: 'local'};</script>\n",
              "        <script src=\"https://cdn.plot.ly/plotly-2.8.3.min.js\"></script>                <div id=\"9a512885-8ab2-43a8-a93a-813b2dca68d8\" class=\"plotly-graph-div\" style=\"height:525px; width:100%;\"></div>            <script type=\"text/javascript\">                                    window.PLOTLYENV=window.PLOTLYENV || {};                                    if (document.getElementById(\"9a512885-8ab2-43a8-a93a-813b2dca68d8\")) {                    Plotly.newPlot(                        \"9a512885-8ab2-43a8-a93a-813b2dca68d8\",                        [{\"dimensions\":[{\"axis\":{\"matches\":true},\"label\":\"IDADE\",\"values\":[56.0,32.0,47.0,41.0,23.0,20.0,56.0,55.0,47.0,41.0,30.0,55.0,21.0,37.0,23.0,49.0,42.0,35.0,30.0,46.0,28.0,23.0,41.0,18.0,34.0,45.0,18.0,19.0,38.0,46.0,52.0,53.0,64.0,47.0,61.0,47.0,24.0,30.0,63.0,26.0,26.0,60.0,49.0,22.0,63.0,19.0,34.0,18.0,27.0,22.0,26.0,51.0,39.0,35.0,48.0,54.0,58.0,45.0,29.0,18.0,50.0,45.0,29.0,50.0,27.0,55.0,52.0,24.0,22.0,54.0,28.0,51.0,43.0,62.0,29.0,19.0,35.0,53.0,42.0,22.0,35.0,20.0,39.0,43.0,33.0,37.0,42.0,61.0,46.0,50.0,39.0,55.0,46.0,28.0,46.0,39.0,19.0,63.0,43.0,44.0,57.0,28.0,48.0,58.0,27.0,52.0,60.0,27.0,58.0,51.0,33.0,61.0,43.0,46.0,31.0,30.0,18.0,35.0,34.0,42.0,22.0,63.0,64.0,43.0,44.0,40.0,39.0,51.0,53.0,62.0,45.0,27.0,24.0,51.0,57.0,47.0,58.0,28.0,19.0,35.0,31.0,40.0,24.0,36.0,44.0,54.0,44.0,49.0,50.0,36.0,54.0,19.0,58.0,23.0,23.0,57.0,42.0,36.0,19.0,54.0,45.0,37.0,20.0,48.0,43.0,36.0,37.0,19.0,24.0,47.0,46.0,28.0,59.0,52.0,38.0,47.0,37.0,35.0,57.0,41.0,19.0,30.0,18.0,48.0,32.0,55.0,48.0,21.0,62.0,43.0,39.0,47.0,40.0,34.0,22.0,26.0,37.0,27.0,18.0,26.0,28.0,62.0,45.0,22.0,46.0,30.0,19.0,18.0,54.0,63.0,45.0,64.0,52.0,43.0,24.0,50.0,35.0,26.0,32.0,46.0,36.0,55.0,38.0,54.0,28.0,27.0,19.0,26.0,35.0,25.0,19.0,18.0,33.0,40.0,29.0,20.0,30.0,55.0,37.0,45.0,45.0,32.0,32.0,18.0,31.0,44.0,34.0,28.0,57.0,53.0,59.0,20.0,61.0,54.0,25.0,18.0,51.0,52.0,40.0,49.0,50.0,35.0,47.0,48.0,26.0,60.0,22.0,61.0,39.0,42.0,45.0,24.0,50.0,28.0,30.0,40.0,39.0,56.0,42.0,29.0,37.0,40.0,35.0,41.0,36.0,28.0,30.0,39.0,46.0,34.0,49.0,47.0,32.0,40.0,32.0,45.0,52.0,33.0,19.0,24.0,55.0,18.0,52.0,49.0,49.0,64.0,25.0,18.0,40.0,53.0,41.0,33.0,49.0,35.0,58.0,54.0,38.0,31.0,53.0,51.0,63.0,53.0,38.0,50.0,34.0,19.0,44.0,23.0,55.0,18.0,22.0,38.0,42.0,56.0,26.0,42.0,62.0,55.0,60.0,24.0,62.0,61.0,49.0,36.0,41.0,39.0,24.0,51.0,41.0,49.0,18.0,54.0,61.0,18.0,53.0,49.0,35.0,48.0,42.0,49.0,44.0,39.0,19.0,35.0,40.0,62.0,31.0,59.0,34.0,23.0,48.0,28.0,29.0,52.0,49.0,23.0,25.0,28.0,48.0,21.0,31.0,24.0,18.0,52.0,42.0,34.0,35.0,28.0,49.0,50.0,24.0,41.0,59.0,36.0,60.0,19.0,19.0,19.0,21.0,22.0,59.0,25.0,55.0,60.0,55.0,52.0,24.0,18.0,18.0,18.0,61.0,39.0,34.0,48.0,35.0,52.0,57.0,32.0,37.0,19.0,18.0,47.0,59.0,55.0,41.0,49.0,57.0,51.0,19.0,23.0,23.0,27.0,29.0,45.0,53.0,52.0,29.0,42.0,31.0,47.0,28.0,27.0,40.0,23.0,50.0,51.0,38.0,20.0,56.0,54.0,19.0,51.0,50.0,28.0,28.0,48.0,37.0,33.0,43.0,60.0,63.0,45.0,51.0,31.0,62.0,24.0,22.0,57.0,41.0,52.0,59.0,27.0,37.0,47.0,22.0,23.0,40.0,25.0,30.0,30.0,49.0,19.0,31.0,20.0,55.0,23.0,59.0,43.0,19.0,51.0,55.0,21.0,38.0,22.0,21.0,47.0,31.0,31.0,52.0,30.0,59.0,23.0,31.0,64.0,44.0,54.0,61.0,19.0,19.0,28.0,30.0,20.0,42.0,47.0,56.0,24.0,27.0,46.0,19.0,63.0,56.0,32.0,19.0,28.0,41.0,20.0,39.0,24.0,22.0,47.0,48.0,60.0,51.0,38.0,34.0,37.0,45.0,60.0,54.0,61.0,55.0,42.0,44.0,57.0,40.0,19.0,20.0,46.0,18.0,58.0,53.0,31.0,18.0,29.0,60.0,59.0,37.0,25.0,53.0,21.0,50.0,19.0,18.0,38.0,45.0,27.0,42.0,18.0,21.0,33.0,45.0,63.0,52.0,50.0,37.0,24.0,60.0,47.0,64.0,19.0,20.0,57.0,18.0,57.0,34.0,61.0,19.0,20.0,30.0,37.0,54.0,34.0,18.0,24.0,46.0,44.0,53.0,25.0,22.0,21.0,60.0,32.0,37.0,19.0,62.0,36.0,28.0,64.0,25.0,21.0,29.0,60.0,50.0,62.0,19.0,18.0,48.0,41.0,27.0,18.0,47.0,21.0,44.0,38.0,25.0,57.0,46.0,38.0,26.0,32.0,43.0,19.0,18.0,51.0,63.0,63.0,48.0,18.0,47.0,41.0,56.0,18.0,30.0,20.0,43.0,26.0,19.0,22.0,19.0,51.0,63.0,60.0,28.0,23.0,63.0,19.0,52.0,36.0,21.0,46.0,18.0,18.0,60.0,18.0,50.0,44.0,30.0,50.0,31.0,59.0,27.0,53.0,48.0,59.0,37.0,51.0,25.0,19.0,20.0,55.0,59.0,19.0,58.0,31.0,43.0,44.0,36.0,43.0,29.0,53.0,54.0,33.0,59.0,59.0,39.0,18.0,58.0,28.0,59.0,44.0,26.0,39.0,47.0,43.0,20.0,48.0,22.0,37.0,19.0,50.0,25.0,47.0,56.0,33.0,23.0,19.0,34.0,18.0,44.0,51.0,45.0,39.0,54.0,41.0,29.0,48.0,27.0,23.0,52.0,48.0,18.0,34.0,29.0,57.0,44.0,52.0,24.0,20.0,62.0,52.0,42.0,30.0,39.0,18.0,23.0,49.0,35.0,64.0,59.0,46.0,45.0,18.0,40.0,51.0,51.0,56.0,27.0,23.0,25.0,62.0,50.0,18.0,21.0,54.0,55.0,54.0,26.0,32.0,48.0,26.0,19.0,27.0,63.0,39.0,50.0,61.0,19.0,38.0,49.0,45.0,32.0,64.0,43.0,36.0,36.0,38.0,32.0,39.0,54.0,62.0,44.0,63.0,18.0,53.0,42.0,56.0,49.0,19.0,36.0,26.0,20.0,29.0,54.0,18.0,59.0,25.0,45.0,47.0,58.0,25.0,45.0,44.0,60.0,53.0,62.0,44.0,58.0,36.0,45.0,29.0,30.0,56.0,32.0,30.0,60.0,50.0,23.0,47.0,21.0,18.0,18.0,30.0,33.0,46.0,21.0,39.0,54.0,49.0,62.0,32.0,40.0,41.0,42.0,21.0,41.0,64.0,48.0,31.0,53.0,61.0,37.0,22.0,57.0,24.0,43.0,49.0,18.0,52.0,56.0,37.0,30.0,63.0,37.0,26.0,55.0,60.0,42.0,62.0,19.0,46.0,36.0,21.0,19.0,43.0,18.0,48.0,50.0,53.0,55.0,36.0,41.0,39.0,33.0,33.0,40.0,56.0,30.0,60.0,34.0,24.0,20.0,18.0,31.0,48.0,34.0,40.0,51.0,56.0,56.0,45.0,53.0,18.0,40.0,39.0,40.0,21.0,53.0,25.0,23.0,64.0,41.0,42.0,45.0,58.0,38.0,58.0,58.0,32.0,39.0,45.0,29.0,63.0,20.0,51.0,49.0,24.0,37.0,42.0,46.0,25.0,56.0,39.0,42.0,20.0,57.0,63.0,29.0,58.0,18.0,41.0,41.0,46.0,36.0,25.0,64.0,50.0,25.0,53.0,44.0,53.0,55.0,50.0,61.0,53.0,19.0,37.0,20.0,46.0,60.0,43.0,19.0,25.0,35.0,35.0,57.0,24.0,19.0,20.0,22.0,50.0,32.0,30.0,27.0,33.0,31.0,23.0,27.0,42.0,37.0,64.0,52.0,56.0,54.0,40.0,54.0,21.0,29.0,53.0,58.0,32.0,25.0,62.0,20.0,25.0,48.0,20.0,60.0,35.0,36.0,22.0,58.0,33.0,46.0,59.0,42.0,58.0,22.0,59.0,46.0,38.0,26.0,61.0,18.0,25.0,20.0,20.0,27.0,33.0,24.0,32.0,35.0,37.0,18.0,51.0,47.0,52.0,22.0,41.0,40.0,34.0,49.0,58.0,50.0,52.0,56.0,64.0,33.0,56.0,29.0,49.0,36.0,64.0,28.0,33.0,57.0,26.0,41.0,19.0,63.0,18.0,59.0,45.0,24.0,45.0,32.0,45.0,25.0,19.0,43.0,57.0,46.0,32.0,18.0,18.0,25.0,62.0,25.0,64.0,26.0,46.0,53.0,18.0,43.0,38.0,50.0,28.0,51.0,48.0,33.0,59.0,38.0,35.0,50.0,23.0,35.0,40.0,22.0,46.0,46.0,54.0,28.0,58.0,18.0,55.0,33.0,23.0,33.0,60.0,57.0,46.0,27.0,29.0,30.0,44.0,54.0,57.0,43.0,38.0,51.0,34.0,56.0,57.0,26.0,64.0,31.0,47.0,43.0,18.0,23.0,53.0,26.0,38.0,46.0,19.0,18.0,61.0,22.0,31.0,31.0,41.0,55.0,48.0,30.0,19.0,25.0,35.0,53.0,56.0,20.0,29.0,33.0,23.0,62.0,44.0,32.0,64.0,26.0,21.0,53.0,29.0,55.0,56.0,26.0,25.0,18.0,50.0,61.0,20.0,27.0,52.0]},{\"axis\":{\"matches\":true},\"label\":\"VALOR\",\"values\":[3242.022018348624,1937.108119266055,8023.418951070336,12109.298837920489,1100.182262996942,784.8534250764526,3356.6500764525995,13585.260856269113,2941.9971559633027,1918.1887461773701,5970.020856269113,3273.538226299694,5072.323458715597,12288.14862385321,3301.509886850153,2661.607339449541,6105.427003058104,6188.028975535168,1442.8757033639145,2844.615764525994,969.9128134556574,739.1299694189602,12316.099541284404,671.7043425076453,1526.7206116207951,2783.4244648318045,704.5878287461774,828.5149694189603,1678.3675840978592,2670.7123088685016,2796.5030581039755,2906.5169113149846,4229.6988379204895,7619.333593272172,4102.458134556575,2971.2051987767586,751.5296636085627,1304.637859327217,4275.795214067279,1035.290259938838,971.5033333333333,3713.326788990826,2630.375932721712,11365.493516819572,4388.334678899083,497.07454128440367,1381.9040519877676,523.6168195718654,759.5522935779816,657.6357798165137,1217.7299082568807,2805.5460703363915,6869.126529051988,12163.387247706421,2745.6223547400614,3821.189862385321,3738.3335932721716,2967.788394495413,13634.695984709479,3511.509128440367,3455.4565749235476,2781.3664373088686,876.4804281345565,3094.3192660550462,4589.1680275229355,3276.34373088685,3513.2467737003058,869.3457951070336,1224.8998470948013,3012.364525993884,1087.7438226299694,2833.27125382263,6691.382262996942,4119.512048929664,1235.6447247706421,10532.066024464832,1452.926605504587,3590.741896024465,6528.656269113149,10882.439143730888,1604.0449235474005,425.54394495412845,6161.87244648318,14025.444954128441,1826.4152905198775,14101.991131498471,2155.9698165137615,14496.599388379203,12740.55107033639,9261.358697247706,2204.7375535168194,3751.8753058103975,2884.686636085627,1624.516773700306,3087.7584097859326,1731.567278287462,5427.677737003058,4636.554862385321,11568.722996941895,14949.582755351681,3537.0949694189603,6170.541629969419,3368.5549541284404,3588.953837920489,909.5186544342508,2973.3240061162082,3868.10501529052,1089.2626605504586,14524.921850152905,2839.0097859327216,5475.390535168196,3988.35504587156,2090.9384403669724,2877.9831804281343,1329.3649388379206,1453.7115596330275,678.7293883792048,1451.6981345565748,1376.2505351681957,2276.3434403669726,808.3389908256881,4244.938532110092,4557.03874617737,6874.189602446483,2268.953486238532,6829.225321100917,1943.8136697247705,3229.508165137615,2901.420244648318,13978.656834862384,10724.579363914372,5579.968042813456,10542.153211009174,3045.174801223242,4044.0541437308866,2577.39122324159,3621.5418960244647,822.4756574923547,10650.964525993884,7619.280201834862,997.0027522935779,1987.839724770642,5796.7034159021405,2063.789357798165,2269.4784556574923,19501.659941896025,14128.741620795106,2841.0212538226297,3209.1577370030577,2002.506131498471,3528.569113149847,561.8461773700305,3740.5546177370034,557.8854434250765,10448.401529051987,14885.479418960243,2122.602400611621,6352.791360856269,651.5828440366973,3457.4723394495413,2605.5125382262995,1869.2210856269114,4499.004220183487,2889.107767584098,2243.9596330275226,1643.2306574923546,12360.556299694188,857.3999541284404,5238.050788990826,3093.274877675841,12452.767905198778,1002.1899082568807,3952.8703363914374,3301.9376758409785,1650.6473088685013,2616.791131498471,1930.2605504587157,5962.299440366973,3621.032125382263,2820.306605504587,384.1892966360856,1233.101131498471,521.3150305810398,7394.7808868501525,1214.9616819571866,3389.167339449541,13976.15362385321,619.8697553516819,3970.2980733944955,1911.448012232416,2628.999327217125,12744.97892966361,1986.8152905198779,5801.986238532109,688.3288073394496,1425.4698318042815,11941.065749235475,1302.9798165137613,3941.913654434251,825.5560703363915,10603.103119266054,14286.900076452599,2208.803134556575,835.4471559633029,2698.4665902140673,12517.562538226299,679.3775076452599,495.9885932721713,3699.281712538226,4639.164831804281,2247.138226299694,14462.09633027523,2946.341896024465,2606.117125382263,4456.235718654434,12567.939373088684,1788.0481957186544,1037.4205504587158,1182.5245259938838,2905.374021406728,1644.48250764526,3127.3040366972477,1859.226758409786,3310.4751376146787,1326.5245259938838,764.0411009174312,379.8960244648318,1006.8898623853211,1814.7950458715595,982.7590366972477,5163.585321100917,527.6918348623853,1279.8464525993884,1663.2260244648319,1029.562599388379,605.525993883792,5799.135143730887,3239.90873088685,1959.147003058104,5482.967391437309,2634.648318042813,1606.582262996942,1246.0103058103975,498.4200305810397,1297.7339602446482,2482.039403669725,1350.2014678899084,1330.1107033639146,3617.9226911314986,7108.498532110091,6665.749357798165,5370.146712538226,8911.730978593272,3340.652354740061,6095.85871559633,496.0821100917431,3021.4275229357795,3157.5553516819573,1953.9381804281345,2482.1651376146788,12819.295718654435,1961.5223241590213,2611.5201834862387,6493.022097859328,1395.7772018348624,3864.8914373088683,842.5140519877676,4019.369006116208,1907.7363914373088,1944.5799541284405,13076.606177370031,607.6248929663608,7846.0474801223245,999.6472935779816,11299.772691131499,2496.243501529052,1727.7415902140674,3414.5008103975533,6501.3388226299685,1061.5931498470948,2226.760122324159,2018.4590214067277,12227.3473853211,2220.715902140673,1673.5318042813453,1151.9522324159022,1741.1102446483183,2741.833562691131,2811.5714067278286,1567.0301834862385,2808.0030581039755,2615.0908256880734,1427.4029510703363,1810.4293883792047,1433.146391437309,2604.2075535168196,7459.823363914373,1643.7425076452598,379.6834862385321,605.9883486238532,3990.009892966361,856.6540672782875,8093.913568807339,7127.384403669725,2657.1433792048933,14656.88990825688,771.6114678899082,499.68250764525993,8708.481648318044,3199.3820795107035,2187.6311620795104,2034.797737003058,3171.5328899082565,1567.344250764526,3741.846850152905,3816.424755351682,2030.7476605504587,1364.894525993884,3230.8515290519877,2862.791070336392,14466.454128440368,8362.703996941897,2181.6215596330276,13106.066666666668,1530.2302752293579,10635.967889908256,2367.075535168196,886.693990825688,3633.4428134556574,676.1867737003057,689.5402752293578,2004.6086697247706,6771.875229357798,3750.9195412844037,704.0672782874618,2336.2132874617737,8257.181874617738,3242.089373088685,3979.2687003058104,1412.2568501529051,4113.492966360856,8544.736262996941,2484.5285626911314,5690.599999999999,2250.206620795107,2202.355,5702.881253822629,2870.385718654434,2038.130259938838,2484.9493883792047,673.1183792048929,3698.6171253822627,9462.443975535169,674.611865443425,3346.217752293578,2845.4745871559635,1598.7733180428136,2889.067385321101,2363.806039755352,3140.5076452599387,2185.771498470948,1872.6510091743119,653.4808103975536,1812.4911314984708,12233.43493883792,8593.679831804282,1149.1880122324158,4283.554128440367,1894.9382262996942,11015.599755351683,2651.7404434250766,5401.573149847094,5945.673853211009,2973.862385321101,2930.854220183486,822.6647706422018,11047.270244648318,1717.2382262996941,2532.300519877676,642.8944036697249,11838.22629969419,753.7060550458716,4204.242308868502,3489.8119266055046,1828.6639143730886,1496.8664525993884,1456.369724770642,936.5468654434251,3356.9438226299694,2581.855351681957,1081.866360856269,1921.1727828746177,3741.2318042813454,1493.537003058104,3896.3814831804284,383.46666666666664,382.9990825688073,528.7146788990825,586.3359021406728,659.5571253822629,7852.83744648318,5467.553724770642,3665.8006727828747,13764.206574923546,9193.755519877675,2943.706422018349,930.9520795107034,10315.806330275229,347.3824770642202,10490.265198776759,4019.5305351681955,5817.510703363914,2065.1492354740058,2828.5918042813455,1604.295718654434,2981.318226299694,8323.68111620795,1428.330275229358,2078.5514525993885,10321.1901529052,526.1020489296636,12908.604954128441,4281.739051987768,3484.42371559633,1745.9218348623851,2990.3202446483183,6333.033743119266,3497.473440366972,503.4953211009174,1365.939266055046,6604.092443425076,1094.1892966360856,1745.8308868501529,12148.476467889908,3018.290581039755,2795.397859327217,4928.227675840979,2156.159633027523,1869.489617737003,2609.991376146789,1176.6587155963302,1476.4235321100919,4840.618266055046,12508.929510703365,2766.9808256880733,2690.7012232415905,1974.8756574923545,6167.381048929663,3242.3195718654433,3701.9327217125383,831.5840214067279,3020.675137614679,3272.9793272171255,1443.3445107033638,966.8055045871561,3101.264892966361,12182.421712538226,11707.262844036697,2631.8707645259938,3862.35373088685,14931.024464831804,2275.551376146789,7329.4749388379205,1513.6876758409787,4657.5914525993885,603.348623853211,628.5397247706422,13326.892782874618,2102.740366972477,7948.874935779816,4398.381972477064,1025.5260856269113,12193.181743119265,7503.271727828746,662.6091743119266,5604.9657798165135,1807.628134556575,986.8871865443424,5738.799831804281,1628.6394495412844,3174.7641284403667,834.8953669724771,1659.0285474006118,7989.502987767584,3632.753532110092,732.4683639143731,11287.647715596331,2240.075902140673,533.4755351681957,3020.085749235474,10752.33473088685,7956.865602446483,1651.675993883792,773.0332262996942,643.459755351682,6721.3079204892965,2079.3449541284403,11849.038256880734,8292.964458715596,1265.2974617737004,3771.8128440366972,6848.851449541285,1358.1691590214066,4377.323027522935,5992.296529051988,3191.1514525993884,4169.919847094801,1433.5770642201833,499.25518348623854,970.0360856269114,1269.0324159021407,1503.0764067278287,1824.7362079510701,2472.146727828746,3597.247981651376,758.7092048929663,5780.88422324159,14113.49373088685,713.0027522935779,4756.938455657492,13398.735810397553,1874.24998470948,498.00333333333333,1356.2979204892965,2432.574006116208,541.1411773700305,1938.2494189602446,756.3712844036697,509.1741896024465,13517.63107033639,2742.6085626911313,4041.9249235474003,2685.770336391437,1646.3412844036698,1387.2351681957186,2136.240657492355,2572.9244801223244,14731.914678899082,13535.39752293578,4353.233027522936,3818.2877370030583,2190.2177981651375,2511.0398165137617,3862.130152905199,2018.411605504587,497.63989296636083,752.2079816513761,6629.13866972477,355.79899082568807,3801.5147859327217,3438.647370030581,1185.2397859327218,11863.206605504587,1571.3323241590215,4256.826574923547,14647.336804281345,6244.833226299695,5571.303177370031,3351.5885932721712,466.7620795107033,2941.1811773700306,4233.793883792048,1037.7236544342509,12828.51501529052,6452.157201834862,5750.68880733945,2154.5868501529053,523.2497859327217,617.7911314984709,1461.6520795107033,2455.0360856269112,4211.039113149847,3055.3631957186544,3241.757889908257,1968.080642201835,871.7687308868502,14884.880366972477,2638.3917737003057,9225.265495412845,652.8750764525994,601.535993883792,4401.9566207951075,522.3245871559633,3527.4839908256877,1529.9029663608562,3840.2462691131495,501.39544342507645,11726.166972477064,1114.70623853211,2044.7802140672784,3815.092140672783,1831.6586085626911,672.2293119266055,873.2224923547401,2698.2504587155963,2124.98495412844,3441.4131498470947,990.3473088685015,625.5918195718655,794.4278287461774,4009.9708868501525,1574.4809174311927,1421.0272171253823,499.0936544342508,9669.725094801222,2210.463501529052,1360.6917431192662,4409.260061162079,7107.484565749235,643.1437308868501,5094.103195718654,16082.822443425077,2917.9497094801222,4115.5843425076455,529.5648318042813,498.981131498471,2680.5042813455657,2611.097385321101,5599.615290519877,1394.858868501529,7053.645474006115,1094.7488379204892,2187.3612844036697,1790.795871559633,653.7166972477064,3621.5974770642206,2520.057981651376,1860.0626911314985,978.9740519877677,6030.487675840978,6658.814113149847,385.76207951070336,4368.030397553517,6794.530550458716,4359.207400611621,4273.53380733945,2533.2356880733946,5253.4196941896025,2465.6770642201836,4197.392,3683.28501529052,4322.02989296636,1086.912232415902,4964.173394495413,4427.623899082569,1033.3058103975534,5223.571865443426,1200.5376758409786,380.06605504587156,13651.74232415902,4426.506116207951,3866.8467889908256,6016.310620795107,4014.274449541284,4099.507737003058,9953.620948012232,7543.553211009174,0.0,617.9059021406728,12878.1849235474,518.2863608562691,499.8695412844037,4038.007844036697,3923.3807645259935,2699.4525688073395,2299.090321100917,1443.2795259938837,7747.196587155963,1179.742889908257,3707.9487461773697,1482.2385779816514,6257.797449541285,3071.32996941896,4461.966987767584,1537.6595107033638,2871.97125382263,981.2804281345565,11076.270779816514,8478.375764525994,3451.5408868501527,3709.362125382263,528.3746177370031,3650.842798165138,17911.643571865443,12548.691559633027,2539.001727828746,1707.7387461773699,6657.902844036697,1355.9375840978594,3235.385626911315,12843.88990825688,16860.979232415903,3775.8935779816516,3591.222935779817,1870.7934250764524,678.125122324159,3653.4024159021405,15655.828483180427,3859.9937308868502,12096.787308868501,886.0316513761468,6447.14373088685,2731.1726452599387,5751.114822629969,606.8664525993884,8706.091440366972,514.5556574923547,1930.8131498470948,501.39544342507645,2770.2539143730883,834.0657798165138,2613.972874617737,3565.0516513761468,1607.8005963302753,1070.5236391437309,500.2243577981651,4390.937116207951,5572.920856269113,2331.3510703363913,2949.3126911314985,2426.694541284404,7205.815345565748,3520.613149847095,2073.808623853211,5552.867278287462,3374.2084709480123,1241.1964678899083,561.8599082568808,14455.612844036697,2386.5934250764526,11054.887920489296,1321.2265596330276,1025.469113149847,3533.401712538226,2331.691131498471,3304.84373088685,7670.265394495413,722.3942048929663,3969.222629969419,18355.167880733945,2451.700657492355,1295.7573547400611,2442.3471712538226,10586.495611620794,5514.974892966361,7993.993975535168,1564.6790214067278,8268.475259938838,3953.75874617737,2551.348241590214,19141.551403669724,343.0807033639144,2349.440366972477,3047.1131498470945,14145.294342507646,3866.476391437309,1088.2630733944954,555.3137308868502,1099.1348165137615,3969.830489296636,3390.087706422018,351.49721712538224,469.20626911314986,14846.843532110091,3633.6298470948013,8355.576103975534,4420.6862538226305,1575.5761467889909,2528.759633027523,1185.7199541284403,4984.050764525994,1209.8077828746177,4095.949847094801,6623.831834862386,3030.6910856269114,4164.0240366972475,560.2733944954128,1855.3904434250765,3532.9981651376147,2993.5369724770644,1389.674250764526,4378.908562691132,2571.879770642202,11542.072079510704,11747.85137614679,1827.0289602446483,1362.202645259939,12264.186544342507,7485.1616238532115,8504.197278287462,2334.4711314984706,4247.085168195719,4745.620871559633,3413.9351681957182,10026.74574617737,3386.292354740061,2997.213516819572,0.0,13380.225397553517,5212.031009174312,1477.256880733945,1593.1433792048929,3342.1556574923547,673.8446024464831,9230.867492354739,1012.1689908256882,2277.799373088685,2467.3348623853212,3474.848623853211,12878.359510703363,2631.609021406728,2332.41376146789,8844.996000000001,3587.0579510703365,4593.19879204893,2453.558241590214,3619.9266055045873,11837.668501529051,2607.807951070336,1355.7760550458715,1479.3829663608562,7984.504296636086,5350.552293577982,1660.161376146789,3829.848562691131,2701.915886850153,4411.643379204893,13140.627737003058,1003.0179051987768,673.925366972477,347.85006116207956,1384.459617737003,1495.4126911314984,2698.803058103975,941.0077981651376,1760.676896024465,3128.899051987768,7280.5017125382265,3962.421406727829,1395.3645565749234,5253.6764525993885,2221.927370030581,2189.6311926605504,4696.973853211009,1891.7819571865446,8969.719617737002,2712.8904281345567,1449.0116819571867,8925.529773700306,4106.738654434251,1897.2176605504587,11463.134342507645,3678.6809480122324,602.3284403669725,2541.541024464832,2840.375137614679,522.6072629969419,3485.290581039755,3385.484709480122,2103.3578287461773,6344.339174311926,8853.354495412845,5876.056737003058,895.1268195718654,3123.741896024465,9253.821272171253,2189.703455657492,4083.210948012232,7357.700363914373,2301.7450917431192,1495.1182874617737,1180.7980581039756,647.5042354740061,12520.270764525994,6527.476055045871,2741.302920489297,2586.4886850152902,6481.901529051987,6308.955201834863,1610.9535626911315,2009.4875688073394,2442.1452599388376,5822.897859327217,2038.6064220183487,2193.6880581039754,3570.070336391437,1119.0660550458715,4045.518944954128,1532.865749235474,931.5174311926605,934.6752599388379,525.8214984709481,1264.2453975535168,2531.352599388379,1203.4189296636087,2523.634342507645,14514.646483180428,3780.9012232415903,3239.824373088685,2364.48252293578,3016.352232415902,520.6285321100918,1955.2304128440367,2052.0464525993884,2136.604587155963,972.6330581039755,3080.139159021407,1377.5725993883793,848.6826146788991,4918.999235474006,2070.395259938838,11695.900082568807,2246.2030581039753,3480.5276452599387,1949.1001070336392,4161.274847094801,3469.577675840979,11500.772996941896,2624.5572782874615,2277.0391437308867,1385.1611620795106,14390.07097859327,690.3594036697248,3522.9663149847097,3138.973119266055,11659.402599388379,11397.599755351683,2154.9609174311927,2367.617675840979,924.1006574923548,3959.986360856269,2268.6611620795106,1979.820489296636,574.9449541284404,8420.156850152905,4418.915718654434,876.7949847094801,3737.8893883792052,3447.1961437308864,2219.181376146789,2097.394373088685,2517.6265443425077,2215.233516819572,1553.5461773700304,4227.1568807339445,2582.4079510703364,775.0439602446484,3410.0244648318044,2719.0029051987767,3166.862691131498,12936.908914373089,7498.551681957187,11186.630629969419,3078.1079510703366,6878.794996941897,1895.642752293578,575.0724770642202,2517.766819571865,14107.194648318044,2094.503363914373,828.4745871559633,832.2081957186545,5921.100550458716,1721.8525535168194,3472.98498470948,10475.245672782876,531.3076452599388,751.4407186544342,512.1199694189602,6039.566782874617,10010.454525993884,1269.4277370030582,939.0852293577982,3793.541009174312,1296.6032568807339,11777.256360856269,10654.089602446484,2339.6861620795107,5975.30366972477,4407.012874617737,10236.07703058104,0.0,3195.8874617737,2464.7336697247706,3368.107614678899,735.3925993883792,1142.649755351682,7606.539724770642,3625.8139143730887,1429.1719266055047,1194.534250764526,4145.261437308868,574.2903363914373,1281.074342507645,3283.446712538226,600.8501529051988,3893.2720489296635,6417.154006116208,1612.2861773700306,807.0467584097859,3475.0101529051985,1609.0120642201834,2548.8041590214066,3919.0963149847094,2336.485993883792,3618.893669724771,838.5162079510703,8650.733229357798,2185.659021406728,2120.2575688073393,1065.5446483180428,8828.337584097859,499.40195718654434,805.1963302752295,10237.252951070337,573.4996941896025,762.6978593272171,1457.4990825688074,719.5622171253822,1364.7467278287463,1602.6804281345567,6206.991880733945,499.0278899082569,3015.603975535168,6384.949366972477,7305.095626911315,659.2298165137615,1743.0695718654433,1656.1655045871557,1646.8923241590214,2925.685290519878,3591.417155963303,3090.893149847095,7047.573749235474,13431.554648318042,4345.729648318043,5130.368211009174,3565.2535626911317,1241.0140978593272,7372.144510703364,1345.4834862385321,4914.093195718654,1141.4755657492356,6723.0796972477065,3679.6103975535166,819.8621712538227,1923.4724464831804,890.9996941896025,4359.691987767585,2239.6742565749237,14975.610886850154,2631.1386544342504,10748.479657492355,8666.724418960244,1220.134862385321,2604.534862385321,10367.172171253822,5761.071455657492,13015.422140672783,3351.4770642201834,7523.8680030581045,1332.429250764526,11103.302232415903,521.2746483180428,4837.304495412844,4294.641192660551,980.5783944954128,8234.408073394496,1037.6075840978592,2548.7637767584097,3084.356574923547,349.0657798165137,2363.074373088685,1974.2699235474006,2731.524159021407,1354.3999541284404,2867.8607645259935,7207.422629969419,3463.8271773700303,3768.7877675840978,2034.4124770642202,1784.8686238532111,2920.3562996941896,745.5826299694189,1751.989388379205,2021.4402752293577,13608.990275229358,2735.2033944954132,2454.638103975535,7803.398663608563,7121.996452599388,3648.6621559633027,346.0264831804281,3305.0416819571865,1397.985642201835,11067.003577981652,11339.257492354742,3714.6700305810396,3471.93504587156,2879.1804281345567,10644.179724770642,11069.632721712538,5583.858103975535,2364.3507951070337,3161.752782874618,3652.9457798165136,6054.450932721713,1827.7770948012233,3019.174617737003,1710.9619266055047,4107.114678899083,3353.3474006116207,710.2818960244648,15161.364648318044,1509.0840978593271,2620.7528440366973,2246.3995718654432,528.2996941896024,1098.3119266055046,13227.650749235474,1042.9125382262996,2009.646483180428,2552.649633027523,385.88960244648314,673.0369571865443,7496.358183486239,658.825993883792,1148.8139449541284,1629.1743883792049,2369.772599388379,6355.195388379205,2382.151376146789,12000.440978593273,11284.016232415901,1343.0128440366973,1957.8872629969421,14269.554250764526,3234.5831804281343,11457.291666666666,1505.478868501529,1945.257981651376,732.7510397553516,4774.371055045872,3913.5197614678896,1221.4611009174312,4583.618348623853,1067.4462079510704,968.6409327217125,3444.81376146789,6201.1643761467885,3301.6361620795105,3565.172798165138,888.1003058103976,1491.7373241590215,3634.265620795107,2945.075535168196,14837.175275229358,691.6112538226299,11355.932171253824,3452.326987767584]},{\"axis\":{\"matches\":true},\"label\":\"SEXO\",\"values\":[1,0,0,1,1,1,1,0,1,1,0,0,1,1,0,1,0,0,0,1,0,1,1,0,0,0,1,0,1,1,1,1,1,1,0,0,0,1,1,0,0,1,0,1,1,1,1,1,1,0,0,1,1,1,1,0,0,0,1,0,0,0,1,0,0,0,1,0,1,1,0,0,0,0,1,0,1,0,0,1,0,1,1,0,0,0,0,1,0,1,0,0,0,0,1,0,0,1,1,0,1,0,0,1,0,1,0,0,1,0,1,0,1,0,0,0,0,1,1,0,1,0,0,0,0,0,1,1,1,1,1,1,1,1,0,1,0,1,1,0,1,0,0,1,0,0,0,1,0,1,0,1,0,1,0,1,1,1,0,0,0,0,0,0,0,1,0,1,1,0,1,1,1,0,0,0,0,1,0,1,1,1,1,0,0,0,1,0,1,1,0,1,0,1,1,1,1,1,1,1,1,1,1,0,0,0,1,0,0,1,0,0,0,0,0,1,0,0,1,1,1,1,1,1,0,1,1,1,1,0,0,1,0,1,0,1,1,1,1,0,1,1,1,0,1,1,0,0,0,0,1,1,0,0,1,0,0,1,1,1,1,0,0,1,0,0,0,1,0,1,1,1,0,1,1,1,0,1,1,1,0,1,0,1,0,0,0,0,0,1,0,0,1,0,1,0,1,0,1,1,0,0,1,1,1,0,1,0,0,1,0,1,0,1,0,0,1,1,0,1,0,1,0,1,0,1,1,0,0,0,1,0,1,0,1,0,1,1,0,0,0,1,1,0,0,0,1,1,1,1,0,0,0,0,0,1,0,0,1,1,1,1,0,1,0,1,0,0,0,0,0,1,1,1,0,0,1,1,0,1,1,0,1,0,1,1,1,1,0,1,1,1,0,0,1,1,1,0,1,0,0,0,1,0,1,0,0,1,1,1,1,0,0,0,0,1,1,1,1,1,1,1,0,1,1,0,1,0,1,0,1,0,0,0,1,1,0,0,0,0,1,1,0,0,1,1,1,0,1,0,0,0,0,0,0,1,0,1,1,0,0,1,1,0,0,1,1,0,1,1,0,0,1,0,0,0,0,0,0,0,0,0,1,0,0,1,0,0,0,0,0,0,0,0,1,1,1,1,0,0,1,0,1,0,0,1,0,0,1,0,0,1,1,1,1,0,0,1,0,1,1,0,1,1,0,1,1,0,1,1,1,0,1,0,1,1,1,1,1,0,0,1,0,0,1,1,0,0,1,0,1,1,0,0,1,0,1,0,0,1,1,0,0,1,1,0,0,1,0,0,1,1,0,1,1,0,1,1,1,0,1,0,1,1,0,1,1,1,1,0,0,0,0,0,0,1,1,0,1,0,1,0,1,1,0,0,1,1,1,1,0,1,0,0,0,0,1,0,1,0,0,0,1,1,1,0,0,1,0,1,0,1,0,1,0,1,0,1,1,0,0,0,0,1,1,0,0,0,1,0,0,0,1,0,1,1,0,1,0,0,1,0,0,1,1,1,0,1,1,1,1,0,0,0,1,1,0,1,1,0,1,0,1,0,1,1,1,0,1,0,1,0,1,1,1,0,1,1,0,1,1,1,0,1,1,1,1,0,1,1,1,0,0,1,0,1,1,0,0,0,0,1,0,0,1,0,1,1,1,1,0,1,0,1,0,0,0,1,1,1,0,1,0,1,0,0,1,0,1,1,1,1,0,1,0,0,0,1,0,1,0,1,1,1,0,0,0,0,0,1,1,0,1,0,0,0,1,1,0,1,0,0,1,1,1,0,1,1,1,0,0,0,1,0,1,0,0,0,1,1,0,1,0,0,1,1,1,1,1,1,1,0,0,0,0,0,0,1,0,1,1,1,0,1,1,1,0,0,1,0,1,0,1,0,1,1,1,1,1,0,1,1,1,0,0,0,0,0,0,0,1,1,0,1,0,1,1,0,0,0,1,0,1,1,1,1,1,1,0,1,0,1,0,0,0,1,1,1,1,0,0,0,1,1,1,0,1,0,0,0,0,1,0,0,1,0,1,1,1,0,1,1,1,1,1,0,1,1,1,0,0,1,0,1,0,0,1,1,0,1,0,1,0,1,1,1,0,0,1,0,1,0,0,0,0,0,1,0,1,1,1,0,0,1,1,1,1,0,1,0,1,0,0,1,1,1,0,0,1,1,0,1,1,0,1,1,0,0,1,0,0,0,1,1,1,0,0,0,0,1,0,1,1,0,1,0,0,0,0,1,1,1,0,0,1,1,1,1,0,1,1,1,1,0,0,0,0,0,1,0,1,1,0,0,1,0,1,0,1,1,0,0,0,0,0,0,0,1,1,0,0,1,0,0,1,1,0,0,1,0,1,0,0,1,0,1,1,0,0,0,1,1,1,0,0,0,0,0,1,1,1,0,1,1,1,0,0,1,0,1,1,1,0,1,0,1,1,1,1,1,1,0,0,1,1,1,1,1,0,1,0,1,1,1,0,1,0,1,1,0,1,1,1,1,0,1,0,0,0,0,0,1,1,1,0,0,0,1,1,1,0,0,1,1,0,0,0,0,0,0,1,1,1,0,0,0,0,1,1,0,0,1,0,0,0,1,1,0,1,1,1,0,1,1,1,1,0,0,0,1]},{\"axis\":{\"matches\":true},\"label\":\"IMC\",\"values\":[39.6,37.145,24.1,30.78,37.1,31.13,33.725,35.2,29.83,21.78,28.38,30.5,31.02,34.1,33.4,28.7,23.37,28.025,21.945,25.745,33.11,35.2,35.75,25.08,23.56,25.7,26.18,24.605,31.0,40.375,36.7,41.47,40.48,28.215,21.09,26.6,22.6,44.22,36.765,28.785,22.61,25.74,27.17,37.62,21.66,20.425,34.675,28.5,23.1,24.3,29.92,31.635,29.925,36.67,37.29,35.815,28.215,39.995,35.5,33.88,33.7,25.175,27.2,31.6,17.955,37.1,32.205,24.225,19.95,31.6,34.77,20.6,24.7,39.16,28.975,33.11,30.5,28.1,26.6,35.6,34.21,33.33,26.41,46.2,38.9,47.6,32.87,36.3,34.6,25.365,31.92,32.775,48.07,26.315,25.8,41.8,28.88,33.66,27.8,38.06,40.945,27.5,27.93,28.595,24.1,33.25,38.06,23.21,36.955,34.1,24.795,28.2,26.03,32.3,31.065,43.12,37.29,27.61,21.375,36.195,31.35,31.8,39.33,26.7,26.41,28.12,45.43,33.33,29.48,32.015,22.895,29.15,32.7,27.74,34.295,19.57,29.0,38.06,34.9,38.095,20.4,29.81,27.6,28.88,27.645,47.41,43.89,31.35,26.22,28.595,46.7,24.6,33.44,32.56,31.4,42.13,26.315,28.025,32.11,27.645,30.9,34.105,22.42,27.36,29.9,30.875,38.39,20.615,33.63,33.915,30.495,37.1,29.7,30.78,37.73,36.0,29.5,39.71,30.495,29.64,30.4,24.13,23.085,25.85,28.93,26.98,40.565,39.49,39.93,23.2,34.32,36.19,27.4,25.3,28.88,27.265,34.2,30.3,39.14,31.065,31.68,30.875,21.375,23.18,33.725,39.05,25.555,31.13,28.88,39.8,35.3,31.3,37.4,34.4,20.52,31.825,43.34,29.48,28.88,24.795,33.82,38.28,37.05,33.63,28.88,33.66,20.3,33.915,34.32,28.595,27.9,33.77,24.31,41.69,35.53,33.0,38.83,27.645,29.83,31.79,27.5,30.8,30.03,36.85,28.595,32.015,27.72,33.0,23.18,22.88,37.4,28.025,29.07,32.68,29.7,31.35,39.5,38.6,26.315,30.3,32.3,27.7,23.6,29.6,29.355,30.5,39.805,33.535,32.5,31.255,36.48,35.86,27.36,35.435,35.53,30.875,32.8,25.935,24.605,38.94,27.74,29.9,34.105,34.2,25.9,37.62,19.95,24.225,19.95,42.13,21.3,32.0,37.335,36.19,46.53,27.83,27.36,32.9,19.8,32.01,25.365,32.12,36.765,25.6,22.515,33.8,27.55,39.82,41.42,31.16,28.31,33.44,33.345,24.13,36.48,24.605,16.815,38.39,33.25,22.42,32.2,31.35,19.95,34.2,27.5,34.8,37.1,34.865,29.7,35.625,31.73,27.265,30.0,37.51,20.8,33.155,31.46,32.775,24.035,30.21,25.0,36.1,35.86,22.6,31.635,26.315,29.83,35.97,28.405,36.85,24.09,23.0,29.92,31.92,24.795,37.51,26.125,27.265,26.125,32.3,34.32,26.22,36.575,28.9,32.775,26.695,26.62,32.1,38.0,32.78,36.575,23.98,33.345,30.2,34.77,28.12,33.33,24.3,31.13,26.03,36.3,27.72,21.565,44.7,34.1,25.27,38.6,30.875,41.47,25.3,28.5,28.8,27.5,26.2,36.955,28.7,27.6,18.6,36.86,28.82,23.655,41.325,33.88,32.45,37.715,31.2,25.27,31.73,33.33,31.68,33.915,18.3,19.0,28.88,34.8,47.74,28.975,35.2,30.875,31.92,30.03,36.08,27.83,35.245,40.26,30.78,40.28,36.385,35.53,34.96,18.715,34.8,25.6,30.495,28.88,34.1,21.85,29.0,30.495,24.32,23.8,18.905,29.3,42.75,37.07,37.0,29.26,21.8,40.3,30.8,31.825,37.73,28.16,23.845,25.8,30.78,34.8,35.75,27.36,24.53,37.7,30.2,24.795,36.63,38.095,25.8,32.11,31.16,32.2,26.4,26.695,21.47,37.07,27.645,36.0,28.49,29.6,33.99,23.655,30.9,36.63,39.615,31.065,24.42,32.395,23.845,34.8,25.08,29.8,40.66,26.8,32.68,40.15,20.235,27.36,25.41,28.5,34.39,24.86,27.93,27.5,24.225,26.885,35.97,20.235,32.775,35.91,28.6,25.555,33.4,32.4,30.115,24.86,47.52,32.11,39.49,32.395,42.35,28.4,41.325,31.79,33.155,22.61,26.98,32.6,29.735,32.34,33.99,26.84,38.94,30.2,27.55,25.4,27.6,42.9,22.705,30.495,39.9,34.21,39.1,40.81,37.18,23.98,25.74,34.105,21.755,30.59,23.655,53.13,32.965,26.41,39.49,42.24,38.83,33.11,36.765,29.8,32.23,37.43,31.1,27.455,21.7,38.665,38.39,22.895,30.4,25.3,23.32,34.6,28.27,28.7,28.31,18.335,30.97,46.53,29.925,40.92,19.19,24.7,35.15,27.93,28.785,25.46,18.335,26.73,31.57,30.59,39.4,25.46,23.37,21.47,37.335,26.315,33.345,28.9,39.52,28.6,42.13,25.175,26.4,24.32,31.54,30.8,25.175,36.86,22.135,33.0,39.16,24.985,22.3,21.755,32.8,44.745,29.92,20.6,38.17,32.3,33.155,28.5,31.35,27.83,33.63,38.06,19.95,25.74,31.825,33.44,34.7,40.185,28.93,26.885,34.1,21.66,23.21,25.08,31.445,33.33,27.36,32.3,21.755,26.6,38.28,27.7,27.3,25.52,19.8,28.3,34.58,20.7,34.96,35.2,35.1,33.82,28.0,41.47,30.25,25.3,27.55,34.87,35.53,15.96,40.26,18.335,17.29,26.41,25.365,22.895,32.11,30.875,25.46,32.585,38.06,32.3,32.395,29.64,39.7,20.8,36.955,35.31,29.83,28.785,17.8,30.305,38.095,34.96,22.135,34.43,25.27,32.11,39.6,30.8,35.53,37.1,26.4,21.85,40.185,32.01,36.4,31.35,31.35,29.45,28.3,29.545,35.31,40.47,36.67,39.5,30.8,30.59,44.77,30.59,29.37,28.31,24.605,39.27,27.835,32.8,27.28,25.0,18.05,38.285,34.1,32.3,36.08,29.735,41.23,33.155,41.91,41.8,40.15,36.85,35.815,25.9,27.94,25.8,33.3,23.21,32.395,37.4,34.485,24.985,27.645,23.275,33.535,28.31,27.1,17.86,22.99,31.79,39.425,30.36,23.21,33.0,32.3,37.05,33.82,25.175,26.51,22.515,38.83,28.12,43.01,36.85,40.565,30.14,31.9,17.195,29.8,22.8,30.875,27.7,31.255,33.1,24.89,30.115,22.04,20.9,28.025,31.9,24.31,20.52,39.7,30.115,34.43,33.4,28.93,27.835,35.3,30.02,26.29,32.34,36.85,25.175,35.9,28.31,27.2,42.68,28.9,41.895,27.06,37.0,22.515,31.9,30.115,29.83,25.84,39.805,36.2,35.7,45.54,20.35,27.5,25.84,23.75,30.495,36.955,25.2,35.2,36.3,31.73,31.57,26.695,24.6,37.43,24.32,32.205,23.18,36.63,25.745,30.305,34.43,28.405,35.75,30.2,23.75,42.655,30.21,25.84,21.4,29.59,19.8,37.05,35.8,21.85,31.6,26.885,32.23,32.68,32.3,31.16,28.025,37.07,22.23,23.4,30.685,29.83,26.125,38.38,25.3,17.29,28.69,26.98,36.19,46.53,29.9,28.595,35.97,30.02,30.59,19.855,29.92,20.235,22.515,32.56,30.115,31.445,36.2,20.9,37.3,26.885,32.965,22.8,27.1,42.4,22.705,35.8,31.4,36.005,33.7,26.6,31.79,29.37,21.755,28.9,34.21,23.37,42.9,36.1,34.43,35.815,24.32,21.47,29.355,24.51,32.3,21.89,30.495,33.66,17.385,39.05,28.05,26.07,33.1,49.06,40.565,31.825,23.3,33.63,23.87,33.7,24.6,35.09,28.975,24.415,28.69,40.15,30.78,26.18,26.62,34.485,33.66,34.1,37.9,33.0,29.81,21.66,27.94,27.17,28.31,30.59,23.94,27.72,29.04,23.9,34.5,26.6,35.625,26.7,21.85,26.6,30.685,27.6,33.33,21.4,27.265,24.32,33.3,28.05,31.35,30.1,24.51,26.22,24.42,35.815,34.01,31.065,24.7,28.785,33.77,27.83,17.765,33.33,26.03,35.245,25.935,36.67,31.4,41.325,26.4,38.19,37.525,19.95,39.6,28.69,21.01,35.72,26.03,22.61,39.05,37.18,26.8,32.11,31.46,26.79,35.625,22.0,29.64,27.74,30.02,28.31,36.08,27.455,33.44,26.505,29.48,22.77,30.4,36.52,22.3,19.475,23.7,28.31,39.16,30.3,30.685,29.6,30.5,18.5,23.655,33.82,31.0,25.555,38.28,25.8,33.345,24.13,28.05,33.55,25.08,26.41,22.61,34.39,23.54,30.875,33.63,37.905,19.095,28.785,37.29,23.845,29.7,31.825,17.29,22.705,20.1,17.67,34.21,23.4,26.22,29.165,41.14,23.56,28.5,27.645,41.1,28.6,30.2,27.93,38.06,23.7,27.6,29.735,38.17,22.99,24.13,31.73,23.465,23.76,29.92,33.345,36.1,37.29,34.58,27.835,25.6,22.515,30.03,28.0,42.46,24.7,21.12,35.86,46.09,50.38,34.77,41.23,52.58,43.89,27.74,25.46,24.32,25.175,30.14,32.67,26.695,31.73,33.5,28.9,31.54,30.8,31.13,34.4,24.4,30.69,31.24,33.63,20.045,30.69,34.2,33.25,32.3,28.1,35.42,36.96,25.8,45.32,35.64,35.2,32.7,34.105,42.4,34.8,38.17,34.4,28.215,25.08,27.1,25.74,32.775,33.06,33.0,29.7,37.8,32.49,24.3,23.465,36.86,22.1,35.625,32.11,42.94,24.51,32.965,36.48,44.22,25.6,32.49,16.815,36.6,29.64,28.975,28.595,30.0,26.695,21.78,32.3,36.385,31.92,36.08,32.775]},{\"axis\":{\"matches\":true},\"label\":\"FILHOS\",\"values\":[0.0,3.0,1.0,3.0,3.0,2.0,0.0,0.0,3.0,1.0,1.0,0.0,0.0,4.0,0.0,1.0,0.0,0.0,1.0,3.0,0.0,1.0,1.0,0.0,0.0,3.0,2.0,1.0,1.0,2.0,0.0,0.0,0.0,3.0,0.0,2.0,0.0,2.0,0.0,0.0,0.0,0.0,0.0,1.0,1.0,0.0,0.0,0.0,0.0,0.0,2.0,0.0,1.0,1.0,2.0,3.0,0.0,3.0,2.0,0.0,4.0,2.0,0.0,2.0,2.0,0.0,3.0,0.0,3.0,0.0,0.0,0.0,2.0,0.0,1.0,0.0,1.0,3.0,0.0,0.0,1.0,0.0,0.0,0.0,3.0,2.0,0.0,1.0,1.0,2.0,2.0,2.0,2.0,3.0,5.0,0.0,0.0,3.0,0.0,0.0,0.0,2.0,4.0,0.0,0.0,0.0,0.0,1.0,2.0,0.0,0.0,0.0,0.0,2.0,0.0,2.0,1.0,1.0,0.0,1.0,1.0,0.0,0.0,2.0,0.0,1.0,2.0,3.0,0.0,0.0,0.0,0.0,0.0,1.0,2.0,1.0,0.0,0.0,0.0,2.0,0.0,1.0,0.0,3.0,0.0,0.0,2.0,1.0,2.0,3.0,2.0,1.0,0.0,0.0,0.0,1.0,1.0,1.0,0.0,1.0,2.0,1.0,0.0,1.0,1.0,1.0,0.0,2.0,4.0,3.0,3.0,1.0,2.0,1.0,0.0,1.0,2.0,4.0,0.0,5.0,0.0,1.0,0.0,3.0,0.0,0.0,2.0,0.0,0.0,0.0,5.0,0.0,1.0,2.0,0.0,3.0,1.0,3.0,0.0,0.0,0.0,3.0,0.0,0.0,1.0,3.0,1.0,0.0,2.0,3.0,0.0,2.0,0.0,3.0,0.0,0.0,2.0,1.0,0.0,3.0,1.0,0.0,1.0,1.0,1.0,0.0,0.0,1.0,3.0,0.0,0.0,1.0,0.0,0.0,0.0,1.0,1.0,0.0,2.0,0.0,3.0,3.0,1.0,0.0,1.0,2.0,0.0,2.0,0.0,1.0,0.0,1.0,0.0,0.0,3.0,0.0,1.0,2.0,1.0,0.0,1.0,3.0,1.0,0.0,2.0,0.0,0.0,0.0,1.0,0.0,2.0,0.0,0.0,0.0,0.0,4.0,0.0,0.0,2.0,1.0,3.0,2.0,3.0,2.0,1.0,1.0,3.0,5.0,2.0,2.0,1.0,1.0,1.0,0.0,2.0,2.0,0.0,2.0,0.0,0.0,3.0,2.0,2.0,2.0,0.0,1.0,0.0,0.0,1.0,1.0,1.0,5.0,2.0,1.0,0.0,3.0,2.0,2.0,0.0,0.0,2.0,0.0,2.0,2.0,1.0,0.0,2.0,0.0,2.0,0.0,0.0,1.0,0.0,2.0,0.0,1.0,1.0,0.0,0.0,3.0,0.0,3.0,0.0,2.0,1.0,2.0,0.0,1.0,1.0,0.0,1.0,3.0,3.0,0.0,1.0,2.0,0.0,1.0,2.0,3.0,1.0,1.0,0.0,3.0,2.0,0.0,0.0,3.0,3.0,2.0,0.0,3.0,2.0,1.0,1.0,0.0,2.0,5.0,0.0,0.0,2.0,0.0,0.0,3.0,0.0,1.0,1.0,0.0,4.0,0.0,2.0,1.0,0.0,0.0,0.0,0.0,0.0,0.0,0.0,0.0,0.0,0.0,3.0,0.0,3.0,0.0,0.0,0.0,0.0,2.0,0.0,5.0,3.0,1.0,1.0,1.0,0.0,2.0,3.0,0.0,1.0,1.0,3.0,1.0,0.0,1.0,0.0,3.0,0.0,3.0,0.0,1.0,4.0,1.0,0.0,0.0,0.0,1.0,3.0,0.0,2.0,3.0,4.0,1.0,1.0,0.0,2.0,0.0,0.0,3.0,1.0,1.0,3.0,2.0,0.0,3.0,2.0,1.0,3.0,0.0,0.0,1.0,2.0,2.0,2.0,0.0,0.0,0.0,2.0,3.0,3.0,0.0,1.0,2.0,0.0,1.0,0.0,1.0,3.0,3.0,3.0,1.0,3.0,0.0,1.0,0.0,2.0,0.0,0.0,0.0,1.0,2.0,0.0,0.0,0.0,1.0,5.0,3.0,0.0,0.0,1.0,2.0,1.0,0.0,1.0,0.0,0.0,5.0,0.0,0.0,1.0,5.0,0.0,1.0,1.0,0.0,1.0,3.0,1.0,3.0,2.0,3.0,0.0,2.0,3.0,0.0,2.0,0.0,0.0,2.0,2.0,0.0,0.0,0.0,1.0,3.0,2.0,0.0,2.0,2.0,3.0,2.0,2.0,2.0,1.0,0.0,0.0,1.0,0.0,0.0,2.0,1.0,0.0,3.0,3.0,1.0,0.0,1.0,1.0,0.0,1.0,0.0,2.0,3.0,2.0,3.0,1.0,1.0,0.0,1.0,2.0,0.0,0.0,3.0,3.0,0.0,0.0,1.0,1.0,0.0,0.0,4.0,0.0,0.0,1.0,0.0,0.0,2.0,0.0,2.0,3.0,2.0,0.0,0.0,2.0,0.0,3.0,1.0,0.0,1.0,1.0,1.0,0.0,0.0,1.0,3.0,3.0,1.0,2.0,1.0,1.0,0.0,0.0,0.0,0.0,0.0,1.0,3.0,0.0,4.0,0.0,2.0,1.0,1.0,0.0,0.0,1.0,2.0,0.0,1.0,0.0,0.0,0.0,1.0,0.0,0.0,0.0,1.0,1.0,1.0,1.0,0.0,0.0,0.0,5.0,1.0,0.0,2.0,0.0,2.0,1.0,0.0,0.0,0.0,0.0,0.0,2.0,3.0,0.0,0.0,0.0,0.0,0.0,2.0,0.0,1.0,1.0,2.0,0.0,0.0,3.0,3.0,2.0,3.0,0.0,1.0,1.0,0.0,1.0,0.0,0.0,0.0,0.0,1.0,1.0,2.0,2.0,1.0,2.0,1.0,1.0,0.0,1.0,0.0,1.0,0.0,1.0,1.0,0.0,1.0,0.0,1.0,1.0,2.0,0.0,1.0,0.0,2.0,0.0,1.0,0.0,1.0,0.0,2.0,2.0,0.0,1.0,3.0,1.0,0.0,0.0,2.0,1.0,1.0,2.0,4.0,2.0,0.0,2.0,0.0,0.0,0.0,0.0,1.0,1.0,2.0,0.0,1.0,0.0,3.0,2.0,1.0,3.0,0.0,0.0,1.0,1.0,0.0,2.0,1.0,0.0,0.0,3.0,1.0,3.0,2.0,0.0,0.0,1.0,0.0,3.0,0.0,0.0,3.0,2.0,3.0,2.0,2.0,0.0,2.0,0.0,1.0,0.0,3.0,1.0,0.0,1.0,1.0,5.0,5.0,0.0,0.0,3.0,0.0,2.0,1.0,1.0,2.0,0.0,0.0,1.0,0.0,0.0,2.0,3.0,0.0,2.0,0.0,3.0,0.0,5.0,3.0,1.0,0.0,3.0,1.0,0.0,1.0,0.0,2.0,3.0,1.0,0.0,2.0,2.0,1.0,0.0,1.0,2.0,2.0,3.0,1.0,0.0,3.0,0.0,0.0,2.0,1.0,2.0,0.0,0.0,1.0,2.0,2.0,2.0,0.0,0.0,2.0,0.0,1.0,1.0,2.0,2.0,1.0,0.0,0.0,1.0,1.0,2.0,0.0,2.0,2.0,0.0,0.0,2.0,1.0,0.0,2.0,0.0,2.0,3.0,0.0,0.0,1.0,0.0,0.0,2.0,0.0,2.0,0.0,0.0,3.0,0.0,3.0,0.0,1.0,0.0,0.0,0.0,0.0,0.0,3.0,1.0,5.0,2.0,1.0,1.0,0.0,1.0,0.0,2.0,1.0,0.0,0.0,0.0,3.0,2.0,3.0,0.0,0.0,0.0,0.0,1.0,2.0,2.0,2.0,0.0,4.0,1.0,3.0,1.0,1.0,0.0,0.0,1.0,2.0,0.0,1.0,5.0,1.0,2.0,0.0,0.0,4.0,3.0,0.0,0.0,1.0,1.0,0.0,4.0,3.0,0.0,0.0,0.0,0.0,0.0,0.0,1.0,2.0,1.0,1.0,4.0,5.0,0.0,0.0,0.0,2.0,3.0,0.0,0.0,1.0,4.0,1.0,2.0,2.0,0.0,1.0,3.0,1.0,1.0,0.0,3.0,1.0,0.0,0.0,0.0,0.0,0.0,3.0,2.0,1.0,0.0,0.0,1.0,2.0,0.0,1.0,0.0,0.0,2.0,0.0,1.0,3.0,2.0,0.0,0.0,3.0,0.0,2.0,3.0,0.0,0.0,2.0,4.0,1.0,0.0,2.0,0.0,1.0,0.0,2.0,1.0,0.0,2.0,0.0,0.0,1.0,0.0,2.0,2.0,1.0,0.0,0.0,0.0,0.0,0.0,1.0,0.0,1.0,1.0,1.0,0.0,1.0,0.0,1.0,0.0,0.0,0.0,1.0,1.0,0.0,2.0,0.0,0.0,0.0,2.0,0.0,2.0,3.0,0.0,2.0,0.0,0.0,1.0,0.0,1.0,2.0,0.0,0.0,1.0,2.0,0.0,1.0,0.0,2.0,0.0,3.0,2.0,0.0,0.0,0.0,0.0,0.0,0.0,0.0,0.0,0.0,1.0,1.0,1.0,0.0,1.0,2.0,0.0,2.0,1.0,1.0,1.0,0.0,3.0,2.0,1.0,1.0,2.0,1.0,1.0,3.0,0.0,1.0,1.0,0.0,0.0,1.0,0.0,3.0,0.0,0.0,0.0,3.0,1.0,0.0,3.0,2.0,0.0,1.0,2.0,1.0,1.0,1.0,3.0,0.0,0.0,2.0,2.0,1.0,1.0,1.0,3.0,0.0,1.0,2.0,2.0,0.0,0.0,0.0,0.0,0.0,2.0,2.0,0.0,0.0,2.0,0.0,3.0,2.0,3.0,0.0,3.0,2.0,3.0,0.0,3.0,0.0,0.0,2.0,1.0,1.0,3.0,1.0,0.0,0.0,1.0,4.0,2.0,2.0,1.0,0.0,0.0,3.0]},{\"axis\":{\"matches\":true},\"label\":\"REGI\\u00c3O\",\"values\":[3.0,2.0,3.0,2.0,3.0,1.0,4.0,1.0,4.0,1.0,1.0,3.0,1.0,3.0,3.0,3.0,2.0,4.0,2.0,4.0,1.0,3.0,1.0,2.0,2.0,3.0,1.0,4.0,3.0,4.0,3.0,1.0,1.0,4.0,4.0,2.0,3.0,1.0,2.0,2.0,4.0,1.0,1.0,1.0,4.0,4.0,2.0,2.0,1.0,3.0,1.0,4.0,2.0,2.0,1.0,4.0,4.0,2.0,3.0,1.0,3.0,2.0,3.0,3.0,2.0,3.0,2.0,4.0,2.0,3.0,4.0,3.0,4.0,1.0,2.0,1.0,3.0,3.0,4.0,3.0,1.0,1.0,2.0,1.0,3.0,3.0,2.0,3.0,3.0,4.0,4.0,4.0,2.0,4.0,3.0,1.0,4.0,1.0,3.0,1.0,2.0,3.0,4.0,4.0,3.0,2.0,1.0,1.0,4.0,1.0,2.0,3.0,2.0,2.0,2.0,1.0,1.0,1.0,2.0,4.0,4.0,3.0,2.0,3.0,4.0,2.0,1.0,1.0,1.0,2.0,2.0,1.0,3.0,2.0,2.0,4.0,3.0,1.0,3.0,2.0,3.0,1.0,3.0,2.0,4.0,1.0,1.0,2.0,4.0,4.0,3.0,3.0,4.0,1.0,3.0,1.0,4.0,2.0,4.0,4.0,3.0,4.0,4.0,2.0,3.0,4.0,1.0,4.0,2.0,4.0,4.0,3.0,1.0,2.0,1.0,3.0,3.0,2.0,4.0,2.0,3.0,4.0,2.0,1.0,1.0,4.0,4.0,1.0,1.0,3.0,1.0,1.0,3.0,1.0,2.0,2.0,2.0,3.0,2.0,4.0,1.0,4.0,4.0,2.0,2.0,1.0,4.0,1.0,2.0,3.0,3.0,3.0,3.0,3.0,2.0,2.0,1.0,1.0,4.0,2.0,4.0,1.0,2.0,4.0,2.0,1.0,3.0,4.0,1.0,2.0,3.0,1.0,1.0,1.0,1.0,3.0,1.0,4.0,2.0,1.0,3.0,3.0,1.0,1.0,4.0,4.0,1.0,1.0,4.0,1.0,3.0,4.0,4.0,2.0,3.0,1.0,3.0,3.0,4.0,3.0,2.0,3.0,3.0,3.0,2.0,3.0,2.0,2.0,3.0,4.0,4.0,1.0,2.0,2.0,1.0,4.0,3.0,2.0,2.0,1.0,4.0,3.0,4.0,4.0,3.0,1.0,4.0,4.0,4.0,1.0,3.0,3.0,2.0,1.0,1.0,1.0,4.0,3.0,3.0,1.0,2.0,1.0,4.0,3.0,2.0,3.0,4.0,1.0,4.0,4.0,4.0,1.0,2.0,4.0,4.0,4.0,2.0,1.0,2.0,2.0,3.0,1.0,2.0,3.0,3.0,3.0,3.0,2.0,3.0,2.0,2.0,2.0,3.0,1.0,3.0,2.0,1.0,4.0,4.0,4.0,3.0,3.0,1.0,3.0,2.0,4.0,2.0,1.0,4.0,1.0,1.0,3.0,1.0,2.0,4.0,1.0,2.0,2.0,2.0,4.0,1.0,4.0,4.0,3.0,4.0,2.0,1.0,3.0,3.0,1.0,4.0,1.0,4.0,3.0,4.0,4.0,1.0,3.0,1.0,2.0,3.0,1.0,2.0,3.0,3.0,4.0,3.0,4.0,1.0,1.0,4.0,3.0,3.0,3.0,2.0,3.0,3.0,3.0,4.0,1.0,4.0,2.0,1.0,1.0,4.0,3.0,2.0,2.0,1.0,1.0,2.0,3.0,2.0,4.0,3.0,1.0,2.0,3.0,4.0,4.0,1.0,1.0,1.0,2.0,1.0,2.0,2.0,4.0,4.0,4.0,4.0,3.0,3.0,4.0,4.0,1.0,2.0,3.0,2.0,2.0,3.0,2.0,3.0,2.0,1.0,3.0,4.0,3.0,3.0,3.0,4.0,1.0,1.0,4.0,3.0,2.0,3.0,1.0,2.0,1.0,3.0,3.0,4.0,1.0,2.0,3.0,4.0,4.0,3.0,1.0,4.0,4.0,1.0,4.0,3.0,1.0,3.0,1.0,4.0,3.0,1.0,4.0,4.0,1.0,2.0,2.0,3.0,2.0,3.0,2.0,3.0,4.0,1.0,4.0,2.0,1.0,2.0,4.0,1.0,2.0,3.0,2.0,2.0,1.0,2.0,2.0,2.0,3.0,4.0,3.0,3.0,2.0,1.0,1.0,2.0,1.0,2.0,1.0,3.0,4.0,1.0,4.0,4.0,2.0,3.0,4.0,1.0,1.0,1.0,1.0,3.0,2.0,3.0,3.0,3.0,2.0,4.0,3.0,1.0,3.0,1.0,1.0,1.0,1.0,2.0,4.0,2.0,4.0,1.0,2.0,2.0,1.0,1.0,1.0,1.0,2.0,3.0,1.0,4.0,3.0,2.0,3.0,2.0,1.0,4.0,4.0,3.0,1.0,3.0,1.0,3.0,4.0,4.0,4.0,1.0,4.0,1.0,2.0,4.0,4.0,2.0,2.0,2.0,2.0,1.0,1.0,4.0,3.0,2.0,4.0,4.0,4.0,2.0,4.0,3.0,4.0,3.0,1.0,4.0,3.0,4.0,2.0,3.0,4.0,2.0,2.0,1.0,1.0,2.0,3.0,2.0,3.0,2.0,1.0,3.0,1.0,4.0,2.0,4.0,2.0,1.0,4.0,1.0,4.0,1.0,4.0,1.0,3.0,4.0,1.0,4.0,3.0,2.0,1.0,4.0,2.0,1.0,2.0,3.0,2.0,4.0,1.0,3.0,3.0,1.0,3.0,3.0,2.0,3.0,2.0,1.0,3.0,4.0,3.0,1.0,1.0,1.0,2.0,1.0,2.0,2.0,1.0,2.0,2.0,4.0,4.0,2.0,2.0,2.0,4.0,2.0,1.0,2.0,2.0,4.0,3.0,3.0,4.0,1.0,2.0,4.0,3.0,2.0,2.0,2.0,2.0,1.0,2.0,4.0,1.0,1.0,4.0,3.0,1.0,4.0,2.0,1.0,3.0,4.0,2.0,2.0,3.0,4.0,1.0,2.0,4.0,3.0,1.0,4.0,1.0,2.0,1.0,2.0,4.0,1.0,4.0,3.0,1.0,3.0,4.0,2.0,1.0,2.0,1.0,4.0,4.0,4.0,1.0,1.0,1.0,1.0,4.0,3.0,1.0,3.0,3.0,1.0,4.0,3.0,4.0,4.0,2.0,2.0,2.0,4.0,3.0,4.0,1.0,1.0,2.0,1.0,1.0,1.0,2.0,2.0,4.0,2.0,1.0,4.0,1.0,4.0,1.0,1.0,2.0,1.0,1.0,2.0,3.0,3.0,4.0,3.0,4.0,3.0,2.0,4.0,2.0,3.0,2.0,3.0,1.0,2.0,3.0,4.0,1.0,3.0,1.0,4.0,3.0,4.0,1.0,1.0,1.0,2.0,3.0,4.0,3.0,1.0,3.0,2.0,1.0,3.0,2.0,1.0,2.0,2.0,2.0,2.0,3.0,3.0,1.0,1.0,3.0,4.0,2.0,4.0,4.0,3.0,1.0,1.0,4.0,1.0,4.0,3.0,2.0,4.0,4.0,4.0,1.0,2.0,2.0,1.0,4.0,1.0,3.0,4.0,2.0,4.0,4.0,3.0,1.0,1.0,4.0,3.0,2.0,3.0,4.0,1.0,4.0,2.0,4.0,4.0,1.0,2.0,3.0,4.0,2.0,2.0,2.0,3.0,2.0,4.0,4.0,1.0,1.0,3.0,2.0,1.0,4.0,4.0,4.0,1.0,2.0,4.0,1.0,2.0,2.0,3.0,1.0,3.0,4.0,4.0,2.0,3.0,3.0,2.0,3.0,3.0,2.0,3.0,2.0,1.0,1.0,4.0,3.0,1.0,2.0,1.0,3.0,1.0,4.0,4.0,2.0,4.0,4.0,4.0,1.0,2.0,1.0,4.0,1.0,1.0,1.0,3.0,1.0,4.0,2.0,3.0,2.0,1.0,3.0,3.0,1.0,4.0,4.0,4.0,1.0,2.0,1.0,1.0,4.0,1.0,3.0,3.0,1.0,1.0,2.0,1.0,4.0,2.0,4.0,2.0,1.0,1.0,3.0,3.0,3.0,4.0,3.0,2.0,4.0,2.0,3.0,1.0,3.0,4.0,4.0,3.0,1.0,4.0,3.0,4.0,2.0,1.0,4.0,4.0,2.0,3.0,2.0,1.0,1.0,4.0,1.0,2.0,2.0,4.0,2.0,3.0,2.0,1.0,2.0,4.0,2.0,3.0,4.0,1.0,4.0,4.0,2.0,1.0,1.0,3.0,2.0,1.0,4.0,2.0,3.0,2.0,2.0,4.0,4.0,1.0,4.0,2.0,2.0,1.0,1.0,2.0,1.0,3.0,4.0,3.0,4.0,1.0,3.0,2.0,3.0,3.0,3.0,4.0,4.0,3.0,2.0,1.0,3.0,2.0,4.0,1.0,1.0,1.0,4.0,4.0,4.0,1.0,2.0,4.0,4.0,2.0,2.0,1.0,2.0,1.0,2.0,2.0,4.0,3.0,4.0,1.0,3.0,4.0,2.0,1.0,2.0,2.0,4.0,3.0,1.0,3.0,4.0,1.0,3.0,3.0,4.0,1.0,2.0,4.0,2.0,2.0,1.0,1.0,2.0,3.0,1.0,4.0,4.0,3.0,2.0,1.0,3.0,1.0,2.0,1.0,1.0,1.0,1.0,4.0,2.0,1.0,1.0,4.0,2.0,2.0,2.0,1.0,1.0,4.0,2.0,3.0,3.0,4.0,3.0,1.0,3.0,3.0,1.0,1.0,4.0,2.0,1.0,3.0,2.0,2.0,3.0,1.0,1.0,3.0,1.0,1.0,1.0,3.0,2.0,3.0,3.0,1.0,3.0,2.0,1.0,3.0,1.0,4.0,4.0,1.0,1.0,3.0,4.0,3.0,2.0,4.0,3.0,4.0,4.0,4.0,2.0,4.0,2.0,1.0,3.0,2.0,2.0,3.0,2.0,2.0,2.0,3.0,4.0,1.0,3.0,2.0,4.0,1.0,4.0]},{\"axis\":{\"matches\":true},\"label\":\"FACEBOOK\",\"values\":[0.0,1.0,1.0,1.0,1.0,1.0,0.0,0.0,1.0,1.0,1.0,1.0,1.0,1.0,1.0,1.0,1.0,1.0,1.0,1.0,1.0,1.0,0.0,1.0,1.0,0.0,1.0,0.0,1.0,1.0,0.0,0.0,0.0,1.0,0.0,1.0,1.0,0.0,0.0,1.0,1.0,0.0,1.0,1.0,0.0,1.0,0.0,1.0,0.0,1.0,1.0,0.0,1.0,1.0,1.0,0.0,0.0,1.0,1.0,1.0,1.0,1.0,1.0,0.0,1.0,0.0,1.0,1.0,1.0,1.0,1.0,0.0,1.0,0.0,1.0,1.0,1.0,0.0,1.0,1.0,1.0,1.0,1.0,1.0,1.0,1.0,1.0,0.0,1.0,1.0,1.0,0.0,1.0,1.0,1.0,1.0,1.0,0.0,1.0,1.0,0.0,1.0,1.0,0.0,1.0,1.0,0.0,1.0,1.0,0.0,1.0,0.0,1.0,1.0,1.0,1.0,1.0,0.0,0.0,1.0,1.0,0.0,0.0,1.0,1.0,1.0,1.0,0.0,0.0,0.0,1.0,1.0,1.0,0.0,1.0,1.0,0.0,1.0,1.0,1.0,1.0,1.0,1.0,1.0,1.0,0.0,1.0,1.0,1.0,1.0,0.0,1.0,0.0,1.0,1.0,0.0,1.0,1.0,1.0,0.0,1.0,1.0,1.0,1.0,1.0,1.0,1.0,1.0,1.0,1.0,1.0,1.0,0.0,0.0,1.0,1.0,1.0,1.0,0.0,1.0,1.0,0.0,1.0,1.0,1.0,0.0,0.0,0.0,0.0,1.0,1.0,1.0,1.0,1.0,1.0,1.0,1.0,1.0,1.0,1.0,1.0,0.0,1.0,1.0,1.0,1.0,0.0,1.0,0.0,0.0,1.0,0.0,0.0,1.0,1.0,1.0,1.0,1.0,1.0,1.0,1.0,0.0,0.0,0.0,1.0,0.0,0.0,1.0,1.0,1.0,1.0,1.0,0.0,1.0,1.0,1.0,1.0,0.0,1.0,1.0,1.0,0.0,1.0,1.0,1.0,1.0,1.0,1.0,0.0,0.0,0.0,1.0,0.0,1.0,1.0,1.0,0.0,0.0,1.0,1.0,1.0,1.0,1.0,1.0,1.0,0.0,1.0,0.0,0.0,1.0,1.0,0.0,1.0,1.0,1.0,0.0,1.0,0.0,1.0,1.0,1.0,1.0,1.0,1.0,1.0,1.0,0.0,0.0,1.0,1.0,1.0,1.0,0.0,1.0,1.0,1.0,0.0,1.0,1.0,1.0,0.0,1.0,0.0,1.0,1.0,1.0,1.0,0.0,1.0,0.0,1.0,1.0,1.0,1.0,0.0,0.0,1.0,1.0,0.0,0.0,0.0,0.0,1.0,1.0,1.0,1.0,1.0,1.0,0.0,1.0,1.0,1.0,1.0,0.0,1.0,1.0,0.0,0.0,0.0,1.0,0.0,0.0,1.0,1.0,1.0,1.0,1.0,0.0,1.0,0.0,1.0,0.0,0.0,0.0,0.0,1.0,1.0,1.0,1.0,0.0,1.0,1.0,1.0,1.0,1.0,0.0,1.0,0.0,1.0,1.0,1.0,1.0,1.0,0.0,1.0,1.0,0.0,0.0,1.0,1.0,1.0,1.0,1.0,0.0,0.0,1.0,1.0,1.0,1.0,1.0,1.0,1.0,0.0,1.0,0.0,1.0,1.0,1.0,1.0,1.0,0.0,1.0,0.0,0.0,0.0,0.0,1.0,1.0,0.0,1.0,0.0,1.0,1.0,1.0,1.0,1.0,0.0,0.0,1.0,1.0,1.0,1.0,0.0,0.0,1.0,0.0,0.0,1.0,1.0,0.0,1.0,1.0,1.0,0.0,0.0,0.0,1.0,1.0,1.0,1.0,1.0,0.0,1.0,1.0,1.0,0.0,1.0,1.0,0.0,0.0,1.0,0.0,1.0,1.0,0.0,1.0,1.0,1.0,1.0,0.0,1.0,1.0,0.0,1.0,0.0,1.0,1.0,0.0,1.0,0.0,0.0,0.0,1.0,1.0,1.0,1.0,1.0,1.0,0.0,1.0,1.0,1.0,1.0,1.0,0.0,1.0,0.0,1.0,1.0,1.0,0.0,1.0,1.0,1.0,1.0,1.0,1.0,1.0,0.0,1.0,0.0,0.0,1.0,0.0,1.0,0.0,1.0,1.0,1.0,1.0,1.0,1.0,1.0,1.0,0.0,0.0,1.0,1.0,1.0,0.0,0.0,1.0,1.0,1.0,1.0,1.0,1.0,1.0,1.0,1.0,1.0,0.0,0.0,1.0,1.0,1.0,1.0,0.0,0.0,0.0,0.0,1.0,1.0,0.0,1.0,0.0,1.0,1.0,1.0,0.0,0.0,1.0,1.0,1.0,0.0,0.0,1.0,1.0,0.0,1.0,1.0,1.0,1.0,1.0,0.0,1.0,1.0,1.0,1.0,1.0,1.0,0.0,0.0,1.0,1.0,1.0,0.0,1.0,0.0,1.0,1.0,0.0,1.0,0.0,1.0,0.0,1.0,1.0,1.0,1.0,0.0,1.0,1.0,1.0,1.0,1.0,0.0,1.0,1.0,1.0,0.0,1.0,1.0,1.0,0.0,1.0,1.0,0.0,1.0,1.0,1.0,0.0,1.0,0.0,1.0,1.0,1.0,1.0,1.0,0.0,1.0,1.0,1.0,1.0,1.0,0.0,1.0,1.0,1.0,1.0,1.0,1.0,1.0,0.0,0.0,0.0,1.0,1.0,1.0,1.0,0.0,1.0,1.0,1.0,1.0,1.0,1.0,1.0,1.0,0.0,0.0,0.0,1.0,0.0,0.0,1.0,0.0,0.0,1.0,1.0,1.0,1.0,1.0,1.0,1.0,1.0,1.0,1.0,1.0,1.0,1.0,1.0,1.0,0.0,1.0,0.0,1.0,1.0,0.0,0.0,0.0,1.0,0.0,1.0,1.0,1.0,1.0,1.0,1.0,0.0,0.0,1.0,0.0,0.0,1.0,1.0,0.0,0.0,0.0,0.0,1.0,1.0,0.0,1.0,1.0,1.0,1.0,1.0,1.0,1.0,1.0,0.0,0.0,1.0,1.0,1.0,0.0,0.0,1.0,0.0,1.0,1.0,0.0,1.0,1.0,1.0,1.0,1.0,0.0,1.0,1.0,1.0,1.0,0.0,1.0,0.0,1.0,1.0,0.0,0.0,1.0,1.0,1.0,0.0,1.0,1.0,1.0,0.0,0.0,1.0,1.0,1.0,1.0,0.0,0.0,0.0,1.0,1.0,1.0,0.0,1.0,1.0,1.0,0.0,0.0,0.0,1.0,1.0,1.0,1.0,1.0,1.0,0.0,1.0,1.0,0.0,1.0,0.0,1.0,0.0,1.0,0.0,1.0,1.0,0.0,1.0,1.0,1.0,0.0,0.0,1.0,0.0,1.0,0.0,1.0,0.0,1.0,1.0,1.0,1.0,1.0,1.0,0.0,1.0,0.0,1.0,1.0,1.0,0.0,1.0,1.0,0.0,0.0,0.0,0.0,1.0,0.0,1.0,1.0,0.0,1.0,0.0,1.0,1.0,0.0,1.0,1.0,1.0,1.0,1.0,1.0,1.0,1.0,1.0,1.0,1.0,0.0,0.0,0.0,1.0,1.0,0.0,1.0,1.0,1.0,1.0,1.0,1.0,1.0,0.0,1.0,1.0,0.0,1.0,1.0,1.0,1.0,0.0,0.0,1.0,1.0,0.0,1.0,1.0,0.0,0.0,1.0,0.0,1.0,1.0,1.0,1.0,1.0,1.0,1.0,1.0,1.0,0.0,0.0,1.0,1.0,1.0,1.0,1.0,1.0,0.0,1.0,0.0,1.0,1.0,1.0,1.0,1.0,0.0,1.0,1.0,0.0,0.0,0.0,1.0,0.0,1.0,1.0,1.0,1.0,1.0,0.0,1.0,1.0,1.0,1.0,1.0,1.0,0.0,1.0,0.0,0.0,1.0,1.0,1.0,1.0,0.0,0.0,1.0,1.0,1.0,1.0,1.0,1.0,1.0,0.0,1.0,1.0,1.0,0.0,1.0,1.0,0.0,1.0,1.0,1.0,1.0,1.0,0.0,0.0,1.0,1.0,0.0,1.0,0.0,0.0,1.0,0.0,0.0,1.0,1.0,1.0,1.0,0.0,1.0,1.0,1.0,1.0,1.0,0.0,0.0,1.0,1.0,1.0,1.0,1.0,1.0,1.0,0.0,1.0,1.0,1.0,1.0,1.0,0.0,0.0,0.0,0.0,0.0,0.0,1.0,1.0,0.0,1.0,1.0,1.0,0.0,1.0,1.0,1.0,1.0,0.0,0.0,1.0,1.0,0.0,1.0,1.0,0.0,1.0,0.0,0.0,0.0,1.0,1.0,1.0,1.0,0.0,1.0,1.0,1.0,1.0,1.0,1.0,1.0,1.0,1.0,1.0,0.0,0.0,0.0,1.0,1.0,1.0,1.0,1.0,0.0,0.0,0.0,0.0,0.0,1.0,0.0,1.0,1.0,0.0,0.0,1.0,1.0,0.0,1.0,1.0,1.0,0.0,0.0,0.0,1.0,1.0,1.0,1.0,1.0,1.0,1.0,1.0,0.0,1.0,1.0,1.0,1.0,1.0,0.0,1.0,0.0,1.0,1.0,0.0,1.0,1.0,0.0,1.0,1.0,0.0,1.0,1.0,0.0,1.0,1.0,1.0,1.0,1.0,1.0,0.0,1.0,1.0,0.0,0.0,0.0,1.0,0.0,1.0,1.0,1.0,0.0,0.0,1.0,1.0,1.0,1.0,1.0,0.0,0.0,1.0,1.0,0.0,1.0,1.0,0.0,1.0,0.0,0.0,1.0,1.0,1.0,1.0,0.0,1.0,1.0,1.0,1.0,1.0,0.0,1.0,1.0,1.0,1.0,0.0,1.0,1.0,1.0,1.0,0.0,0.0,1.0,1.0,1.0,1.0,1.0,1.0,1.0,1.0,0.0,0.0,0.0,0.0,1.0,0.0,0.0,1.0,1.0,1.0,1.0,0.0,1.0,1.0,0.0]},{\"axis\":{\"matches\":true},\"label\":\"CLASSE\",\"values\":[7.0,2.0,7.0,6.0,4.0,2.0,9.0,3.0,2.0,6.0,5.0,10.0,7.0,9.0,5.0,8.0,8.0,4.0,8.0,1.0,3.0,1.0,7.0,2.0,5.0,5.0,6.0,7.0,1.0,7.0,1.0,3.0,4.0,9.0,3.0,4.0,6.0,8.0,3.0,7.0,6.0,9.0,3.0,4.0,5.0,4.0,8.0,2.0,4.0,7.0,7.0,9.0,7.0,7.0,2.0,1.0,7.0,2.0,5.0,1.0,4.0,1.0,5.0,6.0,10.0,10.0,7.0,9.0,1.0,2.0,8.0,8.0,9.0,10.0,2.0,3.0,10.0,4.0,7.0,9.0,2.0,10.0,1.0,8.0,10.0,6.0,8.0,1.0,5.0,1.0,9.0,2.0,3.0,8.0,10.0,8.0,9.0,6.0,2.0,4.0,7.0,8.0,2.0,1.0,6.0,8.0,8.0,9.0,3.0,6.0,9.0,6.0,1.0,8.0,5.0,7.0,7.0,9.0,9.0,7.0,6.0,6.0,7.0,3.0,1.0,2.0,9.0,1.0,9.0,3.0,8.0,10.0,3.0,2.0,4.0,3.0,2.0,5.0,9.0,1.0,6.0,1.0,10.0,2.0,6.0,7.0,7.0,5.0,3.0,10.0,2.0,7.0,10.0,1.0,8.0,1.0,2.0,2.0,4.0,10.0,2.0,9.0,10.0,2.0,7.0,6.0,5.0,3.0,6.0,4.0,2.0,7.0,1.0,5.0,5.0,7.0,5.0,7.0,8.0,9.0,9.0,1.0,9.0,9.0,7.0,6.0,2.0,1.0,6.0,3.0,7.0,10.0,7.0,5.0,10.0,8.0,5.0,1.0,8.0,2.0,3.0,6.0,10.0,6.0,6.0,10.0,8.0,7.0,7.0,8.0,10.0,7.0,4.0,4.0,8.0,10.0,10.0,7.0,5.0,10.0,7.0,3.0,6.0,3.0,7.0,4.0,3.0,5.0,3.0,2.0,1.0,5.0,2.0,9.0,10.0,1.0,10.0,3.0,9.0,4.0,1.0,10.0,6.0,5.0,4.0,6.0,1.0,10.0,10.0,5.0,8.0,7.0,1.0,3.0,5.0,10.0,1.0,7.0,3.0,6.0,7.0,2.0,3.0,3.0,3.0,4.0,5.0,3.0,9.0,2.0,6.0,6.0,8.0,2.0,9.0,2.0,3.0,2.0,4.0,1.0,9.0,2.0,1.0,8.0,9.0,8.0,4.0,8.0,5.0,2.0,10.0,8.0,9.0,7.0,9.0,1.0,4.0,8.0,4.0,1.0,6.0,9.0,1.0,8.0,7.0,3.0,1.0,7.0,9.0,10.0,9.0,1.0,9.0,3.0,10.0,8.0,8.0,4.0,8.0,8.0,1.0,8.0,2.0,7.0,4.0,3.0,6.0,4.0,1.0,2.0,2.0,8.0,9.0,8.0,6.0,1.0,3.0,8.0,6.0,2.0,4.0,4.0,10.0,5.0,5.0,1.0,7.0,3.0,7.0,2.0,10.0,4.0,4.0,1.0,2.0,9.0,2.0,8.0,5.0,1.0,6.0,8.0,10.0,5.0,5.0,5.0,4.0,9.0,6.0,10.0,3.0,1.0,5.0,1.0,5.0,2.0,9.0,6.0,4.0,9.0,7.0,8.0,9.0,1.0,10.0,7.0,2.0,2.0,4.0,1.0,7.0,2.0,1.0,3.0,7.0,7.0,5.0,3.0,8.0,7.0,2.0,5.0,3.0,10.0,2.0,8.0,2.0,4.0,7.0,5.0,6.0,5.0,6.0,4.0,1.0,6.0,2.0,1.0,5.0,7.0,8.0,6.0,2.0,7.0,7.0,5.0,8.0,7.0,7.0,3.0,8.0,6.0,10.0,7.0,1.0,5.0,9.0,2.0,9.0,9.0,1.0,1.0,3.0,1.0,2.0,8.0,5.0,2.0,3.0,8.0,10.0,8.0,3.0,3.0,7.0,5.0,2.0,7.0,10.0,5.0,10.0,5.0,10.0,2.0,3.0,4.0,6.0,10.0,6.0,9.0,5.0,8.0,9.0,5.0,3.0,6.0,1.0,9.0,8.0,6.0,4.0,1.0,2.0,5.0,7.0,9.0,10.0,2.0,5.0,4.0,3.0,10.0,6.0,1.0,7.0,3.0,6.0,2.0,8.0,1.0,7.0,8.0,9.0,1.0,8.0,4.0,3.0,5.0,2.0,2.0,5.0,10.0,10.0,8.0,10.0,5.0,3.0,8.0,3.0,7.0,3.0,3.0,5.0,7.0,10.0,4.0,5.0,6.0,7.0,5.0,1.0,2.0,2.0,9.0,5.0,3.0,1.0,7.0,8.0,4.0,1.0,9.0,2.0,4.0,7.0,4.0,2.0,9.0,7.0,8.0,10.0,7.0,8.0,2.0,7.0,1.0,10.0,6.0,2.0,3.0,4.0,3.0,7.0,6.0,4.0,1.0,4.0,3.0,8.0,9.0,1.0,8.0,8.0,8.0,5.0,10.0,3.0,1.0,2.0,6.0,6.0,9.0,1.0,4.0,8.0,8.0,9.0,6.0,5.0,4.0,2.0,2.0,1.0,2.0,10.0,1.0,10.0,4.0,6.0,7.0,4.0,10.0,8.0,6.0,8.0,7.0,6.0,2.0,6.0,7.0,1.0,7.0,1.0,1.0,10.0,4.0,5.0,1.0,8.0,1.0,2.0,4.0,7.0,4.0,2.0,9.0,4.0,9.0,9.0,2.0,1.0,4.0,1.0,3.0,4.0,1.0,3.0,5.0,7.0,7.0,8.0,3.0,8.0,5.0,1.0,10.0,1.0,6.0,5.0,1.0,9.0,9.0,3.0,9.0,1.0,5.0,6.0,4.0,2.0,1.0,4.0,7.0,8.0,8.0,7.0,1.0,8.0,5.0,7.0,3.0,1.0,1.0,5.0,4.0,6.0,10.0,3.0,2.0,4.0,10.0,5.0,2.0,7.0,4.0,7.0,6.0,3.0,6.0,1.0,6.0,9.0,9.0,8.0,3.0,8.0,3.0,5.0,7.0,5.0,8.0,6.0,8.0,7.0,6.0,4.0,8.0,8.0,5.0,7.0,8.0,3.0,8.0,9.0,4.0,6.0,3.0,5.0,1.0,8.0,1.0,8.0,2.0,2.0,7.0,9.0,4.0,5.0,2.0,8.0,7.0,4.0,5.0,6.0,3.0,3.0,4.0,4.0,7.0,6.0,10.0,1.0,1.0,1.0,6.0,5.0,6.0,6.0,3.0,5.0,8.0,2.0,4.0,10.0,3.0,5.0,3.0,3.0,2.0,2.0,8.0,6.0,1.0,2.0,9.0,10.0,2.0,7.0,9.0,6.0,8.0,9.0,9.0,1.0,6.0,6.0,2.0,2.0,9.0,7.0,9.0,2.0,5.0,10.0,3.0,1.0,4.0,6.0,10.0,9.0,1.0,8.0,8.0,3.0,6.0,9.0,5.0,9.0,4.0,3.0,5.0,10.0,5.0,5.0,2.0,1.0,6.0,5.0,9.0,3.0,6.0,1.0,9.0,2.0,9.0,10.0,5.0,7.0,3.0,2.0,8.0,7.0,5.0,1.0,2.0,3.0,8.0,9.0,7.0,10.0,1.0,3.0,4.0,4.0,2.0,8.0,2.0,4.0,5.0,9.0,5.0,2.0,10.0,4.0,2.0,8.0,6.0,6.0,7.0,4.0,6.0,5.0,5.0,5.0,10.0,3.0,10.0,5.0,2.0,8.0,5.0,10.0,1.0,10.0,8.0,10.0,10.0,5.0,9.0,6.0,4.0,5.0,9.0,10.0,5.0,1.0,2.0,4.0,9.0,7.0,5.0,6.0,7.0,6.0,1.0,2.0,3.0,1.0,1.0,7.0,9.0,10.0,4.0,4.0,6.0,9.0,2.0,5.0,4.0,9.0,7.0,5.0,2.0,5.0,6.0,4.0,9.0,10.0,2.0,4.0,4.0,6.0,7.0,5.0,8.0,3.0,10.0,4.0,8.0,8.0,5.0,8.0,9.0,4.0,10.0,8.0,4.0,9.0,4.0,5.0,9.0,9.0,4.0,6.0,1.0,5.0,3.0,2.0,5.0,9.0,10.0,10.0,3.0,5.0,6.0,2.0,7.0,1.0,1.0,6.0,8.0,7.0,9.0,6.0,8.0,9.0,5.0,8.0,2.0,3.0,3.0,9.0,7.0,2.0,4.0,3.0,3.0,4.0,9.0,7.0,1.0,5.0,6.0,2.0,5.0,9.0,10.0,1.0,10.0,1.0,10.0,5.0,6.0,2.0,3.0,6.0,7.0,1.0,2.0,8.0,6.0,5.0,1.0,4.0,9.0,6.0,4.0,5.0,7.0,4.0,6.0,8.0,8.0,8.0,4.0,7.0,7.0,4.0,3.0,1.0,6.0,6.0,6.0,3.0,9.0,2.0,3.0,4.0,7.0,2.0,1.0,2.0,4.0,2.0,4.0,1.0,7.0,8.0,10.0,9.0,4.0,5.0,7.0,9.0,4.0,6.0,7.0,1.0,2.0,5.0,10.0,5.0,10.0,8.0,9.0,3.0,10.0,1.0,4.0,2.0,4.0,9.0,4.0,5.0,5.0,6.0,10.0,2.0,7.0,2.0,3.0,7.0,6.0,9.0,7.0,4.0,1.0,5.0,4.0,7.0,5.0,5.0,5.0,1.0,8.0,5.0,5.0,10.0,8.0,10.0,4.0,5.0,2.0,5.0,4.0,2.0,10.0,1.0,10.0,10.0,5.0,2.0,7.0,5.0,9.0,9.0,1.0,4.0,2.0,4.0,4.0,1.0,7.0,6.0,8.0,8.0,1.0,9.0,9.0,6.0,10.0,3.0,3.0,1.0,10.0,8.0,5.0,6.0,3.0,3.0,7.0,7.0,5.0,2.0,6.0,6.0,4.0,6.0,9.0,3.0,9.0,10.0,10.0,2.0,8.0,9.0,8.0,9.0,7.0,5.0,9.0,3.0,3.0,5.0,7.0,1.0,4.0,1.0,9.0,6.0,8.0,1.0,5.0,6.0,6.0,8.0,7.0,10.0,5.0,10.0,1.0]}],\"hovertemplate\":\"%{xaxis.title.text}=%{x}<br>%{yaxis.title.text}=%{y}<br>FUMANTE=%{marker.color}<extra></extra>\",\"legendgroup\":\"\",\"marker\":{\"color\":[0.0,0.0,0.0,1.0,0.0,0.0,0.0,1.0,0.0,0.0,1.0,0.0,0.0,1.0,0.0,0.0,1.0,1.0,0.0,0.0,0.0,0.0,1.0,0.0,0.0,0.0,0.0,0.0,0.0,0.0,0.0,0.0,0.0,1.0,0.0,0.0,0.0,0.0,0.0,0.0,0.0,0.0,0.0,1.0,0.0,0.0,0.0,0.0,0.0,0.0,0.0,0.0,1.0,1.0,0.0,0.0,0.0,0.0,1.0,0.0,0.0,0.0,0.0,0.0,1.0,0.0,0.0,0.0,0.0,0.0,0.0,0.0,1.0,0.0,0.0,1.0,0.0,0.0,1.0,1.0,0.0,0.0,1.0,1.0,0.0,1.0,0.0,1.0,1.0,0.0,0.0,0.0,0.0,0.0,0.0,0.0,1.0,0.0,1.0,1.0,0.0,0.0,0.0,0.0,0.0,0.0,0.0,0.0,1.0,0.0,1.0,0.0,0.0,0.0,0.0,0.0,0.0,0.0,0.0,0.0,0.0,0.0,0.0,1.0,0.0,1.0,0.0,0.0,0.0,1.0,1.0,1.0,1.0,0.0,0.0,0.0,0.0,0.0,1.0,0.0,0.0,0.0,0.0,0.0,0.0,1.0,1.0,0.0,0.0,0.0,0.0,0.0,0.0,0.0,1.0,1.0,0.0,1.0,0.0,0.0,0.0,0.0,1.0,0.0,0.0,0.0,1.0,0.0,0.0,0.0,1.0,0.0,0.0,0.0,0.0,0.0,0.0,0.0,0.0,0.0,0.0,0.0,0.0,1.0,0.0,0.0,1.0,0.0,0.0,0.0,0.0,1.0,0.0,1.0,0.0,0.0,1.0,0.0,0.0,0.0,1.0,1.0,0.0,0.0,0.0,1.0,0.0,0.0,0.0,0.0,0.0,1.0,0.0,0.0,1.0,1.0,0.0,0.0,0.0,0.0,0.0,0.0,0.0,0.0,0.0,0.0,0.0,0.0,0.0,0.0,1.0,0.0,0.0,0.0,0.0,0.0,0.0,0.0,0.0,0.0,0.0,0.0,0.0,0.0,0.0,0.0,0.0,0.0,0.0,1.0,0.0,1.0,1.0,0.0,1.0,0.0,0.0,0.0,0.0,0.0,1.0,0.0,0.0,0.0,0.0,0.0,0.0,0.0,0.0,0.0,1.0,0.0,0.0,0.0,1.0,0.0,0.0,0.0,1.0,0.0,0.0,0.0,1.0,0.0,0.0,0.0,0.0,0.0,0.0,0.0,0.0,0.0,0.0,0.0,0.0,0.0,1.0,0.0,0.0,0.0,0.0,0.0,0.0,1.0,0.0,1.0,0.0,0.0,0.0,0.0,0.0,0.0,0.0,0.0,0.0,0.0,0.0,0.0,0.0,0.0,1.0,0.0,0.0,1.0,0.0,1.0,0.0,0.0,0.0,0.0,0.0,0.0,1.0,0.0,0.0,0.0,0.0,0.0,0.0,0.0,0.0,0.0,0.0,1.0,0.0,0.0,1.0,0.0,0.0,0.0,0.0,0.0,1.0,0.0,0.0,0.0,0.0,0.0,0.0,0.0,0.0,0.0,0.0,0.0,1.0,1.0,0.0,0.0,0.0,1.0,0.0,1.0,0.0,0.0,0.0,0.0,1.0,0.0,0.0,0.0,1.0,0.0,1.0,0.0,0.0,0.0,0.0,0.0,0.0,0.0,0.0,0.0,0.0,0.0,0.0,0.0,0.0,0.0,0.0,0.0,1.0,0.0,0.0,1.0,0.0,0.0,0.0,1.0,0.0,1.0,0.0,1.0,0.0,0.0,0.0,0.0,1.0,0.0,0.0,1.0,0.0,1.0,0.0,0.0,0.0,0.0,0.0,0.0,0.0,0.0,0.0,0.0,0.0,1.0,0.0,0.0,1.0,0.0,0.0,0.0,0.0,0.0,0.0,1.0,0.0,0.0,0.0,1.0,0.0,0.0,0.0,0.0,0.0,0.0,0.0,0.0,1.0,1.0,0.0,0.0,1.0,0.0,1.0,0.0,0.0,0.0,0.0,1.0,0.0,0.0,0.0,0.0,1.0,1.0,0.0,1.0,0.0,0.0,1.0,0.0,0.0,0.0,0.0,1.0,0.0,0.0,0.0,0.0,0.0,0.0,0.0,0.0,0.0,0.0,0.0,1.0,0.0,1.0,0.0,0.0,0.0,0.0,0.0,0.0,1.0,0.0,0.0,0.0,0.0,0.0,0.0,0.0,0.0,0.0,0.0,0.0,0.0,1.0,0.0,0.0,1.0,0.0,0.0,0.0,0.0,0.0,0.0,0.0,0.0,1.0,0.0,0.0,0.0,0.0,0.0,0.0,0.0,1.0,1.0,0.0,0.0,0.0,0.0,0.0,0.0,0.0,0.0,1.0,0.0,0.0,0.0,0.0,1.0,0.0,0.0,1.0,0.0,0.0,0.0,0.0,0.0,1.0,0.0,1.0,1.0,0.0,0.0,0.0,0.0,0.0,0.0,0.0,0.0,0.0,0.0,0.0,1.0,0.0,0.0,0.0,0.0,0.0,0.0,0.0,0.0,0.0,0.0,1.0,0.0,0.0,0.0,0.0,0.0,0.0,0.0,0.0,0.0,0.0,0.0,0.0,0.0,0.0,0.0,0.0,0.0,0.0,0.0,0.0,0.0,0.0,1.0,1.0,0.0,0.0,0.0,0.0,0.0,0.0,1.0,0.0,1.0,0.0,0.0,0.0,0.0,0.0,0.0,0.0,0.0,1.0,1.0,0.0,1.0,1.0,0.0,0.0,0.0,1.0,0.0,0.0,0.0,0.0,0.0,1.0,0.0,0.0,1.0,0.0,0.0,1.0,0.0,0.0,0.0,0.0,0.0,1.0,1.0,0.0,0.0,1.0,0.0,0.0,0.0,1.0,0.0,0.0,0.0,0.0,0.0,0.0,0.0,0.0,0.0,0.0,0.0,0.0,0.0,1.0,0.0,0.0,0.0,0.0,0.0,1.0,1.0,0.0,0.0,1.0,0.0,0.0,1.0,1.0,0.0,0.0,0.0,0.0,0.0,1.0,0.0,1.0,0.0,1.0,0.0,0.0,0.0,0.0,0.0,0.0,0.0,0.0,0.0,0.0,0.0,0.0,0.0,0.0,0.0,1.0,0.0,0.0,0.0,0.0,0.0,0.0,0.0,0.0,0.0,0.0,1.0,0.0,1.0,0.0,0.0,0.0,0.0,0.0,0.0,0.0,0.0,1.0,0.0,0.0,0.0,1.0,1.0,0.0,0.0,1.0,0.0,0.0,1.0,0.0,0.0,0.0,1.0,0.0,0.0,0.0,0.0,0.0,0.0,0.0,0.0,1.0,0.0,0.0,1.0,0.0,0.0,0.0,1.0,0.0,0.0,1.0,0.0,0.0,0.0,0.0,0.0,0.0,0.0,0.0,0.0,1.0,1.0,0.0,0.0,1.0,0.0,1.0,0.0,0.0,1.0,0.0,1.0,0.0,0.0,0.0,1.0,1.0,0.0,0.0,0.0,0.0,1.0,0.0,0.0,0.0,0.0,1.0,0.0,0.0,0.0,0.0,0.0,0.0,0.0,1.0,0.0,0.0,0.0,1.0,1.0,0.0,0.0,0.0,0.0,1.0,0.0,0.0,0.0,0.0,0.0,0.0,0.0,0.0,0.0,1.0,0.0,0.0,1.0,0.0,0.0,1.0,0.0,1.0,0.0,0.0,0.0,0.0,0.0,1.0,0.0,0.0,0.0,0.0,0.0,0.0,0.0,0.0,1.0,1.0,0.0,0.0,0.0,0.0,0.0,0.0,0.0,0.0,0.0,0.0,0.0,1.0,0.0,0.0,0.0,1.0,0.0,0.0,0.0,0.0,1.0,0.0,0.0,0.0,0.0,0.0,0.0,0.0,0.0,0.0,0.0,0.0,0.0,0.0,1.0,0.0,0.0,0.0,0.0,0.0,0.0,0.0,0.0,0.0,0.0,0.0,0.0,0.0,0.0,1.0,0.0,0.0,0.0,0.0,0.0,1.0,0.0,0.0,0.0,1.0,0.0,0.0,0.0,1.0,1.0,0.0,0.0,0.0,0.0,0.0,0.0,0.0,1.0,0.0,0.0,0.0,0.0,0.0,0.0,0.0,0.0,0.0,0.0,0.0,0.0,0.0,0.0,0.0,1.0,1.0,0.0,0.0,0.0,0.0,0.0,0.0,1.0,0.0,0.0,0.0,1.0,0.0,0.0,1.0,0.0,0.0,0.0,0.0,1.0,0.0,0.0,0.0,0.0,1.0,1.0,0.0,1.0,0.0,0.0,1.0,0.0,0.0,0.0,0.0,0.0,1.0,0.0,0.0,0.0,0.0,0.0,0.0,0.0,0.0,0.0,1.0,0.0,0.0,0.0,0.0,0.0,0.0,0.0,0.0,0.0,0.0,0.0,0.0,0.0,1.0,0.0,0.0,1.0,0.0,0.0,0.0,0.0,0.0,0.0,1.0,0.0,0.0,0.0,1.0,0.0,0.0,0.0,0.0,0.0,0.0,0.0,0.0,1.0,0.0,1.0,0.0,0.0,1.0,0.0,0.0,0.0,0.0,0.0,0.0,0.0,0.0,0.0,0.0,1.0,0.0,1.0,0.0,0.0,0.0,1.0,0.0,1.0,0.0,0.0,0.0,1.0,0.0,1.0,0.0,0.0,1.0,0.0,0.0,0.0,0.0,0.0,0.0,0.0,0.0,0.0,1.0,0.0,0.0,0.0,0.0,0.0,0.0,0.0,0.0,1.0,0.0,0.0,0.0,0.0,0.0,0.0,0.0,0.0,1.0,1.0,0.0,0.0,0.0,1.0,1.0,1.0,0.0,0.0,0.0,1.0,0.0,0.0,0.0,0.0,0.0,0.0,1.0,0.0,0.0,0.0,0.0,0.0,1.0,0.0,0.0,0.0,0.0,0.0,0.0,0.0,0.0,0.0,0.0,0.0,0.0,1.0,1.0,0.0,0.0,1.0,0.0,1.0,0.0,0.0,0.0,0.0,0.0,0.0,0.0,0.0,0.0,0.0,0.0,0.0,0.0,0.0,0.0,0.0,0.0,1.0,0.0,1.0,0.0],\"coloraxis\":\"coloraxis\",\"symbol\":\"circle\"},\"name\":\"\",\"showlegend\":false,\"type\":\"splom\"}],                        {\"template\":{\"data\":{\"bar\":[{\"error_x\":{\"color\":\"#2a3f5f\"},\"error_y\":{\"color\":\"#2a3f5f\"},\"marker\":{\"line\":{\"color\":\"#E5ECF6\",\"width\":0.5},\"pattern\":{\"fillmode\":\"overlay\",\"size\":10,\"solidity\":0.2}},\"type\":\"bar\"}],\"barpolar\":[{\"marker\":{\"line\":{\"color\":\"#E5ECF6\",\"width\":0.5},\"pattern\":{\"fillmode\":\"overlay\",\"size\":10,\"solidity\":0.2}},\"type\":\"barpolar\"}],\"carpet\":[{\"aaxis\":{\"endlinecolor\":\"#2a3f5f\",\"gridcolor\":\"white\",\"linecolor\":\"white\",\"minorgridcolor\":\"white\",\"startlinecolor\":\"#2a3f5f\"},\"baxis\":{\"endlinecolor\":\"#2a3f5f\",\"gridcolor\":\"white\",\"linecolor\":\"white\",\"minorgridcolor\":\"white\",\"startlinecolor\":\"#2a3f5f\"},\"type\":\"carpet\"}],\"choropleth\":[{\"colorbar\":{\"outlinewidth\":0,\"ticks\":\"\"},\"type\":\"choropleth\"}],\"contour\":[{\"colorbar\":{\"outlinewidth\":0,\"ticks\":\"\"},\"colorscale\":[[0.0,\"#0d0887\"],[0.1111111111111111,\"#46039f\"],[0.2222222222222222,\"#7201a8\"],[0.3333333333333333,\"#9c179e\"],[0.4444444444444444,\"#bd3786\"],[0.5555555555555556,\"#d8576b\"],[0.6666666666666666,\"#ed7953\"],[0.7777777777777778,\"#fb9f3a\"],[0.8888888888888888,\"#fdca26\"],[1.0,\"#f0f921\"]],\"type\":\"contour\"}],\"contourcarpet\":[{\"colorbar\":{\"outlinewidth\":0,\"ticks\":\"\"},\"type\":\"contourcarpet\"}],\"heatmap\":[{\"colorbar\":{\"outlinewidth\":0,\"ticks\":\"\"},\"colorscale\":[[0.0,\"#0d0887\"],[0.1111111111111111,\"#46039f\"],[0.2222222222222222,\"#7201a8\"],[0.3333333333333333,\"#9c179e\"],[0.4444444444444444,\"#bd3786\"],[0.5555555555555556,\"#d8576b\"],[0.6666666666666666,\"#ed7953\"],[0.7777777777777778,\"#fb9f3a\"],[0.8888888888888888,\"#fdca26\"],[1.0,\"#f0f921\"]],\"type\":\"heatmap\"}],\"heatmapgl\":[{\"colorbar\":{\"outlinewidth\":0,\"ticks\":\"\"},\"colorscale\":[[0.0,\"#0d0887\"],[0.1111111111111111,\"#46039f\"],[0.2222222222222222,\"#7201a8\"],[0.3333333333333333,\"#9c179e\"],[0.4444444444444444,\"#bd3786\"],[0.5555555555555556,\"#d8576b\"],[0.6666666666666666,\"#ed7953\"],[0.7777777777777778,\"#fb9f3a\"],[0.8888888888888888,\"#fdca26\"],[1.0,\"#f0f921\"]],\"type\":\"heatmapgl\"}],\"histogram\":[{\"marker\":{\"pattern\":{\"fillmode\":\"overlay\",\"size\":10,\"solidity\":0.2}},\"type\":\"histogram\"}],\"histogram2d\":[{\"colorbar\":{\"outlinewidth\":0,\"ticks\":\"\"},\"colorscale\":[[0.0,\"#0d0887\"],[0.1111111111111111,\"#46039f\"],[0.2222222222222222,\"#7201a8\"],[0.3333333333333333,\"#9c179e\"],[0.4444444444444444,\"#bd3786\"],[0.5555555555555556,\"#d8576b\"],[0.6666666666666666,\"#ed7953\"],[0.7777777777777778,\"#fb9f3a\"],[0.8888888888888888,\"#fdca26\"],[1.0,\"#f0f921\"]],\"type\":\"histogram2d\"}],\"histogram2dcontour\":[{\"colorbar\":{\"outlinewidth\":0,\"ticks\":\"\"},\"colorscale\":[[0.0,\"#0d0887\"],[0.1111111111111111,\"#46039f\"],[0.2222222222222222,\"#7201a8\"],[0.3333333333333333,\"#9c179e\"],[0.4444444444444444,\"#bd3786\"],[0.5555555555555556,\"#d8576b\"],[0.6666666666666666,\"#ed7953\"],[0.7777777777777778,\"#fb9f3a\"],[0.8888888888888888,\"#fdca26\"],[1.0,\"#f0f921\"]],\"type\":\"histogram2dcontour\"}],\"mesh3d\":[{\"colorbar\":{\"outlinewidth\":0,\"ticks\":\"\"},\"type\":\"mesh3d\"}],\"parcoords\":[{\"line\":{\"colorbar\":{\"outlinewidth\":0,\"ticks\":\"\"}},\"type\":\"parcoords\"}],\"pie\":[{\"automargin\":true,\"type\":\"pie\"}],\"scatter\":[{\"marker\":{\"colorbar\":{\"outlinewidth\":0,\"ticks\":\"\"}},\"type\":\"scatter\"}],\"scatter3d\":[{\"line\":{\"colorbar\":{\"outlinewidth\":0,\"ticks\":\"\"}},\"marker\":{\"colorbar\":{\"outlinewidth\":0,\"ticks\":\"\"}},\"type\":\"scatter3d\"}],\"scattercarpet\":[{\"marker\":{\"colorbar\":{\"outlinewidth\":0,\"ticks\":\"\"}},\"type\":\"scattercarpet\"}],\"scattergeo\":[{\"marker\":{\"colorbar\":{\"outlinewidth\":0,\"ticks\":\"\"}},\"type\":\"scattergeo\"}],\"scattergl\":[{\"marker\":{\"colorbar\":{\"outlinewidth\":0,\"ticks\":\"\"}},\"type\":\"scattergl\"}],\"scattermapbox\":[{\"marker\":{\"colorbar\":{\"outlinewidth\":0,\"ticks\":\"\"}},\"type\":\"scattermapbox\"}],\"scatterpolar\":[{\"marker\":{\"colorbar\":{\"outlinewidth\":0,\"ticks\":\"\"}},\"type\":\"scatterpolar\"}],\"scatterpolargl\":[{\"marker\":{\"colorbar\":{\"outlinewidth\":0,\"ticks\":\"\"}},\"type\":\"scatterpolargl\"}],\"scatterternary\":[{\"marker\":{\"colorbar\":{\"outlinewidth\":0,\"ticks\":\"\"}},\"type\":\"scatterternary\"}],\"surface\":[{\"colorbar\":{\"outlinewidth\":0,\"ticks\":\"\"},\"colorscale\":[[0.0,\"#0d0887\"],[0.1111111111111111,\"#46039f\"],[0.2222222222222222,\"#7201a8\"],[0.3333333333333333,\"#9c179e\"],[0.4444444444444444,\"#bd3786\"],[0.5555555555555556,\"#d8576b\"],[0.6666666666666666,\"#ed7953\"],[0.7777777777777778,\"#fb9f3a\"],[0.8888888888888888,\"#fdca26\"],[1.0,\"#f0f921\"]],\"type\":\"surface\"}],\"table\":[{\"cells\":{\"fill\":{\"color\":\"#EBF0F8\"},\"line\":{\"color\":\"white\"}},\"header\":{\"fill\":{\"color\":\"#C8D4E3\"},\"line\":{\"color\":\"white\"}},\"type\":\"table\"}]},\"layout\":{\"annotationdefaults\":{\"arrowcolor\":\"#2a3f5f\",\"arrowhead\":0,\"arrowwidth\":1},\"autotypenumbers\":\"strict\",\"coloraxis\":{\"colorbar\":{\"outlinewidth\":0,\"ticks\":\"\"}},\"colorscale\":{\"diverging\":[[0,\"#8e0152\"],[0.1,\"#c51b7d\"],[0.2,\"#de77ae\"],[0.3,\"#f1b6da\"],[0.4,\"#fde0ef\"],[0.5,\"#f7f7f7\"],[0.6,\"#e6f5d0\"],[0.7,\"#b8e186\"],[0.8,\"#7fbc41\"],[0.9,\"#4d9221\"],[1,\"#276419\"]],\"sequential\":[[0.0,\"#0d0887\"],[0.1111111111111111,\"#46039f\"],[0.2222222222222222,\"#7201a8\"],[0.3333333333333333,\"#9c179e\"],[0.4444444444444444,\"#bd3786\"],[0.5555555555555556,\"#d8576b\"],[0.6666666666666666,\"#ed7953\"],[0.7777777777777778,\"#fb9f3a\"],[0.8888888888888888,\"#fdca26\"],[1.0,\"#f0f921\"]],\"sequentialminus\":[[0.0,\"#0d0887\"],[0.1111111111111111,\"#46039f\"],[0.2222222222222222,\"#7201a8\"],[0.3333333333333333,\"#9c179e\"],[0.4444444444444444,\"#bd3786\"],[0.5555555555555556,\"#d8576b\"],[0.6666666666666666,\"#ed7953\"],[0.7777777777777778,\"#fb9f3a\"],[0.8888888888888888,\"#fdca26\"],[1.0,\"#f0f921\"]]},\"colorway\":[\"#636efa\",\"#EF553B\",\"#00cc96\",\"#ab63fa\",\"#FFA15A\",\"#19d3f3\",\"#FF6692\",\"#B6E880\",\"#FF97FF\",\"#FECB52\"],\"font\":{\"color\":\"#2a3f5f\"},\"geo\":{\"bgcolor\":\"white\",\"lakecolor\":\"white\",\"landcolor\":\"#E5ECF6\",\"showlakes\":true,\"showland\":true,\"subunitcolor\":\"white\"},\"hoverlabel\":{\"align\":\"left\"},\"hovermode\":\"closest\",\"mapbox\":{\"style\":\"light\"},\"paper_bgcolor\":\"white\",\"plot_bgcolor\":\"#E5ECF6\",\"polar\":{\"angularaxis\":{\"gridcolor\":\"white\",\"linecolor\":\"white\",\"ticks\":\"\"},\"bgcolor\":\"#E5ECF6\",\"radialaxis\":{\"gridcolor\":\"white\",\"linecolor\":\"white\",\"ticks\":\"\"}},\"scene\":{\"xaxis\":{\"backgroundcolor\":\"#E5ECF6\",\"gridcolor\":\"white\",\"gridwidth\":2,\"linecolor\":\"white\",\"showbackground\":true,\"ticks\":\"\",\"zerolinecolor\":\"white\"},\"yaxis\":{\"backgroundcolor\":\"#E5ECF6\",\"gridcolor\":\"white\",\"gridwidth\":2,\"linecolor\":\"white\",\"showbackground\":true,\"ticks\":\"\",\"zerolinecolor\":\"white\"},\"zaxis\":{\"backgroundcolor\":\"#E5ECF6\",\"gridcolor\":\"white\",\"gridwidth\":2,\"linecolor\":\"white\",\"showbackground\":true,\"ticks\":\"\",\"zerolinecolor\":\"white\"}},\"shapedefaults\":{\"line\":{\"color\":\"#2a3f5f\"}},\"ternary\":{\"aaxis\":{\"gridcolor\":\"white\",\"linecolor\":\"white\",\"ticks\":\"\"},\"baxis\":{\"gridcolor\":\"white\",\"linecolor\":\"white\",\"ticks\":\"\"},\"bgcolor\":\"#E5ECF6\",\"caxis\":{\"gridcolor\":\"white\",\"linecolor\":\"white\",\"ticks\":\"\"}},\"title\":{\"x\":0.05},\"xaxis\":{\"automargin\":true,\"gridcolor\":\"white\",\"linecolor\":\"white\",\"ticks\":\"\",\"title\":{\"standoff\":15},\"zerolinecolor\":\"white\",\"zerolinewidth\":2},\"yaxis\":{\"automargin\":true,\"gridcolor\":\"white\",\"linecolor\":\"white\",\"ticks\":\"\",\"title\":{\"standoff\":15},\"zerolinecolor\":\"white\",\"zerolinewidth\":2}}},\"coloraxis\":{\"colorbar\":{\"title\":{\"text\":\"FUMANTE\"}},\"colorscale\":[[0.0,\"#0d0887\"],[0.1111111111111111,\"#46039f\"],[0.2222222222222222,\"#7201a8\"],[0.3333333333333333,\"#9c179e\"],[0.4444444444444444,\"#bd3786\"],[0.5555555555555556,\"#d8576b\"],[0.6666666666666666,\"#ed7953\"],[0.7777777777777778,\"#fb9f3a\"],[0.8888888888888888,\"#fdca26\"],[1.0,\"#f0f921\"]]},\"legend\":{\"tracegroupgap\":0},\"margin\":{\"t\":60},\"dragmode\":\"select\"},                        {\"responsive\": true}                    ).then(function(){\n",
              "                            \n",
              "var gd = document.getElementById('9a512885-8ab2-43a8-a93a-813b2dca68d8');\n",
              "var x = new MutationObserver(function (mutations, observer) {{\n",
              "        var display = window.getComputedStyle(gd).display;\n",
              "        if (!display || display === 'none') {{\n",
              "            console.log([gd, 'removed!']);\n",
              "            Plotly.purge(gd);\n",
              "            observer.disconnect();\n",
              "        }}\n",
              "}});\n",
              "\n",
              "// Listen for the removal of the full notebook cells\n",
              "var notebookContainer = gd.closest('#notebook-container');\n",
              "if (notebookContainer) {{\n",
              "    x.observe(notebookContainer, {childList: true});\n",
              "}}\n",
              "\n",
              "// Listen for the clearing of the current output cell\n",
              "var outputEl = gd.closest('.output');\n",
              "if (outputEl) {{\n",
              "    x.observe(outputEl, {childList: true});\n",
              "}}\n",
              "\n",
              "                        })                };                            </script>        </div>\n",
              "</body>\n",
              "</html>"
            ]
          },
          "metadata": {}
        }
      ]
    },
    {
      "cell_type": "markdown",
      "source": [
        "TRATANDO VALORES NULOS IDADE"
      ],
      "metadata": {
        "id": "ZzXFsNer06VF"
      }
    },
    {
      "cell_type": "code",
      "source": [
        "index_idade = df_modelagem.loc[df_modelagem['IDADE'].isnull(), ['IDADE'] ].index\n",
        "index_idade"
      ],
      "metadata": {
        "colab": {
          "base_uri": "https://localhost:8080/"
        },
        "id": "Fpr_-eAG1Aj1",
        "outputId": "5280a4cd-4b1d-41db-c035-5dd754fae775"
      },
      "execution_count": 75,
      "outputs": [
        {
          "output_type": "execute_result",
          "data": {
            "text/plain": [
              "Int64Index([503, 557, 709, 784, 1202], dtype='int64')"
            ]
          },
          "metadata": {},
          "execution_count": 75
        }
      ]
    },
    {
      "cell_type": "code",
      "source": [
        "index_nascimento = df_modelagem.loc[df_modelagem['NASCIMENTO'].isnull(), ['NASCIMENTO'] ].index\n",
        "index_nascimento "
      ],
      "metadata": {
        "colab": {
          "base_uri": "https://localhost:8080/"
        },
        "id": "JZb3GiGB2n37",
        "outputId": "7300daba-722d-443f-8090-19c097e487fe"
      },
      "execution_count": 76,
      "outputs": [
        {
          "output_type": "execute_result",
          "data": {
            "text/plain": [
              "Int64Index([108, 232, 419, 483, 557, 784, 793, 974], dtype='int64')"
            ]
          },
          "metadata": {},
          "execution_count": 76
        }
      ]
    },
    {
      "cell_type": "code",
      "source": [
        "ano = df_modelagem_drop.loc[0,'IDADE'] + df_modelagem_drop.loc[0,'NASCIMENTO'].year\n",
        "ano"
      ],
      "metadata": {
        "colab": {
          "base_uri": "https://localhost:8080/"
        },
        "id": "jmn0qG5NADRB",
        "outputId": "048ccd63-b9ab-4419-b832-1a2ae63eaa7d"
      },
      "execution_count": 77,
      "outputs": [
        {
          "output_type": "execute_result",
          "data": {
            "text/plain": [
              "2019.0"
            ]
          },
          "metadata": {},
          "execution_count": 77
        }
      ]
    },
    {
      "cell_type": "code",
      "source": [
        "obj_LinearRegression = LinearRegression()\n",
        "obj_LinearRegression.fit(df_modelagem_drop['MATRICULA'].values.reshape(-1,1),df_modelagem_drop['IDADE'].values.reshape(-1,1))\n",
        "obj_LinearRegression.score(df_modelagem_drop['MATRICULA'].values.reshape(-1,1),df_modelagem_drop['IDADE'].values.reshape(-1,1)) "
      ],
      "metadata": {
        "colab": {
          "base_uri": "https://localhost:8080/"
        },
        "id": "IluBnYLdJ7oF",
        "outputId": "f19524a9-efcd-49bd-da5b-1ce3afdc247e"
      },
      "execution_count": 78,
      "outputs": [
        {
          "output_type": "execute_result",
          "data": {
            "text/plain": [
              "0.997803356246363"
            ]
          },
          "metadata": {},
          "execution_count": 78
        }
      ]
    },
    {
      "cell_type": "code",
      "source": [
        "for i in index_idade:\n",
        "  if i not in index_nascimento:\n",
        "    print(i ,'-',ano-df_modelagem.loc[i,'NASCIMENTO'].year)\n",
        "    df_modelagem.loc[i,'IDADE'] = ano-df_modelagem.loc[i,'NASCIMENTO'].year\n",
        "  else:\n",
        "    print(i,'-',obj_LinearRegression.predict(df_modelagem.loc[i,'MATRICULA'].reshape(-1,1))[0][0])\n",
        "    df_modelagem.loc[i,'IDADE'] = obj_LinearRegression.predict(df_modelagem.loc[i,'MATRICULA'].reshape(-1,1))[0][0]"
      ],
      "metadata": {
        "colab": {
          "base_uri": "https://localhost:8080/"
        },
        "id": "sJIpp8285bV9",
        "outputId": "054499db-0472-4a04-d570-34c01ad7eb21"
      },
      "execution_count": 79,
      "outputs": [
        {
          "output_type": "stream",
          "name": "stdout",
          "text": [
            "503 - 31.0\n",
            "557 - 27.29240012295125\n",
            "709 - 63.0\n",
            "784 - 17.420290082297456\n",
            "1202 - 41.0\n"
          ]
        }
      ]
    },
    {
      "cell_type": "code",
      "source": [
        "df_modelagem.isnull().sum()\n"
      ],
      "metadata": {
        "colab": {
          "base_uri": "https://localhost:8080/"
        },
        "id": "PebML5CoHiWD",
        "outputId": "7595f498-c398-4c60-b801-62060caaa831"
      },
      "execution_count": 80,
      "outputs": [
        {
          "output_type": "execute_result",
          "data": {
            "text/plain": [
              "MATRICULA     0\n",
              "IDADE         0\n",
              "NASCIMENTO    8\n",
              "SEXO          7\n",
              "IMC           5\n",
              "FILHOS        8\n",
              "FUMANTE       8\n",
              "SIGNO         6\n",
              "REGIÃO        6\n",
              "FACEBOOK      3\n",
              "CLASSE        5\n",
              "VALOR         0\n",
              "dtype: int64"
            ]
          },
          "metadata": {},
          "execution_count": 80
        }
      ]
    },
    {
      "cell_type": "markdown",
      "source": [
        "TRATANDO VALORES NULOS FUMANTE"
      ],
      "metadata": {
        "id": "eY88xbkLP9ej"
      }
    },
    {
      "cell_type": "code",
      "source": [
        "index_fumante = df_modelagem.loc[df_modelagem['FUMANTE'].isnull(), ['FUMANTE'] ].index\n",
        "index_fumante"
      ],
      "metadata": {
        "colab": {
          "base_uri": "https://localhost:8080/"
        },
        "id": "XvjrW4cMP8YD",
        "outputId": "81c3b012-9963-4a2c-928f-ef4b402e112b"
      },
      "execution_count": 81,
      "outputs": [
        {
          "output_type": "execute_result",
          "data": {
            "text/plain": [
              "Int64Index([31, 657, 658, 708, 709, 791, 909, 1210], dtype='int64')"
            ]
          },
          "metadata": {},
          "execution_count": 81
        }
      ]
    },
    {
      "cell_type": "code",
      "source": [
        "# 5000 CORTE VISTO NO GRÁFICO DE DISPERSÃO, CORRELACIONANDO VALOR VS FUMANTE\n",
        "for i in index_fumante:\n",
        "  if df_modelagem.loc[i,'VALOR'] > 5000:\n",
        "    df_modelagem.loc[i,'FUMANTE'] = 1\n",
        "  else:\n",
        "    df_modelagem.loc[i,'FUMANTE'] = 0"
      ],
      "metadata": {
        "id": "Rz6q6CcvRBmZ"
      },
      "execution_count": 82,
      "outputs": []
    },
    {
      "cell_type": "markdown",
      "source": [
        "TRATANDO VALORES NULOS SEXO E FILHOS"
      ],
      "metadata": {
        "id": "cJAr3KwyM91E"
      }
    },
    {
      "cell_type": "code",
      "source": [
        "index_filhos = df_modelagem.loc[df_modelagem['FILHOS'].isnull(), ['FILHOS'] ].index\n",
        "index_filhos"
      ],
      "metadata": {
        "colab": {
          "base_uri": "https://localhost:8080/"
        },
        "id": "__Q-zKJ1KWlF",
        "outputId": "8d9b2be7-865e-4045-d8d8-9e9ae43e79be"
      },
      "execution_count": 83,
      "outputs": [
        {
          "output_type": "execute_result",
          "data": {
            "text/plain": [
              "Int64Index([741, 838, 868, 872, 1057, 1137, 1139, 1204], dtype='int64')"
            ]
          },
          "metadata": {},
          "execution_count": 83
        }
      ]
    },
    {
      "cell_type": "code",
      "source": [
        "index_sexo = df_modelagem.loc[df_modelagem['SEXO'].isnull(), ['SEXO'] ].index\n",
        "index_sexo"
      ],
      "metadata": {
        "colab": {
          "base_uri": "https://localhost:8080/"
        },
        "id": "ysfQTsLFOO-w",
        "outputId": "1c8757a1-ce51-4112-f571-ee84d41b1d29"
      },
      "execution_count": 84,
      "outputs": [
        {
          "output_type": "execute_result",
          "data": {
            "text/plain": [
              "Int64Index([89, 108, 363, 551, 838, 868, 927], dtype='int64')"
            ]
          },
          "metadata": {},
          "execution_count": 84
        }
      ]
    },
    {
      "cell_type": "code",
      "source": [
        "# SE A PESSOA FUMA E TEM MENOS DE 1 FILHO, PROBABILIDADE MAIOR DE SER MULHER, SEGUNDO CORTE NO GRÁFICO DE DISPERSÃO\n",
        "# SE A PESSOA FUMA E REGIÃO <=2, PROBABILIDADE MAIOR DE SER MULHER, SEGUNDO CORTE NO GRÁFICO DE DISPERSÃO\n",
        "# SE NÃO ATENDER AS CONDIÇÕES ACIMA, SUBSTITUIR PELA MODA DA COLUNA SEXO\n",
        "for i in index_sexo:\n",
        "  if  df_modelagem.loc[i,'FUMANTE'] ==1 and  df_modelagem.loc[i,'FILHOS'] <=1:\n",
        "    df_modelagem.loc[i,'SEXO'] = 'F'\n",
        "  elif df_modelagem.loc[i,'FUMANTE'] ==1 and  df_modelagem.loc[i,'REGIÃO'] <=2:\n",
        "    df_modelagem.loc[i,'SEXO'] = 'F'\n",
        "  else:\n",
        "    if stat.mode(df_modelagem_drop['SEXO']) == 1:\n",
        "      df_modelagem.loc[i,'SEXO'] = 'M' \n",
        "    else:\n",
        "      df_modelagem.loc[i,'SEXO'] = 'F' "
      ],
      "metadata": {
        "id": "TezbalxfWsIl"
      },
      "execution_count": 85,
      "outputs": []
    },
    {
      "cell_type": "code",
      "source": [
        "#SUBSTITUIR OS FILHOS PELA MÉDIA\n",
        "for i in index_filhos:\n",
        "  df_modelagem.loc[i,'FILHOS'] = np.mean(df_modelagem_drop['FILHOS'])"
      ],
      "metadata": {
        "id": "BZCUfgOAbn00"
      },
      "execution_count": 86,
      "outputs": []
    },
    {
      "cell_type": "markdown",
      "source": [
        "TRATANDO DADOS NULOS REGIÃO,FACEBOOK E CLASSE"
      ],
      "metadata": {
        "id": "UviVed31L9dF"
      }
    },
    {
      "cell_type": "code",
      "source": [
        "df_modelagem.fillna(df_modelagem_drop['REGIÃO'].mean(), inplace= True)\n",
        "df_modelagem.fillna(df_modelagem_drop['CLASSE'].mean(), inplace= True)\n",
        "df_modelagem.fillna(df_modelagem_drop['FACEBOOK'].mean(), inplace= True)  "
      ],
      "metadata": {
        "id": "d0U97_y1L8bj"
      },
      "execution_count": 87,
      "outputs": []
    },
    {
      "cell_type": "markdown",
      "source": [
        "EXCLUINDO COLUNAS SIGNO E NASCIMENTO"
      ],
      "metadata": {
        "id": "ZvQqo_X6MzLh"
      }
    },
    {
      "cell_type": "code",
      "source": [
        "del df_modelagem['SIGNO']\n",
        "del df_modelagem['NASCIMENTO']"
      ],
      "metadata": {
        "id": "tzlM0XfdMyqk"
      },
      "execution_count": 88,
      "outputs": []
    },
    {
      "cell_type": "code",
      "source": [
        "df_modelagem.isnull().sum()"
      ],
      "metadata": {
        "colab": {
          "base_uri": "https://localhost:8080/"
        },
        "id": "XIXX6S5kNkAd",
        "outputId": "543fb328-cdcd-482e-a172-9555699aa25f"
      },
      "execution_count": 89,
      "outputs": [
        {
          "output_type": "execute_result",
          "data": {
            "text/plain": [
              "MATRICULA    0\n",
              "IDADE        0\n",
              "SEXO         0\n",
              "IMC          0\n",
              "FILHOS       0\n",
              "FUMANTE      0\n",
              "REGIÃO       0\n",
              "FACEBOOK     0\n",
              "CLASSE       0\n",
              "VALOR        0\n",
              "dtype: int64"
            ]
          },
          "metadata": {},
          "execution_count": 89
        }
      ]
    },
    {
      "cell_type": "code",
      "source": [
        "df_modelagem.loc[:, 'SEXO'] = obj_LabelEnconder.fit_transform(df_modelagem.loc[:, 'SEXO'] )"
      ],
      "metadata": {
        "id": "Tfv215qAQWHG"
      },
      "execution_count": 90,
      "outputs": []
    },
    {
      "cell_type": "markdown",
      "source": [
        "BASE DE DADOS TRATADA"
      ],
      "metadata": {
        "id": "AxiguaO6SaHP"
      }
    },
    {
      "cell_type": "code",
      "source": [
        "df_modelagem.head()"
      ],
      "metadata": {
        "colab": {
          "base_uri": "https://localhost:8080/",
          "height": 206
        },
        "id": "ED_CSm4gPi5X",
        "outputId": "3dff5fb9-04a2-4f96-a7b0-4fcaf3187ab5"
      },
      "execution_count": 91,
      "outputs": [
        {
          "output_type": "execute_result",
          "data": {
            "text/plain": [
              "   MATRICULA  IDADE  SEXO     IMC  FILHOS  FUMANTE  REGIÃO  FACEBOOK  CLASSE  \\\n",
              "0        207   56.0     1  39.600     0.0      0.0     3.0       0.0     7.0   \n",
              "1        852   32.0     0  37.145     3.0      0.0     2.0       1.0     2.0   \n",
              "2        463   47.0     0  24.100     1.0      0.0     3.0       1.0     7.0   \n",
              "3        628   41.0     1  30.780     3.0      1.0     2.0       1.0     6.0   \n",
              "4       1100   23.0     1  37.100     3.0      0.0     3.0       1.0     4.0   \n",
              "\n",
              "          VALOR  \n",
              "0   3242.022018  \n",
              "1   1937.108119  \n",
              "2   8023.418951  \n",
              "3  12109.298838  \n",
              "4   1100.182263  "
            ],
            "text/html": [
              "\n",
              "  <div id=\"df-29b9c906-5fd3-4fcd-9d62-2bae1b05d9d1\">\n",
              "    <div class=\"colab-df-container\">\n",
              "      <div>\n",
              "<style scoped>\n",
              "    .dataframe tbody tr th:only-of-type {\n",
              "        vertical-align: middle;\n",
              "    }\n",
              "\n",
              "    .dataframe tbody tr th {\n",
              "        vertical-align: top;\n",
              "    }\n",
              "\n",
              "    .dataframe thead th {\n",
              "        text-align: right;\n",
              "    }\n",
              "</style>\n",
              "<table border=\"1\" class=\"dataframe\">\n",
              "  <thead>\n",
              "    <tr style=\"text-align: right;\">\n",
              "      <th></th>\n",
              "      <th>MATRICULA</th>\n",
              "      <th>IDADE</th>\n",
              "      <th>SEXO</th>\n",
              "      <th>IMC</th>\n",
              "      <th>FILHOS</th>\n",
              "      <th>FUMANTE</th>\n",
              "      <th>REGIÃO</th>\n",
              "      <th>FACEBOOK</th>\n",
              "      <th>CLASSE</th>\n",
              "      <th>VALOR</th>\n",
              "    </tr>\n",
              "  </thead>\n",
              "  <tbody>\n",
              "    <tr>\n",
              "      <th>0</th>\n",
              "      <td>207</td>\n",
              "      <td>56.0</td>\n",
              "      <td>1</td>\n",
              "      <td>39.600</td>\n",
              "      <td>0.0</td>\n",
              "      <td>0.0</td>\n",
              "      <td>3.0</td>\n",
              "      <td>0.0</td>\n",
              "      <td>7.0</td>\n",
              "      <td>3242.022018</td>\n",
              "    </tr>\n",
              "    <tr>\n",
              "      <th>1</th>\n",
              "      <td>852</td>\n",
              "      <td>32.0</td>\n",
              "      <td>0</td>\n",
              "      <td>37.145</td>\n",
              "      <td>3.0</td>\n",
              "      <td>0.0</td>\n",
              "      <td>2.0</td>\n",
              "      <td>1.0</td>\n",
              "      <td>2.0</td>\n",
              "      <td>1937.108119</td>\n",
              "    </tr>\n",
              "    <tr>\n",
              "      <th>2</th>\n",
              "      <td>463</td>\n",
              "      <td>47.0</td>\n",
              "      <td>0</td>\n",
              "      <td>24.100</td>\n",
              "      <td>1.0</td>\n",
              "      <td>0.0</td>\n",
              "      <td>3.0</td>\n",
              "      <td>1.0</td>\n",
              "      <td>7.0</td>\n",
              "      <td>8023.418951</td>\n",
              "    </tr>\n",
              "    <tr>\n",
              "      <th>3</th>\n",
              "      <td>628</td>\n",
              "      <td>41.0</td>\n",
              "      <td>1</td>\n",
              "      <td>30.780</td>\n",
              "      <td>3.0</td>\n",
              "      <td>1.0</td>\n",
              "      <td>2.0</td>\n",
              "      <td>1.0</td>\n",
              "      <td>6.0</td>\n",
              "      <td>12109.298838</td>\n",
              "    </tr>\n",
              "    <tr>\n",
              "      <th>4</th>\n",
              "      <td>1100</td>\n",
              "      <td>23.0</td>\n",
              "      <td>1</td>\n",
              "      <td>37.100</td>\n",
              "      <td>3.0</td>\n",
              "      <td>0.0</td>\n",
              "      <td>3.0</td>\n",
              "      <td>1.0</td>\n",
              "      <td>4.0</td>\n",
              "      <td>1100.182263</td>\n",
              "    </tr>\n",
              "  </tbody>\n",
              "</table>\n",
              "</div>\n",
              "      <button class=\"colab-df-convert\" onclick=\"convertToInteractive('df-29b9c906-5fd3-4fcd-9d62-2bae1b05d9d1')\"\n",
              "              title=\"Convert this dataframe to an interactive table.\"\n",
              "              style=\"display:none;\">\n",
              "        \n",
              "  <svg xmlns=\"http://www.w3.org/2000/svg\" height=\"24px\"viewBox=\"0 0 24 24\"\n",
              "       width=\"24px\">\n",
              "    <path d=\"M0 0h24v24H0V0z\" fill=\"none\"/>\n",
              "    <path d=\"M18.56 5.44l.94 2.06.94-2.06 2.06-.94-2.06-.94-.94-2.06-.94 2.06-2.06.94zm-11 1L8.5 8.5l.94-2.06 2.06-.94-2.06-.94L8.5 2.5l-.94 2.06-2.06.94zm10 10l.94 2.06.94-2.06 2.06-.94-2.06-.94-.94-2.06-.94 2.06-2.06.94z\"/><path d=\"M17.41 7.96l-1.37-1.37c-.4-.4-.92-.59-1.43-.59-.52 0-1.04.2-1.43.59L10.3 9.45l-7.72 7.72c-.78.78-.78 2.05 0 2.83L4 21.41c.39.39.9.59 1.41.59.51 0 1.02-.2 1.41-.59l7.78-7.78 2.81-2.81c.8-.78.8-2.07 0-2.86zM5.41 20L4 18.59l7.72-7.72 1.47 1.35L5.41 20z\"/>\n",
              "  </svg>\n",
              "      </button>\n",
              "      \n",
              "  <style>\n",
              "    .colab-df-container {\n",
              "      display:flex;\n",
              "      flex-wrap:wrap;\n",
              "      gap: 12px;\n",
              "    }\n",
              "\n",
              "    .colab-df-convert {\n",
              "      background-color: #E8F0FE;\n",
              "      border: none;\n",
              "      border-radius: 50%;\n",
              "      cursor: pointer;\n",
              "      display: none;\n",
              "      fill: #1967D2;\n",
              "      height: 32px;\n",
              "      padding: 0 0 0 0;\n",
              "      width: 32px;\n",
              "    }\n",
              "\n",
              "    .colab-df-convert:hover {\n",
              "      background-color: #E2EBFA;\n",
              "      box-shadow: 0px 1px 2px rgba(60, 64, 67, 0.3), 0px 1px 3px 1px rgba(60, 64, 67, 0.15);\n",
              "      fill: #174EA6;\n",
              "    }\n",
              "\n",
              "    [theme=dark] .colab-df-convert {\n",
              "      background-color: #3B4455;\n",
              "      fill: #D2E3FC;\n",
              "    }\n",
              "\n",
              "    [theme=dark] .colab-df-convert:hover {\n",
              "      background-color: #434B5C;\n",
              "      box-shadow: 0px 1px 3px 1px rgba(0, 0, 0, 0.15);\n",
              "      filter: drop-shadow(0px 1px 2px rgba(0, 0, 0, 0.3));\n",
              "      fill: #FFFFFF;\n",
              "    }\n",
              "  </style>\n",
              "\n",
              "      <script>\n",
              "        const buttonEl =\n",
              "          document.querySelector('#df-29b9c906-5fd3-4fcd-9d62-2bae1b05d9d1 button.colab-df-convert');\n",
              "        buttonEl.style.display =\n",
              "          google.colab.kernel.accessAllowed ? 'block' : 'none';\n",
              "\n",
              "        async function convertToInteractive(key) {\n",
              "          const element = document.querySelector('#df-29b9c906-5fd3-4fcd-9d62-2bae1b05d9d1');\n",
              "          const dataTable =\n",
              "            await google.colab.kernel.invokeFunction('convertToInteractive',\n",
              "                                                     [key], {});\n",
              "          if (!dataTable) return;\n",
              "\n",
              "          const docLinkHtml = 'Like what you see? Visit the ' +\n",
              "            '<a target=\"_blank\" href=https://colab.research.google.com/notebooks/data_table.ipynb>data table notebook</a>'\n",
              "            + ' to learn more about interactive tables.';\n",
              "          element.innerHTML = '';\n",
              "          dataTable['output_type'] = 'display_data';\n",
              "          await google.colab.output.renderOutput(dataTable, element);\n",
              "          const docLink = document.createElement('div');\n",
              "          docLink.innerHTML = docLinkHtml;\n",
              "          element.appendChild(docLink);\n",
              "        }\n",
              "      </script>\n",
              "    </div>\n",
              "  </div>\n",
              "  "
            ]
          },
          "metadata": {},
          "execution_count": 91
        }
      ]
    },
    {
      "cell_type": "code",
      "source": [
        "sum(df_modelagem['FUMANTE'] >0)"
      ],
      "metadata": {
        "colab": {
          "base_uri": "https://localhost:8080/"
        },
        "id": "wq5TqAgHWulc",
        "outputId": "1bcd2822-2359-422f-c0bf-efe154564d46"
      },
      "execution_count": 92,
      "outputs": [
        {
          "output_type": "execute_result",
          "data": {
            "text/plain": [
              "241"
            ]
          },
          "metadata": {},
          "execution_count": 92
        }
      ]
    },
    {
      "cell_type": "markdown",
      "source": [
        "PADRONIZAÇÃO DOS DADOS"
      ],
      "metadata": {
        "id": "H28lvMKiT8jH"
      }
    },
    {
      "cell_type": "code",
      "source": [
        "sns.boxplot(data = df_modelagem) "
      ],
      "metadata": {
        "colab": {
          "base_uri": "https://localhost:8080/",
          "height": 365
        },
        "id": "HMOHL8JuTU9S",
        "outputId": "c25984a8-7091-4a77-ba7f-27e51f3ac364"
      },
      "execution_count": 93,
      "outputs": [
        {
          "output_type": "execute_result",
          "data": {
            "text/plain": [
              "<matplotlib.axes._subplots.AxesSubplot at 0x7f3ac7f9b350>"
            ]
          },
          "metadata": {},
          "execution_count": 93
        },
        {
          "output_type": "display_data",
          "data": {
            "text/plain": [
              "<Figure size 576x396 with 1 Axes>"
            ],
            "image/png": "[encoded data removed]"
          },
          "metadata": {}
        }
      ]
    },
    {
      "cell_type": "code",
      "source": [
        "colunas = []\n",
        "obj_scaler = StandardScaler()\n",
        "df_modelagem_modelo = df_modelagem\n",
        "for i in df_modelagem.columns:\n",
        "  if i != \"VALOR\":\n",
        "    colunas.append(i)\n",
        "    df_modelagem_modelo[i] = (obj_scaler.fit_transform(df_modelagem[i].values.reshape(-1,1)))\n",
        "df_modelagem_modelo"
      ],
      "metadata": {
        "colab": {
          "base_uri": "https://localhost:8080/",
          "height": 423
        },
        "id": "oNFyvkuQ8yUI",
        "outputId": "ee91985e-91a9-4eb7-8bc4-35dc601ff8c7"
      },
      "execution_count": 95,
      "outputs": [
        {
          "output_type": "execute_result",
          "data": {
            "text/plain": [
              "      MATRICULA     IDADE      SEXO       IMC    FILHOS   FUMANTE    REGIÃO  \\\n",
              "0     -1.201036  1.199553  0.981184  1.416968 -0.921392 -0.498451  0.487204   \n",
              "1      0.475178 -0.517006 -1.019176  1.030330  1.580788 -0.498451 -0.398357   \n",
              "2     -0.535748  0.555844 -1.019176 -1.024131 -0.087332 -0.498451  0.487204   \n",
              "3     -0.106949  0.126704  0.981184  0.027904  1.580788  2.006214 -0.398357   \n",
              "4      1.119676 -1.160716  0.981184  1.023242  1.580788 -0.498451  0.487204   \n",
              "...         ...       ...       ...       ...       ...       ...       ...   \n",
              "1206  -1.554471  1.557170 -1.019176  0.910637 -0.087332  2.006214 -0.398357   \n",
              "1207   1.374356 -1.375286 -1.019176  0.207443 -0.921392 -0.498451  1.372765   \n",
              "1208   0.815618 -0.874623 -1.019176  0.862602 -0.921392  2.006214 -1.283918   \n",
              "1209  -0.961948  0.913460  0.981184  0.342097  1.580788 -0.498451  1.372765   \n",
              "1210  -1.159456  1.128030 -1.019176  0.461790  0.746728 -0.498451  1.372765   \n",
              "\n",
              "      FACEBOOK    CLASSE         VALOR  \n",
              "0    -1.461269  0.555966   3242.022018  \n",
              "1     0.657055 -1.190344   1937.108119  \n",
              "2     0.657055  0.555966   8023.418951  \n",
              "3     0.657055  0.206704  12109.298838  \n",
              "4     0.657055 -0.491820   1100.182263  \n",
              "...        ...       ...           ...  \n",
              "1206 -1.461269  1.603752  14837.175275  \n",
              "1207  0.657055 -0.142558    691.611254  \n",
              "1208  0.657055  1.603752  11355.932171  \n",
              "1209 -1.461269 -1.539606   3452.326988  \n",
              "1210 -1.461269 -1.030165   3752.198364  \n",
              "\n",
              "[1211 rows x 10 columns]"
            ],
            "text/html": [
              "\n",
              "  <div id=\"df-cd6f6f09-c2bf-4ff1-bc06-c7a417d5b54d\">\n",
              "    <div class=\"colab-df-container\">\n",
              "      <div>\n",
              "<style scoped>\n",
              "    .dataframe tbody tr th:only-of-type {\n",
              "        vertical-align: middle;\n",
              "    }\n",
              "\n",
              "    .dataframe tbody tr th {\n",
              "        vertical-align: top;\n",
              "    }\n",
              "\n",
              "    .dataframe thead th {\n",
              "        text-align: right;\n",
              "    }\n",
              "</style>\n",
              "<table border=\"1\" class=\"dataframe\">\n",
              "  <thead>\n",
              "    <tr style=\"text-align: right;\">\n",
              "      <th></th>\n",
              "      <th>MATRICULA</th>\n",
              "      <th>IDADE</th>\n",
              "      <th>SEXO</th>\n",
              "      <th>IMC</th>\n",
              "      <th>FILHOS</th>\n",
              "      <th>FUMANTE</th>\n",
              "      <th>REGIÃO</th>\n",
              "      <th>FACEBOOK</th>\n",
              "      <th>CLASSE</th>\n",
              "      <th>VALOR</th>\n",
              "    </tr>\n",
              "  </thead>\n",
              "  <tbody>\n",
              "    <tr>\n",
              "      <th>0</th>\n",
              "      <td>-1.201036</td>\n",
              "      <td>1.199553</td>\n",
              "      <td>0.981184</td>\n",
              "      <td>1.416968</td>\n",
              "      <td>-0.921392</td>\n",
              "      <td>-0.498451</td>\n",
              "      <td>0.487204</td>\n",
              "      <td>-1.461269</td>\n",
              "      <td>0.555966</td>\n",
              "      <td>3242.022018</td>\n",
              "    </tr>\n",
              "    <tr>\n",
              "      <th>1</th>\n",
              "      <td>0.475178</td>\n",
              "      <td>-0.517006</td>\n",
              "      <td>-1.019176</td>\n",
              "      <td>1.030330</td>\n",
              "      <td>1.580788</td>\n",
              "      <td>-0.498451</td>\n",
              "      <td>-0.398357</td>\n",
              "      <td>0.657055</td>\n",
              "      <td>-1.190344</td>\n",
              "      <td>1937.108119</td>\n",
              "    </tr>\n",
              "    <tr>\n",
              "      <th>2</th>\n",
              "      <td>-0.535748</td>\n",
              "      <td>0.555844</td>\n",
              "      <td>-1.019176</td>\n",
              "      <td>-1.024131</td>\n",
              "      <td>-0.087332</td>\n",
              "      <td>-0.498451</td>\n",
              "      <td>0.487204</td>\n",
              "      <td>0.657055</td>\n",
              "      <td>0.555966</td>\n",
              "      <td>8023.418951</td>\n",
              "    </tr>\n",
              "    <tr>\n",
              "      <th>3</th>\n",
              "      <td>-0.106949</td>\n",
              "      <td>0.126704</td>\n",
              "      <td>0.981184</td>\n",
              "      <td>0.027904</td>\n",
              "      <td>1.580788</td>\n",
              "      <td>2.006214</td>\n",
              "      <td>-0.398357</td>\n",
              "      <td>0.657055</td>\n",
              "      <td>0.206704</td>\n",
              "      <td>12109.298838</td>\n",
              "    </tr>\n",
              "    <tr>\n",
              "      <th>4</th>\n",
              "      <td>1.119676</td>\n",
              "      <td>-1.160716</td>\n",
              "      <td>0.981184</td>\n",
              "      <td>1.023242</td>\n",
              "      <td>1.580788</td>\n",
              "      <td>-0.498451</td>\n",
              "      <td>0.487204</td>\n",
              "      <td>0.657055</td>\n",
              "      <td>-0.491820</td>\n",
              "      <td>1100.182263</td>\n",
              "    </tr>\n",
              "    <tr>\n",
              "      <th>...</th>\n",
              "      <td>...</td>\n",
              "      <td>...</td>\n",
              "      <td>...</td>\n",
              "      <td>...</td>\n",
              "      <td>...</td>\n",
              "      <td>...</td>\n",
              "      <td>...</td>\n",
              "      <td>...</td>\n",
              "      <td>...</td>\n",
              "      <td>...</td>\n",
              "    </tr>\n",
              "    <tr>\n",
              "      <th>1206</th>\n",
              "      <td>-1.554471</td>\n",
              "      <td>1.557170</td>\n",
              "      <td>-1.019176</td>\n",
              "      <td>0.910637</td>\n",
              "      <td>-0.087332</td>\n",
              "      <td>2.006214</td>\n",
              "      <td>-0.398357</td>\n",
              "      <td>-1.461269</td>\n",
              "      <td>1.603752</td>\n",
              "      <td>14837.175275</td>\n",
              "    </tr>\n",
              "    <tr>\n",
              "      <th>1207</th>\n",
              "      <td>1.374356</td>\n",
              "      <td>-1.375286</td>\n",
              "      <td>-1.019176</td>\n",
              "      <td>0.207443</td>\n",
              "      <td>-0.921392</td>\n",
              "      <td>-0.498451</td>\n",
              "      <td>1.372765</td>\n",
              "      <td>0.657055</td>\n",
              "      <td>-0.142558</td>\n",
              "      <td>691.611254</td>\n",
              "    </tr>\n",
              "    <tr>\n",
              "      <th>1208</th>\n",
              "      <td>0.815618</td>\n",
              "      <td>-0.874623</td>\n",
              "      <td>-1.019176</td>\n",
              "      <td>0.862602</td>\n",
              "      <td>-0.921392</td>\n",
              "      <td>2.006214</td>\n",
              "      <td>-1.283918</td>\n",
              "      <td>0.657055</td>\n",
              "      <td>1.603752</td>\n",
              "      <td>11355.932171</td>\n",
              "    </tr>\n",
              "    <tr>\n",
              "      <th>1209</th>\n",
              "      <td>-0.961948</td>\n",
              "      <td>0.913460</td>\n",
              "      <td>0.981184</td>\n",
              "      <td>0.342097</td>\n",
              "      <td>1.580788</td>\n",
              "      <td>-0.498451</td>\n",
              "      <td>1.372765</td>\n",
              "      <td>-1.461269</td>\n",
              "      <td>-1.539606</td>\n",
              "      <td>3452.326988</td>\n",
              "    </tr>\n",
              "    <tr>\n",
              "      <th>1210</th>\n",
              "      <td>-1.159456</td>\n",
              "      <td>1.128030</td>\n",
              "      <td>-1.019176</td>\n",
              "      <td>0.461790</td>\n",
              "      <td>0.746728</td>\n",
              "      <td>-0.498451</td>\n",
              "      <td>1.372765</td>\n",
              "      <td>-1.461269</td>\n",
              "      <td>-1.030165</td>\n",
              "      <td>3752.198364</td>\n",
              "    </tr>\n",
              "  </tbody>\n",
              "</table>\n",
              "<p>1211 rows × 10 columns</p>\n",
              "</div>\n",
              "      <button class=\"colab-df-convert\" onclick=\"convertToInteractive('df-cd6f6f09-c2bf-4ff1-bc06-c7a417d5b54d')\"\n",
              "              title=\"Convert this dataframe to an interactive table.\"\n",
              "              style=\"display:none;\">\n",
              "        \n",
              "  <svg xmlns=\"http://www.w3.org/2000/svg\" height=\"24px\"viewBox=\"0 0 24 24\"\n",
              "       width=\"24px\">\n",
              "    <path d=\"M0 0h24v24H0V0z\" fill=\"none\"/>\n",
              "    <path d=\"M18.56 5.44l.94 2.06.94-2.06 2.06-.94-2.06-.94-.94-2.06-.94 2.06-2.06.94zm-11 1L8.5 8.5l.94-2.06 2.06-.94-2.06-.94L8.5 2.5l-.94 2.06-2.06.94zm10 10l.94 2.06.94-2.06 2.06-.94-2.06-.94-.94-2.06-.94 2.06-2.06.94z\"/><path d=\"M17.41 7.96l-1.37-1.37c-.4-.4-.92-.59-1.43-.59-.52 0-1.04.2-1.43.59L10.3 9.45l-7.72 7.72c-.78.78-.78 2.05 0 2.83L4 21.41c.39.39.9.59 1.41.59.51 0 1.02-.2 1.41-.59l7.78-7.78 2.81-2.81c.8-.78.8-2.07 0-2.86zM5.41 20L4 18.59l7.72-7.72 1.47 1.35L5.41 20z\"/>\n",
              "  </svg>\n",
              "      </button>\n",
              "      \n",
              "  <style>\n",
              "    .colab-df-container {\n",
              "      display:flex;\n",
              "      flex-wrap:wrap;\n",
              "      gap: 12px;\n",
              "    }\n",
              "\n",
              "    .colab-df-convert {\n",
              "      background-color: #E8F0FE;\n",
              "      border: none;\n",
              "      border-radius: 50%;\n",
              "      cursor: pointer;\n",
              "      display: none;\n",
              "      fill: #1967D2;\n",
              "      height: 32px;\n",
              "      padding: 0 0 0 0;\n",
              "      width: 32px;\n",
              "    }\n",
              "\n",
              "    .colab-df-convert:hover {\n",
              "      background-color: #E2EBFA;\n",
              "      box-shadow: 0px 1px 2px rgba(60, 64, 67, 0.3), 0px 1px 3px 1px rgba(60, 64, 67, 0.15);\n",
              "      fill: #174EA6;\n",
              "    }\n",
              "\n",
              "    [theme=dark] .colab-df-convert {\n",
              "      background-color: #3B4455;\n",
              "      fill: #D2E3FC;\n",
              "    }\n",
              "\n",
              "    [theme=dark] .colab-df-convert:hover {\n",
              "      background-color: #434B5C;\n",
              "      box-shadow: 0px 1px 3px 1px rgba(0, 0, 0, 0.15);\n",
              "      filter: drop-shadow(0px 1px 2px rgba(0, 0, 0, 0.3));\n",
              "      fill: #FFFFFF;\n",
              "    }\n",
              "  </style>\n",
              "\n",
              "      <script>\n",
              "        const buttonEl =\n",
              "          document.querySelector('#df-cd6f6f09-c2bf-4ff1-bc06-c7a417d5b54d button.colab-df-convert');\n",
              "        buttonEl.style.display =\n",
              "          google.colab.kernel.accessAllowed ? 'block' : 'none';\n",
              "\n",
              "        async function convertToInteractive(key) {\n",
              "          const element = document.querySelector('#df-cd6f6f09-c2bf-4ff1-bc06-c7a417d5b54d');\n",
              "          const dataTable =\n",
              "            await google.colab.kernel.invokeFunction('convertToInteractive',\n",
              "                                                     [key], {});\n",
              "          if (!dataTable) return;\n",
              "\n",
              "          const docLinkHtml = 'Like what you see? Visit the ' +\n",
              "            '<a target=\"_blank\" href=https://colab.research.google.com/notebooks/data_table.ipynb>data table notebook</a>'\n",
              "            + ' to learn more about interactive tables.';\n",
              "          element.innerHTML = '';\n",
              "          dataTable['output_type'] = 'display_data';\n",
              "          await google.colab.output.renderOutput(dataTable, element);\n",
              "          const docLink = document.createElement('div');\n",
              "          docLink.innerHTML = docLinkHtml;\n",
              "          element.appendChild(docLink);\n",
              "        }\n",
              "      </script>\n",
              "    </div>\n",
              "  </div>\n",
              "  "
            ]
          },
          "metadata": {},
          "execution_count": 95
        }
      ]
    },
    {
      "cell_type": "code",
      "source": [
        "plt.figure(figsize=(10,5))\n",
        "sns.boxplot(data = df_modelagem_modelo.iloc[:,0:9]) "
      ],
      "metadata": {
        "id": "bLL8WnDk9uBI",
        "colab": {
          "base_uri": "https://localhost:8080/",
          "height": 338
        },
        "outputId": "d15f5589-9c76-41ec-ab30-cb940e402aac"
      },
      "execution_count": 96,
      "outputs": [
        {
          "output_type": "execute_result",
          "data": {
            "text/plain": [
              "<matplotlib.axes._subplots.AxesSubplot at 0x7f3ac822efd0>"
            ]
          },
          "metadata": {},
          "execution_count": 96
        },
        {
          "output_type": "display_data",
          "data": {
            "text/plain": [
              "<Figure size 720x360 with 1 Axes>"
            ],
            "image/png": "[encoded data removed]"
          },
          "metadata": {}
        }
      ]
    },
    {
      "cell_type": "markdown",
      "source": [
        "\n",
        "\n",
        "```\n",
        "\n",
        "TRATANDO OUTILERS COM KNN"
      ],
      "metadata": {
        "id": "HhgjoAVPZoSS"
      }
    },
    {
      "cell_type": "code",
      "source": [
        "obj_outiliers = KNN()\n",
        "obj_outiliers.fit(df_modelagem_modelo.iloc[:,0:9])\n",
        "previsão_outlier = obj_outiliers.labels_\n",
        "outiliers = []\n",
        "for i in range(len(previsão_outlier)):\n",
        "  if previsão_outlier[i] == 1:\n",
        "    outiliers.append(i) \n",
        "df_sem_outiler = df_modelagem_modelo.iloc[outiliers, :]"
      ],
      "metadata": {
        "id": "rWl0sDSyZnlZ"
      },
      "execution_count": 97,
      "outputs": []
    },
    {
      "cell_type": "markdown",
      "source": [
        "BASE TREINAMENTO E TESTE - OUTILERS COM KNN"
      ],
      "metadata": {
        "id": "F8QNzaC6JKQW"
      }
    },
    {
      "cell_type": "code",
      "source": [
        "x_train_out,x_teste_out, y_train_out, y_teste_out = train_test_split(df_sem_outiler.iloc[:,[1,3,5,7]].values, df_sem_outiler.iloc[:,-1].values, test_size = 0.3, random_state=0)"
      ],
      "metadata": {
        "id": "AxFBX3aWiVLD"
      },
      "execution_count": 98,
      "outputs": []
    },
    {
      "cell_type": "markdown",
      "source": [
        "RANDOM FOREST REGRESSOR - OUTILERS COM KNN"
      ],
      "metadata": {
        "id": "q8bftsNz7JHD"
      }
    },
    {
      "cell_type": "code",
      "source": [
        "obj_RandomForestRegressor = RandomForestRegressor(n_estimators=10)\n",
        "obj_RandomForestRegressor.fit(x_train_out, y_train_out)\n",
        "previsão = obj_RandomForestRegressor.predict(x_train_out)\n",
        "obj_RandomForestRegressor.score(x_train_out, y_train_out)"
      ],
      "metadata": {
        "id": "L9WRMKEMimqJ",
        "colab": {
          "base_uri": "https://localhost:8080/"
        },
        "outputId": "e7913ffc-81c4-4d42-dd02-9ec4fd816e1e"
      },
      "execution_count": 99,
      "outputs": [
        {
          "output_type": "execute_result",
          "data": {
            "text/plain": [
              "0.9834869027098506"
            ]
          },
          "metadata": {},
          "execution_count": 99
        }
      ]
    },
    {
      "cell_type": "code",
      "source": [
        "obj_RandomForestRegressor.score(x_teste_out, y_teste_out)"
      ],
      "metadata": {
        "id": "NggYlrl_ixtn",
        "colab": {
          "base_uri": "https://localhost:8080/"
        },
        "outputId": "222703f2-9c5a-4bb9-f547-89c2788fd217"
      },
      "execution_count": 100,
      "outputs": [
        {
          "output_type": "execute_result",
          "data": {
            "text/plain": [
              "0.9121625353360139"
            ]
          },
          "metadata": {},
          "execution_count": 100
        }
      ]
    },
    {
      "cell_type": "markdown",
      "source": [
        "VALIDAÇÃO CRUZADA - OUTILERS COM KNN"
      ],
      "metadata": {
        "id": "xbSM9iK97D0Q"
      }
    },
    {
      "cell_type": "code",
      "source": [
        "Resultados_RFG_r2_out =[]\n",
        "Resultados_RFG_MSRE_out =[]\n",
        "for i in range(30):\n",
        "  obj_Kfold = KFold(n_splits=10, shuffle=True, random_state=i)\n",
        "  scores_1 = cross_val_score(obj_RandomForestRegressor,df_sem_outiler.iloc[:,[1,3,5,7]].values,df_sem_outiler.iloc[:,-1].values,scoring='r2')\n",
        "  scores_2 = cross_val_score(obj_RandomForestRegressor,df_sem_outiler.iloc[:,[1,3,5,7]].values,df_sem_outiler.iloc[:,-1].values,scoring='neg_mean_absolute_error')\n",
        "  Resultados_RFG_r2_out.append(scores_1.mean())\n",
        "  Resultados_RFG_MSRE_out.append(-scores_2.mean())\n",
        "np.mean(Resultados_RFG_r2_out), np.mean(Resultados_RFG_MSRE_out)"
      ],
      "metadata": {
        "id": "6QVkTFUxi5lE",
        "colab": {
          "base_uri": "https://localhost:8080/"
        },
        "outputId": "8f67d7af-d9cd-4e82-f5cb-6f7f416d1ef7"
      },
      "execution_count": 101,
      "outputs": [
        {
          "output_type": "execute_result",
          "data": {
            "text/plain": [
              "(0.9081133830134139, 879.2239312857051)"
            ]
          },
          "metadata": {},
          "execution_count": 101
        }
      ]
    },
    {
      "cell_type": "code",
      "source": [
        "np.std(Resultados_RFG_r2_out) ,np.std(Resultados_RFG_MSRE_out)"
      ],
      "metadata": {
        "id": "ifslVBePkWjs",
        "colab": {
          "base_uri": "https://localhost:8080/"
        },
        "outputId": "d7fc851a-3e28-4e94-8f4a-39351d933adc"
      },
      "execution_count": 102,
      "outputs": [
        {
          "output_type": "execute_result",
          "data": {
            "text/plain": [
              "(0.006334395952270696, 29.43129667524796)"
            ]
          },
          "metadata": {},
          "execution_count": 102
        }
      ]
    },
    {
      "cell_type": "code",
      "source": [
        "px.scatter_matrix(df_sem_outiler, dimensions = ['IDADE','VALOR'], color='FUMANTE')"
      ],
      "metadata": {
        "id": "KYv-QxgGlavQ",
        "colab": {
          "base_uri": "https://localhost:8080/",
          "height": 542
        },
        "outputId": "31b3c5e5-073a-481b-f459-36847ea3b4c8"
      },
      "execution_count": 103,
      "outputs": [
        {
          "output_type": "display_data",
          "data": {
            "text/html": [
              "<html>\n",
              "<head><meta charset=\"utf-8\" /></head>\n",
              "<body>\n",
              "    <div>            <script src=\"https://cdnjs.cloudflare.com/ajax/libs/mathjax/2.7.5/MathJax.js?config=TeX-AMS-MML_SVG\"></script><script type=\"text/javascript\">if (window.MathJax) {MathJax.Hub.Config({SVG: {font: \"STIX-Web\"}});}</script>                <script type=\"text/javascript\">window.PlotlyConfig = {MathJaxConfig: 'local'};</script>\n",
              "        <script src=\"https://cdn.plot.ly/plotly-2.8.3.min.js\"></script>                <div id=\"d5cca73b-0b1a-4f56-9a35-c1ead25d5a02\" class=\"plotly-graph-div\" style=\"height:525px; width:100%;\"></div>            <script type=\"text/javascript\">                                    window.PLOTLYENV=window.PLOTLYENV || {};                                    if (document.getElementById(\"d5cca73b-0b1a-4f56-9a35-c1ead25d5a02\")) {                    Plotly.newPlot(                        \"d5cca73b-0b1a-4f56-9a35-c1ead25d5a02\",                        [{\"dimensions\":[{\"axis\":{\"matches\":true},\"label\":\"IDADE\",\"values\":[1.128030164549234,-0.6600529548776478,-0.8746229292088737,0.26975026722433076,-0.1593896814381209,1.5571701132116857,0.48432024155555664,-1.3037628778713255,0.48432024155555664,-0.44548298054642205,1.5571701132116857,1.34260013888046,-0.37395965576934675,0.841936865440933,1.0565068397721589,0.34127359200140606,1.2710768141033848,0.48432024155555664,-0.6600529548776478,0.6273668911097072,-1.3037628778713255,-0.016343031883970332,-1.446809527425476,1.6286934379887612,-0.6600529548776478,-1.446809527425476,1.7717400875429117,-1.446809527425476,-0.44548298054642205,-0.5170063053234973,0.9849835149950836,1.5571701132116857,0.05518029289310495,-0.30243633099227146,-0.6600529548776478,-0.016343031883970332,-1.446809527425476,1.7717400875429117,-1.5183328522025512,-0.44548298054642205,1.7002167627658364,1.5571701132116857,-0.8746229292088737,-1.5183328522025512,-1.1607162283171748,-0.8030996044317984,-1.0176695787630243,-0.8030996044317984,0.6988902158867825,1.4141234636575353,1.4856467884346105,-1.5183328522025512,-0.016343031883970332,-0.5170063053234973,-1.1607162283171748,0.41279691677848135,-0.8746229292088737,-1.1607162283171748,1.7002167627658364,0.841936865440933,1.2710768141033848,-0.8746229292088737,-0.6600529548776478,-1.23223955309425,-1.446809527425476,-1.3752862026484007,-1.0891929035400996,0.48432024155555664,1.4856467884346105,-1.446809527425476,-1.5183328522025512,-1.5183328522025512,1.4141234636575353,0.41279691677848135,1.4856467884346105,-1.5183328522025512,1.34260013888046,0.26975026722433076,0.841936865440933,0.9134601902180083,-0.23091300621519617,-1.5183328522025512,-1.446809527425476,-0.8030996044317984,-1.5183328522025512,0.9134601902180083,-1.5183328522025512,1.7717400875429117,0.841936865440933,-1.559795632922882,0.6988902158867825,0.41279691677848135,-0.23091300621519617,1.6286934379887612,-1.3752862026484007,-0.37395965576934675,1.4141234636575353,-1.0891929035400996,1.7717400875429117,1.7002167627658364,0.26975026722433076,0.9849835149950836,-0.44548298054642205,-0.44548298054642205,1.34260013888046,1.1995534893263093,-1.0176695787630243,1.4856467884346105,-1.0891929035400996,-0.5170063053234973,-1.1607162283171748,0.9849835149950836,1.5571701132116857,0.9134601902180083,-1.23223955309425,-0.8030996044317984,0.9849835149950836,-1.3037628778713255,0.05518029289310495,1.5571701132116857,-0.8746229292088737]},{\"axis\":{\"matches\":true},\"label\":\"VALOR\",\"values\":[13585.260856269113,1304.637859327217,759.5522935779816,14025.444954128441,14101.991131498471,14496.599388379203,2884.686636085627,614.0504587155963,3087.7584097859326,1466.5617125382262,4317.926605504587,14524.921850152905,1376.2505351681957,3229.508165137615,19501.659941896025,14128.741620795106,14885.479418960243,12452.767905198778,1233.101131498471,13976.15362385321,619.8697553516819,2628.999327217125,563.4614678899082,14286.900076452599,12517.562538226299,679.3775076452599,14462.09633027523,379.8960244648318,1279.8464525993884,1606.582262996942,7108.498532110091,8911.730978593272,2496.243501529052,12227.3473853211,1741.1102446483183,2741.833562691131,11130.757186544342,14656.88990825688,499.68250764525993,2034.797737003058,14466.454128440368,9462.443975535169,5069.657339449542,1064.7914373088686,11015.599755351683,5401.573149847094,11047.270244648318,1717.2382262996941,3356.9438226299694,7852.83744648318,13764.206574923546,347.3824770642202,5817.510703363914,1428.330275229358,1365.939266055046,12148.476467889908,1476.4235321100919,12508.929510703365,14931.024464831804,7329.4749388379205,13326.892782874618,1025.5260856269113,5738.799831804281,10885.501467889908,1433.5770642201833,1503.0764067278287,758.7092048929663,14113.49373088685,14731.914678899082,497.63989296636083,355.79899082568807,11863.206605504587,14647.336804281345,6452.157201834862,14884.880366972477,1394.858868501529,7408.971633027523,4427.623899082569,13651.74232415902,7543.553211009174,0.0,3923.3807645259935,11076.270779816514,15655.828483180427,5572.920856269113,18355.167880733945,10586.495611620794,8268.475259938838,14145.294342507646,491.59330275229354,3532.9981651376147,2993.5369724770644,11747.85137614679,8504.197278287462,1477.256880733945,3589.5562201834864,9230.867492354739,1295.0847094801222,8969.719617737002,8853.354495412845,12520.270764525994,6481.901529051987,2038.6064220183487,2003.5933027522935,3480.5276452599387,3959.986360856269,1553.5461773700304,14107.194648318044,10475.245672782876,10010.454525993884,11777.256360856269,7606.539724770642,8828.337584097859,7305.095626911315,13608.990275229358,7121.996452599388,14269.554250764526,968.6409327217125,2164.278103975535,14837.175275229358,11355.932171253824]}],\"hovertemplate\":\"%{xaxis.title.text}=%{x}<br>%{yaxis.title.text}=%{y}<br>FUMANTE=%{marker.color}<extra></extra>\",\"legendgroup\":\"\",\"marker\":{\"color\":[2.0062144116619653,-0.4984512094953955,-0.4984512094953955,2.0062144116619653,2.0062144116619653,2.0062144116619653,-0.4984512094953955,-0.4984512094953955,-0.4984512094953955,-0.4984512094953955,-0.4984512094953955,2.0062144116619653,-0.4984512094953955,-0.4984512094953955,2.0062144116619653,2.0062144116619653,2.0062144116619653,2.0062144116619653,-0.4984512094953955,2.0062144116619653,-0.4984512094953955,-0.4984512094953955,-0.4984512094953955,2.0062144116619653,2.0062144116619653,-0.4984512094953955,2.0062144116619653,-0.4984512094953955,-0.4984512094953955,-0.4984512094953955,2.0062144116619653,2.0062144116619653,-0.4984512094953955,2.0062144116619653,-0.4984512094953955,-0.4984512094953955,2.0062144116619653,2.0062144116619653,-0.4984512094953955,-0.4984512094953955,2.0062144116619653,2.0062144116619653,2.0062144116619653,-0.4984512094953955,2.0062144116619653,2.0062144116619653,2.0062144116619653,-0.4984512094953955,-0.4984512094953955,2.0062144116619653,2.0062144116619653,-0.4984512094953955,2.0062144116619653,-0.4984512094953955,-0.4984512094953955,2.0062144116619653,-0.4984512094953955,2.0062144116619653,2.0062144116619653,2.0062144116619653,2.0062144116619653,-0.4984512094953955,2.0062144116619653,2.0062144116619653,-0.4984512094953955,-0.4984512094953955,-0.4984512094953955,2.0062144116619653,2.0062144116619653,-0.4984512094953955,-0.4984512094953955,2.0062144116619653,2.0062144116619653,2.0062144116619653,2.0062144116619653,-0.4984512094953955,2.0062144116619653,-0.4984512094953955,2.0062144116619653,2.0062144116619653,-0.4984512094953955,2.0062144116619653,2.0062144116619653,2.0062144116619653,2.0062144116619653,2.0062144116619653,2.0062144116619653,2.0062144116619653,2.0062144116619653,-0.4984512094953955,-0.4984512094953955,-0.4984512094953955,2.0062144116619653,2.0062144116619653,-0.4984512094953955,-0.4984512094953955,2.0062144116619653,-0.4984512094953955,2.0062144116619653,2.0062144116619653,2.0062144116619653,2.0062144116619653,-0.4984512094953955,-0.4984512094953955,-0.4984512094953955,-0.4984512094953955,-0.4984512094953955,2.0062144116619653,2.0062144116619653,2.0062144116619653,2.0062144116619653,2.0062144116619653,2.0062144116619653,2.0062144116619653,2.0062144116619653,-0.4984512094953955,2.0062144116619653,-0.4984512094953955,-0.4984512094953955,2.0062144116619653,2.0062144116619653],\"coloraxis\":\"coloraxis\",\"symbol\":\"circle\"},\"name\":\"\",\"showlegend\":false,\"type\":\"splom\"}],                        {\"template\":{\"data\":{\"bar\":[{\"error_x\":{\"color\":\"#2a3f5f\"},\"error_y\":{\"color\":\"#2a3f5f\"},\"marker\":{\"line\":{\"color\":\"#E5ECF6\",\"width\":0.5},\"pattern\":{\"fillmode\":\"overlay\",\"size\":10,\"solidity\":0.2}},\"type\":\"bar\"}],\"barpolar\":[{\"marker\":{\"line\":{\"color\":\"#E5ECF6\",\"width\":0.5},\"pattern\":{\"fillmode\":\"overlay\",\"size\":10,\"solidity\":0.2}},\"type\":\"barpolar\"}],\"carpet\":[{\"aaxis\":{\"endlinecolor\":\"#2a3f5f\",\"gridcolor\":\"white\",\"linecolor\":\"white\",\"minorgridcolor\":\"white\",\"startlinecolor\":\"#2a3f5f\"},\"baxis\":{\"endlinecolor\":\"#2a3f5f\",\"gridcolor\":\"white\",\"linecolor\":\"white\",\"minorgridcolor\":\"white\",\"startlinecolor\":\"#2a3f5f\"},\"type\":\"carpet\"}],\"choropleth\":[{\"colorbar\":{\"outlinewidth\":0,\"ticks\":\"\"},\"type\":\"choropleth\"}],\"contour\":[{\"colorbar\":{\"outlinewidth\":0,\"ticks\":\"\"},\"colorscale\":[[0.0,\"#0d0887\"],[0.1111111111111111,\"#46039f\"],[0.2222222222222222,\"#7201a8\"],[0.3333333333333333,\"#9c179e\"],[0.4444444444444444,\"#bd3786\"],[0.5555555555555556,\"#d8576b\"],[0.6666666666666666,\"#ed7953\"],[0.7777777777777778,\"#fb9f3a\"],[0.8888888888888888,\"#fdca26\"],[1.0,\"#f0f921\"]],\"type\":\"contour\"}],\"contourcarpet\":[{\"colorbar\":{\"outlinewidth\":0,\"ticks\":\"\"},\"type\":\"contourcarpet\"}],\"heatmap\":[{\"colorbar\":{\"outlinewidth\":0,\"ticks\":\"\"},\"colorscale\":[[0.0,\"#0d0887\"],[0.1111111111111111,\"#46039f\"],[0.2222222222222222,\"#7201a8\"],[0.3333333333333333,\"#9c179e\"],[0.4444444444444444,\"#bd3786\"],[0.5555555555555556,\"#d8576b\"],[0.6666666666666666,\"#ed7953\"],[0.7777777777777778,\"#fb9f3a\"],[0.8888888888888888,\"#fdca26\"],[1.0,\"#f0f921\"]],\"type\":\"heatmap\"}],\"heatmapgl\":[{\"colorbar\":{\"outlinewidth\":0,\"ticks\":\"\"},\"colorscale\":[[0.0,\"#0d0887\"],[0.1111111111111111,\"#46039f\"],[0.2222222222222222,\"#7201a8\"],[0.3333333333333333,\"#9c179e\"],[0.4444444444444444,\"#bd3786\"],[0.5555555555555556,\"#d8576b\"],[0.6666666666666666,\"#ed7953\"],[0.7777777777777778,\"#fb9f3a\"],[0.8888888888888888,\"#fdca26\"],[1.0,\"#f0f921\"]],\"type\":\"heatmapgl\"}],\"histogram\":[{\"marker\":{\"pattern\":{\"fillmode\":\"overlay\",\"size\":10,\"solidity\":0.2}},\"type\":\"histogram\"}],\"histogram2d\":[{\"colorbar\":{\"outlinewidth\":0,\"ticks\":\"\"},\"colorscale\":[[0.0,\"#0d0887\"],[0.1111111111111111,\"#46039f\"],[0.2222222222222222,\"#7201a8\"],[0.3333333333333333,\"#9c179e\"],[0.4444444444444444,\"#bd3786\"],[0.5555555555555556,\"#d8576b\"],[0.6666666666666666,\"#ed7953\"],[0.7777777777777778,\"#fb9f3a\"],[0.8888888888888888,\"#fdca26\"],[1.0,\"#f0f921\"]],\"type\":\"histogram2d\"}],\"histogram2dcontour\":[{\"colorbar\":{\"outlinewidth\":0,\"ticks\":\"\"},\"colorscale\":[[0.0,\"#0d0887\"],[0.1111111111111111,\"#46039f\"],[0.2222222222222222,\"#7201a8\"],[0.3333333333333333,\"#9c179e\"],[0.4444444444444444,\"#bd3786\"],[0.5555555555555556,\"#d8576b\"],[0.6666666666666666,\"#ed7953\"],[0.7777777777777778,\"#fb9f3a\"],[0.8888888888888888,\"#fdca26\"],[1.0,\"#f0f921\"]],\"type\":\"histogram2dcontour\"}],\"mesh3d\":[{\"colorbar\":{\"outlinewidth\":0,\"ticks\":\"\"},\"type\":\"mesh3d\"}],\"parcoords\":[{\"line\":{\"colorbar\":{\"outlinewidth\":0,\"ticks\":\"\"}},\"type\":\"parcoords\"}],\"pie\":[{\"automargin\":true,\"type\":\"pie\"}],\"scatter\":[{\"marker\":{\"colorbar\":{\"outlinewidth\":0,\"ticks\":\"\"}},\"type\":\"scatter\"}],\"scatter3d\":[{\"line\":{\"colorbar\":{\"outlinewidth\":0,\"ticks\":\"\"}},\"marker\":{\"colorbar\":{\"outlinewidth\":0,\"ticks\":\"\"}},\"type\":\"scatter3d\"}],\"scattercarpet\":[{\"marker\":{\"colorbar\":{\"outlinewidth\":0,\"ticks\":\"\"}},\"type\":\"scattercarpet\"}],\"scattergeo\":[{\"marker\":{\"colorbar\":{\"outlinewidth\":0,\"ticks\":\"\"}},\"type\":\"scattergeo\"}],\"scattergl\":[{\"marker\":{\"colorbar\":{\"outlinewidth\":0,\"ticks\":\"\"}},\"type\":\"scattergl\"}],\"scattermapbox\":[{\"marker\":{\"colorbar\":{\"outlinewidth\":0,\"ticks\":\"\"}},\"type\":\"scattermapbox\"}],\"scatterpolar\":[{\"marker\":{\"colorbar\":{\"outlinewidth\":0,\"ticks\":\"\"}},\"type\":\"scatterpolar\"}],\"scatterpolargl\":[{\"marker\":{\"colorbar\":{\"outlinewidth\":0,\"ticks\":\"\"}},\"type\":\"scatterpolargl\"}],\"scatterternary\":[{\"marker\":{\"colorbar\":{\"outlinewidth\":0,\"ticks\":\"\"}},\"type\":\"scatterternary\"}],\"surface\":[{\"colorbar\":{\"outlinewidth\":0,\"ticks\":\"\"},\"colorscale\":[[0.0,\"#0d0887\"],[0.1111111111111111,\"#46039f\"],[0.2222222222222222,\"#7201a8\"],[0.3333333333333333,\"#9c179e\"],[0.4444444444444444,\"#bd3786\"],[0.5555555555555556,\"#d8576b\"],[0.6666666666666666,\"#ed7953\"],[0.7777777777777778,\"#fb9f3a\"],[0.8888888888888888,\"#fdca26\"],[1.0,\"#f0f921\"]],\"type\":\"surface\"}],\"table\":[{\"cells\":{\"fill\":{\"color\":\"#EBF0F8\"},\"line\":{\"color\":\"white\"}},\"header\":{\"fill\":{\"color\":\"#C8D4E3\"},\"line\":{\"color\":\"white\"}},\"type\":\"table\"}]},\"layout\":{\"annotationdefaults\":{\"arrowcolor\":\"#2a3f5f\",\"arrowhead\":0,\"arrowwidth\":1},\"autotypenumbers\":\"strict\",\"coloraxis\":{\"colorbar\":{\"outlinewidth\":0,\"ticks\":\"\"}},\"colorscale\":{\"diverging\":[[0,\"#8e0152\"],[0.1,\"#c51b7d\"],[0.2,\"#de77ae\"],[0.3,\"#f1b6da\"],[0.4,\"#fde0ef\"],[0.5,\"#f7f7f7\"],[0.6,\"#e6f5d0\"],[0.7,\"#b8e186\"],[0.8,\"#7fbc41\"],[0.9,\"#4d9221\"],[1,\"#276419\"]],\"sequential\":[[0.0,\"#0d0887\"],[0.1111111111111111,\"#46039f\"],[0.2222222222222222,\"#7201a8\"],[0.3333333333333333,\"#9c179e\"],[0.4444444444444444,\"#bd3786\"],[0.5555555555555556,\"#d8576b\"],[0.6666666666666666,\"#ed7953\"],[0.7777777777777778,\"#fb9f3a\"],[0.8888888888888888,\"#fdca26\"],[1.0,\"#f0f921\"]],\"sequentialminus\":[[0.0,\"#0d0887\"],[0.1111111111111111,\"#46039f\"],[0.2222222222222222,\"#7201a8\"],[0.3333333333333333,\"#9c179e\"],[0.4444444444444444,\"#bd3786\"],[0.5555555555555556,\"#d8576b\"],[0.6666666666666666,\"#ed7953\"],[0.7777777777777778,\"#fb9f3a\"],[0.8888888888888888,\"#fdca26\"],[1.0,\"#f0f921\"]]},\"colorway\":[\"#636efa\",\"#EF553B\",\"#00cc96\",\"#ab63fa\",\"#FFA15A\",\"#19d3f3\",\"#FF6692\",\"#B6E880\",\"#FF97FF\",\"#FECB52\"],\"font\":{\"color\":\"#2a3f5f\"},\"geo\":{\"bgcolor\":\"white\",\"lakecolor\":\"white\",\"landcolor\":\"#E5ECF6\",\"showlakes\":true,\"showland\":true,\"subunitcolor\":\"white\"},\"hoverlabel\":{\"align\":\"left\"},\"hovermode\":\"closest\",\"mapbox\":{\"style\":\"light\"},\"paper_bgcolor\":\"white\",\"plot_bgcolor\":\"#E5ECF6\",\"polar\":{\"angularaxis\":{\"gridcolor\":\"white\",\"linecolor\":\"white\",\"ticks\":\"\"},\"bgcolor\":\"#E5ECF6\",\"radialaxis\":{\"gridcolor\":\"white\",\"linecolor\":\"white\",\"ticks\":\"\"}},\"scene\":{\"xaxis\":{\"backgroundcolor\":\"#E5ECF6\",\"gridcolor\":\"white\",\"gridwidth\":2,\"linecolor\":\"white\",\"showbackground\":true,\"ticks\":\"\",\"zerolinecolor\":\"white\"},\"yaxis\":{\"backgroundcolor\":\"#E5ECF6\",\"gridcolor\":\"white\",\"gridwidth\":2,\"linecolor\":\"white\",\"showbackground\":true,\"ticks\":\"\",\"zerolinecolor\":\"white\"},\"zaxis\":{\"backgroundcolor\":\"#E5ECF6\",\"gridcolor\":\"white\",\"gridwidth\":2,\"linecolor\":\"white\",\"showbackground\":true,\"ticks\":\"\",\"zerolinecolor\":\"white\"}},\"shapedefaults\":{\"line\":{\"color\":\"#2a3f5f\"}},\"ternary\":{\"aaxis\":{\"gridcolor\":\"white\",\"linecolor\":\"white\",\"ticks\":\"\"},\"baxis\":{\"gridcolor\":\"white\",\"linecolor\":\"white\",\"ticks\":\"\"},\"bgcolor\":\"#E5ECF6\",\"caxis\":{\"gridcolor\":\"white\",\"linecolor\":\"white\",\"ticks\":\"\"}},\"title\":{\"x\":0.05},\"xaxis\":{\"automargin\":true,\"gridcolor\":\"white\",\"linecolor\":\"white\",\"ticks\":\"\",\"title\":{\"standoff\":15},\"zerolinecolor\":\"white\",\"zerolinewidth\":2},\"yaxis\":{\"automargin\":true,\"gridcolor\":\"white\",\"linecolor\":\"white\",\"ticks\":\"\",\"title\":{\"standoff\":15},\"zerolinecolor\":\"white\",\"zerolinewidth\":2}}},\"coloraxis\":{\"colorbar\":{\"title\":{\"text\":\"FUMANTE\"}},\"colorscale\":[[0.0,\"#0d0887\"],[0.1111111111111111,\"#46039f\"],[0.2222222222222222,\"#7201a8\"],[0.3333333333333333,\"#9c179e\"],[0.4444444444444444,\"#bd3786\"],[0.5555555555555556,\"#d8576b\"],[0.6666666666666666,\"#ed7953\"],[0.7777777777777778,\"#fb9f3a\"],[0.8888888888888888,\"#fdca26\"],[1.0,\"#f0f921\"]]},\"legend\":{\"tracegroupgap\":0},\"margin\":{\"t\":60},\"dragmode\":\"select\"},                        {\"responsive\": true}                    ).then(function(){\n",
              "                            \n",
              "var gd = document.getElementById('d5cca73b-0b1a-4f56-9a35-c1ead25d5a02');\n",
              "var x = new MutationObserver(function (mutations, observer) {{\n",
              "        var display = window.getComputedStyle(gd).display;\n",
              "        if (!display || display === 'none') {{\n",
              "            console.log([gd, 'removed!']);\n",
              "            Plotly.purge(gd);\n",
              "            observer.disconnect();\n",
              "        }}\n",
              "}});\n",
              "\n",
              "// Listen for the removal of the full notebook cells\n",
              "var notebookContainer = gd.closest('#notebook-container');\n",
              "if (notebookContainer) {{\n",
              "    x.observe(notebookContainer, {childList: true});\n",
              "}}\n",
              "\n",
              "// Listen for the clearing of the current output cell\n",
              "var outputEl = gd.closest('.output');\n",
              "if (outputEl) {{\n",
              "    x.observe(outputEl, {childList: true});\n",
              "}}\n",
              "\n",
              "                        })                };                            </script>        </div>\n",
              "</body>\n",
              "</html>"
            ]
          },
          "metadata": {}
        }
      ]
    },
    {
      "cell_type": "markdown",
      "source": [
        "BASE DE TREINAMENTO E TESTE - COM OUTILIER"
      ],
      "metadata": {
        "id": "eDtF2kTfSni4"
      }
    },
    {
      "cell_type": "code",
      "source": [
        "x_train,x_teste, y_train, y_teste = train_test_split(df_modelagem_modelo.iloc[:,[1,3,5,7]].values, df_modelagem_modelo.iloc[:,-1].values, test_size = 0.3, random_state=0)"
      ],
      "metadata": {
        "id": "-uqXpYVNSjdz"
      },
      "execution_count": 104,
      "outputs": []
    },
    {
      "cell_type": "markdown",
      "source": [
        "RANDOM FOREST REGRESSOR - COM OUTILIER"
      ],
      "metadata": {
        "id": "dkHHKD4-AhgO"
      }
    },
    {
      "cell_type": "code",
      "source": [
        "obj_RandomForestRegressor = RandomForestRegressor(n_estimators=100)\n",
        "obj_RandomForestRegressor.fit(x_train, y_train)\n",
        "previsão = obj_RandomForestRegressor.predict(x_train)\n",
        "obj_RandomForestRegressor.score(x_train, y_train)"
      ],
      "metadata": {
        "id": "jCiTN4DvKML_",
        "colab": {
          "base_uri": "https://localhost:8080/"
        },
        "outputId": "fbfc25e9-7776-43fb-d923-7325b60ff9e0"
      },
      "execution_count": 105,
      "outputs": [
        {
          "output_type": "execute_result",
          "data": {
            "text/plain": [
              "0.9713703232257019"
            ]
          },
          "metadata": {},
          "execution_count": 105
        }
      ]
    },
    {
      "cell_type": "code",
      "source": [
        "obj_RandomForestRegressor.score(x_teste, y_teste)\n"
      ],
      "metadata": {
        "id": "1GRWKAmbLeIn",
        "colab": {
          "base_uri": "https://localhost:8080/"
        },
        "outputId": "62bc3fc0-155f-441e-b4d7-f9dc3fb0eb0f"
      },
      "execution_count": 106,
      "outputs": [
        {
          "output_type": "execute_result",
          "data": {
            "text/plain": [
              "0.7500672176045964"
            ]
          },
          "metadata": {},
          "execution_count": 106
        }
      ]
    },
    {
      "cell_type": "markdown",
      "source": [
        "VALIDAÇÃO CRUZADA - COM OUTILIER"
      ],
      "metadata": {
        "id": "kwzxtiNv7BQM"
      }
    },
    {
      "cell_type": "code",
      "source": [
        "Resultados_RFG_r2 =[]\n",
        "Resultados_RFG_MSRE =[]\n",
        "for i in range(30):\n",
        "  obj_Kfold = KFold(n_splits=10, shuffle=True, random_state=i)\n",
        "  scores_1 = cross_val_score(obj_RandomForestRegressor,df_modelagem_modelo.iloc[:,[1,3,5,7]].values,df_modelagem_modelo.iloc[:,-1].values,scoring='r2')\n",
        "  scores_2 = cross_val_score(obj_RandomForestRegressor,df_modelagem_modelo.iloc[:,[1,3,5,7]].values,df_modelagem_modelo.iloc[:,-1].values,scoring='neg_mean_absolute_error')\n",
        "  Resultados_RFG_r2.append(scores_1.mean())\n",
        "  Resultados_RFG_MSRE.append(-scores_2.mean())\n",
        "np.mean(Resultados_RFG_r2), np.mean(Resultados_RFG_MSRE)\n"
      ],
      "metadata": {
        "id": "WxdlV4L9PMq8",
        "colab": {
          "base_uri": "https://localhost:8080/"
        },
        "outputId": "cdb1d06c-63be-4eea-dc4f-a74a0675f7d9"
      },
      "execution_count": 107,
      "outputs": [
        {
          "output_type": "execute_result",
          "data": {
            "text/plain": [
              "(0.7984381776179325, 937.4864247452185)"
            ]
          },
          "metadata": {},
          "execution_count": 107
        }
      ]
    },
    {
      "cell_type": "code",
      "source": [
        "np.std(Resultados_RFG_r2) ,np.std(Resultados_RFG_MSRE)"
      ],
      "metadata": {
        "id": "mwV0YGYMXuSP",
        "colab": {
          "base_uri": "https://localhost:8080/"
        },
        "outputId": "67cd0f70-3ef5-48c5-bc7a-8280c3a4a1c8"
      },
      "execution_count": 108,
      "outputs": [
        {
          "output_type": "execute_result",
          "data": {
            "text/plain": [
              "(0.0012584021910302975, 4.158661039730205)"
            ]
          },
          "metadata": {},
          "execution_count": 108
        }
      ]
    },
    {
      "cell_type": "code",
      "source": [
        "px.scatter_matrix(df_modelagem_modelo, dimensions = ['IDADE','VALOR'], color='FUMANTE')"
      ],
      "metadata": {
        "id": "bqXFbAS0nyie",
        "colab": {
          "base_uri": "https://localhost:8080/",
          "height": 542
        },
        "outputId": "e1531636-4337-43dc-f6eb-93c8458d4065"
      },
      "execution_count": 109,
      "outputs": [
        {
          "output_type": "display_data",
          "data": {
            "text/html": [
              "<html>\n",
              "<head><meta charset=\"utf-8\" /></head>\n",
              "<body>\n",
              "    <div>            <script src=\"https://cdnjs.cloudflare.com/ajax/libs/mathjax/2.7.5/MathJax.js?config=TeX-AMS-MML_SVG\"></script><script type=\"text/javascript\">if (window.MathJax) {MathJax.Hub.Config({SVG: {font: \"STIX-Web\"}});}</script>                <script type=\"text/javascript\">window.PlotlyConfig = {MathJaxConfig: 'local'};</script>\n",
              "        <script src=\"https://cdn.plot.ly/plotly-2.8.3.min.js\"></script>                <div id=\"5027fdb3-16d5-4e45-9fb7-9530a9c2f2b2\" class=\"plotly-graph-div\" style=\"height:525px; width:100%;\"></div>            <script type=\"text/javascript\">                                    window.PLOTLYENV=window.PLOTLYENV || {};                                    if (document.getElementById(\"5027fdb3-16d5-4e45-9fb7-9530a9c2f2b2\")) {                    Plotly.newPlot(                        \"5027fdb3-16d5-4e45-9fb7-9530a9c2f2b2\",                        [{\"dimensions\":[{\"axis\":{\"matches\":true},\"label\":\"IDADE\",\"values\":[1.1995534893263093,-0.5170063053234973,0.5558435663326319,0.12670361767018024,-1.1607162283171748,-1.3752862026484007,1.1995534893263093,1.128030164549234,0.5558435663326319,0.12670361767018024,-0.6600529548776478,1.128030164549234,-1.3037628778713255,-0.1593896814381209,-1.1607162283171748,0.6988902158867825,0.1982269424472555,-0.30243633099227146,-0.6600529548776478,0.48432024155555664,-0.8030996044317984,-1.1607162283171748,0.12670361767018024,-1.5183328522025512,-0.37395965576934675,0.41279691677848135,-1.5183328522025512,-1.446809527425476,-0.08786635666104561,0.48432024155555664,0.9134601902180083,0.05518029289310495,0.9849835149950836,1.7717400875429117,0.5558435663326319,1.5571701132116857,0.5558435663326319,-1.0891929035400996,-0.6600529548776478,1.7002167627658364,-0.946146253985949,-0.946146253985949,1.4856467884346105,0.6988902158867825,-1.23223955309425,1.7002167627658364,-1.446809527425476,-0.37395965576934675,-1.5183328522025512,-0.8746229292088737,-1.23223955309425,-0.946146253985949,0.841936865440933,-0.016343031883970332,-0.30243633099227146,0.6273668911097072,1.0565068397721589,1.34260013888046,0.41279691677848135,-0.7315762796547232,-1.5183328522025512,0.7704135406638578,0.41279691677848135,-0.7315762796547232,0.7704135406638578,-0.8746229292088737,1.128030164549234,0.9134601902180083,-1.0891929035400996,-1.23223955309425,1.0565068397721589,-0.8030996044317984,0.841936865440933,0.26975026722433076,1.6286934379887612,-0.7315762796547232,-1.446809527425476,-0.30243633099227146,0.9849835149950836,0.1982269424472555,-1.23223955309425,-0.30243633099227146,-1.3752862026484007,-0.016343031883970332,0.26975026722433076,-0.44548298054642205,-0.1593896814381209,0.1982269424472555,1.5571701132116857,0.05518029289310495,-0.23091300621519617,0.48432024155555664,0.7704135406638578,-0.016343031883970332,1.128030164549234,0.48432024155555664,-1.3037628778713255,-0.8030996044317984,0.48432024155555664,-0.016343031883970332,-1.446809527425476,1.7002167627658364,0.26975026722433076,0.34127359200140606,1.2710768141033848,-0.8030996044317984,-0.44548298054642205,0.6273668911097072,1.5571701132116857,1.34260013888046,-0.8746229292088737,0.9134601902180083,1.4856467884346105,-0.8746229292088737,1.34260013888046,0.841936865440933,-0.44548298054642205,1.5571701132116857,0.26975026722433076,0.48432024155555664,-0.5885296301005726,-0.6600529548776478,-1.5183328522025512,-0.30243633099227146,-0.37395965576934675,0.1982269424472555,-1.3037628778713255,-1.23223955309425,1.7002167627658364,1.7717400875429117,0.26975026722433076,0.34127359200140606,0.05518029289310495,-0.016343031883970332,0.841936865440933,0.9849835149950836,1.6286934379887612,0.41279691677848135,-0.8746229292088737,-1.0891929035400996,0.841936865440933,1.2710768141033848,0.5558435663326319,1.34260013888046,-0.8030996044317984,-1.446809527425476,-0.30243633099227146,-0.5885296301005726,0.05518029289310495,-1.0891929035400996,-0.23091300621519617,0.34127359200140606,1.0565068397721589,0.34127359200140606,0.6988902158867825,0.7704135406638578,-0.23091300621519617,1.0565068397721589,-1.446809527425476,1.34260013888046,-1.1607162283171748,-1.1607162283171748,1.2710768141033848,0.1982269424472555,-0.23091300621519617,-1.446809527425476,1.0565068397721589,0.41279691677848135,-0.1593896814381209,-1.3752862026484007,0.6273668911097072,0.26975026722433076,-0.23091300621519617,-0.1593896814381209,-1.446809527425476,-1.0891929035400996,0.5558435663326319,0.48432024155555664,-0.8030996044317984,1.4141234636575353,0.9134601902180083,-0.08786635666104561,0.5558435663326319,-0.1593896814381209,-0.30243633099227146,1.2710768141033848,0.12670361767018024,-1.446809527425476,-0.6600529548776478,-1.5183328522025512,0.6273668911097072,-0.5170063053234973,1.128030164549234,0.6273668911097072,-1.3037628778713255,1.6286934379887612,0.26975026722433076,-0.016343031883970332,0.5558435663326319,0.05518029289310495,-0.37395965576934675,-1.23223955309425,-1.446809527425476,-0.946146253985949,-0.1593896814381209,-0.8746229292088737,-1.5183328522025512,-0.946146253985949,-0.8030996044317984,1.6286934379887612,0.41279691677848135,-1.23223955309425,0.48432024155555664,-0.6600529548776478,-1.446809527425476,-1.5183328522025512,1.0565068397721589,1.7002167627658364,0.41279691677848135,1.7717400875429117,0.9134601902180083,0.26975026722433076,-1.0891929035400996,0.7704135406638578,-0.30243633099227146,-0.946146253985949,-0.5170063053234973,0.48432024155555664,-0.23091300621519617,1.128030164549234,-0.08786635666104561,1.0565068397721589,0.12670361767018024,-0.8030996044317984,-0.8746229292088737,-1.446809527425476,-0.946146253985949,-0.30243633099227146,-1.0176695787630243,-1.446809527425476,-1.5183328522025512,-0.44548298054642205,0.05518029289310495,-0.7315762796547232,-1.3752862026484007,-0.6600529548776478,1.128030164549234,-0.1593896814381209,0.41279691677848135,0.41279691677848135,-0.5170063053234973,-0.5170063053234973,-1.5183328522025512,-0.5885296301005726,0.34127359200140606,-0.37395965576934675,-0.8030996044317984,1.2710768141033848,0.9849835149950836,1.4141234636575353,-1.3752862026484007,1.5571701132116857,1.0565068397721589,-1.0176695787630243,-1.5183328522025512,0.841936865440933,0.9134601902180083,0.05518029289310495,0.6988902158867825,0.7704135406638578,-0.30243633099227146,0.5558435663326319,0.6273668911097072,-0.946146253985949,1.4856467884346105,-1.23223955309425,1.5571701132116857,-0.016343031883970332,0.1982269424472555,0.41279691677848135,-1.0891929035400996,0.7704135406638578,-0.8030996044317984,-0.6600529548776478,0.05518029289310495,-0.016343031883970332,1.1995534893263093,0.1982269424472555,-0.7315762796547232,-0.1593896814381209,0.05518029289310495,-0.30243633099227146,0.12670361767018024,-0.23091300621519617,-0.8030996044317984,-0.6600529548776478,-0.016343031883970332,0.48432024155555664,-0.37395965576934675,0.6988902158867825,0.5558435663326319,-0.5170063053234973,0.05518029289310495,-0.5170063053234973,0.41279691677848135,0.9134601902180083,-0.44548298054642205,-1.446809527425476,-1.0891929035400996,1.128030164549234,-1.5183328522025512,0.9134601902180083,0.6988902158867825,0.6988902158867825,-1.446809527425476,1.7717400875429117,-1.0176695787630243,-1.5183328522025512,0.05518029289310495,0.9849835149950836,0.12670361767018024,-0.44548298054642205,0.6988902158867825,-0.30243633099227146,1.34260013888046,1.0565068397721589,-0.08786635666104561,-0.5885296301005726,0.9849835149950836,0.841936865440933,1.7002167627658364,0.9849835149950836,-0.08786635666104561,0.7704135406638578,-0.37395965576934675,-1.446809527425476,0.34127359200140606,-1.1607162283171748,1.128030164549234,-1.5183328522025512,-1.23223955309425,-0.08786635666104561,0.1982269424472555,1.1995534893263093,-0.946146253985949,0.1982269424472555,1.6286934379887612,1.128030164549234,1.4856467884346105,-1.0891929035400996,1.6286934379887612,1.5571701132116857,0.6988902158867825,-0.23091300621519617,0.12670361767018024,-0.016343031883970332,-1.0891929035400996,0.841936865440933,0.12670361767018024,0.6988902158867825,-1.5183328522025512,1.0565068397721589,1.5571701132116857,-0.8746229292088737,-1.5183328522025512,0.9849835149950836,0.6988902158867825,-0.30243633099227146,0.6273668911097072,0.1982269424472555,0.6988902158867825,0.34127359200140606,-0.016343031883970332,-1.446809527425476,-1.5183328522025512,-0.30243633099227146,0.05518029289310495,1.6286934379887612,-0.5885296301005726,1.4141234636575353,-0.37395965576934675,-1.1607162283171748,0.6273668911097072,-0.8030996044317984,-0.7315762796547232,0.9134601902180083,0.6988902158867825,-1.1607162283171748,-1.0176695787630243,-0.8030996044317984,0.6273668911097072,-1.3037628778713255,-0.5885296301005726,-1.0891929035400996,-1.5183328522025512,0.9134601902180083,0.1982269424472555,-0.37395965576934675,-0.30243633099227146,-0.8030996044317984,0.6988902158867825,0.7704135406638578,-1.0891929035400996,0.12670361767018024,1.4141234636575353,-0.23091300621519617,1.4856467884346105,-1.446809527425476,-1.446809527425476,-1.446809527425476,-1.3037628778713255,-1.23223955309425,1.4141234636575353,-1.0176695787630243,1.128030164549234,1.4856467884346105,1.128030164549234,0.9134601902180083,-1.0891929035400996,0.26975026722433076,-1.5183328522025512,-1.5183328522025512,-1.5183328522025512,1.5571701132116857,-0.016343031883970332,-0.37395965576934675,0.6273668911097072,-0.30243633099227146,0.9134601902180083,1.2710768141033848,-0.5170063053234973,-0.1593896814381209,-1.446809527425476,-1.5183328522025512,0.5558435663326319,1.4141234636575353,1.128030164549234,0.12670361767018024,0.6988902158867825,1.2710768141033848,0.841936865440933,-1.446809527425476,-1.1607162283171748,-1.1607162283171748,-0.8746229292088737,-0.7315762796547232,0.41279691677848135,0.9849835149950836,0.9134601902180083,-0.7315762796547232,0.1982269424472555,-0.5885296301005726,0.5558435663326319,-0.8030996044317984,-0.8746229292088737,0.05518029289310495,-1.1607162283171748,0.7704135406638578,0.841936865440933,-0.08786635666104561,-1.3752862026484007,1.1995534893263093,1.0565068397721589,-1.446809527425476,0.841936865440933,0.7704135406638578,-0.8030996044317984,-0.8030996044317984,0.6273668911097072,-0.1593896814381209,-0.44548298054642205,0.26975026722433076,1.4856467884346105,1.7002167627658364,0.41279691677848135,0.841936865440933,-0.5885296301005726,1.6286934379887612,-1.0891929035400996,-1.23223955309425,1.2710768141033848,0.12670361767018024,0.9134601902180083,0.12670361767018024,1.4141234636575353,-0.8746229292088737,-0.1593896814381209,0.5558435663326319,-1.23223955309425,-1.1607162283171748,0.05518029289310495,-1.0176695787630243,-0.6600529548776478,-0.6600529548776478,0.6988902158867825,-1.446809527425476,-0.5885296301005726,-1.23223955309425,-1.3752862026484007,1.128030164549234,-1.1607162283171748,1.4141234636575353,0.26975026722433076,-0.5885296301005726,-1.446809527425476,0.841936865440933,1.128030164549234,-1.3037628778713255,-0.08786635666104561,-1.23223955309425,-1.3037628778713255,0.5558435663326319,-0.5885296301005726,-0.5885296301005726,0.9134601902180083,-0.6600529548776478,1.4141234636575353,-1.1607162283171748,-0.5885296301005726,1.7717400875429117,0.34127359200140606,1.0565068397721589,1.5571701132116857,-1.446809527425476,-0.08786635666104561,-1.446809527425476,-0.8030996044317984,-0.6600529548776478,-1.3752862026484007,0.1982269424472555,0.5558435663326319,1.1995534893263093,-1.0891929035400996,-0.8746229292088737,0.48432024155555664,-1.446809527425476,1.7002167627658364,1.1995534893263093,-0.5170063053234973,-1.446809527425476,-0.8030996044317984,0.12670361767018024,-1.3752862026484007,-0.016343031883970332,-1.0891929035400996,-1.23223955309425,0.5558435663326319,0.6273668911097072,1.4856467884346105,0.841936865440933,-0.08786635666104561,-1.5183328522025512,-0.37395965576934675,-0.1593896814381209,0.41279691677848135,1.4856467884346105,1.0565068397721589,-0.8537095002501747,1.5571701132116857,1.128030164549234,0.1982269424472555,0.34127359200140606,1.2710768141033848,0.05518029289310495,-1.446809527425476,-1.3752862026484007,0.48432024155555664,-1.5183328522025512,1.34260013888046,0.9849835149950836,-0.5885296301005726,-1.5183328522025512,-0.7315762796547232,1.4856467884346105,1.4141234636575353,-0.1593896814381209,-1.0176695787630243,0.9849835149950836,-1.3037628778713255,0.7704135406638578,-1.446809527425476,-1.5183328522025512,-0.08786635666104561,0.41279691677848135,-0.8746229292088737,0.1982269424472555,-1.5183328522025512,-1.3037628778713255,-0.44548298054642205,0.41279691677848135,1.7002167627658364,0.9134601902180083,0.7704135406638578,-0.1593896814381209,-1.0891929035400996,1.4856467884346105,0.5558435663326319,1.7717400875429117,-1.446809527425476,-1.3752862026484007,1.2710768141033848,-1.5183328522025512,1.2710768141033848,-0.37395965576934675,1.5571701132116857,-1.446809527425476,-1.3752862026484007,-0.6600529548776478,-0.1593896814381209,1.0565068397721589,-0.37395965576934675,-1.5183328522025512,-1.0891929035400996,0.48432024155555664,0.34127359200140606,0.9849835149950836,-1.0176695787630243,-1.23223955309425,-1.3037628778713255,1.4856467884346105,-0.5170063053234973,-0.1593896814381209,-1.446809527425476,1.6286934379887612,-0.23091300621519617,-0.8030996044317984,1.7717400875429117,-1.0176695787630243,-1.3037628778713255,-0.7315762796547232,1.4856467884346105,0.7704135406638578,1.6286934379887612,-1.446809527425476,-1.5183328522025512,0.6273668911097072,0.12670361767018024,-0.8746229292088737,-1.5183328522025512,0.5558435663326319,-1.3037628778713255,0.34127359200140606,-0.08786635666104561,-1.0176695787630243,1.2710768141033848,0.48432024155555664,-0.08786635666104561,-0.946146253985949,-0.5170063053234973,0.26975026722433076,-1.446809527425476,-1.5183328522025512,0.841936865440933,1.7002167627658364,1.7002167627658364,-1.446809527425476,0.6273668911097072,0.6273668911097072,1.34260013888046,-1.5183328522025512,0.5558435663326319,0.12670361767018024,1.1995534893263093,-1.5183328522025512,-0.6600529548776478,-1.3752862026484007,0.26975026722433076,-0.946146253985949,-1.446809527425476,-1.23223955309425,-1.446809527425476,0.841936865440933,1.7002167627658364,1.4856467884346105,-0.8030996044317984,-1.1607162283171748,1.7002167627658364,-1.446809527425476,0.9134601902180083,-0.23091300621519617,-1.3037628778713255,0.48432024155555664,-1.5183328522025512,-1.5183328522025512,1.4856467884346105,-1.5183328522025512,0.7704135406638578,0.34127359200140606,-0.6600529548776478,0.7704135406638578,-0.5885296301005726,1.4141234636575353,-0.8746229292088737,0.9849835149950836,0.6273668911097072,1.4141234636575353,-0.1593896814381209,0.841936865440933,-1.0176695787630243,-1.446809527425476,-1.3752862026484007,1.128030164549234,1.4141234636575353,-1.446809527425476,1.34260013888046,-0.5885296301005726,0.26975026722433076,0.34127359200140606,-1.1607162283171748,1.7002167627658364,-0.23091300621519617,0.26975026722433076,-0.7315762796547232,0.9849835149950836,1.0565068397721589,-0.44548298054642205,1.4141234636575353,1.4141234636575353,-0.016343031883970332,-1.5183328522025512,1.34260013888046,-0.8030996044317984,1.4141234636575353,0.34127359200140606,-0.946146253985949,-0.016343031883970332,0.5558435663326319,0.26975026722433076,-1.3752862026484007,0.6273668911097072,-1.23223955309425,-0.1593896814381209,-1.446809527425476,0.7704135406638578,-1.0176695787630243,0.5558435663326319,1.1995534893263093,-0.44548298054642205,-1.1607162283171748,-1.446809527425476,-0.37395965576934675,-1.1607162283171748,-1.5183328522025512,0.34127359200140606,0.841936865440933,0.41279691677848135,-0.016343031883970332,1.0565068397721589,0.12670361767018024,-0.7315762796547232,0.6273668911097072,1.2710768141033848,-0.8746229292088737,-1.1607162283171748,0.9134601902180083,0.6273668911097072,-1.5183328522025512,-0.37395965576934675,-0.7315762796547232,1.2710768141033848,0.34127359200140606,0.9134601902180083,-1.0891929035400996,-1.3752862026484007,1.6286934379887612,0.9134601902180083,0.1982269424472555,-0.6600529548776478,-0.016343031883970332,-1.5183328522025512,-1.1607162283171748,0.6988902158867825,-0.30243633099227146,1.7717400875429117,1.4141234636575353,0.48432024155555664,0.41279691677848135,-1.5183328522025512,0.05518029289310495,0.841936865440933,0.841936865440933,1.1995534893263093,-0.8746229292088737,-1.1607162283171748,-1.559795632922882,-1.0176695787630243,1.6286934379887612,0.7704135406638578,-1.5183328522025512,-1.3037628778713255,1.0565068397721589,-1.446809527425476,1.128030164549234,-0.5170063053234973,1.0565068397721589,-0.946146253985949,-0.5170063053234973,0.6273668911097072,-0.946146253985949,-1.446809527425476,-0.8746229292088737,1.7002167627658364,-0.016343031883970332,0.7704135406638578,1.5571701132116857,-1.446809527425476,-0.08786635666104561,0.6988902158867825,0.41279691677848135,-0.5170063053234973,1.7717400875429117,0.26975026722433076,-0.23091300621519617,-0.23091300621519617,-0.08786635666104561,-0.5170063053234973,-0.016343031883970332,1.0565068397721589,1.6286934379887612,0.34127359200140606,1.7002167627658364,-1.5183328522025512,0.9849835149950836,0.1982269424472555,1.1995534893263093,0.6988902158867825,-1.446809527425476,-0.23091300621519617,-0.946146253985949,-1.3752862026484007,-0.08786635666104561,-0.7315762796547232,1.0565068397721589,-0.37395965576934675,-1.5183328522025512,1.4141234636575353,-1.0176695787630243,0.41279691677848135,0.41279691677848135,0.5558435663326319,1.34260013888046,-1.0176695787630243,0.41279691677848135,0.34127359200140606,1.4856467884346105,0.9849835149950836,1.6286934379887612,0.34127359200140606,1.34260013888046,-0.23091300621519617,0.41279691677848135,-0.7315762796547232,-0.6600529548776478,1.1995534893263093,-0.5170063053234973,-0.6600529548776478,1.4856467884346105,0.7704135406638578,-1.1607162283171748,0.5558435663326319,-1.3037628778713255,-1.5183328522025512,-1.5183328522025512,-0.6600529548776478,-1.0891929035400996,-0.44548298054642205,0.48432024155555664,-1.3037628778713255,1.7002167627658364,-0.016343031883970332,1.0565068397721589,0.6988902158867825,-1.5183328522025512,1.6286934379887612,-0.5170063053234973,0.05518029289310495,0.12670361767018024,0.1982269424472555,-1.3037628778713255,0.12670361767018024,1.7717400875429117,0.6273668911097072,-0.5885296301005726,0.9849835149950836,1.5571701132116857,-0.1593896814381209,-1.23223955309425,1.2710768141033848,-1.0891929035400996,0.26975026722433076,0.6988902158867825,-1.5183328522025512,0.9134601902180083,1.1995534893263093,-0.1593896814381209,-0.6600529548776478,1.7002167627658364,-0.1593896814381209,-0.946146253985949,1.128030164549234,1.4856467884346105,0.1982269424472555,1.6286934379887612,-1.446809527425476,0.48432024155555664,-0.23091300621519617,-1.3037628778713255,-1.446809527425476,0.26975026722433076,-0.37395965576934675,-1.5183328522025512,0.841936865440933,0.6273668911097072,0.7704135406638578,0.9849835149950836,1.128030164549234,-0.23091300621519617,0.12670361767018024,-0.016343031883970332,-0.44548298054642205,-0.44548298054642205,0.05518029289310495,1.1995534893263093,-0.6600529548776478,1.4856467884346105,-0.37395965576934675,-1.0891929035400996,-0.44548298054642205,-1.3752862026484007,-1.5183328522025512,-0.5885296301005726,0.6273668911097072,-0.37395965576934675,0.05518029289310495,0.841936865440933,1.1995534893263093,1.1995534893263093,0.41279691677848135,0.9849835149950836,1.0565068397721589,-1.5183328522025512,0.05518029289310495,-0.016343031883970332,0.05518029289310495,-1.3037628778713255,0.9849835149950836,-1.0176695787630243,-1.1607162283171748,1.7717400875429117,0.12670361767018024,0.1982269424472555,0.41279691677848135,1.34260013888046,-0.08786635666104561,1.34260013888046,1.34260013888046,-0.5170063053234973,-0.016343031883970332,0.41279691677848135,-0.7315762796547232,1.7002167627658364,-1.3752862026484007,0.841936865440933,0.6988902158867825,-1.0891929035400996,-0.1593896814381209,0.1982269424472555,0.48432024155555664,-1.0176695787630243,1.1995534893263093,-0.016343031883970332,-1.23223955309425,0.1982269424472555,-1.3752862026484007,1.7002167627658364,1.2710768141033848,1.7002167627658364,-0.7315762796547232,1.34260013888046,-1.5183328522025512,0.12670361767018024,0.12670361767018024,0.48432024155555664,-0.23091300621519617,-1.0176695787630243,1.7717400875429117,0.7704135406638578,-1.0176695787630243,0.9849835149950836,0.34127359200140606,0.9849835149950836,1.128030164549234,0.7704135406638578,1.5571701132116857,0.9849835149950836,-1.446809527425476,-0.1593896814381209,-1.3752862026484007,0.48432024155555664,1.4856467884346105,0.26975026722433076,-1.446809527425476,-1.0176695787630243,-0.30243633099227146,-1.446809527425476,-0.30243633099227146,1.2710768141033848,-1.0891929035400996,-1.446809527425476,-1.3752862026484007,-1.23223955309425,0.7704135406638578,-0.5170063053234973,-0.6600529548776478,-0.8746229292088737,-0.44548298054642205,-0.5885296301005726,-1.1607162283171748,-0.8746229292088737,0.1982269424472555,-0.1593896814381209,1.7717400875429117,0.9134601902180083,1.1995534893263093,1.0565068397721589,0.05518029289310495,1.0565068397721589,-1.3037628778713255,-0.7315762796547232,0.9849835149950836,1.34260013888046,-0.5170063053234973,-1.0176695787630243,1.6286934379887612,-1.3752862026484007,-1.0176695787630243,0.6273668911097072,-1.3752862026484007,1.4856467884346105,-0.30243633099227146,-0.23091300621519617,-1.23223955309425,1.34260013888046,-0.44548298054642205,0.48432024155555664,1.4141234636575353,0.1982269424472555,1.34260013888046,-1.23223955309425,1.4141234636575353,0.48432024155555664,-0.08786635666104561,-0.946146253985949,1.5571701132116857,-1.5183328522025512,-1.0176695787630243,-1.3752862026484007,0.5558435663326319,-1.3752862026484007,-0.8746229292088737,-0.44548298054642205,-1.0891929035400996,-0.5170063053234973,-0.30243633099227146,-0.1593896814381209,-1.5183328522025512,0.841936865440933,0.5558435663326319,0.9134601902180083,-1.23223955309425,0.12670361767018024,0.05518029289310495,-0.37395965576934675,0.6988902158867825,1.34260013888046,0.7704135406638578,0.9134601902180083,1.1995534893263093,1.7717400875429117,-0.44548298054642205,1.1995534893263093,-0.7315762796547232,0.6988902158867825,-0.23091300621519617,1.7717400875429117,-0.8030996044317984,-0.44548298054642205,1.2710768141033848,-0.946146253985949,0.12670361767018024,-1.446809527425476,1.7002167627658364,-1.5183328522025512,1.4141234636575353,0.41279691677848135,-1.0891929035400996,0.41279691677848135,-0.5170063053234973,0.41279691677848135,1.34260013888046,-1.0176695787630243,-1.446809527425476,0.26975026722433076,1.2710768141033848,0.48432024155555664,-0.5170063053234973,-1.5183328522025512,-1.5183328522025512,-1.0176695787630243,1.6286934379887612,-1.0176695787630243,1.7717400875429117,-0.946146253985949,0.48432024155555664,0.9849835149950836,-1.5183328522025512,0.26975026722433076,-0.08786635666104561,0.7704135406638578,-0.8030996044317984,0.841936865440933,0.6273668911097072,-0.44548298054642205,1.4141234636575353,-0.08786635666104561,-0.30243633099227146,0.7704135406638578,-1.1607162283171748,-0.30243633099227146,0.05518029289310495,-1.23223955309425,0.48432024155555664,0.48432024155555664,1.0565068397721589,-0.8030996044317984,1.34260013888046,-1.5183328522025512,1.5571701132116857,1.128030164549234,1.34260013888046,-0.44548298054642205,-1.1607162283171748,-0.44548298054642205,1.4856467884346105,1.2710768141033848,0.48432024155555664,-0.8746229292088737,0.6273668911097072,-0.7315762796547232,-0.6600529548776478,0.34127359200140606,1.0565068397721589,1.2710768141033848,0.26975026722433076,-0.08786635666104561,0.841936865440933,-0.37395965576934675,1.1995534893263093,1.2710768141033848,-0.946146253985949,1.7717400875429117,-0.5885296301005726,0.5558435663326319,0.26975026722433076,-1.5183328522025512,-1.1607162283171748,0.9849835149950836,-0.946146253985949,-0.08786635666104561,0.48432024155555664,-1.446809527425476,-1.5183328522025512,1.5571701132116857,-1.23223955309425,-0.5885296301005726,-0.5885296301005726,0.12670361767018024,1.128030164549234,0.6273668911097072,-0.6600529548776478,-1.446809527425476,-0.37395965576934675,-1.0176695787630243,-0.30243633099227146,0.9849835149950836,1.1995534893263093,-1.3752862026484007,-0.7315762796547232,-0.44548298054642205,-1.1607162283171748,1.6286934379887612,0.34127359200140606,-0.5170063053234973,1.7717400875429117,-0.946146253985949,-1.3037628778713255,0.9849835149950836,-0.7315762796547232,1.128030164549234,1.1995534893263093,-0.946146253985949,-1.0176695787630243,0.12670361767018024,-1.5183328522025512,0.05518029289310495,0.7704135406638578,1.5571701132116857,-1.3752862026484007,-0.8746229292088737,0.9134601902180083,1.128030164549234]},{\"axis\":{\"matches\":true},\"label\":\"VALOR\",\"values\":[3242.022018348624,1937.108119266055,8023.418951070336,12109.298837920489,1100.182262996942,784.8534250764526,3356.6500764525995,13585.260856269113,2941.9971559633027,1918.1887461773701,5970.020856269113,3273.538226299694,5072.323458715597,12288.14862385321,3301.509886850153,2661.607339449541,6105.427003058104,6188.028975535168,1442.8757033639145,2844.615764525994,969.9128134556574,739.1299694189602,12316.099541284404,671.7043425076453,1526.7206116207951,2783.4244648318045,704.5878287461774,828.5149694189603,1678.3675840978592,2670.7123088685016,2796.5030581039755,2016.3633944954129,2906.5169113149846,4229.6988379204895,7619.333593272172,4102.458134556575,2971.2051987767586,751.5296636085627,1304.637859327217,4275.795214067279,1035.290259938838,971.5033333333333,3713.326788990826,2630.375932721712,11365.493516819572,4388.334678899083,497.07454128440367,1381.9040519877676,523.6168195718654,759.5522935779816,657.6357798165137,1217.7299082568807,2805.5460703363915,6869.126529051988,12163.387247706421,2745.6223547400614,3821.189862385321,3738.3335932721716,2967.788394495413,13634.695984709479,3511.509128440367,3455.4565749235476,2781.3664373088686,876.4804281345565,3094.3192660550462,4589.1680275229355,3276.34373088685,3513.2467737003058,869.3457951070336,1224.8998470948013,3012.364525993884,1087.7438226299694,2833.27125382263,6691.382262996942,4119.512048929664,1235.6447247706421,10532.066024464832,1452.926605504587,3590.741896024465,6528.656269113149,10882.439143730888,1604.0449235474005,425.54394495412845,6161.87244648318,14025.444954128441,1826.4152905198775,14101.991131498471,2155.9698165137615,14496.599388379203,5946.258654434251,1675.240611620795,12740.55107033639,9261.358697247706,2204.7375535168194,3751.8753058103975,2884.686636085627,614.0504587155963,1624.516773700306,3087.7584097859326,1731.567278287462,5427.677737003058,4636.554862385321,11568.722996941895,14949.582755351681,3537.0949694189603,6170.541629969419,1466.5617125382262,3368.5549541284404,4317.926605504587,3588.953837920489,909.5186544342508,2973.3240061162082,3868.10501529052,1089.2626605504586,14524.921850152905,2839.0097859327216,5475.390535168196,3988.35504587156,2090.9384403669724,2877.9831804281343,1329.3649388379206,1453.7115596330275,678.7293883792048,1451.6981345565748,1376.2505351681957,2276.3434403669726,790.7800152905198,808.3389908256881,4244.938532110092,4557.03874617737,6874.189602446483,2268.953486238532,6829.225321100917,1943.8136697247705,3229.508165137615,2901.420244648318,13978.656834862384,10724.579363914372,5579.968042813456,10542.153211009174,3045.174801223242,4044.0541437308866,2577.39122324159,3621.5418960244647,822.4756574923547,10650.964525993884,7619.280201834862,997.0027522935779,1987.839724770642,5796.7034159021405,2063.789357798165,2269.4784556574923,19501.659941896025,14128.741620795106,2841.0212538226297,3209.1577370030577,2002.506131498471,3528.569113149847,561.8461773700305,3740.5546177370034,557.8854434250765,10448.401529051987,14885.479418960243,2122.602400611621,6352.791360856269,651.5828440366973,3457.4723394495413,2605.5125382262995,1869.2210856269114,4499.004220183487,2889.107767584098,2243.9596330275226,1643.2306574923546,12360.556299694188,857.3999541284404,5238.050788990826,3093.274877675841,12452.767905198778,1002.1899082568807,3952.8703363914374,3301.9376758409785,1650.6473088685013,2616.791131498471,1930.2605504587157,5962.299440366973,3621.032125382263,2820.306605504587,384.1892966360856,1233.101131498471,521.3150305810398,7394.7808868501525,1214.9616819571866,3389.167339449541,13976.15362385321,619.8697553516819,3970.2980733944955,1911.448012232416,2628.999327217125,12744.97892966361,1986.8152905198779,5801.986238532109,688.3288073394496,563.4614678899082,1425.4698318042815,11941.065749235475,1302.9798165137613,3941.913654434251,825.5560703363915,10603.103119266054,14286.900076452599,2208.803134556575,835.4471559633029,2698.4665902140673,12517.562538226299,679.3775076452599,495.9885932721713,3699.281712538226,4639.164831804281,2247.138226299694,14462.09633027523,2946.341896024465,2606.117125382263,4456.235718654434,12567.939373088684,1788.0481957186544,1037.4205504587158,1182.5245259938838,2905.374021406728,1644.48250764526,3127.3040366972477,1859.226758409786,3310.4751376146787,2254.364525993884,1326.5245259938838,764.0411009174312,379.8960244648318,1006.8898623853211,1814.7950458715595,982.7590366972477,5163.585321100917,527.6918348623853,1279.8464525993884,1663.2260244648319,1029.562599388379,605.525993883792,5799.135143730887,3239.90873088685,1959.147003058104,5482.967391437309,2634.648318042813,1606.582262996942,1246.0103058103975,498.4200305810397,1297.7339602446482,2482.039403669725,1350.2014678899084,1330.1107033639146,3617.9226911314986,7108.498532110091,6665.749357798165,5370.146712538226,8911.730978593272,3340.652354740061,6095.85871559633,496.0821100917431,3021.4275229357795,3157.5553516819573,1953.9381804281345,2482.1651376146788,12819.295718654435,1961.5223241590213,2611.5201834862387,6493.022097859328,1395.7772018348624,3864.8914373088683,842.5140519877676,4019.369006116208,1907.7363914373088,1944.5799541284405,13076.606177370031,607.6248929663608,7846.0474801223245,999.6472935779816,11299.772691131499,2496.243501529052,1727.7415902140674,3414.5008103975533,6501.3388226299685,1061.5931498470948,2226.760122324159,2018.4590214067277,12227.3473853211,2220.715902140673,1673.5318042813453,1151.9522324159022,1741.1102446483183,2741.833562691131,2811.5714067278286,1567.0301834862385,2808.0030581039755,2615.0908256880734,1427.4029510703363,1810.4293883792047,1433.146391437309,2604.2075535168196,7459.823363914373,1643.7425076452598,379.6834862385321,605.9883486238532,3990.009892966361,856.6540672782875,8093.913568807339,7127.384403669725,2657.1433792048933,11130.757186544342,14656.88990825688,771.6114678899082,499.68250764525993,8708.481648318044,3199.3820795107035,2187.6311620795104,2034.797737003058,3171.5328899082565,1567.344250764526,3741.846850152905,3816.424755351682,2030.7476605504587,1364.894525993884,3230.8515290519877,2862.791070336392,14466.454128440368,8362.703996941897,2181.6215596330276,13106.066666666668,1530.2302752293579,10635.967889908256,2367.075535168196,886.693990825688,3633.4428134556574,676.1867737003057,689.5402752293578,2004.6086697247706,6771.875229357798,3750.9195412844037,704.0672782874618,2336.2132874617737,8257.181874617738,3242.089373088685,3979.2687003058104,1412.2568501529051,4113.492966360856,8544.736262996941,2484.5285626911314,5690.599999999999,2250.206620795107,2202.355,5702.881253822629,2870.385718654434,2038.130259938838,2484.9493883792047,673.1183792048929,3698.6171253822627,9462.443975535169,5069.657339449542,674.611865443425,3346.217752293578,2845.4745871559635,1598.7733180428136,2889.067385321101,2363.806039755352,3140.5076452599387,2185.771498470948,1872.6510091743119,653.4808103975536,1064.7914373088686,1812.4911314984708,12233.43493883792,8593.679831804282,1149.1880122324158,4283.554128440367,1894.9382262996942,11015.599755351683,2651.7404434250766,5401.573149847094,5945.673853211009,2973.862385321101,2930.854220183486,822.6647706422018,11047.270244648318,1717.2382262996941,2532.300519877676,642.8944036697249,11838.22629969419,753.7060550458716,4204.242308868502,3489.8119266055046,1828.6639143730886,1496.8664525993884,1456.369724770642,936.5468654434251,3356.9438226299694,2581.855351681957,1081.866360856269,1921.1727828746177,3741.2318042813454,1493.537003058104,3896.3814831804284,383.46666666666664,382.9990825688073,528.7146788990825,586.3359021406728,659.5571253822629,7852.83744648318,5467.553724770642,3665.8006727828747,13764.206574923546,9193.755519877675,2943.706422018349,930.9520795107034,2275.688379204893,10315.806330275229,347.3824770642202,10490.265198776759,4019.5305351681955,5817.510703363914,2065.1492354740058,2828.5918042813455,1604.295718654434,2981.318226299694,8323.68111620795,1428.330275229358,2078.5514525993885,10321.1901529052,526.1020489296636,12908.604954128441,4281.739051987768,3484.42371559633,1745.9218348623851,2990.3202446483183,6333.033743119266,3497.473440366972,503.4953211009174,1365.939266055046,6604.092443425076,1094.1892966360856,1745.8308868501529,12148.476467889908,3018.290581039755,2795.397859327217,4928.227675840979,2156.159633027523,1869.489617737003,2609.991376146789,1176.6587155963302,1476.4235321100919,4840.618266055046,12508.929510703365,2766.9808256880733,2690.7012232415905,1974.8756574923545,6167.381048929663,3242.3195718654433,3701.9327217125383,831.5840214067279,3020.675137614679,3272.9793272171255,1443.3445107033638,966.8055045871561,3101.264892966361,12182.421712538226,11707.262844036697,2631.8707645259938,3862.35373088685,14931.024464831804,2275.551376146789,7329.4749388379205,1513.6876758409787,4657.5914525993885,603.348623853211,628.5397247706422,13326.892782874618,2102.740366972477,7948.874935779816,1891.5354128440367,4398.381972477064,1025.5260856269113,12193.181743119265,7503.271727828746,662.6091743119266,5604.9657798165135,1807.628134556575,986.8871865443424,5738.799831804281,1628.6394495412844,3174.7641284403667,834.8953669724771,1659.0285474006118,10885.501467889908,7989.502987767584,3632.753532110092,732.4683639143731,11287.647715596331,2240.075902140673,1330.4325382262996,533.4755351681957,3020.085749235474,10752.33473088685,7956.865602446483,1651.675993883792,773.0332262996942,643.459755351682,6721.3079204892965,2079.3449541284403,11849.038256880734,8292.964458715596,1265.2974617737004,3771.8128440366972,6848.851449541285,1358.1691590214066,4377.323027522935,5992.296529051988,3191.1514525993884,4169.919847094801,1433.5770642201833,2304.943088685015,499.25518348623854,970.0360856269114,1269.0324159021407,1503.0764067278287,1824.7362079510701,2472.146727828746,3597.247981651376,758.7092048929663,5780.88422324159,14113.49373088685,713.0027522935779,4756.938455657492,13398.735810397553,1874.24998470948,498.00333333333333,1356.2979204892965,2432.574006116208,541.1411773700305,1938.2494189602446,756.3712844036697,509.1741896024465,13517.63107033639,2742.6085626911313,4041.9249235474003,2685.770336391437,1646.3412844036698,347.522752293578,1387.2351681957186,2136.240657492355,2572.9244801223244,14731.914678899082,13535.39752293578,763.6202752293578,4353.233027522936,3818.2877370030583,2190.2177981651375,2511.0398165137617,3862.130152905199,2018.411605504587,497.63989296636083,752.2079816513761,6629.13866972477,355.79899082568807,3801.5147859327217,3438.647370030581,1185.2397859327218,11863.206605504587,1571.3323241590215,4256.826574923547,14647.336804281345,6244.833226299695,5571.303177370031,3351.5885932721712,466.7620795107033,2941.1811773700306,4233.793883792048,1037.7236544342509,12828.51501529052,6452.157201834862,5750.68880733945,2154.5868501529053,523.2497859327217,617.7911314984709,1461.6520795107033,2455.0360856269112,4211.039113149847,3055.3631957186544,3241.757889908257,1968.080642201835,871.7687308868502,14884.880366972477,2638.3917737003057,9225.265495412845,652.8750764525994,601.535993883792,4401.9566207951075,522.3245871559633,3527.4839908256877,1529.9029663608562,3840.2462691131495,501.39544342507645,11726.166972477064,1114.70623853211,2044.7802140672784,3815.092140672783,1831.6586085626911,672.2293119266055,873.2224923547401,2698.2504587155963,2124.98495412844,3441.4131498470947,990.3473088685015,625.5918195718655,794.4278287461774,4009.9708868501525,1574.4809174311927,1421.0272171253823,499.0936544342508,9669.725094801222,2210.463501529052,1360.6917431192662,4409.260061162079,7107.484565749235,643.1437308868501,5094.103195718654,16082.822443425077,2917.9497094801222,4115.5843425076455,529.5648318042813,498.981131498471,2680.5042813455657,2611.097385321101,5599.615290519877,1394.858868501529,7053.645474006115,1094.7488379204892,2187.3612844036697,1790.795871559633,653.7166972477064,3621.5974770642206,2520.057981651376,1860.0626911314985,978.9740519877677,6030.487675840978,6658.814113149847,385.76207951070336,4368.030397553517,6794.530550458716,4359.207400611621,4273.53380733945,5342.196911314984,2533.2356880733946,12530.325657492356,7408.971633027523,5253.4196941896025,2465.6770642201836,4197.392,3683.28501529052,4322.02989296636,1086.912232415902,4964.173394495413,4427.623899082569,1033.3058103975534,5223.571865443426,1200.5376758409786,380.06605504587156,13651.74232415902,4426.506116207951,3866.8467889908256,6016.310620795107,4014.274449541284,4099.507737003058,9953.620948012232,7543.553211009174,0.0,617.9059021406728,12878.1849235474,518.2863608562691,499.8695412844037,4038.007844036697,3923.3807645259935,2699.4525688073395,2299.090321100917,1443.2795259938837,7747.196587155963,1179.742889908257,3707.9487461773697,1482.2385779816514,6257.797449541285,3071.32996941896,4461.966987767584,1537.6595107033638,2871.97125382263,981.2804281345565,11076.270779816514,8478.375764525994,3451.5408868501527,3709.362125382263,528.3746177370031,3650.842798165138,17911.643571865443,12548.691559633027,2539.001727828746,852.922752293578,4419.521452599389,1707.7387461773699,6657.902844036697,1355.9375840978594,3235.385626911315,12843.88990825688,16860.979232415903,3775.8935779816516,3591.222935779817,1870.7934250764524,678.125122324159,3653.4024159021405,15655.828483180427,3859.9937308868502,12096.787308868501,886.0316513761468,6447.14373088685,2731.1726452599387,5751.114822629969,606.8664525993884,8706.091440366972,514.5556574923547,1930.8131498470948,501.39544342507645,2770.2539143730883,834.0657798165138,2613.972874617737,3565.0516513761468,1607.8005963302753,1070.5236391437309,500.2243577981651,4390.937116207951,558.6675840978594,5572.920856269113,2331.3510703363913,2949.3126911314985,2426.694541284404,7205.815345565748,3520.613149847095,2073.808623853211,5552.867278287462,3374.2084709480123,3867.3415902140673,1241.1964678899083,561.8599082568808,14455.612844036697,2386.5934250764526,11054.887920489296,1321.2265596330276,1025.469113149847,3533.401712538226,2331.691131498471,3304.84373088685,7670.265394495413,722.3942048929663,3969.222629969419,18355.167880733945,2451.700657492355,1295.7573547400611,2442.3471712538226,10586.495611620794,5514.974892966361,7993.993975535168,1564.6790214067278,8268.475259938838,3953.75874617737,2551.348241590214,19141.551403669724,343.0807033639144,2349.440366972477,3047.1131498470945,14145.294342507646,3866.476391437309,1088.2630733944954,555.3137308868502,491.59330275229354,1099.1348165137615,3969.830489296636,3390.087706422018,351.49721712538224,469.20626911314986,14846.843532110091,538.0238532110092,3633.6298470948013,1246.6351681957185,8355.576103975534,4420.6862538226305,1575.5761467889909,2528.759633027523,1185.7199541284403,4984.050764525994,1209.8077828746177,4095.949847094801,6623.831834862386,3030.6910856269114,4164.0240366972475,560.2733944954128,1855.3904434250765,3532.9981651376147,2993.5369724770644,1389.674250764526,4378.908562691132,2571.879770642202,11542.072079510704,11747.85137614679,1827.0289602446483,1362.202645259939,12264.186544342507,7485.1616238532115,8504.197278287462,2334.4711314984706,4247.085168195719,4745.620871559633,3413.9351681957182,10026.74574617737,3386.292354740061,2997.213516819572,0.0,13380.225397553517,5212.031009174312,1477.256880733945,4838.134250764526,1593.1433792048929,3342.1556574923547,3589.5562201834864,673.8446024464831,9230.867492354739,1012.1689908256882,2277.799373088685,2631.3405657492353,2467.3348623853212,3474.848623853211,12878.359510703363,2631.609021406728,2332.41376146789,8844.996000000001,3587.0579510703365,4593.19879204893,2453.558241590214,3619.9266055045873,11837.668501529051,2607.807951070336,1355.7760550458715,1479.3829663608562,7984.504296636086,5350.552293577982,1660.161376146789,3829.848562691131,2701.915886850153,4411.643379204893,13140.627737003058,1003.0179051987768,673.925366972477,347.85006116207956,1384.459617737003,1295.0847094801222,1495.4126911314984,2698.803058103975,941.0077981651376,0.0,1760.676896024465,3128.899051987768,7280.5017125382265,350.7023241590214,3962.421406727829,1395.3645565749234,5253.6764525993885,2221.927370030581,2189.6311926605504,4696.973853211009,1891.7819571865446,8969.719617737002,2712.8904281345567,1449.0116819571867,8925.529773700306,4106.738654434251,1897.2176605504587,11463.134342507645,3678.6809480122324,602.3284403669725,2541.541024464832,2840.375137614679,522.6072629969419,3485.290581039755,3385.484709480122,2103.3578287461773,6344.339174311926,8853.354495412845,5876.056737003058,895.1268195718654,3123.741896024465,9253.821272171253,2189.703455657492,4083.210948012232,7357.700363914373,2301.7450917431192,1495.1182874617737,1180.7980581039756,647.5042354740061,12520.270764525994,10853.7125382263,6527.476055045871,3013.8016513761468,2741.302920489297,2586.4886850152902,6481.901529051987,6308.955201834863,1610.9535626911315,2009.4875688073394,2442.1452599388376,5822.897859327217,2038.6064220183487,2193.6880581039754,3570.070336391437,1119.0660550458715,4045.518944954128,1532.865749235474,931.5174311926605,2003.5933027522935,934.6752599388379,525.8214984709481,1264.2453975535168,2531.352599388379,1203.4189296636087,2523.634342507645,14514.646483180428,3780.9012232415903,3239.824373088685,2364.48252293578,3016.352232415902,3191.4666666666667,520.6285321100918,1955.2304128440367,2052.0464525993884,2136.604587155963,972.6330581039755,3080.139159021407,1377.5725993883793,848.6826146788991,4918.999235474006,2070.395259938838,11695.900082568807,2246.2030581039753,3480.5276452599387,1949.1001070336392,4161.274847094801,3469.577675840979,11500.772996941896,2624.5572782874615,2277.0391437308867,1385.1611620795106,14390.07097859327,690.3594036697248,3522.9663149847097,3138.973119266055,11659.402599388379,11397.599755351683,2154.9609174311927,2367.617675840979,924.1006574923548,3959.986360856269,2268.6611620795106,1052.9247706422018,1979.820489296636,574.9449541284404,4094.9721712538226,8420.156850152905,4418.915718654434,876.7949847094801,3737.8893883792052,3447.1961437308864,2219.181376146789,2097.394373088685,2517.6265443425077,2215.233516819572,1553.5461773700304,4227.1568807339445,2582.4079510703364,775.0439602446484,3410.0244648318044,2719.0029051987767,3166.862691131498,12936.908914373089,7498.551681957187,11186.630629969419,3078.1079510703366,6878.794996941897,1895.642752293578,575.0724770642202,2517.766819571865,14107.194648318044,2094.503363914373,828.4745871559633,832.2081957186545,5921.100550458716,5030.854648318043,1721.8525535168194,3472.98498470948,10475.245672782876,531.3076452599388,751.4407186544342,512.1199694189602,6039.566782874617,10010.454525993884,1269.4277370030582,939.0852293577982,3793.541009174312,1296.6032568807339,11777.256360856269,10654.089602446484,2339.6861620795107,5975.30366972477,4407.012874617737,10236.07703058104,0.0,3195.8874617737,2464.7336697247706,3368.107614678899,735.3925993883792,1142.649755351682,7606.539724770642,3625.8139143730887,1429.1719266055047,1194.534250764526,4145.261437308868,574.2903363914373,1281.074342507645,3283.446712538226,600.8501529051988,3893.2720489296635,6417.154006116208,1612.2861773700306,807.0467584097859,3475.0101529051985,1609.0120642201834,2548.8041590214066,3919.0963149847094,2336.485993883792,3618.893669724771,838.5162079510703,8650.733229357798,2185.659021406728,2120.2575688073393,1065.5446483180428,8828.337584097859,499.40195718654434,805.1963302752295,10237.252951070337,3182.595061162079,573.4996941896025,762.6978593272171,1457.4990825688074,719.5622171253822,1364.7467278287463,1602.6804281345567,6206.991880733945,499.0278899082569,3015.603975535168,6384.949366972477,7305.095626911315,659.2298165137615,1743.0695718654433,1656.1655045871557,1646.8923241590214,2925.685290519878,3591.417155963303,3090.893149847095,7047.573749235474,13431.554648318042,4345.729648318043,5130.368211009174,3565.2535626911317,1241.0140978593272,7372.144510703364,1345.4834862385321,4914.093195718654,1141.4755657492356,6723.0796972477065,3679.6103975535166,819.8621712538227,1923.4724464831804,890.9996941896025,4359.691987767585,2239.6742565749237,14975.610886850154,2631.1386544342504,10748.479657492355,8666.724418960244,1220.134862385321,2604.534862385321,3475.8262996941894,10367.172171253822,5761.071455657492,13015.422140672783,3351.4770642201834,7523.8680030581045,1332.429250764526,11103.302232415903,521.2746483180428,4837.304495412844,4294.641192660551,980.5783944954128,8234.408073394496,1037.6075840978592,2548.7637767584097,3084.356574923547,349.0657798165137,2363.074373088685,1974.2699235474006,2731.524159021407,1354.3999541284404,2867.8607645259935,7207.422629969419,3463.8271773700303,3768.7877675840978,2034.4124770642202,1784.8686238532111,2920.3562996941896,745.5826299694189,1751.989388379205,2021.4402752293577,13608.990275229358,2735.2033944954132,2454.638103975535,7803.398663608563,7121.996452599388,3648.6621559633027,346.0264831804281,4015.169250764526,3305.0416819571865,3652.7811467889906,1397.985642201835,11067.003577981652,11339.257492354742,3714.6700305810396,3471.93504587156,2879.1804281345567,10644.179724770642,2924.4737003058103,11069.632721712538,5583.858103975535,2364.3507951070337,3161.752782874618,3652.9457798165136,6054.450932721713,1827.7770948012233,3019.174617737003,1710.9619266055047,4107.114678899083,3353.3474006116207,710.2818960244648,15161.364648318044,1509.0840978593271,2620.7528440366973,2246.3995718654432,528.2996941896024,1098.3119266055046,13227.650749235474,1042.9125382262996,2009.646483180428,2552.649633027523,385.88960244648314,673.0369571865443,7496.358183486239,658.825993883792,1148.8139449541284,1629.1743883792049,2369.772599388379,6355.195388379205,2382.151376146789,12000.440978593273,11284.016232415901,1891.2230581039755,1343.0128440366973,1957.8872629969421,14269.554250764526,3234.5831804281343,11457.291666666666,1505.478868501529,1945.257981651376,732.7510397553516,4774.371055045872,3913.5197614678896,1221.4611009174312,4583.618348623853,1067.4462079510704,968.6409327217125,3444.81376146789,6201.1643761467885,3301.6361620795105,3565.172798165138,888.1003058103976,1491.7373241590215,13423.968287461776,3634.265620795107,2164.278103975535,2945.075535168196,14837.175275229358,691.6112538226299,11355.932171253824,3452.326987767584,3752.198363914373]}],\"hovertemplate\":\"%{xaxis.title.text}=%{x}<br>%{yaxis.title.text}=%{y}<br>FUMANTE=%{marker.color}<extra></extra>\",\"legendgroup\":\"\",\"marker\":{\"color\":[-0.4984512094953955,-0.4984512094953955,-0.4984512094953955,2.0062144116619653,-0.4984512094953955,-0.4984512094953955,-0.4984512094953955,2.0062144116619653,-0.4984512094953955,-0.4984512094953955,2.0062144116619653,-0.4984512094953955,-0.4984512094953955,2.0062144116619653,-0.4984512094953955,-0.4984512094953955,2.0062144116619653,2.0062144116619653,-0.4984512094953955,-0.4984512094953955,-0.4984512094953955,-0.4984512094953955,2.0062144116619653,-0.4984512094953955,-0.4984512094953955,-0.4984512094953955,-0.4984512094953955,-0.4984512094953955,-0.4984512094953955,-0.4984512094953955,-0.4984512094953955,-0.4984512094953955,-0.4984512094953955,-0.4984512094953955,2.0062144116619653,-0.4984512094953955,-0.4984512094953955,-0.4984512094953955,-0.4984512094953955,-0.4984512094953955,-0.4984512094953955,-0.4984512094953955,-0.4984512094953955,-0.4984512094953955,2.0062144116619653,-0.4984512094953955,-0.4984512094953955,-0.4984512094953955,-0.4984512094953955,-0.4984512094953955,-0.4984512094953955,-0.4984512094953955,-0.4984512094953955,2.0062144116619653,2.0062144116619653,-0.4984512094953955,-0.4984512094953955,-0.4984512094953955,-0.4984512094953955,2.0062144116619653,-0.4984512094953955,-0.4984512094953955,-0.4984512094953955,-0.4984512094953955,-0.4984512094953955,2.0062144116619653,-0.4984512094953955,-0.4984512094953955,-0.4984512094953955,-0.4984512094953955,-0.4984512094953955,-0.4984512094953955,-0.4984512094953955,2.0062144116619653,-0.4984512094953955,-0.4984512094953955,2.0062144116619653,-0.4984512094953955,-0.4984512094953955,2.0062144116619653,2.0062144116619653,-0.4984512094953955,-0.4984512094953955,2.0062144116619653,2.0062144116619653,-0.4984512094953955,2.0062144116619653,-0.4984512094953955,2.0062144116619653,2.0062144116619653,-0.4984512094953955,2.0062144116619653,-0.4984512094953955,-0.4984512094953955,-0.4984512094953955,-0.4984512094953955,-0.4984512094953955,-0.4984512094953955,-0.4984512094953955,-0.4984512094953955,2.0062144116619653,-0.4984512094953955,2.0062144116619653,2.0062144116619653,-0.4984512094953955,-0.4984512094953955,-0.4984512094953955,-0.4984512094953955,-0.4984512094953955,-0.4984512094953955,-0.4984512094953955,-0.4984512094953955,-0.4984512094953955,-0.4984512094953955,2.0062144116619653,-0.4984512094953955,2.0062144116619653,-0.4984512094953955,-0.4984512094953955,-0.4984512094953955,-0.4984512094953955,-0.4984512094953955,-0.4984512094953955,-0.4984512094953955,-0.4984512094953955,-0.4984512094953955,-0.4984512094953955,-0.4984512094953955,-0.4984512094953955,-0.4984512094953955,2.0062144116619653,-0.4984512094953955,2.0062144116619653,-0.4984512094953955,-0.4984512094953955,-0.4984512094953955,2.0062144116619653,2.0062144116619653,2.0062144116619653,2.0062144116619653,-0.4984512094953955,-0.4984512094953955,-0.4984512094953955,-0.4984512094953955,-0.4984512094953955,2.0062144116619653,-0.4984512094953955,-0.4984512094953955,-0.4984512094953955,-0.4984512094953955,-0.4984512094953955,-0.4984512094953955,2.0062144116619653,2.0062144116619653,-0.4984512094953955,-0.4984512094953955,-0.4984512094953955,-0.4984512094953955,-0.4984512094953955,-0.4984512094953955,-0.4984512094953955,2.0062144116619653,2.0062144116619653,-0.4984512094953955,2.0062144116619653,-0.4984512094953955,-0.4984512094953955,-0.4984512094953955,-0.4984512094953955,2.0062144116619653,-0.4984512094953955,-0.4984512094953955,-0.4984512094953955,2.0062144116619653,-0.4984512094953955,-0.4984512094953955,-0.4984512094953955,2.0062144116619653,-0.4984512094953955,-0.4984512094953955,-0.4984512094953955,-0.4984512094953955,-0.4984512094953955,-0.4984512094953955,-0.4984512094953955,-0.4984512094953955,-0.4984512094953955,-0.4984512094953955,-0.4984512094953955,-0.4984512094953955,2.0062144116619653,-0.4984512094953955,-0.4984512094953955,2.0062144116619653,-0.4984512094953955,-0.4984512094953955,-0.4984512094953955,-0.4984512094953955,2.0062144116619653,-0.4984512094953955,2.0062144116619653,-0.4984512094953955,-0.4984512094953955,-0.4984512094953955,2.0062144116619653,-0.4984512094953955,-0.4984512094953955,-0.4984512094953955,2.0062144116619653,2.0062144116619653,-0.4984512094953955,-0.4984512094953955,-0.4984512094953955,2.0062144116619653,-0.4984512094953955,-0.4984512094953955,-0.4984512094953955,-0.4984512094953955,-0.4984512094953955,2.0062144116619653,-0.4984512094953955,-0.4984512094953955,2.0062144116619653,2.0062144116619653,-0.4984512094953955,-0.4984512094953955,-0.4984512094953955,-0.4984512094953955,-0.4984512094953955,-0.4984512094953955,-0.4984512094953955,-0.4984512094953955,-0.4984512094953955,-0.4984512094953955,-0.4984512094953955,-0.4984512094953955,-0.4984512094953955,-0.4984512094953955,-0.4984512094953955,2.0062144116619653,-0.4984512094953955,-0.4984512094953955,-0.4984512094953955,-0.4984512094953955,-0.4984512094953955,-0.4984512094953955,-0.4984512094953955,-0.4984512094953955,-0.4984512094953955,-0.4984512094953955,-0.4984512094953955,-0.4984512094953955,-0.4984512094953955,-0.4984512094953955,-0.4984512094953955,-0.4984512094953955,-0.4984512094953955,-0.4984512094953955,2.0062144116619653,-0.4984512094953955,2.0062144116619653,2.0062144116619653,-0.4984512094953955,2.0062144116619653,-0.4984512094953955,-0.4984512094953955,-0.4984512094953955,-0.4984512094953955,-0.4984512094953955,2.0062144116619653,-0.4984512094953955,-0.4984512094953955,-0.4984512094953955,-0.4984512094953955,-0.4984512094953955,-0.4984512094953955,-0.4984512094953955,-0.4984512094953955,-0.4984512094953955,2.0062144116619653,-0.4984512094953955,-0.4984512094953955,-0.4984512094953955,2.0062144116619653,-0.4984512094953955,-0.4984512094953955,-0.4984512094953955,2.0062144116619653,-0.4984512094953955,-0.4984512094953955,-0.4984512094953955,2.0062144116619653,-0.4984512094953955,-0.4984512094953955,-0.4984512094953955,-0.4984512094953955,-0.4984512094953955,-0.4984512094953955,-0.4984512094953955,-0.4984512094953955,-0.4984512094953955,-0.4984512094953955,-0.4984512094953955,-0.4984512094953955,-0.4984512094953955,2.0062144116619653,-0.4984512094953955,-0.4984512094953955,-0.4984512094953955,-0.4984512094953955,-0.4984512094953955,-0.4984512094953955,2.0062144116619653,-0.4984512094953955,2.0062144116619653,2.0062144116619653,-0.4984512094953955,-0.4984512094953955,-0.4984512094953955,-0.4984512094953955,-0.4984512094953955,-0.4984512094953955,-0.4984512094953955,-0.4984512094953955,-0.4984512094953955,-0.4984512094953955,-0.4984512094953955,-0.4984512094953955,-0.4984512094953955,-0.4984512094953955,2.0062144116619653,-0.4984512094953955,-0.4984512094953955,2.0062144116619653,-0.4984512094953955,2.0062144116619653,-0.4984512094953955,-0.4984512094953955,-0.4984512094953955,-0.4984512094953955,-0.4984512094953955,-0.4984512094953955,2.0062144116619653,-0.4984512094953955,-0.4984512094953955,-0.4984512094953955,-0.4984512094953955,-0.4984512094953955,-0.4984512094953955,-0.4984512094953955,-0.4984512094953955,-0.4984512094953955,-0.4984512094953955,2.0062144116619653,-0.4984512094953955,-0.4984512094953955,2.0062144116619653,-0.4984512094953955,-0.4984512094953955,-0.4984512094953955,-0.4984512094953955,-0.4984512094953955,2.0062144116619653,2.0062144116619653,-0.4984512094953955,-0.4984512094953955,-0.4984512094953955,-0.4984512094953955,-0.4984512094953955,-0.4984512094953955,-0.4984512094953955,-0.4984512094953955,-0.4984512094953955,-0.4984512094953955,-0.4984512094953955,-0.4984512094953955,2.0062144116619653,2.0062144116619653,-0.4984512094953955,-0.4984512094953955,-0.4984512094953955,2.0062144116619653,-0.4984512094953955,2.0062144116619653,-0.4984512094953955,-0.4984512094953955,-0.4984512094953955,-0.4984512094953955,2.0062144116619653,-0.4984512094953955,-0.4984512094953955,-0.4984512094953955,2.0062144116619653,-0.4984512094953955,2.0062144116619653,-0.4984512094953955,-0.4984512094953955,-0.4984512094953955,-0.4984512094953955,-0.4984512094953955,-0.4984512094953955,-0.4984512094953955,-0.4984512094953955,-0.4984512094953955,-0.4984512094953955,-0.4984512094953955,-0.4984512094953955,-0.4984512094953955,-0.4984512094953955,-0.4984512094953955,-0.4984512094953955,-0.4984512094953955,2.0062144116619653,-0.4984512094953955,-0.4984512094953955,2.0062144116619653,-0.4984512094953955,-0.4984512094953955,-0.4984512094953955,-0.4984512094953955,2.0062144116619653,-0.4984512094953955,2.0062144116619653,-0.4984512094953955,2.0062144116619653,-0.4984512094953955,-0.4984512094953955,-0.4984512094953955,-0.4984512094953955,2.0062144116619653,-0.4984512094953955,-0.4984512094953955,2.0062144116619653,-0.4984512094953955,2.0062144116619653,-0.4984512094953955,-0.4984512094953955,-0.4984512094953955,-0.4984512094953955,-0.4984512094953955,-0.4984512094953955,-0.4984512094953955,-0.4984512094953955,-0.4984512094953955,-0.4984512094953955,-0.4984512094953955,2.0062144116619653,-0.4984512094953955,-0.4984512094953955,2.0062144116619653,-0.4984512094953955,-0.4984512094953955,-0.4984512094953955,-0.4984512094953955,-0.4984512094953955,-0.4984512094953955,2.0062144116619653,-0.4984512094953955,-0.4984512094953955,-0.4984512094953955,2.0062144116619653,-0.4984512094953955,-0.4984512094953955,-0.4984512094953955,-0.4984512094953955,-0.4984512094953955,-0.4984512094953955,-0.4984512094953955,-0.4984512094953955,2.0062144116619653,2.0062144116619653,-0.4984512094953955,-0.4984512094953955,2.0062144116619653,-0.4984512094953955,2.0062144116619653,-0.4984512094953955,-0.4984512094953955,-0.4984512094953955,-0.4984512094953955,2.0062144116619653,-0.4984512094953955,-0.4984512094953955,-0.4984512094953955,-0.4984512094953955,-0.4984512094953955,2.0062144116619653,2.0062144116619653,-0.4984512094953955,2.0062144116619653,-0.4984512094953955,-0.4984512094953955,2.0062144116619653,-0.4984512094953955,-0.4984512094953955,-0.4984512094953955,-0.4984512094953955,2.0062144116619653,2.0062144116619653,-0.4984512094953955,-0.4984512094953955,-0.4984512094953955,-0.4984512094953955,-0.4984512094953955,-0.4984512094953955,-0.4984512094953955,-0.4984512094953955,-0.4984512094953955,-0.4984512094953955,-0.4984512094953955,-0.4984512094953955,2.0062144116619653,-0.4984512094953955,2.0062144116619653,-0.4984512094953955,-0.4984512094953955,-0.4984512094953955,-0.4984512094953955,-0.4984512094953955,-0.4984512094953955,2.0062144116619653,-0.4984512094953955,-0.4984512094953955,-0.4984512094953955,-0.4984512094953955,-0.4984512094953955,-0.4984512094953955,-0.4984512094953955,-0.4984512094953955,-0.4984512094953955,-0.4984512094953955,-0.4984512094953955,-0.4984512094953955,-0.4984512094953955,2.0062144116619653,-0.4984512094953955,-0.4984512094953955,2.0062144116619653,-0.4984512094953955,-0.4984512094953955,-0.4984512094953955,-0.4984512094953955,-0.4984512094953955,-0.4984512094953955,-0.4984512094953955,-0.4984512094953955,2.0062144116619653,-0.4984512094953955,-0.4984512094953955,-0.4984512094953955,-0.4984512094953955,-0.4984512094953955,-0.4984512094953955,-0.4984512094953955,-0.4984512094953955,2.0062144116619653,2.0062144116619653,-0.4984512094953955,-0.4984512094953955,-0.4984512094953955,-0.4984512094953955,-0.4984512094953955,-0.4984512094953955,-0.4984512094953955,-0.4984512094953955,-0.4984512094953955,2.0062144116619653,-0.4984512094953955,-0.4984512094953955,-0.4984512094953955,-0.4984512094953955,2.0062144116619653,-0.4984512094953955,-0.4984512094953955,2.0062144116619653,-0.4984512094953955,-0.4984512094953955,-0.4984512094953955,-0.4984512094953955,-0.4984512094953955,2.0062144116619653,-0.4984512094953955,2.0062144116619653,2.0062144116619653,-0.4984512094953955,-0.4984512094953955,-0.4984512094953955,-0.4984512094953955,-0.4984512094953955,-0.4984512094953955,-0.4984512094953955,-0.4984512094953955,-0.4984512094953955,-0.4984512094953955,-0.4984512094953955,2.0062144116619653,-0.4984512094953955,-0.4984512094953955,-0.4984512094953955,-0.4984512094953955,-0.4984512094953955,-0.4984512094953955,-0.4984512094953955,-0.4984512094953955,-0.4984512094953955,-0.4984512094953955,2.0062144116619653,-0.4984512094953955,-0.4984512094953955,-0.4984512094953955,-0.4984512094953955,-0.4984512094953955,-0.4984512094953955,-0.4984512094953955,-0.4984512094953955,-0.4984512094953955,-0.4984512094953955,-0.4984512094953955,-0.4984512094953955,-0.4984512094953955,-0.4984512094953955,-0.4984512094953955,-0.4984512094953955,-0.4984512094953955,-0.4984512094953955,-0.4984512094953955,-0.4984512094953955,-0.4984512094953955,-0.4984512094953955,2.0062144116619653,2.0062144116619653,-0.4984512094953955,-0.4984512094953955,-0.4984512094953955,-0.4984512094953955,-0.4984512094953955,-0.4984512094953955,2.0062144116619653,-0.4984512094953955,2.0062144116619653,-0.4984512094953955,-0.4984512094953955,-0.4984512094953955,-0.4984512094953955,-0.4984512094953955,-0.4984512094953955,-0.4984512094953955,-0.4984512094953955,2.0062144116619653,2.0062144116619653,-0.4984512094953955,2.0062144116619653,2.0062144116619653,-0.4984512094953955,-0.4984512094953955,2.0062144116619653,-0.4984512094953955,2.0062144116619653,2.0062144116619653,2.0062144116619653,-0.4984512094953955,-0.4984512094953955,-0.4984512094953955,-0.4984512094953955,-0.4984512094953955,2.0062144116619653,-0.4984512094953955,-0.4984512094953955,2.0062144116619653,-0.4984512094953955,-0.4984512094953955,2.0062144116619653,-0.4984512094953955,-0.4984512094953955,-0.4984512094953955,-0.4984512094953955,-0.4984512094953955,2.0062144116619653,2.0062144116619653,-0.4984512094953955,-0.4984512094953955,2.0062144116619653,-0.4984512094953955,-0.4984512094953955,-0.4984512094953955,2.0062144116619653,-0.4984512094953955,-0.4984512094953955,-0.4984512094953955,-0.4984512094953955,-0.4984512094953955,-0.4984512094953955,-0.4984512094953955,-0.4984512094953955,-0.4984512094953955,-0.4984512094953955,-0.4984512094953955,-0.4984512094953955,-0.4984512094953955,2.0062144116619653,-0.4984512094953955,-0.4984512094953955,-0.4984512094953955,-0.4984512094953955,-0.4984512094953955,2.0062144116619653,2.0062144116619653,-0.4984512094953955,-0.4984512094953955,-0.4984512094953955,-0.4984512094953955,2.0062144116619653,-0.4984512094953955,-0.4984512094953955,2.0062144116619653,2.0062144116619653,-0.4984512094953955,-0.4984512094953955,-0.4984512094953955,-0.4984512094953955,-0.4984512094953955,2.0062144116619653,-0.4984512094953955,2.0062144116619653,-0.4984512094953955,2.0062144116619653,-0.4984512094953955,-0.4984512094953955,-0.4984512094953955,-0.4984512094953955,-0.4984512094953955,-0.4984512094953955,-0.4984512094953955,-0.4984512094953955,-0.4984512094953955,-0.4984512094953955,-0.4984512094953955,-0.4984512094953955,-0.4984512094953955,-0.4984512094953955,-0.4984512094953955,-0.4984512094953955,2.0062144116619653,-0.4984512094953955,-0.4984512094953955,-0.4984512094953955,-0.4984512094953955,-0.4984512094953955,-0.4984512094953955,-0.4984512094953955,-0.4984512094953955,-0.4984512094953955,-0.4984512094953955,-0.4984512094953955,2.0062144116619653,-0.4984512094953955,2.0062144116619653,-0.4984512094953955,-0.4984512094953955,-0.4984512094953955,-0.4984512094953955,-0.4984512094953955,-0.4984512094953955,-0.4984512094953955,-0.4984512094953955,2.0062144116619653,-0.4984512094953955,-0.4984512094953955,-0.4984512094953955,2.0062144116619653,2.0062144116619653,-0.4984512094953955,-0.4984512094953955,2.0062144116619653,-0.4984512094953955,-0.4984512094953955,2.0062144116619653,-0.4984512094953955,-0.4984512094953955,-0.4984512094953955,2.0062144116619653,-0.4984512094953955,-0.4984512094953955,-0.4984512094953955,-0.4984512094953955,-0.4984512094953955,-0.4984512094953955,-0.4984512094953955,-0.4984512094953955,-0.4984512094953955,2.0062144116619653,-0.4984512094953955,-0.4984512094953955,-0.4984512094953955,-0.4984512094953955,2.0062144116619653,-0.4984512094953955,-0.4984512094953955,-0.4984512094953955,2.0062144116619653,-0.4984512094953955,-0.4984512094953955,2.0062144116619653,-0.4984512094953955,-0.4984512094953955,-0.4984512094953955,-0.4984512094953955,-0.4984512094953955,-0.4984512094953955,-0.4984512094953955,-0.4984512094953955,-0.4984512094953955,2.0062144116619653,2.0062144116619653,-0.4984512094953955,-0.4984512094953955,2.0062144116619653,-0.4984512094953955,2.0062144116619653,-0.4984512094953955,-0.4984512094953955,2.0062144116619653,-0.4984512094953955,2.0062144116619653,-0.4984512094953955,-0.4984512094953955,-0.4984512094953955,2.0062144116619653,2.0062144116619653,-0.4984512094953955,2.0062144116619653,-0.4984512094953955,-0.4984512094953955,-0.4984512094953955,-0.4984512094953955,2.0062144116619653,-0.4984512094953955,-0.4984512094953955,-0.4984512094953955,-0.4984512094953955,-0.4984512094953955,2.0062144116619653,-0.4984512094953955,-0.4984512094953955,-0.4984512094953955,-0.4984512094953955,-0.4984512094953955,-0.4984512094953955,-0.4984512094953955,2.0062144116619653,-0.4984512094953955,-0.4984512094953955,-0.4984512094953955,2.0062144116619653,2.0062144116619653,-0.4984512094953955,-0.4984512094953955,-0.4984512094953955,-0.4984512094953955,2.0062144116619653,-0.4984512094953955,-0.4984512094953955,-0.4984512094953955,-0.4984512094953955,-0.4984512094953955,-0.4984512094953955,-0.4984512094953955,-0.4984512094953955,2.0062144116619653,-0.4984512094953955,-0.4984512094953955,2.0062144116619653,-0.4984512094953955,-0.4984512094953955,-0.4984512094953955,2.0062144116619653,-0.4984512094953955,-0.4984512094953955,2.0062144116619653,-0.4984512094953955,2.0062144116619653,-0.4984512094953955,-0.4984512094953955,-0.4984512094953955,-0.4984512094953955,-0.4984512094953955,2.0062144116619653,-0.4984512094953955,-0.4984512094953955,-0.4984512094953955,-0.4984512094953955,-0.4984512094953955,-0.4984512094953955,-0.4984512094953955,-0.4984512094953955,2.0062144116619653,2.0062144116619653,-0.4984512094953955,-0.4984512094953955,-0.4984512094953955,-0.4984512094953955,-0.4984512094953955,-0.4984512094953955,-0.4984512094953955,-0.4984512094953955,-0.4984512094953955,-0.4984512094953955,-0.4984512094953955,2.0062144116619653,2.0062144116619653,-0.4984512094953955,-0.4984512094953955,-0.4984512094953955,-0.4984512094953955,2.0062144116619653,-0.4984512094953955,-0.4984512094953955,-0.4984512094953955,-0.4984512094953955,2.0062144116619653,-0.4984512094953955,-0.4984512094953955,-0.4984512094953955,-0.4984512094953955,-0.4984512094953955,-0.4984512094953955,-0.4984512094953955,-0.4984512094953955,-0.4984512094953955,-0.4984512094953955,-0.4984512094953955,-0.4984512094953955,-0.4984512094953955,-0.4984512094953955,2.0062144116619653,-0.4984512094953955,-0.4984512094953955,-0.4984512094953955,-0.4984512094953955,-0.4984512094953955,-0.4984512094953955,-0.4984512094953955,-0.4984512094953955,-0.4984512094953955,-0.4984512094953955,-0.4984512094953955,-0.4984512094953955,-0.4984512094953955,-0.4984512094953955,-0.4984512094953955,2.0062144116619653,-0.4984512094953955,-0.4984512094953955,-0.4984512094953955,-0.4984512094953955,-0.4984512094953955,2.0062144116619653,-0.4984512094953955,-0.4984512094953955,-0.4984512094953955,2.0062144116619653,-0.4984512094953955,-0.4984512094953955,-0.4984512094953955,2.0062144116619653,2.0062144116619653,-0.4984512094953955,-0.4984512094953955,-0.4984512094953955,-0.4984512094953955,-0.4984512094953955,-0.4984512094953955,-0.4984512094953955,-0.4984512094953955,-0.4984512094953955,2.0062144116619653,-0.4984512094953955,-0.4984512094953955,-0.4984512094953955,-0.4984512094953955,-0.4984512094953955,-0.4984512094953955,-0.4984512094953955,-0.4984512094953955,-0.4984512094953955,-0.4984512094953955,-0.4984512094953955,-0.4984512094953955,-0.4984512094953955,-0.4984512094953955,-0.4984512094953955,2.0062144116619653,2.0062144116619653,-0.4984512094953955,-0.4984512094953955,-0.4984512094953955,-0.4984512094953955,-0.4984512094953955,-0.4984512094953955,2.0062144116619653,-0.4984512094953955,-0.4984512094953955,-0.4984512094953955,2.0062144116619653,2.0062144116619653,-0.4984512094953955,-0.4984512094953955,2.0062144116619653,-0.4984512094953955,-0.4984512094953955,-0.4984512094953955,-0.4984512094953955,2.0062144116619653,-0.4984512094953955,-0.4984512094953955,-0.4984512094953955,-0.4984512094953955,2.0062144116619653,2.0062144116619653,-0.4984512094953955,2.0062144116619653,-0.4984512094953955,-0.4984512094953955,2.0062144116619653,-0.4984512094953955,-0.4984512094953955,-0.4984512094953955,-0.4984512094953955,-0.4984512094953955,2.0062144116619653,-0.4984512094953955,-0.4984512094953955,-0.4984512094953955,-0.4984512094953955,-0.4984512094953955,-0.4984512094953955,-0.4984512094953955,-0.4984512094953955,-0.4984512094953955,2.0062144116619653,-0.4984512094953955,-0.4984512094953955,-0.4984512094953955,-0.4984512094953955,-0.4984512094953955,-0.4984512094953955,-0.4984512094953955,-0.4984512094953955,-0.4984512094953955,-0.4984512094953955,-0.4984512094953955,-0.4984512094953955,-0.4984512094953955,2.0062144116619653,-0.4984512094953955,-0.4984512094953955,2.0062144116619653,-0.4984512094953955,-0.4984512094953955,-0.4984512094953955,-0.4984512094953955,-0.4984512094953955,-0.4984512094953955,-0.4984512094953955,2.0062144116619653,-0.4984512094953955,-0.4984512094953955,-0.4984512094953955,2.0062144116619653,-0.4984512094953955,-0.4984512094953955,-0.4984512094953955,-0.4984512094953955,-0.4984512094953955,-0.4984512094953955,-0.4984512094953955,-0.4984512094953955,2.0062144116619653,-0.4984512094953955,2.0062144116619653,-0.4984512094953955,-0.4984512094953955,2.0062144116619653,-0.4984512094953955,-0.4984512094953955,-0.4984512094953955,-0.4984512094953955,-0.4984512094953955,-0.4984512094953955,-0.4984512094953955,-0.4984512094953955,-0.4984512094953955,-0.4984512094953955,2.0062144116619653,-0.4984512094953955,2.0062144116619653,-0.4984512094953955,-0.4984512094953955,-0.4984512094953955,-0.4984512094953955,2.0062144116619653,-0.4984512094953955,2.0062144116619653,-0.4984512094953955,-0.4984512094953955,-0.4984512094953955,2.0062144116619653,-0.4984512094953955,2.0062144116619653,-0.4984512094953955,-0.4984512094953955,2.0062144116619653,-0.4984512094953955,-0.4984512094953955,-0.4984512094953955,-0.4984512094953955,-0.4984512094953955,-0.4984512094953955,-0.4984512094953955,-0.4984512094953955,-0.4984512094953955,2.0062144116619653,-0.4984512094953955,-0.4984512094953955,-0.4984512094953955,-0.4984512094953955,-0.4984512094953955,-0.4984512094953955,-0.4984512094953955,-0.4984512094953955,2.0062144116619653,-0.4984512094953955,-0.4984512094953955,-0.4984512094953955,-0.4984512094953955,-0.4984512094953955,-0.4984512094953955,-0.4984512094953955,-0.4984512094953955,-0.4984512094953955,-0.4984512094953955,2.0062144116619653,2.0062144116619653,-0.4984512094953955,-0.4984512094953955,-0.4984512094953955,2.0062144116619653,-0.4984512094953955,2.0062144116619653,2.0062144116619653,-0.4984512094953955,-0.4984512094953955,-0.4984512094953955,2.0062144116619653,-0.4984512094953955,-0.4984512094953955,-0.4984512094953955,-0.4984512094953955,-0.4984512094953955,-0.4984512094953955,2.0062144116619653,-0.4984512094953955,-0.4984512094953955,-0.4984512094953955,-0.4984512094953955,-0.4984512094953955,2.0062144116619653,-0.4984512094953955,-0.4984512094953955,-0.4984512094953955,-0.4984512094953955,-0.4984512094953955,-0.4984512094953955,-0.4984512094953955,-0.4984512094953955,-0.4984512094953955,-0.4984512094953955,-0.4984512094953955,-0.4984512094953955,2.0062144116619653,2.0062144116619653,-0.4984512094953955,-0.4984512094953955,-0.4984512094953955,2.0062144116619653,-0.4984512094953955,2.0062144116619653,-0.4984512094953955,-0.4984512094953955,-0.4984512094953955,-0.4984512094953955,-0.4984512094953955,-0.4984512094953955,-0.4984512094953955,-0.4984512094953955,-0.4984512094953955,-0.4984512094953955,-0.4984512094953955,-0.4984512094953955,-0.4984512094953955,-0.4984512094953955,-0.4984512094953955,2.0062144116619653,-0.4984512094953955,-0.4984512094953955,-0.4984512094953955,2.0062144116619653,-0.4984512094953955,2.0062144116619653,-0.4984512094953955,-0.4984512094953955],\"coloraxis\":\"coloraxis\",\"symbol\":\"circle\"},\"name\":\"\",\"showlegend\":false,\"type\":\"splom\"}],                        {\"template\":{\"data\":{\"bar\":[{\"error_x\":{\"color\":\"#2a3f5f\"},\"error_y\":{\"color\":\"#2a3f5f\"},\"marker\":{\"line\":{\"color\":\"#E5ECF6\",\"width\":0.5},\"pattern\":{\"fillmode\":\"overlay\",\"size\":10,\"solidity\":0.2}},\"type\":\"bar\"}],\"barpolar\":[{\"marker\":{\"line\":{\"color\":\"#E5ECF6\",\"width\":0.5},\"pattern\":{\"fillmode\":\"overlay\",\"size\":10,\"solidity\":0.2}},\"type\":\"barpolar\"}],\"carpet\":[{\"aaxis\":{\"endlinecolor\":\"#2a3f5f\",\"gridcolor\":\"white\",\"linecolor\":\"white\",\"minorgridcolor\":\"white\",\"startlinecolor\":\"#2a3f5f\"},\"baxis\":{\"endlinecolor\":\"#2a3f5f\",\"gridcolor\":\"white\",\"linecolor\":\"white\",\"minorgridcolor\":\"white\",\"startlinecolor\":\"#2a3f5f\"},\"type\":\"carpet\"}],\"choropleth\":[{\"colorbar\":{\"outlinewidth\":0,\"ticks\":\"\"},\"type\":\"choropleth\"}],\"contour\":[{\"colorbar\":{\"outlinewidth\":0,\"ticks\":\"\"},\"colorscale\":[[0.0,\"#0d0887\"],[0.1111111111111111,\"#46039f\"],[0.2222222222222222,\"#7201a8\"],[0.3333333333333333,\"#9c179e\"],[0.4444444444444444,\"#bd3786\"],[0.5555555555555556,\"#d8576b\"],[0.6666666666666666,\"#ed7953\"],[0.7777777777777778,\"#fb9f3a\"],[0.8888888888888888,\"#fdca26\"],[1.0,\"#f0f921\"]],\"type\":\"contour\"}],\"contourcarpet\":[{\"colorbar\":{\"outlinewidth\":0,\"ticks\":\"\"},\"type\":\"contourcarpet\"}],\"heatmap\":[{\"colorbar\":{\"outlinewidth\":0,\"ticks\":\"\"},\"colorscale\":[[0.0,\"#0d0887\"],[0.1111111111111111,\"#46039f\"],[0.2222222222222222,\"#7201a8\"],[0.3333333333333333,\"#9c179e\"],[0.4444444444444444,\"#bd3786\"],[0.5555555555555556,\"#d8576b\"],[0.6666666666666666,\"#ed7953\"],[0.7777777777777778,\"#fb9f3a\"],[0.8888888888888888,\"#fdca26\"],[1.0,\"#f0f921\"]],\"type\":\"heatmap\"}],\"heatmapgl\":[{\"colorbar\":{\"outlinewidth\":0,\"ticks\":\"\"},\"colorscale\":[[0.0,\"#0d0887\"],[0.1111111111111111,\"#46039f\"],[0.2222222222222222,\"#7201a8\"],[0.3333333333333333,\"#9c179e\"],[0.4444444444444444,\"#bd3786\"],[0.5555555555555556,\"#d8576b\"],[0.6666666666666666,\"#ed7953\"],[0.7777777777777778,\"#fb9f3a\"],[0.8888888888888888,\"#fdca26\"],[1.0,\"#f0f921\"]],\"type\":\"heatmapgl\"}],\"histogram\":[{\"marker\":{\"pattern\":{\"fillmode\":\"overlay\",\"size\":10,\"solidity\":0.2}},\"type\":\"histogram\"}],\"histogram2d\":[{\"colorbar\":{\"outlinewidth\":0,\"ticks\":\"\"},\"colorscale\":[[0.0,\"#0d0887\"],[0.1111111111111111,\"#46039f\"],[0.2222222222222222,\"#7201a8\"],[0.3333333333333333,\"#9c179e\"],[0.4444444444444444,\"#bd3786\"],[0.5555555555555556,\"#d8576b\"],[0.6666666666666666,\"#ed7953\"],[0.7777777777777778,\"#fb9f3a\"],[0.8888888888888888,\"#fdca26\"],[1.0,\"#f0f921\"]],\"type\":\"histogram2d\"}],\"histogram2dcontour\":[{\"colorbar\":{\"outlinewidth\":0,\"ticks\":\"\"},\"colorscale\":[[0.0,\"#0d0887\"],[0.1111111111111111,\"#46039f\"],[0.2222222222222222,\"#7201a8\"],[0.3333333333333333,\"#9c179e\"],[0.4444444444444444,\"#bd3786\"],[0.5555555555555556,\"#d8576b\"],[0.6666666666666666,\"#ed7953\"],[0.7777777777777778,\"#fb9f3a\"],[0.8888888888888888,\"#fdca26\"],[1.0,\"#f0f921\"]],\"type\":\"histogram2dcontour\"}],\"mesh3d\":[{\"colorbar\":{\"outlinewidth\":0,\"ticks\":\"\"},\"type\":\"mesh3d\"}],\"parcoords\":[{\"line\":{\"colorbar\":{\"outlinewidth\":0,\"ticks\":\"\"}},\"type\":\"parcoords\"}],\"pie\":[{\"automargin\":true,\"type\":\"pie\"}],\"scatter\":[{\"marker\":{\"colorbar\":{\"outlinewidth\":0,\"ticks\":\"\"}},\"type\":\"scatter\"}],\"scatter3d\":[{\"line\":{\"colorbar\":{\"outlinewidth\":0,\"ticks\":\"\"}},\"marker\":{\"colorbar\":{\"outlinewidth\":0,\"ticks\":\"\"}},\"type\":\"scatter3d\"}],\"scattercarpet\":[{\"marker\":{\"colorbar\":{\"outlinewidth\":0,\"ticks\":\"\"}},\"type\":\"scattercarpet\"}],\"scattergeo\":[{\"marker\":{\"colorbar\":{\"outlinewidth\":0,\"ticks\":\"\"}},\"type\":\"scattergeo\"}],\"scattergl\":[{\"marker\":{\"colorbar\":{\"outlinewidth\":0,\"ticks\":\"\"}},\"type\":\"scattergl\"}],\"scattermapbox\":[{\"marker\":{\"colorbar\":{\"outlinewidth\":0,\"ticks\":\"\"}},\"type\":\"scattermapbox\"}],\"scatterpolar\":[{\"marker\":{\"colorbar\":{\"outlinewidth\":0,\"ticks\":\"\"}},\"type\":\"scatterpolar\"}],\"scatterpolargl\":[{\"marker\":{\"colorbar\":{\"outlinewidth\":0,\"ticks\":\"\"}},\"type\":\"scatterpolargl\"}],\"scatterternary\":[{\"marker\":{\"colorbar\":{\"outlinewidth\":0,\"ticks\":\"\"}},\"type\":\"scatterternary\"}],\"surface\":[{\"colorbar\":{\"outlinewidth\":0,\"ticks\":\"\"},\"colorscale\":[[0.0,\"#0d0887\"],[0.1111111111111111,\"#46039f\"],[0.2222222222222222,\"#7201a8\"],[0.3333333333333333,\"#9c179e\"],[0.4444444444444444,\"#bd3786\"],[0.5555555555555556,\"#d8576b\"],[0.6666666666666666,\"#ed7953\"],[0.7777777777777778,\"#fb9f3a\"],[0.8888888888888888,\"#fdca26\"],[1.0,\"#f0f921\"]],\"type\":\"surface\"}],\"table\":[{\"cells\":{\"fill\":{\"color\":\"#EBF0F8\"},\"line\":{\"color\":\"white\"}},\"header\":{\"fill\":{\"color\":\"#C8D4E3\"},\"line\":{\"color\":\"white\"}},\"type\":\"table\"}]},\"layout\":{\"annotationdefaults\":{\"arrowcolor\":\"#2a3f5f\",\"arrowhead\":0,\"arrowwidth\":1},\"autotypenumbers\":\"strict\",\"coloraxis\":{\"colorbar\":{\"outlinewidth\":0,\"ticks\":\"\"}},\"colorscale\":{\"diverging\":[[0,\"#8e0152\"],[0.1,\"#c51b7d\"],[0.2,\"#de77ae\"],[0.3,\"#f1b6da\"],[0.4,\"#fde0ef\"],[0.5,\"#f7f7f7\"],[0.6,\"#e6f5d0\"],[0.7,\"#b8e186\"],[0.8,\"#7fbc41\"],[0.9,\"#4d9221\"],[1,\"#276419\"]],\"sequential\":[[0.0,\"#0d0887\"],[0.1111111111111111,\"#46039f\"],[0.2222222222222222,\"#7201a8\"],[0.3333333333333333,\"#9c179e\"],[0.4444444444444444,\"#bd3786\"],[0.5555555555555556,\"#d8576b\"],[0.6666666666666666,\"#ed7953\"],[0.7777777777777778,\"#fb9f3a\"],[0.8888888888888888,\"#fdca26\"],[1.0,\"#f0f921\"]],\"sequentialminus\":[[0.0,\"#0d0887\"],[0.1111111111111111,\"#46039f\"],[0.2222222222222222,\"#7201a8\"],[0.3333333333333333,\"#9c179e\"],[0.4444444444444444,\"#bd3786\"],[0.5555555555555556,\"#d8576b\"],[0.6666666666666666,\"#ed7953\"],[0.7777777777777778,\"#fb9f3a\"],[0.8888888888888888,\"#fdca26\"],[1.0,\"#f0f921\"]]},\"colorway\":[\"#636efa\",\"#EF553B\",\"#00cc96\",\"#ab63fa\",\"#FFA15A\",\"#19d3f3\",\"#FF6692\",\"#B6E880\",\"#FF97FF\",\"#FECB52\"],\"font\":{\"color\":\"#2a3f5f\"},\"geo\":{\"bgcolor\":\"white\",\"lakecolor\":\"white\",\"landcolor\":\"#E5ECF6\",\"showlakes\":true,\"showland\":true,\"subunitcolor\":\"white\"},\"hoverlabel\":{\"align\":\"left\"},\"hovermode\":\"closest\",\"mapbox\":{\"style\":\"light\"},\"paper_bgcolor\":\"white\",\"plot_bgcolor\":\"#E5ECF6\",\"polar\":{\"angularaxis\":{\"gridcolor\":\"white\",\"linecolor\":\"white\",\"ticks\":\"\"},\"bgcolor\":\"#E5ECF6\",\"radialaxis\":{\"gridcolor\":\"white\",\"linecolor\":\"white\",\"ticks\":\"\"}},\"scene\":{\"xaxis\":{\"backgroundcolor\":\"#E5ECF6\",\"gridcolor\":\"white\",\"gridwidth\":2,\"linecolor\":\"white\",\"showbackground\":true,\"ticks\":\"\",\"zerolinecolor\":\"white\"},\"yaxis\":{\"backgroundcolor\":\"#E5ECF6\",\"gridcolor\":\"white\",\"gridwidth\":2,\"linecolor\":\"white\",\"showbackground\":true,\"ticks\":\"\",\"zerolinecolor\":\"white\"},\"zaxis\":{\"backgroundcolor\":\"#E5ECF6\",\"gridcolor\":\"white\",\"gridwidth\":2,\"linecolor\":\"white\",\"showbackground\":true,\"ticks\":\"\",\"zerolinecolor\":\"white\"}},\"shapedefaults\":{\"line\":{\"color\":\"#2a3f5f\"}},\"ternary\":{\"aaxis\":{\"gridcolor\":\"white\",\"linecolor\":\"white\",\"ticks\":\"\"},\"baxis\":{\"gridcolor\":\"white\",\"linecolor\":\"white\",\"ticks\":\"\"},\"bgcolor\":\"#E5ECF6\",\"caxis\":{\"gridcolor\":\"white\",\"linecolor\":\"white\",\"ticks\":\"\"}},\"title\":{\"x\":0.05},\"xaxis\":{\"automargin\":true,\"gridcolor\":\"white\",\"linecolor\":\"white\",\"ticks\":\"\",\"title\":{\"standoff\":15},\"zerolinecolor\":\"white\",\"zerolinewidth\":2},\"yaxis\":{\"automargin\":true,\"gridcolor\":\"white\",\"linecolor\":\"white\",\"ticks\":\"\",\"title\":{\"standoff\":15},\"zerolinecolor\":\"white\",\"zerolinewidth\":2}}},\"coloraxis\":{\"colorbar\":{\"title\":{\"text\":\"FUMANTE\"}},\"colorscale\":[[0.0,\"#0d0887\"],[0.1111111111111111,\"#46039f\"],[0.2222222222222222,\"#7201a8\"],[0.3333333333333333,\"#9c179e\"],[0.4444444444444444,\"#bd3786\"],[0.5555555555555556,\"#d8576b\"],[0.6666666666666666,\"#ed7953\"],[0.7777777777777778,\"#fb9f3a\"],[0.8888888888888888,\"#fdca26\"],[1.0,\"#f0f921\"]]},\"legend\":{\"tracegroupgap\":0},\"margin\":{\"t\":60},\"dragmode\":\"select\"},                        {\"responsive\": true}                    ).then(function(){\n",
              "                            \n",
              "var gd = document.getElementById('5027fdb3-16d5-4e45-9fb7-9530a9c2f2b2');\n",
              "var x = new MutationObserver(function (mutations, observer) {{\n",
              "        var display = window.getComputedStyle(gd).display;\n",
              "        if (!display || display === 'none') {{\n",
              "            console.log([gd, 'removed!']);\n",
              "            Plotly.purge(gd);\n",
              "            observer.disconnect();\n",
              "        }}\n",
              "}});\n",
              "\n",
              "// Listen for the removal of the full notebook cells\n",
              "var notebookContainer = gd.closest('#notebook-container');\n",
              "if (notebookContainer) {{\n",
              "    x.observe(notebookContainer, {childList: true});\n",
              "}}\n",
              "\n",
              "// Listen for the clearing of the current output cell\n",
              "var outputEl = gd.closest('.output');\n",
              "if (outputEl) {{\n",
              "    x.observe(outputEl, {childList: true});\n",
              "}}\n",
              "\n",
              "                        })                };                            </script>        </div>\n",
              "</body>\n",
              "</html>"
            ]
          },
          "metadata": {}
        }
      ]
    },
    {
      "cell_type": "markdown",
      "source": [
        "TRATANDO OUTILERS COM A VISÃO HUMANA"
      ],
      "metadata": {
        "id": "IpDq0otK4IOg"
      }
    },
    {
      "cell_type": "code",
      "source": [
        "index_excluir = []\n",
        "for c,i in enumerate(df_modelagem_modelo['VALOR']):\n",
        "  if i > 4918 and i < 10000:\n",
        "    index_excluir.append(c)\n",
        "for c, i in enumerate(df_modelagem_modelo['VALOR']):\n",
        "  if i < 5000 and df_modelagem_modelo.loc[c ,'FUMANTE'] > 0:\n",
        "    index_excluir.append(c)\n",
        "  elif i > 5000 and df_modelagem_modelo.loc[c ,'FUMANTE'] < 0:\n",
        "    index_excluir.append(c)"
      ],
      "metadata": {
        "id": "t_OVZ0MlzmHp"
      },
      "execution_count": 110,
      "outputs": []
    },
    {
      "cell_type": "code",
      "source": [
        "df_modelagem_modelo_humano = df_modelagem_modelo.drop(index_excluir)"
      ],
      "metadata": {
        "id": "WnIkoBMG1zWX"
      },
      "execution_count": 111,
      "outputs": []
    },
    {
      "cell_type": "code",
      "source": [
        "px.scatter_matrix(df_modelagem_modelo_humano, dimensions = ['IDADE','VALOR'], color='FUMANTE')"
      ],
      "metadata": {
        "id": "-kjAsuIW1_Wa",
        "colab": {
          "base_uri": "https://localhost:8080/",
          "height": 542
        },
        "outputId": "5d4c31fc-27a2-4753-9666-3b3a31e1cee0"
      },
      "execution_count": 112,
      "outputs": [
        {
          "output_type": "display_data",
          "data": {
            "text/html": [
              "<html>\n",
              "<head><meta charset=\"utf-8\" /></head>\n",
              "<body>\n",
              "    <div>            <script src=\"https://cdnjs.cloudflare.com/ajax/libs/mathjax/2.7.5/MathJax.js?config=TeX-AMS-MML_SVG\"></script><script type=\"text/javascript\">if (window.MathJax) {MathJax.Hub.Config({SVG: {font: \"STIX-Web\"}});}</script>                <script type=\"text/javascript\">window.PlotlyConfig = {MathJaxConfig: 'local'};</script>\n",
              "        <script src=\"https://cdn.plot.ly/plotly-2.8.3.min.js\"></script>                <div id=\"2d96b367-468a-47e9-8703-0b7a9d6b0868\" class=\"plotly-graph-div\" style=\"height:525px; width:100%;\"></div>            <script type=\"text/javascript\">                                    window.PLOTLYENV=window.PLOTLYENV || {};                                    if (document.getElementById(\"2d96b367-468a-47e9-8703-0b7a9d6b0868\")) {                    Plotly.newPlot(                        \"2d96b367-468a-47e9-8703-0b7a9d6b0868\",                        [{\"dimensions\":[{\"axis\":{\"matches\":true},\"label\":\"IDADE\",\"values\":[1.1995534893263093,-0.5170063053234973,0.12670361767018024,-1.1607162283171748,-1.3752862026484007,1.1995534893263093,1.128030164549234,0.5558435663326319,0.12670361767018024,1.128030164549234,-0.1593896814381209,-1.1607162283171748,0.6988902158867825,-0.6600529548776478,0.48432024155555664,-0.8030996044317984,-1.1607162283171748,0.12670361767018024,-1.5183328522025512,-0.37395965576934675,0.41279691677848135,-1.5183328522025512,-1.446809527425476,-0.08786635666104561,0.48432024155555664,0.9134601902180083,0.05518029289310495,0.9849835149950836,1.7717400875429117,1.5571701132116857,0.5558435663326319,-1.0891929035400996,-0.6600529548776478,1.7002167627658364,-0.946146253985949,-0.946146253985949,1.4856467884346105,0.6988902158867825,-1.23223955309425,1.7002167627658364,-1.446809527425476,-0.37395965576934675,-1.5183328522025512,-0.8746229292088737,-1.23223955309425,-0.946146253985949,0.841936865440933,-0.30243633099227146,0.6273668911097072,1.0565068397721589,1.34260013888046,0.41279691677848135,-0.7315762796547232,-1.5183328522025512,0.7704135406638578,0.41279691677848135,-0.7315762796547232,0.7704135406638578,1.128030164549234,0.9134601902180083,-1.0891929035400996,-1.23223955309425,1.0565068397721589,-0.8030996044317984,0.841936865440933,1.6286934379887612,-0.7315762796547232,-1.446809527425476,-0.30243633099227146,0.9849835149950836,-1.23223955309425,-0.30243633099227146,-1.3752862026484007,0.26975026722433076,-0.44548298054642205,-0.1593896814381209,0.1982269424472555,1.5571701132116857,-0.23091300621519617,0.48432024155555664,-0.016343031883970332,1.128030164549234,0.48432024155555664,-1.3037628778713255,-0.8030996044317984,0.48432024155555664,-0.016343031883970332,1.7002167627658364,0.26975026722433076,0.34127359200140606,1.2710768141033848,-0.44548298054642205,0.6273668911097072,1.5571701132116857,1.34260013888046,-0.8746229292088737,0.9134601902180083,1.4856467884346105,-0.8746229292088737,1.34260013888046,0.841936865440933,1.5571701132116857,0.26975026722433076,0.48432024155555664,-0.5885296301005726,-0.6600529548776478,-1.5183328522025512,-0.30243633099227146,-0.37395965576934675,0.1982269424472555,-1.3037628778713255,-1.23223955309425,1.7002167627658364,1.7717400875429117,0.34127359200140606,-0.016343031883970332,0.841936865440933,0.9849835149950836,1.6286934379887612,0.41279691677848135,-1.0891929035400996,0.841936865440933,1.2710768141033848,0.5558435663326319,1.34260013888046,-0.8030996044317984,-1.446809527425476,-0.5885296301005726,0.05518029289310495,-0.23091300621519617,0.34127359200140606,1.0565068397721589,0.34127359200140606,0.6988902158867825,0.7704135406638578,-0.23091300621519617,1.0565068397721589,-1.446809527425476,1.34260013888046,-1.1607162283171748,-1.1607162283171748,1.2710768141033848,0.1982269424472555,-1.446809527425476,1.0565068397721589,0.41279691677848135,-0.1593896814381209,0.6273668911097072,0.26975026722433076,-0.23091300621519617,-0.1593896814381209,-1.446809527425476,0.5558435663326319,0.48432024155555664,-0.8030996044317984,1.4141234636575353,0.9134601902180083,-0.08786635666104561,0.5558435663326319,-0.1593896814381209,1.2710768141033848,0.12670361767018024,-1.446809527425476,-0.6600529548776478,-1.5183328522025512,-0.5170063053234973,1.128030164549234,0.6273668911097072,-1.3037628778713255,1.6286934379887612,0.26975026722433076,-0.016343031883970332,0.5558435663326319,0.05518029289310495,-1.23223955309425,-1.446809527425476,-0.946146253985949,-0.1593896814381209,-0.8746229292088737,-1.5183328522025512,-0.946146253985949,-0.8030996044317984,1.6286934379887612,0.41279691677848135,-1.23223955309425,0.48432024155555664,-0.6600529548776478,-1.446809527425476,-1.5183328522025512,1.0565068397721589,1.7002167627658364,0.41279691677848135,1.7717400875429117,0.9134601902180083,0.26975026722433076,0.7704135406638578,-0.30243633099227146,-0.946146253985949,-0.5170063053234973,0.48432024155555664,-0.23091300621519617,1.128030164549234,-0.08786635666104561,1.0565068397721589,0.12670361767018024,-0.8030996044317984,-0.8746229292088737,-1.446809527425476,-0.946146253985949,-0.30243633099227146,-1.0176695787630243,-1.5183328522025512,-0.44548298054642205,0.05518029289310495,-0.7315762796547232,-1.3752862026484007,1.128030164549234,-0.1593896814381209,0.41279691677848135,-0.5170063053234973,-0.5170063053234973,-1.5183328522025512,-0.5885296301005726,0.34127359200140606,-0.37395965576934675,-0.8030996044317984,1.2710768141033848,1.0565068397721589,-1.5183328522025512,0.841936865440933,0.9134601902180083,0.05518029289310495,0.6988902158867825,0.7704135406638578,-0.30243633099227146,0.5558435663326319,-0.946146253985949,1.4856467884346105,-1.23223955309425,1.5571701132116857,-0.016343031883970332,0.1982269424472555,0.41279691677848135,-1.0891929035400996,-0.8030996044317984,-0.6600529548776478,0.05518029289310495,-0.016343031883970332,1.1995534893263093,-0.7315762796547232,-0.1593896814381209,0.05518029289310495,-0.30243633099227146,0.12670361767018024,-0.23091300621519617,-0.8030996044317984,-0.6600529548776478,-0.016343031883970332,0.48432024155555664,-0.37395965576934675,0.6988902158867825,0.5558435663326319,-0.5170063053234973,0.05518029289310495,-0.5170063053234973,0.41279691677848135,-0.44548298054642205,-1.446809527425476,-1.0891929035400996,1.128030164549234,-1.5183328522025512,0.6988902158867825,-1.446809527425476,1.7717400875429117,-1.0176695787630243,-1.5183328522025512,0.9849835149950836,0.12670361767018024,-0.44548298054642205,0.6988902158867825,-0.30243633099227146,1.34260013888046,1.0565068397721589,-0.08786635666104561,-0.5885296301005726,0.9849835149950836,0.841936865440933,1.7002167627658364,-0.08786635666104561,0.7704135406638578,-0.37395965576934675,-1.446809527425476,0.34127359200140606,-1.1607162283171748,1.128030164549234,-1.5183328522025512,-1.23223955309425,-0.08786635666104561,1.1995534893263093,-0.946146253985949,0.1982269424472555,1.128030164549234,1.4856467884346105,-1.0891929035400996,1.6286934379887612,0.6988902158867825,0.12670361767018024,-0.016343031883970332,0.841936865440933,0.12670361767018024,0.6988902158867825,-1.5183328522025512,1.0565068397721589,-1.5183328522025512,0.9849835149950836,0.6988902158867825,-0.30243633099227146,0.6273668911097072,0.1982269424472555,0.6988902158867825,0.34127359200140606,-0.016343031883970332,-1.446809527425476,-1.5183328522025512,-0.30243633099227146,0.05518029289310495,-0.5885296301005726,1.4141234636575353,-0.37395965576934675,-1.1607162283171748,0.6273668911097072,0.9134601902180083,0.6988902158867825,-1.1607162283171748,-1.0176695787630243,-0.8030996044317984,0.6273668911097072,-1.3037628778713255,-0.5885296301005726,-1.0891929035400996,0.9134601902180083,0.1982269424472555,-0.37395965576934675,-0.30243633099227146,-0.8030996044317984,0.6988902158867825,0.7704135406638578,-1.0891929035400996,0.12670361767018024,1.4141234636575353,-0.23091300621519617,1.4856467884346105,-1.446809527425476,-1.446809527425476,-1.446809527425476,-1.3037628778713255,-1.23223955309425,1.128030164549234,1.4856467884346105,0.9134601902180083,-1.0891929035400996,0.26975026722433076,-1.5183328522025512,-1.5183328522025512,-1.5183328522025512,1.5571701132116857,-0.37395965576934675,0.6273668911097072,-0.30243633099227146,0.9134601902180083,-0.5170063053234973,-0.1593896814381209,-1.446809527425476,-1.5183328522025512,0.5558435663326319,1.4141234636575353,1.128030164549234,0.12670361767018024,0.6988902158867825,0.841936865440933,-1.446809527425476,-1.1607162283171748,-0.8746229292088737,-0.7315762796547232,0.41279691677848135,0.9849835149950836,0.9134601902180083,0.1982269424472555,-0.5885296301005726,0.5558435663326319,-0.8030996044317984,-0.8746229292088737,0.05518029289310495,-1.1607162283171748,0.7704135406638578,0.841936865440933,-0.08786635666104561,1.1995534893263093,1.0565068397721589,-1.446809527425476,0.841936865440933,0.7704135406638578,-0.8030996044317984,-0.8030996044317984,0.6273668911097072,-0.1593896814381209,-0.44548298054642205,0.26975026722433076,1.4856467884346105,1.7002167627658364,0.41279691677848135,-0.5885296301005726,1.6286934379887612,-1.0891929035400996,-1.23223955309425,1.2710768141033848,0.12670361767018024,0.12670361767018024,1.4141234636575353,-0.8746229292088737,-0.1593896814381209,-1.23223955309425,0.05518029289310495,-1.0176695787630243,-0.6600529548776478,0.6988902158867825,-1.446809527425476,-0.5885296301005726,-1.23223955309425,1.128030164549234,-1.1607162283171748,0.26975026722433076,-0.5885296301005726,-1.446809527425476,0.841936865440933,-0.08786635666104561,-1.23223955309425,-1.3037628778713255,-0.5885296301005726,-0.5885296301005726,-0.6600529548776478,1.4141234636575353,-0.5885296301005726,1.7717400875429117,1.0565068397721589,1.5571701132116857,-1.446809527425476,-0.08786635666104561,-1.446809527425476,-0.8030996044317984,-0.6600529548776478,-1.3752862026484007,0.1982269424472555,0.5558435663326319,1.1995534893263093,-1.0891929035400996,0.48432024155555664,-1.446809527425476,1.7002167627658364,1.1995534893263093,-0.5170063053234973,-1.446809527425476,-0.8030996044317984,0.12670361767018024,-1.3752862026484007,-0.016343031883970332,-1.0891929035400996,-1.23223955309425,0.5558435663326319,0.6273668911097072,1.4856467884346105,0.841936865440933,-0.08786635666104561,-1.5183328522025512,-0.37395965576934675,-0.1593896814381209,0.41279691677848135,1.4856467884346105,1.0565068397721589,-0.8537095002501747,1.5571701132116857,1.128030164549234,0.1982269424472555,0.34127359200140606,1.2710768141033848,0.05518029289310495,-1.446809527425476,-1.3752862026484007,-1.5183328522025512,1.34260013888046,0.9849835149950836,-0.5885296301005726,-1.5183328522025512,-0.7315762796547232,1.4856467884346105,1.4141234636575353,0.9849835149950836,-1.3037628778713255,0.7704135406638578,-1.5183328522025512,-0.08786635666104561,0.1982269424472555,-1.5183328522025512,-1.3037628778713255,-0.44548298054642205,0.41279691677848135,1.7002167627658364,0.9134601902180083,0.7704135406638578,-0.1593896814381209,-1.0891929035400996,1.4856467884346105,0.5558435663326319,-1.446809527425476,-1.3752862026484007,1.2710768141033848,-1.5183328522025512,1.2710768141033848,-0.37395965576934675,1.5571701132116857,-1.446809527425476,-1.3752862026484007,-0.6600529548776478,-0.1593896814381209,1.0565068397721589,-0.37395965576934675,-1.5183328522025512,-1.0891929035400996,0.48432024155555664,0.34127359200140606,0.9849835149950836,-1.0176695787630243,-1.23223955309425,-1.3037628778713255,1.4856467884346105,-0.5170063053234973,-0.1593896814381209,-1.446809527425476,-0.23091300621519617,-0.8030996044317984,1.7717400875429117,-1.3037628778713255,1.4856467884346105,0.7704135406638578,1.6286934379887612,-1.446809527425476,-1.5183328522025512,0.6273668911097072,0.12670361767018024,-1.5183328522025512,-1.3037628778713255,0.34127359200140606,-0.08786635666104561,-1.0176695787630243,1.2710768141033848,0.48432024155555664,-0.08786635666104561,-0.946146253985949,-1.446809527425476,1.7002167627658364,1.7002167627658364,0.6273668911097072,0.6273668911097072,0.5558435663326319,0.12670361767018024,1.1995534893263093,-1.5183328522025512,-0.6600529548776478,0.26975026722433076,-0.946146253985949,-1.23223955309425,-1.446809527425476,0.841936865440933,1.7002167627658364,1.4856467884346105,-1.1607162283171748,1.7002167627658364,-0.23091300621519617,-1.3037628778713255,0.48432024155555664,-1.5183328522025512,-1.5183328522025512,1.4856467884346105,0.7704135406638578,0.34127359200140606,-0.6600529548776478,-0.5885296301005726,1.4141234636575353,-0.8746229292088737,0.6273668911097072,1.4141234636575353,-0.1593896814381209,0.841936865440933,-1.0176695787630243,-1.446809527425476,1.128030164549234,1.4141234636575353,-1.446809527425476,1.34260013888046,-0.5885296301005726,0.26975026722433076,0.34127359200140606,-1.1607162283171748,1.7002167627658364,-0.23091300621519617,-0.7315762796547232,0.9849835149950836,1.0565068397721589,-0.44548298054642205,1.4141234636575353,1.4141234636575353,-0.016343031883970332,-1.5183328522025512,1.34260013888046,-0.8030996044317984,1.4141234636575353,0.34127359200140606,-0.946146253985949,0.5558435663326319,-1.3752862026484007,-1.23223955309425,-0.1593896814381209,-1.446809527425476,0.7704135406638578,-1.0176695787630243,0.5558435663326319,1.1995534893263093,-0.44548298054642205,-1.1607162283171748,-1.446809527425476,-0.37395965576934675,-1.1607162283171748,0.34127359200140606,0.841936865440933,0.41279691677848135,1.0565068397721589,0.12670361767018024,0.6273668911097072,1.2710768141033848,-0.8746229292088737,-1.1607162283171748,0.9134601902180083,0.6273668911097072,-1.5183328522025512,-0.37395965576934675,-0.7315762796547232,1.2710768141033848,0.34127359200140606,0.9134601902180083,-1.3752862026484007,1.6286934379887612,0.9134601902180083,0.1982269424472555,-0.6600529548776478,-0.016343031883970332,-1.5183328522025512,-0.30243633099227146,1.4141234636575353,0.48432024155555664,0.41279691677848135,-1.5183328522025512,0.05518029289310495,0.841936865440933,0.841936865440933,1.1995534893263093,-0.8746229292088737,-1.1607162283171748,-1.559795632922882,-1.0176695787630243,1.6286934379887612,0.7704135406638578,-1.5183328522025512,-1.3037628778713255,1.0565068397721589,-1.446809527425476,1.128030164549234,-0.5170063053234973,-0.5170063053234973,0.6273668911097072,-0.946146253985949,-0.8746229292088737,1.7002167627658364,0.7704135406638578,1.5571701132116857,-1.446809527425476,-0.08786635666104561,0.6988902158867825,0.41279691677848135,-0.5170063053234973,1.7717400875429117,0.26975026722433076,-0.23091300621519617,-0.23091300621519617,-0.08786635666104561,-0.5170063053234973,-0.016343031883970332,0.34127359200140606,1.7002167627658364,0.9849835149950836,0.1982269424472555,1.1995534893263093,0.6988902158867825,-1.446809527425476,-0.23091300621519617,-1.3752862026484007,-0.7315762796547232,1.0565068397721589,-0.37395965576934675,-1.5183328522025512,-1.0176695787630243,0.41279691677848135,0.41279691677848135,0.5558435663326319,1.34260013888046,-1.0176695787630243,0.41279691677848135,0.34127359200140606,0.9849835149950836,1.6286934379887612,0.34127359200140606,1.34260013888046,-0.23091300621519617,0.41279691677848135,-0.7315762796547232,-0.6600529548776478,-0.6600529548776478,1.4856467884346105,0.7704135406638578,-1.1607162283171748,0.5558435663326319,-1.3037628778713255,-1.5183328522025512,-1.5183328522025512,-0.6600529548776478,-1.0891929035400996,-0.44548298054642205,0.48432024155555664,-1.3037628778713255,-0.016343031883970332,1.0565068397721589,-1.5183328522025512,1.6286934379887612,-0.5170063053234973,0.12670361767018024,0.1982269424472555,0.12670361767018024,0.6273668911097072,-0.5885296301005726,1.5571701132116857,-0.1593896814381209,-1.23223955309425,1.2710768141033848,-1.0891929035400996,0.26975026722433076,0.6988902158867825,-1.5183328522025512,0.9134601902180083,1.1995534893263093,-0.1593896814381209,-0.946146253985949,1.128030164549234,0.1982269424472555,1.6286934379887612,0.48432024155555664,-0.23091300621519617,-1.3037628778713255,-1.446809527425476,0.26975026722433076,-0.37395965576934675,0.841936865440933,0.6273668911097072,0.7704135406638578,-0.23091300621519617,0.12670361767018024,-0.016343031883970332,-0.44548298054642205,0.05518029289310495,1.1995534893263093,-0.6600529548776478,1.4856467884346105,-0.37395965576934675,-1.0891929035400996,-0.44548298054642205,-1.3752862026484007,-1.5183328522025512,-0.5885296301005726,0.6273668911097072,-0.37395965576934675,0.05518029289310495,0.841936865440933,1.1995534893263093,1.1995534893263093,0.41279691677848135,0.9849835149950836,1.0565068397721589,-1.5183328522025512,0.05518029289310495,-0.016343031883970332,0.05518029289310495,-1.3037628778713255,0.9849835149950836,-1.0176695787630243,-1.1607162283171748,0.12670361767018024,0.1982269424472555,0.41279691677848135,1.34260013888046,-0.08786635666104561,1.34260013888046,1.34260013888046,-0.5170063053234973,-0.016343031883970332,0.41279691677848135,-0.7315762796547232,1.7002167627658364,-1.3752862026484007,0.841936865440933,0.6988902158867825,-1.0891929035400996,-0.1593896814381209,0.1982269424472555,0.48432024155555664,-1.0176695787630243,1.1995534893263093,-0.016343031883970332,-1.23223955309425,0.1982269424472555,-1.3752862026484007,1.7002167627658364,1.7002167627658364,-0.7315762796547232,1.34260013888046,-1.5183328522025512,0.12670361767018024,0.12670361767018024,0.48432024155555664,-0.23091300621519617,-1.0176695787630243,1.7717400875429117,0.7704135406638578,-1.0176695787630243,0.9849835149950836,0.34127359200140606,0.9849835149950836,1.128030164549234,0.9849835149950836,-0.1593896814381209,-1.3752862026484007,0.48432024155555664,1.4856467884346105,0.26975026722433076,-1.446809527425476,-1.0176695787630243,-0.30243633099227146,1.2710768141033848,-1.0891929035400996,-1.446809527425476,-1.3752862026484007,-1.23223955309425,-0.5170063053234973,-0.6600529548776478,-0.8746229292088737,-0.44548298054642205,-0.5885296301005726,-1.1607162283171748,-0.8746229292088737,0.1982269424472555,1.7717400875429117,1.0565068397721589,0.05518029289310495,1.0565068397721589,-1.3037628778713255,-0.7315762796547232,1.34260013888046,-0.5170063053234973,-1.0176695787630243,1.6286934379887612,-1.3752862026484007,-1.0176695787630243,0.6273668911097072,-1.3752862026484007,1.4856467884346105,-0.23091300621519617,-1.23223955309425,1.34260013888046,-0.44548298054642205,0.48432024155555664,1.4141234636575353,0.1982269424472555,1.34260013888046,-1.23223955309425,0.48432024155555664,-0.08786635666104561,-0.946146253985949,-1.5183328522025512,-1.0176695787630243,-1.3752862026484007,0.5558435663326319,-1.3752862026484007,-0.8746229292088737,-0.44548298054642205,-1.0891929035400996,-0.5170063053234973,-0.30243633099227146,-1.5183328522025512,0.841936865440933,-1.23223955309425,0.12670361767018024,0.05518029289310495,-0.37395965576934675,0.6988902158867825,1.34260013888046,0.7704135406638578,1.1995534893263093,1.7717400875429117,1.1995534893263093,-0.7315762796547232,-0.23091300621519617,1.7717400875429117,-0.8030996044317984,1.2710768141033848,-0.946146253985949,0.12670361767018024,-1.446809527425476,1.7002167627658364,-1.5183328522025512,1.4141234636575353,0.41279691677848135,-1.0891929035400996,-0.5170063053234973,0.41279691677848135,1.34260013888046,-1.0176695787630243,0.26975026722433076,1.2710768141033848,-0.5170063053234973,-1.5183328522025512,-1.5183328522025512,1.6286934379887612,-1.0176695787630243,-0.946146253985949,0.48432024155555664,0.9849835149950836,-1.5183328522025512,0.26975026722433076,-0.08786635666104561,0.7704135406638578,-0.8030996044317984,0.841936865440933,-0.44548298054642205,1.4141234636575353,-0.08786635666104561,-0.30243633099227146,0.7704135406638578,-1.1607162283171748,-0.30243633099227146,0.05518029289310495,-1.23223955309425,0.48432024155555664,0.48432024155555664,1.34260013888046,-1.5183328522025512,1.5571701132116857,1.128030164549234,1.34260013888046,-0.44548298054642205,-1.1607162283171748,-0.44548298054642205,1.4856467884346105,1.2710768141033848,0.48432024155555664,-0.8746229292088737,0.6273668911097072,-0.7315762796547232,0.34127359200140606,1.0565068397721589,1.2710768141033848,-0.08786635666104561,0.841936865440933,-0.37395965576934675,1.1995534893263093,1.2710768141033848,-0.946146253985949,1.7717400875429117,-0.5885296301005726,0.5558435663326319,0.26975026722433076,-1.5183328522025512,-1.1607162283171748,0.9849835149950836,-0.946146253985949,-0.08786635666104561,0.48432024155555664,-1.446809527425476,-1.5183328522025512,-1.23223955309425,-0.5885296301005726,-0.5885296301005726,0.12670361767018024,0.6273668911097072,-0.6600529548776478,-1.446809527425476,-0.37395965576934675,-1.0176695787630243,-0.30243633099227146,0.9849835149950836,1.1995534893263093,-1.3752862026484007,-0.7315762796547232,-0.44548298054642205,-1.1607162283171748,1.6286934379887612,0.34127359200140606,-0.5170063053234973,1.7717400875429117,-0.946146253985949,-1.3037628778713255,0.9849835149950836,1.128030164549234,1.1995534893263093,-0.946146253985949,-1.0176695787630243,0.12670361767018024,-1.5183328522025512,0.05518029289310495,0.7704135406638578,1.5571701132116857,-1.3752862026484007,-0.8746229292088737,0.9134601902180083,1.128030164549234]},{\"axis\":{\"matches\":true},\"label\":\"VALOR\",\"values\":[3242.022018348624,1937.108119266055,12109.298837920489,1100.182262996942,784.8534250764526,3356.6500764525995,13585.260856269113,2941.9971559633027,1918.1887461773701,3273.538226299694,12288.14862385321,3301.509886850153,2661.607339449541,1442.8757033639145,2844.615764525994,969.9128134556574,739.1299694189602,12316.099541284404,671.7043425076453,1526.7206116207951,2783.4244648318045,704.5878287461774,828.5149694189603,1678.3675840978592,2670.7123088685016,2796.5030581039755,2016.3633944954129,2906.5169113149846,4229.6988379204895,4102.458134556575,2971.2051987767586,751.5296636085627,1304.637859327217,4275.795214067279,1035.290259938838,971.5033333333333,3713.326788990826,2630.375932721712,11365.493516819572,4388.334678899083,497.07454128440367,1381.9040519877676,523.6168195718654,759.5522935779816,657.6357798165137,1217.7299082568807,2805.5460703363915,12163.387247706421,2745.6223547400614,3821.189862385321,3738.3335932721716,2967.788394495413,13634.695984709479,3511.509128440367,3455.4565749235476,2781.3664373088686,876.4804281345565,3094.3192660550462,3276.34373088685,3513.2467737003058,869.3457951070336,1224.8998470948013,3012.364525993884,1087.7438226299694,2833.27125382263,4119.512048929664,1235.6447247706421,10532.066024464832,1452.926605504587,3590.741896024465,10882.439143730888,1604.0449235474005,425.54394495412845,14025.444954128441,1826.4152905198775,14101.991131498471,2155.9698165137615,14496.599388379203,1675.240611620795,12740.55107033639,2204.7375535168194,3751.8753058103975,2884.686636085627,614.0504587155963,1624.516773700306,3087.7584097859326,1731.567278287462,4636.554862385321,11568.722996941895,14949.582755351681,3537.0949694189603,1466.5617125382262,3368.5549541284404,4317.926605504587,3588.953837920489,909.5186544342508,2973.3240061162082,3868.10501529052,1089.2626605504586,14524.921850152905,2839.0097859327216,3988.35504587156,2090.9384403669724,2877.9831804281343,1329.3649388379206,1453.7115596330275,678.7293883792048,1451.6981345565748,1376.2505351681957,2276.3434403669726,790.7800152905198,808.3389908256881,4244.938532110092,4557.03874617737,2268.953486238532,1943.8136697247705,3229.508165137615,2901.420244648318,13978.656834862384,10724.579363914372,10542.153211009174,3045.174801223242,4044.0541437308866,2577.39122324159,3621.5418960244647,822.4756574923547,10650.964525993884,997.0027522935779,1987.839724770642,2063.789357798165,2269.4784556574923,19501.659941896025,14128.741620795106,2841.0212538226297,3209.1577370030577,2002.506131498471,3528.569113149847,561.8461773700305,3740.5546177370034,557.8854434250765,10448.401529051987,14885.479418960243,2122.602400611621,651.5828440366973,3457.4723394495413,2605.5125382262995,1869.2210856269114,2889.107767584098,2243.9596330275226,1643.2306574923546,12360.556299694188,857.3999541284404,3093.274877675841,12452.767905198778,1002.1899082568807,3952.8703363914374,3301.9376758409785,1650.6473088685013,2616.791131498471,1930.2605504587157,3621.032125382263,2820.306605504587,384.1892966360856,1233.101131498471,521.3150305810398,1214.9616819571866,3389.167339449541,13976.15362385321,619.8697553516819,3970.2980733944955,1911.448012232416,2628.999327217125,12744.97892966361,1986.8152905198779,688.3288073394496,563.4614678899082,1425.4698318042815,11941.065749235475,1302.9798165137613,3941.913654434251,825.5560703363915,10603.103119266054,14286.900076452599,2208.803134556575,835.4471559633029,2698.4665902140673,12517.562538226299,679.3775076452599,495.9885932721713,3699.281712538226,4639.164831804281,2247.138226299694,14462.09633027523,2946.341896024465,2606.117125382263,12567.939373088684,1788.0481957186544,1037.4205504587158,1182.5245259938838,2905.374021406728,1644.48250764526,3127.3040366972477,1859.226758409786,3310.4751376146787,2254.364525993884,1326.5245259938838,764.0411009174312,379.8960244648318,1006.8898623853211,1814.7950458715595,982.7590366972477,527.6918348623853,1279.8464525993884,1663.2260244648319,1029.562599388379,605.525993883792,3239.90873088685,1959.147003058104,2634.648318042813,1606.582262996942,1246.0103058103975,498.4200305810397,1297.7339602446482,2482.039403669725,1350.2014678899084,1330.1107033639146,3617.9226911314986,3340.652354740061,496.0821100917431,3021.4275229357795,3157.5553516819573,1953.9381804281345,2482.1651376146788,12819.295718654435,1961.5223241590213,2611.5201834862387,1395.7772018348624,3864.8914373088683,842.5140519877676,4019.369006116208,1907.7363914373088,1944.5799541284405,13076.606177370031,607.6248929663608,999.6472935779816,11299.772691131499,2496.243501529052,1727.7415902140674,3414.5008103975533,1061.5931498470948,2226.760122324159,2018.4590214067277,12227.3473853211,2220.715902140673,1673.5318042813453,1151.9522324159022,1741.1102446483183,2741.833562691131,2811.5714067278286,1567.0301834862385,2808.0030581039755,2615.0908256880734,1427.4029510703363,1810.4293883792047,1433.146391437309,2604.2075535168196,1643.7425076452598,379.6834862385321,605.9883486238532,3990.009892966361,856.6540672782875,2657.1433792048933,11130.757186544342,14656.88990825688,771.6114678899082,499.68250764525993,3199.3820795107035,2187.6311620795104,2034.797737003058,3171.5328899082565,1567.344250764526,3741.846850152905,3816.424755351682,2030.7476605504587,1364.894525993884,3230.8515290519877,2862.791070336392,14466.454128440368,2181.6215596330276,13106.066666666668,1530.2302752293579,10635.967889908256,2367.075535168196,886.693990825688,3633.4428134556574,676.1867737003057,689.5402752293578,2004.6086697247706,3750.9195412844037,704.0672782874618,2336.2132874617737,3242.089373088685,3979.2687003058104,1412.2568501529051,4113.492966360856,2484.5285626911314,2250.206620795107,2202.355,2870.385718654434,2038.130259938838,2484.9493883792047,673.1183792048929,3698.6171253822627,674.611865443425,3346.217752293578,2845.4745871559635,1598.7733180428136,2889.067385321101,2363.806039755352,3140.5076452599387,2185.771498470948,1872.6510091743119,653.4808103975536,1064.7914373088686,1812.4911314984708,12233.43493883792,1149.1880122324158,4283.554128440367,1894.9382262996942,11015.599755351683,2651.7404434250766,2973.862385321101,2930.854220183486,822.6647706422018,11047.270244648318,1717.2382262996941,2532.300519877676,642.8944036697249,11838.22629969419,753.7060550458716,3489.8119266055046,1828.6639143730886,1496.8664525993884,1456.369724770642,936.5468654434251,3356.9438226299694,2581.855351681957,1081.866360856269,1921.1727828746177,3741.2318042813454,1493.537003058104,3896.3814831804284,383.46666666666664,382.9990825688073,528.7146788990825,586.3359021406728,659.5571253822629,3665.8006727828747,13764.206574923546,2943.706422018349,930.9520795107034,2275.688379204893,10315.806330275229,347.3824770642202,10490.265198776759,4019.5305351681955,2065.1492354740058,2828.5918042813455,1604.295718654434,2981.318226299694,1428.330275229358,2078.5514525993885,10321.1901529052,526.1020489296636,12908.604954128441,4281.739051987768,3484.42371559633,1745.9218348623851,2990.3202446483183,3497.473440366972,503.4953211009174,1365.939266055046,1094.1892966360856,1745.8308868501529,12148.476467889908,3018.290581039755,2795.397859327217,2156.159633027523,1869.489617737003,2609.991376146789,1176.6587155963302,1476.4235321100919,4840.618266055046,12508.929510703365,2766.9808256880733,2690.7012232415905,1974.8756574923545,3242.3195718654433,3701.9327217125383,831.5840214067279,3020.675137614679,3272.9793272171255,1443.3445107033638,966.8055045871561,3101.264892966361,12182.421712538226,11707.262844036697,2631.8707645259938,3862.35373088685,14931.024464831804,2275.551376146789,1513.6876758409787,4657.5914525993885,603.348623853211,628.5397247706422,13326.892782874618,2102.740366972477,1891.5354128440367,4398.381972477064,1025.5260856269113,12193.181743119265,662.6091743119266,1807.628134556575,986.8871865443424,1628.6394495412844,3174.7641284403667,834.8953669724771,1659.0285474006118,10885.501467889908,3632.753532110092,732.4683639143731,2240.075902140673,1330.4325382262996,533.4755351681957,3020.085749235474,1651.675993883792,773.0332262996942,643.459755351682,2079.3449541284403,11849.038256880734,1265.2974617737004,3771.8128440366972,1358.1691590214066,4377.323027522935,3191.1514525993884,4169.919847094801,1433.5770642201833,2304.943088685015,499.25518348623854,970.0360856269114,1269.0324159021407,1503.0764067278287,1824.7362079510701,2472.146727828746,3597.247981651376,758.7092048929663,14113.49373088685,713.0027522935779,4756.938455657492,13398.735810397553,1874.24998470948,498.00333333333333,1356.2979204892965,2432.574006116208,541.1411773700305,1938.2494189602446,756.3712844036697,509.1741896024465,13517.63107033639,2742.6085626911313,4041.9249235474003,2685.770336391437,1646.3412844036698,347.522752293578,1387.2351681957186,2136.240657492355,2572.9244801223244,14731.914678899082,13535.39752293578,763.6202752293578,4353.233027522936,3818.2877370030583,2190.2177981651375,2511.0398165137617,3862.130152905199,2018.411605504587,497.63989296636083,752.2079816513761,355.79899082568807,3801.5147859327217,3438.647370030581,1185.2397859327218,11863.206605504587,1571.3323241590215,4256.826574923547,14647.336804281345,3351.5885932721712,466.7620795107033,2941.1811773700306,1037.7236544342509,12828.51501529052,2154.5868501529053,523.2497859327217,617.7911314984709,1461.6520795107033,2455.0360856269112,4211.039113149847,3055.3631957186544,3241.757889908257,1968.080642201835,871.7687308868502,14884.880366972477,2638.3917737003057,652.8750764525994,601.535993883792,4401.9566207951075,522.3245871559633,3527.4839908256877,1529.9029663608562,3840.2462691131495,501.39544342507645,11726.166972477064,1114.70623853211,2044.7802140672784,3815.092140672783,1831.6586085626911,672.2293119266055,873.2224923547401,2698.2504587155963,2124.98495412844,3441.4131498470947,990.3473088685015,625.5918195718655,794.4278287461774,4009.9708868501525,1574.4809174311927,1421.0272171253823,499.0936544342508,2210.463501529052,1360.6917431192662,4409.260061162079,643.1437308868501,16082.822443425077,2917.9497094801222,4115.5843425076455,529.5648318042813,498.981131498471,2680.5042813455657,2611.097385321101,1394.858868501529,1094.7488379204892,2187.3612844036697,1790.795871559633,653.7166972477064,3621.5974770642206,2520.057981651376,1860.0626911314985,978.9740519877677,385.76207951070336,4359.207400611621,4273.53380733945,2533.2356880733946,12530.325657492356,2465.6770642201836,4197.392,3683.28501529052,4322.02989296636,1086.912232415902,4427.623899082569,1033.3058103975534,1200.5376758409786,380.06605504587156,13651.74232415902,4426.506116207951,3866.8467889908256,4014.274449541284,4099.507737003058,0.0,617.9059021406728,12878.1849235474,518.2863608562691,499.8695412844037,4038.007844036697,2699.4525688073395,2299.090321100917,1443.2795259938837,1179.742889908257,3707.9487461773697,1482.2385779816514,3071.32996941896,4461.966987767584,1537.6595107033638,2871.97125382263,981.2804281345565,11076.270779816514,3451.5408868501527,3709.362125382263,528.3746177370031,3650.842798165138,17911.643571865443,12548.691559633027,2539.001727828746,852.922752293578,4419.521452599389,1707.7387461773699,1355.9375840978594,3235.385626911315,12843.88990825688,16860.979232415903,3775.8935779816516,3591.222935779817,1870.7934250764524,678.125122324159,3653.4024159021405,15655.828483180427,3859.9937308868502,12096.787308868501,886.0316513761468,2731.1726452599387,606.8664525993884,514.5556574923547,1930.8131498470948,501.39544342507645,2770.2539143730883,834.0657798165138,2613.972874617737,3565.0516513761468,1607.8005963302753,1070.5236391437309,500.2243577981651,4390.937116207951,558.6675840978594,2331.3510703363913,2949.3126911314985,2426.694541284404,3520.613149847095,2073.808623853211,3374.2084709480123,3867.3415902140673,1241.1964678899083,561.8599082568808,14455.612844036697,2386.5934250764526,11054.887920489296,1321.2265596330276,1025.469113149847,3533.401712538226,2331.691131498471,3304.84373088685,722.3942048929663,3969.222629969419,18355.167880733945,2451.700657492355,1295.7573547400611,2442.3471712538226,10586.495611620794,1564.6790214067278,3953.75874617737,2551.348241590214,19141.551403669724,343.0807033639144,2349.440366972477,3047.1131498470945,14145.294342507646,3866.476391437309,1088.2630733944954,555.3137308868502,491.59330275229354,1099.1348165137615,3969.830489296636,3390.087706422018,351.49721712538224,469.20626911314986,14846.843532110091,538.0238532110092,3633.6298470948013,1246.6351681957185,1575.5761467889909,2528.759633027523,1185.7199541284403,1209.8077828746177,4095.949847094801,3030.6910856269114,4164.0240366972475,560.2733944954128,1855.3904434250765,3532.9981651376147,2993.5369724770644,1389.674250764526,4378.908562691132,2571.879770642202,11542.072079510704,11747.85137614679,1827.0289602446483,1362.202645259939,12264.186544342507,2334.4711314984706,4247.085168195719,3413.9351681957182,10026.74574617737,3386.292354740061,2997.213516819572,0.0,13380.225397553517,1477.256880733945,1593.1433792048929,3342.1556574923547,3589.5562201834864,673.8446024464831,1012.1689908256882,2277.799373088685,2631.3405657492353,2467.3348623853212,3474.848623853211,12878.359510703363,2631.609021406728,2332.41376146789,3587.0579510703365,4593.19879204893,2453.558241590214,3619.9266055045873,11837.668501529051,2607.807951070336,1355.7760550458715,1479.3829663608562,1660.161376146789,3829.848562691131,2701.915886850153,4411.643379204893,13140.627737003058,1003.0179051987768,673.925366972477,347.85006116207956,1384.459617737003,1295.0847094801222,1495.4126911314984,2698.803058103975,941.0077981651376,1760.676896024465,3128.899051987768,350.7023241590214,3962.421406727829,1395.3645565749234,2221.927370030581,2189.6311926605504,1891.7819571865446,2712.8904281345567,1449.0116819571867,4106.738654434251,1897.2176605504587,11463.134342507645,3678.6809480122324,602.3284403669725,2541.541024464832,2840.375137614679,522.6072629969419,3485.290581039755,3385.484709480122,2103.3578287461773,895.1268195718654,3123.741896024465,2189.703455657492,4083.210948012232,2301.7450917431192,1495.1182874617737,1180.7980581039756,647.5042354740061,12520.270764525994,10853.7125382263,3013.8016513761468,2741.302920489297,2586.4886850152902,1610.9535626911315,2009.4875688073394,2442.1452599388376,2038.6064220183487,2193.6880581039754,3570.070336391437,1119.0660550458715,4045.518944954128,1532.865749235474,931.5174311926605,2003.5933027522935,934.6752599388379,525.8214984709481,1264.2453975535168,2531.352599388379,1203.4189296636087,2523.634342507645,14514.646483180428,3780.9012232415903,3239.824373088685,2364.48252293578,3016.352232415902,3191.4666666666667,520.6285321100918,1955.2304128440367,2052.0464525993884,2136.604587155963,972.6330581039755,3080.139159021407,1377.5725993883793,848.6826146788991,2070.395259938838,11695.900082568807,2246.2030581039753,3480.5276452599387,1949.1001070336392,4161.274847094801,3469.577675840979,11500.772996941896,2624.5572782874615,2277.0391437308867,1385.1611620795106,14390.07097859327,690.3594036697248,3522.9663149847097,3138.973119266055,11659.402599388379,11397.599755351683,2154.9609174311927,2367.617675840979,924.1006574923548,3959.986360856269,2268.6611620795106,1052.9247706422018,1979.820489296636,574.9449541284404,4094.9721712538226,4418.915718654434,876.7949847094801,3737.8893883792052,3447.1961437308864,2219.181376146789,2097.394373088685,2517.6265443425077,2215.233516819572,1553.5461773700304,4227.1568807339445,2582.4079510703364,775.0439602446484,3410.0244648318044,2719.0029051987767,3166.862691131498,12936.908914373089,3078.1079510703366,1895.642752293578,575.0724770642202,2517.766819571865,14107.194648318044,2094.503363914373,828.4745871559633,832.2081957186545,1721.8525535168194,3472.98498470948,10475.245672782876,531.3076452599388,751.4407186544342,512.1199694189602,10010.454525993884,1269.4277370030582,939.0852293577982,3793.541009174312,1296.6032568807339,11777.256360856269,10654.089602446484,2339.6861620795107,4407.012874617737,3195.8874617737,2464.7336697247706,3368.107614678899,735.3925993883792,1142.649755351682,3625.8139143730887,1429.1719266055047,1194.534250764526,4145.261437308868,574.2903363914373,1281.074342507645,3283.446712538226,600.8501529051988,3893.2720489296635,1612.2861773700306,807.0467584097859,3475.0101529051985,1609.0120642201834,2548.8041590214066,3919.0963149847094,2336.485993883792,3618.893669724771,838.5162079510703,2185.659021406728,2120.2575688073393,1065.5446483180428,499.40195718654434,805.1963302752295,10237.252951070337,3182.595061162079,573.4996941896025,762.6978593272171,1457.4990825688074,719.5622171253822,1364.7467278287463,1602.6804281345567,499.0278899082569,3015.603975535168,659.2298165137615,1743.0695718654433,1656.1655045871557,1646.8923241590214,2925.685290519878,3591.417155963303,3090.893149847095,13431.554648318042,4345.729648318043,3565.2535626911317,1241.0140978593272,1345.4834862385321,4914.093195718654,1141.4755657492356,3679.6103975535166,819.8621712538227,1923.4724464831804,890.9996941896025,4359.691987767585,2239.6742565749237,14975.610886850154,2631.1386544342504,10748.479657492355,1220.134862385321,2604.534862385321,3475.8262996941894,10367.172171253822,13015.422140672783,3351.4770642201834,1332.429250764526,11103.302232415903,521.2746483180428,4294.641192660551,980.5783944954128,1037.6075840978592,2548.7637767584097,3084.356574923547,349.0657798165137,2363.074373088685,1974.2699235474006,2731.524159021407,1354.3999541284404,2867.8607645259935,3463.8271773700303,3768.7877675840978,2034.4124770642202,1784.8686238532111,2920.3562996941896,745.5826299694189,1751.989388379205,2021.4402752293577,13608.990275229358,2735.2033944954132,2454.638103975535,3648.6621559633027,346.0264831804281,4015.169250764526,3305.0416819571865,3652.7811467889906,1397.985642201835,11067.003577981652,11339.257492354742,3714.6700305810396,3471.93504587156,2879.1804281345567,10644.179724770642,2924.4737003058103,11069.632721712538,2364.3507951070337,3161.752782874618,3652.9457798165136,1827.7770948012233,3019.174617737003,1710.9619266055047,4107.114678899083,3353.3474006116207,710.2818960244648,15161.364648318044,1509.0840978593271,2620.7528440366973,2246.3995718654432,528.2996941896024,1098.3119266055046,13227.650749235474,1042.9125382262996,2009.646483180428,2552.649633027523,385.88960244648314,673.0369571865443,658.825993883792,1148.8139449541284,1629.1743883792049,2369.772599388379,2382.151376146789,12000.440978593273,11284.016232415901,1891.2230581039755,1343.0128440366973,1957.8872629969421,14269.554250764526,3234.5831804281343,11457.291666666666,1505.478868501529,1945.257981651376,732.7510397553516,4774.371055045872,3913.5197614678896,1221.4611009174312,4583.618348623853,1067.4462079510704,968.6409327217125,3444.81376146789,3301.6361620795105,3565.172798165138,888.1003058103976,1491.7373241590215,13423.968287461776,3634.265620795107,2164.278103975535,2945.075535168196,14837.175275229358,691.6112538226299,11355.932171253824,3452.326987767584,3752.198363914373]}],\"hovertemplate\":\"%{xaxis.title.text}=%{x}<br>%{yaxis.title.text}=%{y}<br>FUMANTE=%{marker.color}<extra></extra>\",\"legendgroup\":\"\",\"marker\":{\"color\":[-0.4984512094953955,-0.4984512094953955,2.0062144116619653,-0.4984512094953955,-0.4984512094953955,-0.4984512094953955,2.0062144116619653,-0.4984512094953955,-0.4984512094953955,-0.4984512094953955,2.0062144116619653,-0.4984512094953955,-0.4984512094953955,-0.4984512094953955,-0.4984512094953955,-0.4984512094953955,-0.4984512094953955,2.0062144116619653,-0.4984512094953955,-0.4984512094953955,-0.4984512094953955,-0.4984512094953955,-0.4984512094953955,-0.4984512094953955,-0.4984512094953955,-0.4984512094953955,-0.4984512094953955,-0.4984512094953955,-0.4984512094953955,-0.4984512094953955,-0.4984512094953955,-0.4984512094953955,-0.4984512094953955,-0.4984512094953955,-0.4984512094953955,-0.4984512094953955,-0.4984512094953955,-0.4984512094953955,2.0062144116619653,-0.4984512094953955,-0.4984512094953955,-0.4984512094953955,-0.4984512094953955,-0.4984512094953955,-0.4984512094953955,-0.4984512094953955,-0.4984512094953955,2.0062144116619653,-0.4984512094953955,-0.4984512094953955,-0.4984512094953955,-0.4984512094953955,2.0062144116619653,-0.4984512094953955,-0.4984512094953955,-0.4984512094953955,-0.4984512094953955,-0.4984512094953955,-0.4984512094953955,-0.4984512094953955,-0.4984512094953955,-0.4984512094953955,-0.4984512094953955,-0.4984512094953955,-0.4984512094953955,-0.4984512094953955,-0.4984512094953955,2.0062144116619653,-0.4984512094953955,-0.4984512094953955,2.0062144116619653,-0.4984512094953955,-0.4984512094953955,2.0062144116619653,-0.4984512094953955,2.0062144116619653,-0.4984512094953955,2.0062144116619653,-0.4984512094953955,2.0062144116619653,-0.4984512094953955,-0.4984512094953955,-0.4984512094953955,-0.4984512094953955,-0.4984512094953955,-0.4984512094953955,-0.4984512094953955,-0.4984512094953955,2.0062144116619653,2.0062144116619653,-0.4984512094953955,-0.4984512094953955,-0.4984512094953955,-0.4984512094953955,-0.4984512094953955,-0.4984512094953955,-0.4984512094953955,-0.4984512094953955,-0.4984512094953955,2.0062144116619653,-0.4984512094953955,-0.4984512094953955,-0.4984512094953955,-0.4984512094953955,-0.4984512094953955,-0.4984512094953955,-0.4984512094953955,-0.4984512094953955,-0.4984512094953955,-0.4984512094953955,-0.4984512094953955,-0.4984512094953955,-0.4984512094953955,-0.4984512094953955,-0.4984512094953955,-0.4984512094953955,-0.4984512094953955,-0.4984512094953955,2.0062144116619653,2.0062144116619653,2.0062144116619653,-0.4984512094953955,-0.4984512094953955,-0.4984512094953955,-0.4984512094953955,-0.4984512094953955,2.0062144116619653,-0.4984512094953955,-0.4984512094953955,-0.4984512094953955,-0.4984512094953955,2.0062144116619653,2.0062144116619653,-0.4984512094953955,-0.4984512094953955,-0.4984512094953955,-0.4984512094953955,-0.4984512094953955,-0.4984512094953955,-0.4984512094953955,2.0062144116619653,2.0062144116619653,-0.4984512094953955,-0.4984512094953955,-0.4984512094953955,-0.4984512094953955,-0.4984512094953955,-0.4984512094953955,-0.4984512094953955,-0.4984512094953955,2.0062144116619653,-0.4984512094953955,-0.4984512094953955,2.0062144116619653,-0.4984512094953955,-0.4984512094953955,-0.4984512094953955,-0.4984512094953955,-0.4984512094953955,-0.4984512094953955,-0.4984512094953955,-0.4984512094953955,-0.4984512094953955,-0.4984512094953955,-0.4984512094953955,-0.4984512094953955,-0.4984512094953955,2.0062144116619653,-0.4984512094953955,-0.4984512094953955,-0.4984512094953955,-0.4984512094953955,2.0062144116619653,-0.4984512094953955,-0.4984512094953955,-0.4984512094953955,-0.4984512094953955,2.0062144116619653,-0.4984512094953955,-0.4984512094953955,-0.4984512094953955,2.0062144116619653,2.0062144116619653,-0.4984512094953955,-0.4984512094953955,-0.4984512094953955,2.0062144116619653,-0.4984512094953955,-0.4984512094953955,-0.4984512094953955,-0.4984512094953955,-0.4984512094953955,2.0062144116619653,-0.4984512094953955,-0.4984512094953955,2.0062144116619653,-0.4984512094953955,-0.4984512094953955,-0.4984512094953955,-0.4984512094953955,-0.4984512094953955,-0.4984512094953955,-0.4984512094953955,-0.4984512094953955,-0.4984512094953955,-0.4984512094953955,-0.4984512094953955,-0.4984512094953955,-0.4984512094953955,-0.4984512094953955,-0.4984512094953955,-0.4984512094953955,-0.4984512094953955,-0.4984512094953955,-0.4984512094953955,-0.4984512094953955,-0.4984512094953955,-0.4984512094953955,-0.4984512094953955,-0.4984512094953955,-0.4984512094953955,-0.4984512094953955,-0.4984512094953955,-0.4984512094953955,-0.4984512094953955,-0.4984512094953955,-0.4984512094953955,-0.4984512094953955,-0.4984512094953955,-0.4984512094953955,-0.4984512094953955,-0.4984512094953955,-0.4984512094953955,2.0062144116619653,-0.4984512094953955,-0.4984512094953955,-0.4984512094953955,-0.4984512094953955,-0.4984512094953955,-0.4984512094953955,-0.4984512094953955,-0.4984512094953955,2.0062144116619653,-0.4984512094953955,-0.4984512094953955,2.0062144116619653,-0.4984512094953955,-0.4984512094953955,-0.4984512094953955,-0.4984512094953955,-0.4984512094953955,-0.4984512094953955,2.0062144116619653,-0.4984512094953955,-0.4984512094953955,-0.4984512094953955,-0.4984512094953955,-0.4984512094953955,-0.4984512094953955,-0.4984512094953955,-0.4984512094953955,-0.4984512094953955,-0.4984512094953955,-0.4984512094953955,-0.4984512094953955,-0.4984512094953955,-0.4984512094953955,-0.4984512094953955,-0.4984512094953955,-0.4984512094953955,-0.4984512094953955,-0.4984512094953955,2.0062144116619653,2.0062144116619653,-0.4984512094953955,-0.4984512094953955,-0.4984512094953955,-0.4984512094953955,-0.4984512094953955,-0.4984512094953955,-0.4984512094953955,-0.4984512094953955,-0.4984512094953955,-0.4984512094953955,-0.4984512094953955,-0.4984512094953955,-0.4984512094953955,2.0062144116619653,-0.4984512094953955,2.0062144116619653,-0.4984512094953955,2.0062144116619653,-0.4984512094953955,-0.4984512094953955,-0.4984512094953955,-0.4984512094953955,-0.4984512094953955,-0.4984512094953955,-0.4984512094953955,-0.4984512094953955,-0.4984512094953955,-0.4984512094953955,-0.4984512094953955,-0.4984512094953955,-0.4984512094953955,-0.4984512094953955,-0.4984512094953955,-0.4984512094953955,-0.4984512094953955,-0.4984512094953955,-0.4984512094953955,-0.4984512094953955,-0.4984512094953955,-0.4984512094953955,-0.4984512094953955,-0.4984512094953955,-0.4984512094953955,-0.4984512094953955,-0.4984512094953955,-0.4984512094953955,-0.4984512094953955,-0.4984512094953955,-0.4984512094953955,-0.4984512094953955,-0.4984512094953955,2.0062144116619653,-0.4984512094953955,-0.4984512094953955,-0.4984512094953955,2.0062144116619653,-0.4984512094953955,-0.4984512094953955,-0.4984512094953955,-0.4984512094953955,2.0062144116619653,-0.4984512094953955,-0.4984512094953955,-0.4984512094953955,2.0062144116619653,-0.4984512094953955,-0.4984512094953955,-0.4984512094953955,-0.4984512094953955,-0.4984512094953955,-0.4984512094953955,-0.4984512094953955,-0.4984512094953955,-0.4984512094953955,-0.4984512094953955,-0.4984512094953955,-0.4984512094953955,-0.4984512094953955,-0.4984512094953955,-0.4984512094953955,-0.4984512094953955,-0.4984512094953955,-0.4984512094953955,-0.4984512094953955,2.0062144116619653,-0.4984512094953955,-0.4984512094953955,-0.4984512094953955,2.0062144116619653,-0.4984512094953955,2.0062144116619653,-0.4984512094953955,-0.4984512094953955,-0.4984512094953955,-0.4984512094953955,-0.4984512094953955,-0.4984512094953955,-0.4984512094953955,2.0062144116619653,-0.4984512094953955,2.0062144116619653,-0.4984512094953955,-0.4984512094953955,-0.4984512094953955,-0.4984512094953955,-0.4984512094953955,-0.4984512094953955,-0.4984512094953955,-0.4984512094953955,-0.4984512094953955,2.0062144116619653,-0.4984512094953955,-0.4984512094953955,-0.4984512094953955,-0.4984512094953955,-0.4984512094953955,-0.4984512094953955,-0.4984512094953955,-0.4984512094953955,2.0062144116619653,-0.4984512094953955,-0.4984512094953955,-0.4984512094953955,-0.4984512094953955,-0.4984512094953955,-0.4984512094953955,-0.4984512094953955,-0.4984512094953955,-0.4984512094953955,-0.4984512094953955,-0.4984512094953955,2.0062144116619653,2.0062144116619653,-0.4984512094953955,-0.4984512094953955,2.0062144116619653,-0.4984512094953955,-0.4984512094953955,-0.4984512094953955,-0.4984512094953955,-0.4984512094953955,2.0062144116619653,-0.4984512094953955,-0.4984512094953955,-0.4984512094953955,-0.4984512094953955,2.0062144116619653,-0.4984512094953955,-0.4984512094953955,-0.4984512094953955,-0.4984512094953955,-0.4984512094953955,-0.4984512094953955,-0.4984512094953955,2.0062144116619653,-0.4984512094953955,-0.4984512094953955,-0.4984512094953955,-0.4984512094953955,-0.4984512094953955,-0.4984512094953955,-0.4984512094953955,-0.4984512094953955,-0.4984512094953955,-0.4984512094953955,2.0062144116619653,-0.4984512094953955,-0.4984512094953955,-0.4984512094953955,-0.4984512094953955,-0.4984512094953955,-0.4984512094953955,-0.4984512094953955,-0.4984512094953955,-0.4984512094953955,-0.4984512094953955,-0.4984512094953955,-0.4984512094953955,-0.4984512094953955,-0.4984512094953955,-0.4984512094953955,-0.4984512094953955,2.0062144116619653,-0.4984512094953955,-0.4984512094953955,2.0062144116619653,-0.4984512094953955,-0.4984512094953955,-0.4984512094953955,-0.4984512094953955,-0.4984512094953955,-0.4984512094953955,-0.4984512094953955,-0.4984512094953955,2.0062144116619653,-0.4984512094953955,-0.4984512094953955,-0.4984512094953955,-0.4984512094953955,-0.4984512094953955,-0.4984512094953955,-0.4984512094953955,-0.4984512094953955,2.0062144116619653,2.0062144116619653,-0.4984512094953955,-0.4984512094953955,-0.4984512094953955,-0.4984512094953955,-0.4984512094953955,-0.4984512094953955,-0.4984512094953955,-0.4984512094953955,-0.4984512094953955,-0.4984512094953955,-0.4984512094953955,-0.4984512094953955,-0.4984512094953955,2.0062144116619653,-0.4984512094953955,-0.4984512094953955,2.0062144116619653,-0.4984512094953955,-0.4984512094953955,-0.4984512094953955,-0.4984512094953955,2.0062144116619653,-0.4984512094953955,-0.4984512094953955,-0.4984512094953955,-0.4984512094953955,-0.4984512094953955,-0.4984512094953955,-0.4984512094953955,-0.4984512094953955,-0.4984512094953955,-0.4984512094953955,2.0062144116619653,-0.4984512094953955,-0.4984512094953955,-0.4984512094953955,-0.4984512094953955,-0.4984512094953955,-0.4984512094953955,-0.4984512094953955,-0.4984512094953955,-0.4984512094953955,2.0062144116619653,-0.4984512094953955,-0.4984512094953955,-0.4984512094953955,-0.4984512094953955,-0.4984512094953955,-0.4984512094953955,-0.4984512094953955,-0.4984512094953955,-0.4984512094953955,-0.4984512094953955,-0.4984512094953955,-0.4984512094953955,-0.4984512094953955,-0.4984512094953955,-0.4984512094953955,-0.4984512094953955,-0.4984512094953955,-0.4984512094953955,-0.4984512094953955,-0.4984512094953955,2.0062144116619653,-0.4984512094953955,-0.4984512094953955,-0.4984512094953955,-0.4984512094953955,-0.4984512094953955,-0.4984512094953955,-0.4984512094953955,-0.4984512094953955,-0.4984512094953955,-0.4984512094953955,-0.4984512094953955,-0.4984512094953955,-0.4984512094953955,-0.4984512094953955,-0.4984512094953955,-0.4984512094953955,-0.4984512094953955,-0.4984512094953955,-0.4984512094953955,2.0062144116619653,-0.4984512094953955,-0.4984512094953955,-0.4984512094953955,-0.4984512094953955,-0.4984512094953955,-0.4984512094953955,-0.4984512094953955,-0.4984512094953955,-0.4984512094953955,2.0062144116619653,-0.4984512094953955,-0.4984512094953955,-0.4984512094953955,-0.4984512094953955,-0.4984512094953955,-0.4984512094953955,2.0062144116619653,-0.4984512094953955,-0.4984512094953955,-0.4984512094953955,-0.4984512094953955,-0.4984512094953955,-0.4984512094953955,-0.4984512094953955,-0.4984512094953955,-0.4984512094953955,-0.4984512094953955,-0.4984512094953955,-0.4984512094953955,-0.4984512094953955,-0.4984512094953955,2.0062144116619653,-0.4984512094953955,-0.4984512094953955,-0.4984512094953955,-0.4984512094953955,2.0062144116619653,2.0062144116619653,-0.4984512094953955,-0.4984512094953955,-0.4984512094953955,-0.4984512094953955,-0.4984512094953955,-0.4984512094953955,2.0062144116619653,2.0062144116619653,-0.4984512094953955,-0.4984512094953955,-0.4984512094953955,-0.4984512094953955,-0.4984512094953955,2.0062144116619653,-0.4984512094953955,2.0062144116619653,-0.4984512094953955,-0.4984512094953955,-0.4984512094953955,-0.4984512094953955,-0.4984512094953955,-0.4984512094953955,-0.4984512094953955,-0.4984512094953955,-0.4984512094953955,-0.4984512094953955,-0.4984512094953955,-0.4984512094953955,-0.4984512094953955,-0.4984512094953955,-0.4984512094953955,-0.4984512094953955,-0.4984512094953955,-0.4984512094953955,-0.4984512094953955,-0.4984512094953955,-0.4984512094953955,-0.4984512094953955,-0.4984512094953955,-0.4984512094953955,2.0062144116619653,-0.4984512094953955,2.0062144116619653,-0.4984512094953955,-0.4984512094953955,-0.4984512094953955,-0.4984512094953955,-0.4984512094953955,-0.4984512094953955,-0.4984512094953955,2.0062144116619653,-0.4984512094953955,-0.4984512094953955,-0.4984512094953955,2.0062144116619653,-0.4984512094953955,-0.4984512094953955,-0.4984512094953955,2.0062144116619653,-0.4984512094953955,-0.4984512094953955,-0.4984512094953955,2.0062144116619653,-0.4984512094953955,-0.4984512094953955,-0.4984512094953955,-0.4984512094953955,-0.4984512094953955,-0.4984512094953955,-0.4984512094953955,-0.4984512094953955,-0.4984512094953955,2.0062144116619653,-0.4984512094953955,-0.4984512094953955,-0.4984512094953955,-0.4984512094953955,-0.4984512094953955,-0.4984512094953955,-0.4984512094953955,-0.4984512094953955,-0.4984512094953955,-0.4984512094953955,-0.4984512094953955,-0.4984512094953955,-0.4984512094953955,-0.4984512094953955,-0.4984512094953955,-0.4984512094953955,-0.4984512094953955,2.0062144116619653,2.0062144116619653,-0.4984512094953955,-0.4984512094953955,2.0062144116619653,-0.4984512094953955,-0.4984512094953955,-0.4984512094953955,2.0062144116619653,-0.4984512094953955,-0.4984512094953955,-0.4984512094953955,2.0062144116619653,-0.4984512094953955,-0.4984512094953955,-0.4984512094953955,-0.4984512094953955,-0.4984512094953955,-0.4984512094953955,-0.4984512094953955,-0.4984512094953955,-0.4984512094953955,-0.4984512094953955,2.0062144116619653,-0.4984512094953955,-0.4984512094953955,-0.4984512094953955,-0.4984512094953955,-0.4984512094953955,-0.4984512094953955,2.0062144116619653,-0.4984512094953955,-0.4984512094953955,-0.4984512094953955,-0.4984512094953955,-0.4984512094953955,-0.4984512094953955,-0.4984512094953955,2.0062144116619653,-0.4984512094953955,-0.4984512094953955,-0.4984512094953955,-0.4984512094953955,-0.4984512094953955,-0.4984512094953955,-0.4984512094953955,-0.4984512094953955,-0.4984512094953955,-0.4984512094953955,-0.4984512094953955,-0.4984512094953955,-0.4984512094953955,-0.4984512094953955,-0.4984512094953955,-0.4984512094953955,-0.4984512094953955,-0.4984512094953955,-0.4984512094953955,-0.4984512094953955,2.0062144116619653,-0.4984512094953955,-0.4984512094953955,-0.4984512094953955,-0.4984512094953955,-0.4984512094953955,-0.4984512094953955,-0.4984512094953955,-0.4984512094953955,-0.4984512094953955,-0.4984512094953955,-0.4984512094953955,-0.4984512094953955,-0.4984512094953955,-0.4984512094953955,-0.4984512094953955,-0.4984512094953955,2.0062144116619653,2.0062144116619653,-0.4984512094953955,-0.4984512094953955,-0.4984512094953955,-0.4984512094953955,-0.4984512094953955,-0.4984512094953955,-0.4984512094953955,-0.4984512094953955,-0.4984512094953955,-0.4984512094953955,-0.4984512094953955,-0.4984512094953955,-0.4984512094953955,-0.4984512094953955,-0.4984512094953955,-0.4984512094953955,-0.4984512094953955,-0.4984512094953955,-0.4984512094953955,-0.4984512094953955,2.0062144116619653,-0.4984512094953955,-0.4984512094953955,-0.4984512094953955,-0.4984512094953955,-0.4984512094953955,-0.4984512094953955,-0.4984512094953955,-0.4984512094953955,-0.4984512094953955,-0.4984512094953955,-0.4984512094953955,-0.4984512094953955,-0.4984512094953955,-0.4984512094953955,2.0062144116619653,-0.4984512094953955,-0.4984512094953955,-0.4984512094953955,-0.4984512094953955,-0.4984512094953955,2.0062144116619653,-0.4984512094953955,-0.4984512094953955,-0.4984512094953955,2.0062144116619653,-0.4984512094953955,-0.4984512094953955,-0.4984512094953955,2.0062144116619653,2.0062144116619653,-0.4984512094953955,-0.4984512094953955,-0.4984512094953955,-0.4984512094953955,-0.4984512094953955,-0.4984512094953955,-0.4984512094953955,-0.4984512094953955,-0.4984512094953955,-0.4984512094953955,-0.4984512094953955,-0.4984512094953955,-0.4984512094953955,-0.4984512094953955,-0.4984512094953955,-0.4984512094953955,-0.4984512094953955,-0.4984512094953955,-0.4984512094953955,-0.4984512094953955,-0.4984512094953955,-0.4984512094953955,-0.4984512094953955,-0.4984512094953955,2.0062144116619653,-0.4984512094953955,-0.4984512094953955,-0.4984512094953955,-0.4984512094953955,2.0062144116619653,-0.4984512094953955,-0.4984512094953955,-0.4984512094953955,-0.4984512094953955,-0.4984512094953955,2.0062144116619653,-0.4984512094953955,-0.4984512094953955,-0.4984512094953955,2.0062144116619653,-0.4984512094953955,-0.4984512094953955,-0.4984512094953955,-0.4984512094953955,2.0062144116619653,2.0062144116619653,-0.4984512094953955,-0.4984512094953955,-0.4984512094953955,-0.4984512094953955,-0.4984512094953955,-0.4984512094953955,-0.4984512094953955,-0.4984512094953955,-0.4984512094953955,-0.4984512094953955,-0.4984512094953955,-0.4984512094953955,-0.4984512094953955,-0.4984512094953955,-0.4984512094953955,-0.4984512094953955,-0.4984512094953955,-0.4984512094953955,-0.4984512094953955,-0.4984512094953955,-0.4984512094953955,-0.4984512094953955,-0.4984512094953955,-0.4984512094953955,-0.4984512094953955,-0.4984512094953955,-0.4984512094953955,-0.4984512094953955,-0.4984512094953955,-0.4984512094953955,2.0062144116619653,-0.4984512094953955,-0.4984512094953955,-0.4984512094953955,-0.4984512094953955,-0.4984512094953955,-0.4984512094953955,-0.4984512094953955,-0.4984512094953955,-0.4984512094953955,-0.4984512094953955,-0.4984512094953955,-0.4984512094953955,-0.4984512094953955,-0.4984512094953955,-0.4984512094953955,-0.4984512094953955,2.0062144116619653,-0.4984512094953955,-0.4984512094953955,-0.4984512094953955,-0.4984512094953955,-0.4984512094953955,-0.4984512094953955,-0.4984512094953955,-0.4984512094953955,-0.4984512094953955,-0.4984512094953955,-0.4984512094953955,-0.4984512094953955,2.0062144116619653,-0.4984512094953955,2.0062144116619653,-0.4984512094953955,-0.4984512094953955,-0.4984512094953955,2.0062144116619653,2.0062144116619653,-0.4984512094953955,-0.4984512094953955,2.0062144116619653,-0.4984512094953955,-0.4984512094953955,-0.4984512094953955,-0.4984512094953955,-0.4984512094953955,-0.4984512094953955,-0.4984512094953955,-0.4984512094953955,-0.4984512094953955,-0.4984512094953955,-0.4984512094953955,-0.4984512094953955,-0.4984512094953955,-0.4984512094953955,-0.4984512094953955,-0.4984512094953955,-0.4984512094953955,-0.4984512094953955,-0.4984512094953955,-0.4984512094953955,2.0062144116619653,-0.4984512094953955,-0.4984512094953955,-0.4984512094953955,-0.4984512094953955,-0.4984512094953955,-0.4984512094953955,-0.4984512094953955,-0.4984512094953955,2.0062144116619653,2.0062144116619653,-0.4984512094953955,-0.4984512094953955,-0.4984512094953955,2.0062144116619653,-0.4984512094953955,2.0062144116619653,-0.4984512094953955,-0.4984512094953955,-0.4984512094953955,-0.4984512094953955,-0.4984512094953955,-0.4984512094953955,-0.4984512094953955,-0.4984512094953955,-0.4984512094953955,2.0062144116619653,-0.4984512094953955,-0.4984512094953955,-0.4984512094953955,-0.4984512094953955,-0.4984512094953955,2.0062144116619653,-0.4984512094953955,-0.4984512094953955,-0.4984512094953955,-0.4984512094953955,-0.4984512094953955,-0.4984512094953955,-0.4984512094953955,-0.4984512094953955,-0.4984512094953955,-0.4984512094953955,2.0062144116619653,2.0062144116619653,-0.4984512094953955,-0.4984512094953955,-0.4984512094953955,2.0062144116619653,-0.4984512094953955,2.0062144116619653,-0.4984512094953955,-0.4984512094953955,-0.4984512094953955,-0.4984512094953955,-0.4984512094953955,-0.4984512094953955,-0.4984512094953955,-0.4984512094953955,-0.4984512094953955,-0.4984512094953955,-0.4984512094953955,-0.4984512094953955,-0.4984512094953955,-0.4984512094953955,2.0062144116619653,-0.4984512094953955,-0.4984512094953955,-0.4984512094953955,2.0062144116619653,-0.4984512094953955,2.0062144116619653,-0.4984512094953955,-0.4984512094953955],\"coloraxis\":\"coloraxis\",\"symbol\":\"circle\"},\"name\":\"\",\"showlegend\":false,\"type\":\"splom\"}],                        {\"template\":{\"data\":{\"bar\":[{\"error_x\":{\"color\":\"#2a3f5f\"},\"error_y\":{\"color\":\"#2a3f5f\"},\"marker\":{\"line\":{\"color\":\"#E5ECF6\",\"width\":0.5},\"pattern\":{\"fillmode\":\"overlay\",\"size\":10,\"solidity\":0.2}},\"type\":\"bar\"}],\"barpolar\":[{\"marker\":{\"line\":{\"color\":\"#E5ECF6\",\"width\":0.5},\"pattern\":{\"fillmode\":\"overlay\",\"size\":10,\"solidity\":0.2}},\"type\":\"barpolar\"}],\"carpet\":[{\"aaxis\":{\"endlinecolor\":\"#2a3f5f\",\"gridcolor\":\"white\",\"linecolor\":\"white\",\"minorgridcolor\":\"white\",\"startlinecolor\":\"#2a3f5f\"},\"baxis\":{\"endlinecolor\":\"#2a3f5f\",\"gridcolor\":\"white\",\"linecolor\":\"white\",\"minorgridcolor\":\"white\",\"startlinecolor\":\"#2a3f5f\"},\"type\":\"carpet\"}],\"choropleth\":[{\"colorbar\":{\"outlinewidth\":0,\"ticks\":\"\"},\"type\":\"choropleth\"}],\"contour\":[{\"colorbar\":{\"outlinewidth\":0,\"ticks\":\"\"},\"colorscale\":[[0.0,\"#0d0887\"],[0.1111111111111111,\"#46039f\"],[0.2222222222222222,\"#7201a8\"],[0.3333333333333333,\"#9c179e\"],[0.4444444444444444,\"#bd3786\"],[0.5555555555555556,\"#d8576b\"],[0.6666666666666666,\"#ed7953\"],[0.7777777777777778,\"#fb9f3a\"],[0.8888888888888888,\"#fdca26\"],[1.0,\"#f0f921\"]],\"type\":\"contour\"}],\"contourcarpet\":[{\"colorbar\":{\"outlinewidth\":0,\"ticks\":\"\"},\"type\":\"contourcarpet\"}],\"heatmap\":[{\"colorbar\":{\"outlinewidth\":0,\"ticks\":\"\"},\"colorscale\":[[0.0,\"#0d0887\"],[0.1111111111111111,\"#46039f\"],[0.2222222222222222,\"#7201a8\"],[0.3333333333333333,\"#9c179e\"],[0.4444444444444444,\"#bd3786\"],[0.5555555555555556,\"#d8576b\"],[0.6666666666666666,\"#ed7953\"],[0.7777777777777778,\"#fb9f3a\"],[0.8888888888888888,\"#fdca26\"],[1.0,\"#f0f921\"]],\"type\":\"heatmap\"}],\"heatmapgl\":[{\"colorbar\":{\"outlinewidth\":0,\"ticks\":\"\"},\"colorscale\":[[0.0,\"#0d0887\"],[0.1111111111111111,\"#46039f\"],[0.2222222222222222,\"#7201a8\"],[0.3333333333333333,\"#9c179e\"],[0.4444444444444444,\"#bd3786\"],[0.5555555555555556,\"#d8576b\"],[0.6666666666666666,\"#ed7953\"],[0.7777777777777778,\"#fb9f3a\"],[0.8888888888888888,\"#fdca26\"],[1.0,\"#f0f921\"]],\"type\":\"heatmapgl\"}],\"histogram\":[{\"marker\":{\"pattern\":{\"fillmode\":\"overlay\",\"size\":10,\"solidity\":0.2}},\"type\":\"histogram\"}],\"histogram2d\":[{\"colorbar\":{\"outlinewidth\":0,\"ticks\":\"\"},\"colorscale\":[[0.0,\"#0d0887\"],[0.1111111111111111,\"#46039f\"],[0.2222222222222222,\"#7201a8\"],[0.3333333333333333,\"#9c179e\"],[0.4444444444444444,\"#bd3786\"],[0.5555555555555556,\"#d8576b\"],[0.6666666666666666,\"#ed7953\"],[0.7777777777777778,\"#fb9f3a\"],[0.8888888888888888,\"#fdca26\"],[1.0,\"#f0f921\"]],\"type\":\"histogram2d\"}],\"histogram2dcontour\":[{\"colorbar\":{\"outlinewidth\":0,\"ticks\":\"\"},\"colorscale\":[[0.0,\"#0d0887\"],[0.1111111111111111,\"#46039f\"],[0.2222222222222222,\"#7201a8\"],[0.3333333333333333,\"#9c179e\"],[0.4444444444444444,\"#bd3786\"],[0.5555555555555556,\"#d8576b\"],[0.6666666666666666,\"#ed7953\"],[0.7777777777777778,\"#fb9f3a\"],[0.8888888888888888,\"#fdca26\"],[1.0,\"#f0f921\"]],\"type\":\"histogram2dcontour\"}],\"mesh3d\":[{\"colorbar\":{\"outlinewidth\":0,\"ticks\":\"\"},\"type\":\"mesh3d\"}],\"parcoords\":[{\"line\":{\"colorbar\":{\"outlinewidth\":0,\"ticks\":\"\"}},\"type\":\"parcoords\"}],\"pie\":[{\"automargin\":true,\"type\":\"pie\"}],\"scatter\":[{\"marker\":{\"colorbar\":{\"outlinewidth\":0,\"ticks\":\"\"}},\"type\":\"scatter\"}],\"scatter3d\":[{\"line\":{\"colorbar\":{\"outlinewidth\":0,\"ticks\":\"\"}},\"marker\":{\"colorbar\":{\"outlinewidth\":0,\"ticks\":\"\"}},\"type\":\"scatter3d\"}],\"scattercarpet\":[{\"marker\":{\"colorbar\":{\"outlinewidth\":0,\"ticks\":\"\"}},\"type\":\"scattercarpet\"}],\"scattergeo\":[{\"marker\":{\"colorbar\":{\"outlinewidth\":0,\"ticks\":\"\"}},\"type\":\"scattergeo\"}],\"scattergl\":[{\"marker\":{\"colorbar\":{\"outlinewidth\":0,\"ticks\":\"\"}},\"type\":\"scattergl\"}],\"scattermapbox\":[{\"marker\":{\"colorbar\":{\"outlinewidth\":0,\"ticks\":\"\"}},\"type\":\"scattermapbox\"}],\"scatterpolar\":[{\"marker\":{\"colorbar\":{\"outlinewidth\":0,\"ticks\":\"\"}},\"type\":\"scatterpolar\"}],\"scatterpolargl\":[{\"marker\":{\"colorbar\":{\"outlinewidth\":0,\"ticks\":\"\"}},\"type\":\"scatterpolargl\"}],\"scatterternary\":[{\"marker\":{\"colorbar\":{\"outlinewidth\":0,\"ticks\":\"\"}},\"type\":\"scatterternary\"}],\"surface\":[{\"colorbar\":{\"outlinewidth\":0,\"ticks\":\"\"},\"colorscale\":[[0.0,\"#0d0887\"],[0.1111111111111111,\"#46039f\"],[0.2222222222222222,\"#7201a8\"],[0.3333333333333333,\"#9c179e\"],[0.4444444444444444,\"#bd3786\"],[0.5555555555555556,\"#d8576b\"],[0.6666666666666666,\"#ed7953\"],[0.7777777777777778,\"#fb9f3a\"],[0.8888888888888888,\"#fdca26\"],[1.0,\"#f0f921\"]],\"type\":\"surface\"}],\"table\":[{\"cells\":{\"fill\":{\"color\":\"#EBF0F8\"},\"line\":{\"color\":\"white\"}},\"header\":{\"fill\":{\"color\":\"#C8D4E3\"},\"line\":{\"color\":\"white\"}},\"type\":\"table\"}]},\"layout\":{\"annotationdefaults\":{\"arrowcolor\":\"#2a3f5f\",\"arrowhead\":0,\"arrowwidth\":1},\"autotypenumbers\":\"strict\",\"coloraxis\":{\"colorbar\":{\"outlinewidth\":0,\"ticks\":\"\"}},\"colorscale\":{\"diverging\":[[0,\"#8e0152\"],[0.1,\"#c51b7d\"],[0.2,\"#de77ae\"],[0.3,\"#f1b6da\"],[0.4,\"#fde0ef\"],[0.5,\"#f7f7f7\"],[0.6,\"#e6f5d0\"],[0.7,\"#b8e186\"],[0.8,\"#7fbc41\"],[0.9,\"#4d9221\"],[1,\"#276419\"]],\"sequential\":[[0.0,\"#0d0887\"],[0.1111111111111111,\"#46039f\"],[0.2222222222222222,\"#7201a8\"],[0.3333333333333333,\"#9c179e\"],[0.4444444444444444,\"#bd3786\"],[0.5555555555555556,\"#d8576b\"],[0.6666666666666666,\"#ed7953\"],[0.7777777777777778,\"#fb9f3a\"],[0.8888888888888888,\"#fdca26\"],[1.0,\"#f0f921\"]],\"sequentialminus\":[[0.0,\"#0d0887\"],[0.1111111111111111,\"#46039f\"],[0.2222222222222222,\"#7201a8\"],[0.3333333333333333,\"#9c179e\"],[0.4444444444444444,\"#bd3786\"],[0.5555555555555556,\"#d8576b\"],[0.6666666666666666,\"#ed7953\"],[0.7777777777777778,\"#fb9f3a\"],[0.8888888888888888,\"#fdca26\"],[1.0,\"#f0f921\"]]},\"colorway\":[\"#636efa\",\"#EF553B\",\"#00cc96\",\"#ab63fa\",\"#FFA15A\",\"#19d3f3\",\"#FF6692\",\"#B6E880\",\"#FF97FF\",\"#FECB52\"],\"font\":{\"color\":\"#2a3f5f\"},\"geo\":{\"bgcolor\":\"white\",\"lakecolor\":\"white\",\"landcolor\":\"#E5ECF6\",\"showlakes\":true,\"showland\":true,\"subunitcolor\":\"white\"},\"hoverlabel\":{\"align\":\"left\"},\"hovermode\":\"closest\",\"mapbox\":{\"style\":\"light\"},\"paper_bgcolor\":\"white\",\"plot_bgcolor\":\"#E5ECF6\",\"polar\":{\"angularaxis\":{\"gridcolor\":\"white\",\"linecolor\":\"white\",\"ticks\":\"\"},\"bgcolor\":\"#E5ECF6\",\"radialaxis\":{\"gridcolor\":\"white\",\"linecolor\":\"white\",\"ticks\":\"\"}},\"scene\":{\"xaxis\":{\"backgroundcolor\":\"#E5ECF6\",\"gridcolor\":\"white\",\"gridwidth\":2,\"linecolor\":\"white\",\"showbackground\":true,\"ticks\":\"\",\"zerolinecolor\":\"white\"},\"yaxis\":{\"backgroundcolor\":\"#E5ECF6\",\"gridcolor\":\"white\",\"gridwidth\":2,\"linecolor\":\"white\",\"showbackground\":true,\"ticks\":\"\",\"zerolinecolor\":\"white\"},\"zaxis\":{\"backgroundcolor\":\"#E5ECF6\",\"gridcolor\":\"white\",\"gridwidth\":2,\"linecolor\":\"white\",\"showbackground\":true,\"ticks\":\"\",\"zerolinecolor\":\"white\"}},\"shapedefaults\":{\"line\":{\"color\":\"#2a3f5f\"}},\"ternary\":{\"aaxis\":{\"gridcolor\":\"white\",\"linecolor\":\"white\",\"ticks\":\"\"},\"baxis\":{\"gridcolor\":\"white\",\"linecolor\":\"white\",\"ticks\":\"\"},\"bgcolor\":\"#E5ECF6\",\"caxis\":{\"gridcolor\":\"white\",\"linecolor\":\"white\",\"ticks\":\"\"}},\"title\":{\"x\":0.05},\"xaxis\":{\"automargin\":true,\"gridcolor\":\"white\",\"linecolor\":\"white\",\"ticks\":\"\",\"title\":{\"standoff\":15},\"zerolinecolor\":\"white\",\"zerolinewidth\":2},\"yaxis\":{\"automargin\":true,\"gridcolor\":\"white\",\"linecolor\":\"white\",\"ticks\":\"\",\"title\":{\"standoff\":15},\"zerolinecolor\":\"white\",\"zerolinewidth\":2}}},\"coloraxis\":{\"colorbar\":{\"title\":{\"text\":\"FUMANTE\"}},\"colorscale\":[[0.0,\"#0d0887\"],[0.1111111111111111,\"#46039f\"],[0.2222222222222222,\"#7201a8\"],[0.3333333333333333,\"#9c179e\"],[0.4444444444444444,\"#bd3786\"],[0.5555555555555556,\"#d8576b\"],[0.6666666666666666,\"#ed7953\"],[0.7777777777777778,\"#fb9f3a\"],[0.8888888888888888,\"#fdca26\"],[1.0,\"#f0f921\"]]},\"legend\":{\"tracegroupgap\":0},\"margin\":{\"t\":60},\"dragmode\":\"select\"},                        {\"responsive\": true}                    ).then(function(){\n",
              "                            \n",
              "var gd = document.getElementById('2d96b367-468a-47e9-8703-0b7a9d6b0868');\n",
              "var x = new MutationObserver(function (mutations, observer) {{\n",
              "        var display = window.getComputedStyle(gd).display;\n",
              "        if (!display || display === 'none') {{\n",
              "            console.log([gd, 'removed!']);\n",
              "            Plotly.purge(gd);\n",
              "            observer.disconnect();\n",
              "        }}\n",
              "}});\n",
              "\n",
              "// Listen for the removal of the full notebook cells\n",
              "var notebookContainer = gd.closest('#notebook-container');\n",
              "if (notebookContainer) {{\n",
              "    x.observe(notebookContainer, {childList: true});\n",
              "}}\n",
              "\n",
              "// Listen for the clearing of the current output cell\n",
              "var outputEl = gd.closest('.output');\n",
              "if (outputEl) {{\n",
              "    x.observe(outputEl, {childList: true});\n",
              "}}\n",
              "\n",
              "                        })                };                            </script>        </div>\n",
              "</body>\n",
              "</html>"
            ]
          },
          "metadata": {}
        }
      ]
    },
    {
      "cell_type": "markdown",
      "source": [
        "BASE DE TREINAMENTO E TESTE - OUTILERS COM A VISÃO HUMANA"
      ],
      "metadata": {
        "id": "leI7LZVh6Zyx"
      }
    },
    {
      "cell_type": "code",
      "source": [
        "x_train,x_teste, y_train, y_teste = train_test_split(df_modelagem_modelo_humano.iloc[:,[1,5]].values, df_modelagem_modelo_humano.iloc[:,-1].values, test_size = 0.3, random_state=0)"
      ],
      "metadata": {
        "id": "Rfhp0t6-3o8A"
      },
      "execution_count": 113,
      "outputs": []
    },
    {
      "cell_type": "markdown",
      "source": [
        "RANDOM FOREST REGRESSOR - OUTILERS COM A VISÃO HUMANA"
      ],
      "metadata": {
        "id": "JdjLP8Mf6hCU"
      }
    },
    {
      "cell_type": "code",
      "source": [
        "obj_RandomForestRegressor = RandomForestRegressor(n_estimators=2)\n",
        "obj_RandomForestRegressor.fit(x_train, y_train)\n",
        "previsão = obj_RandomForestRegressor.predict(x_train)\n",
        "obj_RandomForestRegressor.score(x_train, y_train)"
      ],
      "metadata": {
        "id": "6O2fZzuf4bp7",
        "colab": {
          "base_uri": "https://localhost:8080/"
        },
        "outputId": "515e54de-3aff-483c-b5fb-0c7d235880c2"
      },
      "execution_count": 114,
      "outputs": [
        {
          "output_type": "execute_result",
          "data": {
            "text/plain": [
              "0.9731413390556575"
            ]
          },
          "metadata": {},
          "execution_count": 114
        }
      ]
    },
    {
      "cell_type": "code",
      "source": [
        "obj_RandomForestRegressor.score(x_teste, y_teste)\n"
      ],
      "metadata": {
        "id": "9_Z3T7H34lh1",
        "colab": {
          "base_uri": "https://localhost:8080/"
        },
        "outputId": "b772def5-caa5-4865-f735-35517b7f11ae"
      },
      "execution_count": 115,
      "outputs": [
        {
          "output_type": "execute_result",
          "data": {
            "text/plain": [
              "0.9649328128921101"
            ]
          },
          "metadata": {},
          "execution_count": 115
        }
      ]
    },
    {
      "cell_type": "markdown",
      "source": [
        "VALIDAÇÃO CRUZADA - OUTILERS COM A VISÃO HUMANA"
      ],
      "metadata": {
        "id": "joQlayjp6uI-"
      }
    },
    {
      "cell_type": "code",
      "source": [
        "Resultados_RFG_r2 =[]\n",
        "Resultados_RFG_MSRE =[]\n",
        "for i in range(30):\n",
        "  obj_Kfold = KFold(n_splits=10, shuffle=True, random_state=i)\n",
        "  scores_1 = cross_val_score(obj_RandomForestRegressor,df_modelagem_modelo_humano.iloc[:,[1,5]].values,df_modelagem_modelo_humano.iloc[:,-1].values,scoring='r2')\n",
        "  scores_2 = cross_val_score(obj_RandomForestRegressor,df_modelagem_modelo_humano.iloc[:,[1,5]].values,df_modelagem_modelo_humano.iloc[:,-1].values,scoring='neg_mean_absolute_error')\n",
        "  Resultados_RFG_r2.append(scores_1.mean())\n",
        "  Resultados_RFG_MSRE.append(-scores_2.mean())\n",
        "np.mean(Resultados_RFG_r2), np.mean(Resultados_RFG_MSRE)"
      ],
      "metadata": {
        "id": "IssrFoTh4tDA",
        "colab": {
          "base_uri": "https://localhost:8080/"
        },
        "outputId": "b037bb9e-da43-4027-b119-401e96e24caa"
      },
      "execution_count": 116,
      "outputs": [
        {
          "output_type": "execute_result",
          "data": {
            "text/plain": [
              "(0.9558611545078965, 388.20136369100913)"
            ]
          },
          "metadata": {},
          "execution_count": 116
        }
      ]
    },
    {
      "cell_type": "code",
      "source": [
        "np.std(Resultados_RFG_r2) ,np.std(Resultados_RFG_MSRE)"
      ],
      "metadata": {
        "id": "vjAwzRyx5rFU",
        "colab": {
          "base_uri": "https://localhost:8080/"
        },
        "outputId": "cb9e70be-2439-439e-ce54-63c59ef49509"
      },
      "execution_count": 117,
      "outputs": [
        {
          "output_type": "execute_result",
          "data": {
            "text/plain": [
              "(0.004403077774097089, 6.1524345703730265)"
            ]
          },
          "metadata": {},
          "execution_count": 117
        }
      ]
    }
  ]
}